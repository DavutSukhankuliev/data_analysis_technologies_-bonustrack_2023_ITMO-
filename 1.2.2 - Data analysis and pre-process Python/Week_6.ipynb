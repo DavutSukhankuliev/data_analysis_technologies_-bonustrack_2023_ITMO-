{
  "nbformat": 4,
  "nbformat_minor": 0,
  "metadata": {
    "colab": {
      "provenance": []
    },
    "kernelspec": {
      "name": "python3",
      "display_name": "Python 3"
    },
    "language_info": {
      "name": "python"
    }
  },
  "cells": [
    {
      "cell_type": "markdown",
      "metadata": {
        "id": "RG1leUApCxfO"
      },
      "source": [
        "В этом блокноте мы научимся производить нормировку данных и строить целевую функцию, исопльзуя [данные](https://studio.openedu.ru/assets/courseware/v1/d08d2a6e36b1cba04451137ce31ed8e1/asset-v1:ITMOUniversity+DATANTECH2035+fall_2021+type@asset+block/task4_926997.csv)\n",
        "\n",
        "Для начала подключаем библиотеку pandas и загружаем интересующий нас файл при помощи метода `read_csv(file_name, delimeter, index_col, decimal, usecols, header, ...)`. Подробное описание можно найти по [ссылке](https://pandas.pydata.org/pandas-docs/stable/reference/api/pandas.read_csv.html)."
      ]
    },
    {
      "cell_type": "code",
      "metadata": {
        "id": "yEvd3yZrCUGp"
      },
      "source": [
        "import pandas as pd"
      ],
      "execution_count": null,
      "outputs": []
    },
    {
      "cell_type": "code",
      "metadata": {
        "id": "ecwbwTVtCu7w"
      },
      "source": [
        "data = pd.read_csv('https://studio.openedu.ru/assets/courseware/v1/d08d2a6e36b1cba04451137ce31ed8e1/asset-v1:ITMOUniversity+DATANTECH2035+fall_2021+type@asset+block/task4_926997.csv',\n",
        "                       delimiter=',',\n",
        "                       decimal='.', index_col = 'ID')"
      ],
      "execution_count": null,
      "outputs": []
    },
    {
      "cell_type": "markdown",
      "metadata": {
        "id": "hFzDjX4FFg3a"
      },
      "source": [
        "Посмотрим на наши данные"
      ]
    },
    {
      "cell_type": "code",
      "metadata": {
        "colab": {
          "base_uri": "https://localhost:8080/",
          "height": 450
        },
        "id": "YsFfu_H8CvSx",
        "outputId": "6a8c532b-eaf7-45c1-f1a6-167d03188866"
      },
      "source": [
        "data"
      ],
      "execution_count": null,
      "outputs": [
        {
          "output_type": "execute_result",
          "data": {
            "text/html": [
              "<div>\n",
              "<style scoped>\n",
              "    .dataframe tbody tr th:only-of-type {\n",
              "        vertical-align: middle;\n",
              "    }\n",
              "\n",
              "    .dataframe tbody tr th {\n",
              "        vertical-align: top;\n",
              "    }\n",
              "\n",
              "    .dataframe thead th {\n",
              "        text-align: right;\n",
              "    }\n",
              "</style>\n",
              "<table border=\"1\" class=\"dataframe\">\n",
              "  <thead>\n",
              "    <tr style=\"text-align: right;\">\n",
              "      <th></th>\n",
              "      <th>DISTANCE</th>\n",
              "      <th>STOP_COUNT</th>\n",
              "      <th>COST</th>\n",
              "    </tr>\n",
              "    <tr>\n",
              "      <th>ID</th>\n",
              "      <th></th>\n",
              "      <th></th>\n",
              "      <th></th>\n",
              "    </tr>\n",
              "  </thead>\n",
              "  <tbody>\n",
              "    <tr>\n",
              "      <th>1</th>\n",
              "      <td>28</td>\n",
              "      <td>9</td>\n",
              "      <td>16.92</td>\n",
              "    </tr>\n",
              "    <tr>\n",
              "      <th>2</th>\n",
              "      <td>19</td>\n",
              "      <td>2</td>\n",
              "      <td>17.08</td>\n",
              "    </tr>\n",
              "    <tr>\n",
              "      <th>3</th>\n",
              "      <td>20</td>\n",
              "      <td>12</td>\n",
              "      <td>16.50</td>\n",
              "    </tr>\n",
              "    <tr>\n",
              "      <th>4</th>\n",
              "      <td>26</td>\n",
              "      <td>9</td>\n",
              "      <td>26.57</td>\n",
              "    </tr>\n",
              "    <tr>\n",
              "      <th>5</th>\n",
              "      <td>16</td>\n",
              "      <td>7</td>\n",
              "      <td>20.92</td>\n",
              "    </tr>\n",
              "    <tr>\n",
              "      <th>...</th>\n",
              "      <td>...</td>\n",
              "      <td>...</td>\n",
              "      <td>...</td>\n",
              "    </tr>\n",
              "    <tr>\n",
              "      <th>196</th>\n",
              "      <td>25</td>\n",
              "      <td>2</td>\n",
              "      <td>21.60</td>\n",
              "    </tr>\n",
              "    <tr>\n",
              "      <th>197</th>\n",
              "      <td>14</td>\n",
              "      <td>12</td>\n",
              "      <td>18.87</td>\n",
              "    </tr>\n",
              "    <tr>\n",
              "      <th>198</th>\n",
              "      <td>24</td>\n",
              "      <td>3</td>\n",
              "      <td>20.74</td>\n",
              "    </tr>\n",
              "    <tr>\n",
              "      <th>199</th>\n",
              "      <td>14</td>\n",
              "      <td>1</td>\n",
              "      <td>10.10</td>\n",
              "    </tr>\n",
              "    <tr>\n",
              "      <th>200</th>\n",
              "      <td>20</td>\n",
              "      <td>7</td>\n",
              "      <td>10.13</td>\n",
              "    </tr>\n",
              "  </tbody>\n",
              "</table>\n",
              "<p>200 rows × 3 columns</p>\n",
              "</div>"
            ],
            "text/plain": [
              "     DISTANCE  STOP_COUNT   COST\n",
              "ID                              \n",
              "1          28           9  16.92\n",
              "2          19           2  17.08\n",
              "3          20          12  16.50\n",
              "4          26           9  26.57\n",
              "5          16           7  20.92\n",
              "..        ...         ...    ...\n",
              "196        25           2  21.60\n",
              "197        14          12  18.87\n",
              "198        24           3  20.74\n",
              "199        14           1  10.10\n",
              "200        20           7  10.13\n",
              "\n",
              "[200 rows x 3 columns]"
            ]
          },
          "metadata": {},
          "execution_count": 3
        }
      ]
    },
    {
      "cell_type": "markdown",
      "metadata": {
        "id": "cYS_wMDlD3sR"
      },
      "source": [
        "Теперь выполним экспоненциальную нормировку:\n",
        "$$\n",
        "\\widetilde x_i = 1 - e^{1 - \\frac{x_i}{x_{min}}}\n",
        "$$"
      ]
    },
    {
      "cell_type": "markdown",
      "metadata": {
        "id": "KW-aEnNrFiti"
      },
      "source": [
        "Подключим библиотеку для вычисления экспоненты"
      ]
    },
    {
      "cell_type": "code",
      "metadata": {
        "id": "f0dh1H4xETyX"
      },
      "source": [
        "import numpy as np"
      ],
      "execution_count": null,
      "outputs": []
    },
    {
      "cell_type": "markdown",
      "metadata": {
        "id": "caF5AUCPFmwD"
      },
      "source": [
        "Проведем экспоненциальную нормировку и выведем данные"
      ]
    },
    {
      "cell_type": "code",
      "metadata": {
        "id": "M44V-xt_EFg6",
        "colab": {
          "base_uri": "https://localhost:8080/",
          "height": 450
        },
        "outputId": "ef5a0240-cd5a-400f-a076-480daabecafe"
      },
      "source": [
        "data = 1 - np.exp(1 - data/data.min())\n",
        "data"
      ],
      "execution_count": null,
      "outputs": [
        {
          "output_type": "execute_result",
          "data": {
            "text/html": [
              "<div>\n",
              "<style scoped>\n",
              "    .dataframe tbody tr th:only-of-type {\n",
              "        vertical-align: middle;\n",
              "    }\n",
              "\n",
              "    .dataframe tbody tr th {\n",
              "        vertical-align: top;\n",
              "    }\n",
              "\n",
              "    .dataframe thead th {\n",
              "        text-align: right;\n",
              "    }\n",
              "</style>\n",
              "<table border=\"1\" class=\"dataframe\">\n",
              "  <thead>\n",
              "    <tr style=\"text-align: right;\">\n",
              "      <th></th>\n",
              "      <th>DISTANCE</th>\n",
              "      <th>STOP_COUNT</th>\n",
              "      <th>COST</th>\n",
              "    </tr>\n",
              "    <tr>\n",
              "      <th>ID</th>\n",
              "      <th></th>\n",
              "      <th></th>\n",
              "      <th></th>\n",
              "    </tr>\n",
              "  </thead>\n",
              "  <tbody>\n",
              "    <tr>\n",
              "      <th>1</th>\n",
              "      <td>0.999760</td>\n",
              "      <td>0.999665</td>\n",
              "      <td>0.494349</td>\n",
              "    </tr>\n",
              "    <tr>\n",
              "      <th>2</th>\n",
              "      <td>0.995172</td>\n",
              "      <td>0.632121</td>\n",
              "      <td>0.502328</td>\n",
              "    </tr>\n",
              "    <tr>\n",
              "      <th>3</th>\n",
              "      <td>0.996541</td>\n",
              "      <td>0.999983</td>\n",
              "      <td>0.472791</td>\n",
              "    </tr>\n",
              "    <tr>\n",
              "      <th>4</th>\n",
              "      <td>0.999532</td>\n",
              "      <td>0.999665</td>\n",
              "      <td>0.806244</td>\n",
              "    </tr>\n",
              "    <tr>\n",
              "      <th>5</th>\n",
              "      <td>0.986876</td>\n",
              "      <td>0.997521</td>\n",
              "      <td>0.660242</td>\n",
              "    </tr>\n",
              "    <tr>\n",
              "      <th>...</th>\n",
              "      <td>...</td>\n",
              "      <td>...</td>\n",
              "      <td>...</td>\n",
              "    </tr>\n",
              "    <tr>\n",
              "      <th>196</th>\n",
              "      <td>0.999347</td>\n",
              "      <td>0.632121</td>\n",
              "      <td>0.682449</td>\n",
              "    </tr>\n",
              "    <tr>\n",
              "      <th>197</th>\n",
              "      <td>0.974438</td>\n",
              "      <td>0.999983</td>\n",
              "      <td>0.583449</td>\n",
              "    </tr>\n",
              "    <tr>\n",
              "      <th>198</th>\n",
              "      <td>0.999088</td>\n",
              "      <td>0.864665</td>\n",
              "      <td>0.654109</td>\n",
              "    </tr>\n",
              "    <tr>\n",
              "      <th>199</th>\n",
              "      <td>0.974438</td>\n",
              "      <td>0.000000</td>\n",
              "      <td>0.003968</td>\n",
              "    </tr>\n",
              "    <tr>\n",
              "      <th>200</th>\n",
              "      <td>0.996541</td>\n",
              "      <td>0.997521</td>\n",
              "      <td>0.006934</td>\n",
              "    </tr>\n",
              "  </tbody>\n",
              "</table>\n",
              "<p>200 rows × 3 columns</p>\n",
              "</div>"
            ],
            "text/plain": [
              "     DISTANCE  STOP_COUNT      COST\n",
              "ID                                 \n",
              "1    0.999760    0.999665  0.494349\n",
              "2    0.995172    0.632121  0.502328\n",
              "3    0.996541    0.999983  0.472791\n",
              "4    0.999532    0.999665  0.806244\n",
              "5    0.986876    0.997521  0.660242\n",
              "..        ...         ...       ...\n",
              "196  0.999347    0.632121  0.682449\n",
              "197  0.974438    0.999983  0.583449\n",
              "198  0.999088    0.864665  0.654109\n",
              "199  0.974438    0.000000  0.003968\n",
              "200  0.996541    0.997521  0.006934\n",
              "\n",
              "[200 rows x 3 columns]"
            ]
          },
          "metadata": {},
          "execution_count": 5
        }
      ]
    },
    {
      "cell_type": "markdown",
      "metadata": {
        "id": "umjZtSm8Frcp"
      },
      "source": [
        "Заведем дополнительную колонку для вычисления значений целевой функции:"
      ]
    },
    {
      "cell_type": "code",
      "metadata": {
        "id": "JbRYgKVCEfaC"
      },
      "source": [
        "data['SUM'] = 0"
      ],
      "execution_count": null,
      "outputs": []
    },
    {
      "cell_type": "markdown",
      "metadata": {
        "id": "n-U13w20FvjE"
      },
      "source": [
        "Вычислим значение целевой функции и отсортируем результат:"
      ]
    },
    {
      "cell_type": "code",
      "metadata": {
        "colab": {
          "base_uri": "https://localhost:8080/",
          "height": 450
        },
        "id": "rG-3IWYPEjyB",
        "outputId": "58e67b81-ad7a-4cfe-c978-ba403d6be3e1"
      },
      "source": [
        "data['SUM'] = data['DISTANCE'] + data['STOP_COUNT'] + data['COST']\n",
        "data.sort_values(by = ['SUM'])"
      ],
      "execution_count": null,
      "outputs": [
        {
          "output_type": "execute_result",
          "data": {
            "text/html": [
              "<div>\n",
              "<style scoped>\n",
              "    .dataframe tbody tr th:only-of-type {\n",
              "        vertical-align: middle;\n",
              "    }\n",
              "\n",
              "    .dataframe tbody tr th {\n",
              "        vertical-align: top;\n",
              "    }\n",
              "\n",
              "    .dataframe thead th {\n",
              "        text-align: right;\n",
              "    }\n",
              "</style>\n",
              "<table border=\"1\" class=\"dataframe\">\n",
              "  <thead>\n",
              "    <tr style=\"text-align: right;\">\n",
              "      <th></th>\n",
              "      <th>DISTANCE</th>\n",
              "      <th>STOP_COUNT</th>\n",
              "      <th>COST</th>\n",
              "      <th>SUM</th>\n",
              "    </tr>\n",
              "    <tr>\n",
              "      <th>ID</th>\n",
              "      <th></th>\n",
              "      <th></th>\n",
              "      <th></th>\n",
              "      <th></th>\n",
              "    </tr>\n",
              "  </thead>\n",
              "  <tbody>\n",
              "    <tr>\n",
              "      <th>36</th>\n",
              "      <td>0.000000</td>\n",
              "      <td>0.000000</td>\n",
              "      <td>0.129050</td>\n",
              "      <td>0.129050</td>\n",
              "    </tr>\n",
              "    <tr>\n",
              "      <th>49</th>\n",
              "      <td>0.000000</td>\n",
              "      <td>0.000000</td>\n",
              "      <td>0.376970</td>\n",
              "      <td>0.376970</td>\n",
              "    </tr>\n",
              "    <tr>\n",
              "      <th>58</th>\n",
              "      <td>0.283469</td>\n",
              "      <td>0.000000</td>\n",
              "      <td>0.547624</td>\n",
              "      <td>0.831092</td>\n",
              "    </tr>\n",
              "    <tr>\n",
              "      <th>199</th>\n",
              "      <td>0.974438</td>\n",
              "      <td>0.000000</td>\n",
              "      <td>0.003968</td>\n",
              "      <td>0.978407</td>\n",
              "    </tr>\n",
              "    <tr>\n",
              "      <th>85</th>\n",
              "      <td>0.736403</td>\n",
              "      <td>0.000000</td>\n",
              "      <td>0.280376</td>\n",
              "      <td>1.016778</td>\n",
              "    </tr>\n",
              "    <tr>\n",
              "      <th>...</th>\n",
              "      <td>...</td>\n",
              "      <td>...</td>\n",
              "      <td>...</td>\n",
              "      <td>...</td>\n",
              "    </tr>\n",
              "    <tr>\n",
              "      <th>113</th>\n",
              "      <td>0.999347</td>\n",
              "      <td>0.993262</td>\n",
              "      <td>0.850966</td>\n",
              "      <td>2.843574</td>\n",
              "    </tr>\n",
              "    <tr>\n",
              "      <th>147</th>\n",
              "      <td>0.999532</td>\n",
              "      <td>0.999983</td>\n",
              "      <td>0.845536</td>\n",
              "      <td>2.845051</td>\n",
              "    </tr>\n",
              "    <tr>\n",
              "      <th>92</th>\n",
              "      <td>0.998224</td>\n",
              "      <td>0.999955</td>\n",
              "      <td>0.849776</td>\n",
              "      <td>2.847954</td>\n",
              "    </tr>\n",
              "    <tr>\n",
              "      <th>109</th>\n",
              "      <td>0.999760</td>\n",
              "      <td>0.999877</td>\n",
              "      <td>0.853025</td>\n",
              "      <td>2.852662</td>\n",
              "    </tr>\n",
              "    <tr>\n",
              "      <th>28</th>\n",
              "      <td>0.996541</td>\n",
              "      <td>0.999665</td>\n",
              "      <td>0.860568</td>\n",
              "      <td>2.856773</td>\n",
              "    </tr>\n",
              "  </tbody>\n",
              "</table>\n",
              "<p>200 rows × 4 columns</p>\n",
              "</div>"
            ],
            "text/plain": [
              "     DISTANCE  STOP_COUNT      COST       SUM\n",
              "ID                                           \n",
              "36   0.000000    0.000000  0.129050  0.129050\n",
              "49   0.000000    0.000000  0.376970  0.376970\n",
              "58   0.283469    0.000000  0.547624  0.831092\n",
              "199  0.974438    0.000000  0.003968  0.978407\n",
              "85   0.736403    0.000000  0.280376  1.016778\n",
              "..        ...         ...       ...       ...\n",
              "113  0.999347    0.993262  0.850966  2.843574\n",
              "147  0.999532    0.999983  0.845536  2.845051\n",
              "92   0.998224    0.999955  0.849776  2.847954\n",
              "109  0.999760    0.999877  0.853025  2.852662\n",
              "28   0.996541    0.999665  0.860568  2.856773\n",
              "\n",
              "[200 rows x 4 columns]"
            ]
          },
          "metadata": {},
          "execution_count": 7
        }
      ]
    }
  ]
}