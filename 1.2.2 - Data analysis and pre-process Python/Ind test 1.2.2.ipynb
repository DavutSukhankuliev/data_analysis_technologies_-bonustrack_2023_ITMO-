{
 "cells": [
  {
   "cell_type": "code",
   "execution_count": 1,
   "id": "initial_id",
   "metadata": {
    "collapsed": true,
    "ExecuteTime": {
     "end_time": "2023-12-26T12:11:16.139946600Z",
     "start_time": "2023-12-26T12:11:15.778408700Z"
    }
   },
   "outputs": [],
   "source": [
    "import pandas as pd\n",
    "\n",
    "data = pd.read_csv(\n",
    "    'Ind test 1.2.2 - RAW data task4_1_316952.csv',\n",
    "    delimiter=',',\n",
    "    decimal='.', index_col='ID')"
   ]
  },
  {
   "cell_type": "code",
   "execution_count": 36,
   "outputs": [
    {
     "data": {
      "text/plain": "     DISTANCE  STOP_COUNT   COST  FITNESS  INTERNET\nID                                                 \n1          23           8  35000       24         3\n2          10           3  56000        8         4\n3          27           8  45000       14         0\n4           5           3  31000       19         3\n5          21           3  59000        5         2\n..        ...         ...    ...      ...       ...\n196        25           2  33000        6         0\n197        14          12  38000       20         3\n198        28           1  50000       10         2\n199        22           6  37000       12         3\n200         6           6  27000       16         2\n\n[200 rows x 5 columns]",
      "text/html": "<div>\n<style scoped>\n    .dataframe tbody tr th:only-of-type {\n        vertical-align: middle;\n    }\n\n    .dataframe tbody tr th {\n        vertical-align: top;\n    }\n\n    .dataframe thead th {\n        text-align: right;\n    }\n</style>\n<table border=\"1\" class=\"dataframe\">\n  <thead>\n    <tr style=\"text-align: right;\">\n      <th></th>\n      <th>DISTANCE</th>\n      <th>STOP_COUNT</th>\n      <th>COST</th>\n      <th>FITNESS</th>\n      <th>INTERNET</th>\n    </tr>\n    <tr>\n      <th>ID</th>\n      <th></th>\n      <th></th>\n      <th></th>\n      <th></th>\n      <th></th>\n    </tr>\n  </thead>\n  <tbody>\n    <tr>\n      <th>1</th>\n      <td>23</td>\n      <td>8</td>\n      <td>35000</td>\n      <td>24</td>\n      <td>3</td>\n    </tr>\n    <tr>\n      <th>2</th>\n      <td>10</td>\n      <td>3</td>\n      <td>56000</td>\n      <td>8</td>\n      <td>4</td>\n    </tr>\n    <tr>\n      <th>3</th>\n      <td>27</td>\n      <td>8</td>\n      <td>45000</td>\n      <td>14</td>\n      <td>0</td>\n    </tr>\n    <tr>\n      <th>4</th>\n      <td>5</td>\n      <td>3</td>\n      <td>31000</td>\n      <td>19</td>\n      <td>3</td>\n    </tr>\n    <tr>\n      <th>5</th>\n      <td>21</td>\n      <td>3</td>\n      <td>59000</td>\n      <td>5</td>\n      <td>2</td>\n    </tr>\n    <tr>\n      <th>...</th>\n      <td>...</td>\n      <td>...</td>\n      <td>...</td>\n      <td>...</td>\n      <td>...</td>\n    </tr>\n    <tr>\n      <th>196</th>\n      <td>25</td>\n      <td>2</td>\n      <td>33000</td>\n      <td>6</td>\n      <td>0</td>\n    </tr>\n    <tr>\n      <th>197</th>\n      <td>14</td>\n      <td>12</td>\n      <td>38000</td>\n      <td>20</td>\n      <td>3</td>\n    </tr>\n    <tr>\n      <th>198</th>\n      <td>28</td>\n      <td>1</td>\n      <td>50000</td>\n      <td>10</td>\n      <td>2</td>\n    </tr>\n    <tr>\n      <th>199</th>\n      <td>22</td>\n      <td>6</td>\n      <td>37000</td>\n      <td>12</td>\n      <td>3</td>\n    </tr>\n    <tr>\n      <th>200</th>\n      <td>6</td>\n      <td>6</td>\n      <td>27000</td>\n      <td>16</td>\n      <td>2</td>\n    </tr>\n  </tbody>\n</table>\n<p>200 rows × 5 columns</p>\n</div>"
     },
     "execution_count": 36,
     "metadata": {},
     "output_type": "execute_result"
    }
   ],
   "source": [
    "data"
   ],
   "metadata": {
    "collapsed": false,
    "ExecuteTime": {
     "end_time": "2023-12-26T12:52:42.802425400Z",
     "start_time": "2023-12-26T12:52:42.763884700Z"
    }
   },
   "id": "3fcce593ecf92f64"
  },
  {
   "cell_type": "code",
   "execution_count": 49,
   "outputs": [
    {
     "data": {
      "text/plain": "     DISTANCE  STOP_COUNT   COST  FITNESS  INTERNET\nID                                                 \n1          23           8  35000       24         3\n2          10           3  56000        8         4\n4           5           3  31000       19         3\n5          21           3  59000        5         2\n6          12          10  40000       16         1\n..        ...         ...    ...      ...       ...\n195        25           5  53000        4         1\n197        14          12  38000       20         3\n198        28           1  50000       10         2\n199        22           6  37000       12         3\n200         6           6  27000       16         2\n\n[159 rows x 5 columns]",
      "text/html": "<div>\n<style scoped>\n    .dataframe tbody tr th:only-of-type {\n        vertical-align: middle;\n    }\n\n    .dataframe tbody tr th {\n        vertical-align: top;\n    }\n\n    .dataframe thead th {\n        text-align: right;\n    }\n</style>\n<table border=\"1\" class=\"dataframe\">\n  <thead>\n    <tr style=\"text-align: right;\">\n      <th></th>\n      <th>DISTANCE</th>\n      <th>STOP_COUNT</th>\n      <th>COST</th>\n      <th>FITNESS</th>\n      <th>INTERNET</th>\n    </tr>\n    <tr>\n      <th>ID</th>\n      <th></th>\n      <th></th>\n      <th></th>\n      <th></th>\n      <th></th>\n    </tr>\n  </thead>\n  <tbody>\n    <tr>\n      <th>1</th>\n      <td>23</td>\n      <td>8</td>\n      <td>35000</td>\n      <td>24</td>\n      <td>3</td>\n    </tr>\n    <tr>\n      <th>2</th>\n      <td>10</td>\n      <td>3</td>\n      <td>56000</td>\n      <td>8</td>\n      <td>4</td>\n    </tr>\n    <tr>\n      <th>4</th>\n      <td>5</td>\n      <td>3</td>\n      <td>31000</td>\n      <td>19</td>\n      <td>3</td>\n    </tr>\n    <tr>\n      <th>5</th>\n      <td>21</td>\n      <td>3</td>\n      <td>59000</td>\n      <td>5</td>\n      <td>2</td>\n    </tr>\n    <tr>\n      <th>6</th>\n      <td>12</td>\n      <td>10</td>\n      <td>40000</td>\n      <td>16</td>\n      <td>1</td>\n    </tr>\n    <tr>\n      <th>...</th>\n      <td>...</td>\n      <td>...</td>\n      <td>...</td>\n      <td>...</td>\n      <td>...</td>\n    </tr>\n    <tr>\n      <th>195</th>\n      <td>25</td>\n      <td>5</td>\n      <td>53000</td>\n      <td>4</td>\n      <td>1</td>\n    </tr>\n    <tr>\n      <th>197</th>\n      <td>14</td>\n      <td>12</td>\n      <td>38000</td>\n      <td>20</td>\n      <td>3</td>\n    </tr>\n    <tr>\n      <th>198</th>\n      <td>28</td>\n      <td>1</td>\n      <td>50000</td>\n      <td>10</td>\n      <td>2</td>\n    </tr>\n    <tr>\n      <th>199</th>\n      <td>22</td>\n      <td>6</td>\n      <td>37000</td>\n      <td>12</td>\n      <td>3</td>\n    </tr>\n    <tr>\n      <th>200</th>\n      <td>6</td>\n      <td>6</td>\n      <td>27000</td>\n      <td>16</td>\n      <td>2</td>\n    </tr>\n  </tbody>\n</table>\n<p>159 rows × 5 columns</p>\n</div>"
     },
     "execution_count": 49,
     "metadata": {},
     "output_type": "execute_result"
    }
   ],
   "source": [
    "data = data[data['INTERNET'] != 0]\n",
    "data"
   ],
   "metadata": {
    "collapsed": false,
    "ExecuteTime": {
     "end_time": "2023-12-26T12:59:10.608915800Z",
     "start_time": "2023-12-26T12:59:10.588909800Z"
    }
   },
   "id": "6d41af392247e672"
  },
  {
   "cell_type": "code",
   "execution_count": 50,
   "outputs": [],
   "source": [
    "import numpy as np"
   ],
   "metadata": {
    "collapsed": false,
    "ExecuteTime": {
     "end_time": "2023-12-26T12:59:12.299631100Z",
     "start_time": "2023-12-26T12:59:12.275931900Z"
    }
   },
   "id": "6041a8dd42cf024"
  },
  {
   "cell_type": "code",
   "execution_count": 51,
   "outputs": [
    {
     "data": {
      "text/plain": "     DISTANCE  STOP_COUNT      COST   FITNESS  INTERNET\nID                                                     \n1    0.998727    0.999088  0.527633  0.999088  0.864665\n2    0.903028    0.864665  0.834701  0.811124  0.950213\n4    0.486583    0.864665  0.423050  0.995172  0.864665\n5    0.997521    0.864665  0.857726  0.486583  0.632121\n6    0.950213    0.999877  0.632121  0.986876  0.000000\n..        ...         ...       ...       ...       ...\n195  0.999347    0.981684  0.807950  0.283469  0.000000\n197  0.974438    0.999983  0.593430  0.996541  0.864665\n198  0.999760    0.000000  0.776870  0.903028  0.632121\n199  0.998224    0.993262  0.572585  0.950213  0.864665\n200  0.632121    0.993262  0.295312  0.986876  0.632121\n\n[159 rows x 5 columns]",
      "text/html": "<div>\n<style scoped>\n    .dataframe tbody tr th:only-of-type {\n        vertical-align: middle;\n    }\n\n    .dataframe tbody tr th {\n        vertical-align: top;\n    }\n\n    .dataframe thead th {\n        text-align: right;\n    }\n</style>\n<table border=\"1\" class=\"dataframe\">\n  <thead>\n    <tr style=\"text-align: right;\">\n      <th></th>\n      <th>DISTANCE</th>\n      <th>STOP_COUNT</th>\n      <th>COST</th>\n      <th>FITNESS</th>\n      <th>INTERNET</th>\n    </tr>\n    <tr>\n      <th>ID</th>\n      <th></th>\n      <th></th>\n      <th></th>\n      <th></th>\n      <th></th>\n    </tr>\n  </thead>\n  <tbody>\n    <tr>\n      <th>1</th>\n      <td>0.998727</td>\n      <td>0.999088</td>\n      <td>0.527633</td>\n      <td>0.999088</td>\n      <td>0.864665</td>\n    </tr>\n    <tr>\n      <th>2</th>\n      <td>0.903028</td>\n      <td>0.864665</td>\n      <td>0.834701</td>\n      <td>0.811124</td>\n      <td>0.950213</td>\n    </tr>\n    <tr>\n      <th>4</th>\n      <td>0.486583</td>\n      <td>0.864665</td>\n      <td>0.423050</td>\n      <td>0.995172</td>\n      <td>0.864665</td>\n    </tr>\n    <tr>\n      <th>5</th>\n      <td>0.997521</td>\n      <td>0.864665</td>\n      <td>0.857726</td>\n      <td>0.486583</td>\n      <td>0.632121</td>\n    </tr>\n    <tr>\n      <th>6</th>\n      <td>0.950213</td>\n      <td>0.999877</td>\n      <td>0.632121</td>\n      <td>0.986876</td>\n      <td>0.000000</td>\n    </tr>\n    <tr>\n      <th>...</th>\n      <td>...</td>\n      <td>...</td>\n      <td>...</td>\n      <td>...</td>\n      <td>...</td>\n    </tr>\n    <tr>\n      <th>195</th>\n      <td>0.999347</td>\n      <td>0.981684</td>\n      <td>0.807950</td>\n      <td>0.283469</td>\n      <td>0.000000</td>\n    </tr>\n    <tr>\n      <th>197</th>\n      <td>0.974438</td>\n      <td>0.999983</td>\n      <td>0.593430</td>\n      <td>0.996541</td>\n      <td>0.864665</td>\n    </tr>\n    <tr>\n      <th>198</th>\n      <td>0.999760</td>\n      <td>0.000000</td>\n      <td>0.776870</td>\n      <td>0.903028</td>\n      <td>0.632121</td>\n    </tr>\n    <tr>\n      <th>199</th>\n      <td>0.998224</td>\n      <td>0.993262</td>\n      <td>0.572585</td>\n      <td>0.950213</td>\n      <td>0.864665</td>\n    </tr>\n    <tr>\n      <th>200</th>\n      <td>0.632121</td>\n      <td>0.993262</td>\n      <td>0.295312</td>\n      <td>0.986876</td>\n      <td>0.632121</td>\n    </tr>\n  </tbody>\n</table>\n<p>159 rows × 5 columns</p>\n</div>"
     },
     "execution_count": 51,
     "metadata": {},
     "output_type": "execute_result"
    }
   ],
   "source": [
    "data_normalized = 1 - np.exp(1 - data/data.min())\n",
    "data_normalized"
   ],
   "metadata": {
    "collapsed": false,
    "ExecuteTime": {
     "end_time": "2023-12-26T12:59:13.270614600Z",
     "start_time": "2023-12-26T12:59:13.240858Z"
    }
   },
   "id": "fb87ed3c81174f68"
  },
  {
   "cell_type": "code",
   "execution_count": 52,
   "outputs": [],
   "source": [
    "data_normalized['FUNC'] = 0"
   ],
   "metadata": {
    "collapsed": false,
    "ExecuteTime": {
     "end_time": "2023-12-26T12:59:15.056752300Z",
     "start_time": "2023-12-26T12:59:15.029767400Z"
    }
   },
   "id": "ed23b877e39c4a19"
  },
  {
   "cell_type": "code",
   "execution_count": 53,
   "outputs": [
    {
     "data": {
      "text/plain": "     DISTANCE  STOP_COUNT      COST   FITNESS  INTERNET      FUNC\nID                                                               \n191  0.000000    0.997521  0.221199  0.998727  0.950213  1.143105\n84   0.999828    0.000000  0.329680  0.997521  0.950213  1.253410\n75   0.981684    0.000000  0.221199  0.998224  0.632121  1.286113\n134  0.950213    0.000000  0.451188  0.999532  0.950213  1.326108\n15   0.283469    0.632121  0.650062  0.486583  0.864665  1.327952\n..        ...         ...       ...       ...       ...       ...\n120  0.995172    0.999983  0.787752  0.950213  0.000000  3.162993\n47   0.999760    0.981684  0.787752  0.999665  0.000000  3.169062\n163  0.986876    0.999088  0.826226  0.986876  0.000000  3.206941\n118  0.999665    0.981684  0.857726  0.930517  0.000000  3.211281\n41   0.997521    0.999983  0.834701  0.999665  0.000000  3.232071\n\n[159 rows x 6 columns]",
      "text/html": "<div>\n<style scoped>\n    .dataframe tbody tr th:only-of-type {\n        vertical-align: middle;\n    }\n\n    .dataframe tbody tr th {\n        vertical-align: top;\n    }\n\n    .dataframe thead th {\n        text-align: right;\n    }\n</style>\n<table border=\"1\" class=\"dataframe\">\n  <thead>\n    <tr style=\"text-align: right;\">\n      <th></th>\n      <th>DISTANCE</th>\n      <th>STOP_COUNT</th>\n      <th>COST</th>\n      <th>FITNESS</th>\n      <th>INTERNET</th>\n      <th>FUNC</th>\n    </tr>\n    <tr>\n      <th>ID</th>\n      <th></th>\n      <th></th>\n      <th></th>\n      <th></th>\n      <th></th>\n      <th></th>\n    </tr>\n  </thead>\n  <tbody>\n    <tr>\n      <th>191</th>\n      <td>0.000000</td>\n      <td>0.997521</td>\n      <td>0.221199</td>\n      <td>0.998727</td>\n      <td>0.950213</td>\n      <td>1.143105</td>\n    </tr>\n    <tr>\n      <th>84</th>\n      <td>0.999828</td>\n      <td>0.000000</td>\n      <td>0.329680</td>\n      <td>0.997521</td>\n      <td>0.950213</td>\n      <td>1.253410</td>\n    </tr>\n    <tr>\n      <th>75</th>\n      <td>0.981684</td>\n      <td>0.000000</td>\n      <td>0.221199</td>\n      <td>0.998224</td>\n      <td>0.632121</td>\n      <td>1.286113</td>\n    </tr>\n    <tr>\n      <th>134</th>\n      <td>0.950213</td>\n      <td>0.000000</td>\n      <td>0.451188</td>\n      <td>0.999532</td>\n      <td>0.950213</td>\n      <td>1.326108</td>\n    </tr>\n    <tr>\n      <th>15</th>\n      <td>0.283469</td>\n      <td>0.632121</td>\n      <td>0.650062</td>\n      <td>0.486583</td>\n      <td>0.864665</td>\n      <td>1.327952</td>\n    </tr>\n    <tr>\n      <th>...</th>\n      <td>...</td>\n      <td>...</td>\n      <td>...</td>\n      <td>...</td>\n      <td>...</td>\n      <td>...</td>\n    </tr>\n    <tr>\n      <th>120</th>\n      <td>0.995172</td>\n      <td>0.999983</td>\n      <td>0.787752</td>\n      <td>0.950213</td>\n      <td>0.000000</td>\n      <td>3.162993</td>\n    </tr>\n    <tr>\n      <th>47</th>\n      <td>0.999760</td>\n      <td>0.981684</td>\n      <td>0.787752</td>\n      <td>0.999665</td>\n      <td>0.000000</td>\n      <td>3.169062</td>\n    </tr>\n    <tr>\n      <th>163</th>\n      <td>0.986876</td>\n      <td>0.999088</td>\n      <td>0.826226</td>\n      <td>0.986876</td>\n      <td>0.000000</td>\n      <td>3.206941</td>\n    </tr>\n    <tr>\n      <th>118</th>\n      <td>0.999665</td>\n      <td>0.981684</td>\n      <td>0.857726</td>\n      <td>0.930517</td>\n      <td>0.000000</td>\n      <td>3.211281</td>\n    </tr>\n    <tr>\n      <th>41</th>\n      <td>0.997521</td>\n      <td>0.999983</td>\n      <td>0.834701</td>\n      <td>0.999665</td>\n      <td>0.000000</td>\n      <td>3.232071</td>\n    </tr>\n  </tbody>\n</table>\n<p>159 rows × 6 columns</p>\n</div>"
     },
     "execution_count": 53,
     "metadata": {},
     "output_type": "execute_result"
    }
   ],
   "source": [
    "data_normalized['FUNC'] = data_normalized['DISTANCE'] + data_normalized['STOP_COUNT'] + data_normalized['COST'] + data_normalized['FITNESS'] * 0.4 - data_normalized['INTERNET'] * 0.5\n",
    "data_normalized.sort_values(by=['FUNC'])"
   ],
   "metadata": {
    "collapsed": false,
    "ExecuteTime": {
     "end_time": "2023-12-26T12:59:15.879385900Z",
     "start_time": "2023-12-26T12:59:15.850298400Z"
    }
   },
   "id": "e1e66fb7cd928ba5"
  },
  {
   "cell_type": "code",
   "execution_count": null,
   "outputs": [],
   "source": [],
   "metadata": {
    "collapsed": false
   },
   "id": "b24777c6cc102c29"
  }
 ],
 "metadata": {
  "kernelspec": {
   "display_name": "Python 3",
   "language": "python",
   "name": "python3"
  },
  "language_info": {
   "codemirror_mode": {
    "name": "ipython",
    "version": 2
   },
   "file_extension": ".py",
   "mimetype": "text/x-python",
   "name": "python",
   "nbconvert_exporter": "python",
   "pygments_lexer": "ipython2",
   "version": "2.7.6"
  }
 },
 "nbformat": 4,
 "nbformat_minor": 5
}
