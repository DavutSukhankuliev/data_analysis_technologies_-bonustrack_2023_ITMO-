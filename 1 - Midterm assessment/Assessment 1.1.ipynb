{
 "cells": [
  {
   "cell_type": "code",
   "execution_count": 17,
   "id": "initial_id",
   "metadata": {
    "collapsed": true,
    "ExecuteTime": {
     "end_time": "2024-01-03T19:06:23.426018900Z",
     "start_time": "2024-01-03T19:06:23.395424900Z"
    }
   },
   "outputs": [
    {
     "data": {
      "text/plain": "                NAME  WIDTH    PRICE  POWER  GRASS   AREA  \\\n0    Champion NPI256   41.0  22000.0   1.55   30.0  450.0   \n1      Nakita CPA252   44.0  37000.0   1.85   60.0  400.0   \n2    Champion XUB235   33.0  15000.0   1.50   40.0  600.0   \n3      Gardez GYW727    NaN  39000.0   1.65   50.0  200.0   \n4      Gardez WBB365   30.0  25000.0   1.45   70.0  350.0   \n..               ...    ...      ...    ...    ...    ...   \n195    Gardez OFR312   35.0  28000.0   1.45   25.0  200.0   \n196      Worx IGI227   44.0  30000.0   1.90   70.0  400.0   \n197  Champion EMQ445   36.0  38000.0   0.80   50.0  500.0   \n198      Bear QAO719   35.0  11000.0   1.20   55.0  350.0   \n199    Nakita DBM924   42.0  40000.0   1.35   50.0  300.0   \n\n                                           DESCRIPTION  \n0    Широкая полоса скашивания на данной газонокоси...  \n1    Широкая полоса скашивания на данной газонокоси...  \n2    Узкая ширина скашиваемой полосы на данной газо...  \n3    Широкая полоса скашивания на данной газонокоси...  \n4    Узкая ширина скашиваемой полосы на данной газо...  \n..                                                 ...  \n195  Узкая ширина скашиваемой полосы на данной газо...  \n196  Широкая полоса скашивания на данной газонокоси...  \n197  Средняя ширина скашиваемой полосы на данной га...  \n198  Узкая ширина скашиваемой полосы на данной газо...  \n199  Широкая полоса скашивания на данной газонокоси...  \n\n[200 rows x 7 columns]",
      "text/html": "<div>\n<style scoped>\n    .dataframe tbody tr th:only-of-type {\n        vertical-align: middle;\n    }\n\n    .dataframe tbody tr th {\n        vertical-align: top;\n    }\n\n    .dataframe thead th {\n        text-align: right;\n    }\n</style>\n<table border=\"1\" class=\"dataframe\">\n  <thead>\n    <tr style=\"text-align: right;\">\n      <th></th>\n      <th>NAME</th>\n      <th>WIDTH</th>\n      <th>PRICE</th>\n      <th>POWER</th>\n      <th>GRASS</th>\n      <th>AREA</th>\n      <th>DESCRIPTION</th>\n    </tr>\n  </thead>\n  <tbody>\n    <tr>\n      <th>0</th>\n      <td>Champion NPI256</td>\n      <td>41.0</td>\n      <td>22000.0</td>\n      <td>1.55</td>\n      <td>30.0</td>\n      <td>450.0</td>\n      <td>Широкая полоса скашивания на данной газонокоси...</td>\n    </tr>\n    <tr>\n      <th>1</th>\n      <td>Nakita CPA252</td>\n      <td>44.0</td>\n      <td>37000.0</td>\n      <td>1.85</td>\n      <td>60.0</td>\n      <td>400.0</td>\n      <td>Широкая полоса скашивания на данной газонокоси...</td>\n    </tr>\n    <tr>\n      <th>2</th>\n      <td>Champion XUB235</td>\n      <td>33.0</td>\n      <td>15000.0</td>\n      <td>1.50</td>\n      <td>40.0</td>\n      <td>600.0</td>\n      <td>Узкая ширина скашиваемой полосы на данной газо...</td>\n    </tr>\n    <tr>\n      <th>3</th>\n      <td>Gardez GYW727</td>\n      <td>NaN</td>\n      <td>39000.0</td>\n      <td>1.65</td>\n      <td>50.0</td>\n      <td>200.0</td>\n      <td>Широкая полоса скашивания на данной газонокоси...</td>\n    </tr>\n    <tr>\n      <th>4</th>\n      <td>Gardez WBB365</td>\n      <td>30.0</td>\n      <td>25000.0</td>\n      <td>1.45</td>\n      <td>70.0</td>\n      <td>350.0</td>\n      <td>Узкая ширина скашиваемой полосы на данной газо...</td>\n    </tr>\n    <tr>\n      <th>...</th>\n      <td>...</td>\n      <td>...</td>\n      <td>...</td>\n      <td>...</td>\n      <td>...</td>\n      <td>...</td>\n      <td>...</td>\n    </tr>\n    <tr>\n      <th>195</th>\n      <td>Gardez OFR312</td>\n      <td>35.0</td>\n      <td>28000.0</td>\n      <td>1.45</td>\n      <td>25.0</td>\n      <td>200.0</td>\n      <td>Узкая ширина скашиваемой полосы на данной газо...</td>\n    </tr>\n    <tr>\n      <th>196</th>\n      <td>Worx IGI227</td>\n      <td>44.0</td>\n      <td>30000.0</td>\n      <td>1.90</td>\n      <td>70.0</td>\n      <td>400.0</td>\n      <td>Широкая полоса скашивания на данной газонокоси...</td>\n    </tr>\n    <tr>\n      <th>197</th>\n      <td>Champion EMQ445</td>\n      <td>36.0</td>\n      <td>38000.0</td>\n      <td>0.80</td>\n      <td>50.0</td>\n      <td>500.0</td>\n      <td>Средняя ширина скашиваемой полосы на данной га...</td>\n    </tr>\n    <tr>\n      <th>198</th>\n      <td>Bear QAO719</td>\n      <td>35.0</td>\n      <td>11000.0</td>\n      <td>1.20</td>\n      <td>55.0</td>\n      <td>350.0</td>\n      <td>Узкая ширина скашиваемой полосы на данной газо...</td>\n    </tr>\n    <tr>\n      <th>199</th>\n      <td>Nakita DBM924</td>\n      <td>42.0</td>\n      <td>40000.0</td>\n      <td>1.35</td>\n      <td>50.0</td>\n      <td>300.0</td>\n      <td>Широкая полоса скашивания на данной газонокоси...</td>\n    </tr>\n  </tbody>\n</table>\n<p>200 rows × 7 columns</p>\n</div>"
     },
     "execution_count": 17,
     "metadata": {},
     "output_type": "execute_result"
    }
   ],
   "source": [
    "import pandas as pd\n",
    "\n",
    "data = pd.read_csv('Assessment 1.1 - RAW data lawnmower_var_135223.csv')\n",
    "data"
   ]
  },
  {
   "cell_type": "markdown",
   "source": [
    "Не все оказалось идеально с данными. Некоторые значения оказались пропущены, некоторые явно содержали экстремальные выбросы. Юрию пришлось обработать исходные данные следующим образом:"
   ],
   "metadata": {
    "collapsed": false
   },
   "id": "1aa63c5f34e23640"
  },
  {
   "cell_type": "markdown",
   "source": [
    "1. Параметр \"Ширина скашиваемой полосы\" содержал много пропущенных значений. Юрий придумал следующий алгоритм по их восстановлению:\n",
    "\n",
    "Если в описании газонокосилки встречались слова \"узкая|узкие|узкую|узкой\", то значение восстанавливалось как медиана по существующим в исходном датасете значениям в диапазоне от 30 до 35.\n",
    "Введите медиану по существующим в исходном датасете значениям в диапазоне от 30 до 35."
   ],
   "metadata": {
    "collapsed": false
   },
   "id": "840d83cb56a37256"
  },
  {
   "cell_type": "code",
   "execution_count": 50,
   "outputs": [
    {
     "data": {
      "text/plain": "32.0"
     },
     "execution_count": 50,
     "metadata": {},
     "output_type": "execute_result"
    }
   ],
   "source": [
    "filtered_width_30_35 = data[data['WIDTH'].between(30, 35, inclusive='both')]['WIDTH']\n",
    "\n",
    "median_width_30_35 = filtered_width_30_35.median()\n",
    "\n",
    "median_width_30_35"
   ],
   "metadata": {
    "collapsed": false,
    "ExecuteTime": {
     "end_time": "2024-01-03T19:39:10.448072200Z",
     "start_time": "2024-01-03T19:39:10.430017400Z"
    }
   },
   "id": "f89cefd849df9097"
  },
  {
   "cell_type": "markdown",
   "source": [
    "Если встречались слова \"средняя ширина\"/\"ширина средняя\", то значение восстанавливалось как округленное до целого среднее арифметическое по существующим значениям в диапазоне от 36 до 40.\n",
    "Введите округленное до целого среднее арифметическое п"
   ],
   "metadata": {
    "collapsed": false
   },
   "id": "b069a549fd0438ec"
  },
  {
   "cell_type": "code",
   "execution_count": 79,
   "outputs": [
    {
     "data": {
      "text/plain": "38.0"
     },
     "execution_count": 79,
     "metadata": {},
     "output_type": "execute_result"
    }
   ],
   "source": [
    "mean_width_36_40 = data[data['WIDTH'].between(36,40,inclusive='both')]['WIDTH'].mean()\n",
    "mean_width_36_40 = mean_width_36_40.round()\n",
    "mean_width_36_40"
   ],
   "metadata": {
    "collapsed": false,
    "ExecuteTime": {
     "end_time": "2024-01-03T19:59:47.922518800Z",
     "start_time": "2024-01-03T19:59:47.904584800Z"
    }
   },
   "id": "34be575ba843863c"
  },
  {
   "cell_type": "markdown",
   "source": [
    "Если встречались слова (\"широкая\" и \"полоса\")/(\"широкие\" и \"полосы\"), то значение восстанавливалось как медиана по существующим значениям в диапазоне от 41 до 45.\n",
    "Введите медиану по существующим в исходном датасете значениям в диапазоне от 41 до 45.\n",
    "\n",
    "Введите среднее арифметическое для параметра \"Ширина скашиваемой полосы\" после восстановления пропущенных значений:"
   ],
   "metadata": {
    "collapsed": false
   },
   "id": "61d20f56e7610fcc"
  },
  {
   "cell_type": "code",
   "execution_count": 71,
   "outputs": [
    {
     "data": {
      "text/plain": "42.0"
     },
     "execution_count": 71,
     "metadata": {},
     "output_type": "execute_result"
    }
   ],
   "source": [
    "median_width_41_45 = data[data['WIDTH'].between(41,45,inclusive='both')]['WIDTH'].median()\n",
    "median_width_41_45"
   ],
   "metadata": {
    "collapsed": false,
    "ExecuteTime": {
     "end_time": "2024-01-03T19:53:33.719077900Z",
     "start_time": "2024-01-03T19:53:33.706871400Z"
    }
   },
   "id": "3ffacd1cad0ee96f"
  },
  {
   "cell_type": "markdown",
   "source": [
    "Введите среднее арифметическое для параметра \"Ширина скашиваемой полосы\" после восстановления пропущенных значений:"
   ],
   "metadata": {
    "collapsed": false
   },
   "id": "c2e2ba9b15ff735"
  },
  {
   "cell_type": "code",
   "execution_count": 72,
   "outputs": [
    {
     "data": {
      "text/plain": "                NAME  WIDTH    PRICE  POWER  GRASS   AREA  \\\n2    Champion XUB235   33.0  15000.0   1.50   40.0  600.0   \n4      Gardez WBB365   30.0  25000.0   1.45   70.0  350.0   \n6      Nakita YKK799   35.0  20000.0   1.75   75.0  600.0   \n7    Champion SVB864   33.0  47000.0   0.95   40.0  500.0   \n8        Bear EUZ148   34.0  49000.0   1.95   75.0  400.0   \n..               ...    ...      ...    ...    ...    ...   \n186      Bear YAV944   32.0  24000.0   1.50   55.0  550.0   \n188      Boch CJB382   32.0  32000.0   1.00   70.0  250.0   \n192      Bear RBB398   33.0  40000.0   1.05   75.0  450.0   \n195    Gardez OFR312   35.0  28000.0   1.45   25.0  200.0   \n198      Bear QAO719   35.0  11000.0   1.20   55.0  350.0   \n\n                                           DESCRIPTION  \n2    Узкая ширина скашиваемой полосы на данной газо...  \n4    Узкая ширина скашиваемой полосы на данной газо...  \n6    Узкая ширина скашиваемой полосы на данной газо...  \n7    Узкая ширина скашиваемой полосы на данной газо...  \n8    Узкая ширина скашиваемой полосы на данной газо...  \n..                                                 ...  \n186  Узкая ширина скашиваемой полосы на данной газо...  \n188  Узкая ширина скашиваемой полосы на данной газо...  \n192  Узкая ширина скашиваемой полосы на данной газо...  \n195  Узкая ширина скашиваемой полосы на данной газо...  \n198  Узкая ширина скашиваемой полосы на данной газо...  \n\n[61 rows x 7 columns]",
      "text/html": "<div>\n<style scoped>\n    .dataframe tbody tr th:only-of-type {\n        vertical-align: middle;\n    }\n\n    .dataframe tbody tr th {\n        vertical-align: top;\n    }\n\n    .dataframe thead th {\n        text-align: right;\n    }\n</style>\n<table border=\"1\" class=\"dataframe\">\n  <thead>\n    <tr style=\"text-align: right;\">\n      <th></th>\n      <th>NAME</th>\n      <th>WIDTH</th>\n      <th>PRICE</th>\n      <th>POWER</th>\n      <th>GRASS</th>\n      <th>AREA</th>\n      <th>DESCRIPTION</th>\n    </tr>\n  </thead>\n  <tbody>\n    <tr>\n      <th>2</th>\n      <td>Champion XUB235</td>\n      <td>33.0</td>\n      <td>15000.0</td>\n      <td>1.50</td>\n      <td>40.0</td>\n      <td>600.0</td>\n      <td>Узкая ширина скашиваемой полосы на данной газо...</td>\n    </tr>\n    <tr>\n      <th>4</th>\n      <td>Gardez WBB365</td>\n      <td>30.0</td>\n      <td>25000.0</td>\n      <td>1.45</td>\n      <td>70.0</td>\n      <td>350.0</td>\n      <td>Узкая ширина скашиваемой полосы на данной газо...</td>\n    </tr>\n    <tr>\n      <th>6</th>\n      <td>Nakita YKK799</td>\n      <td>35.0</td>\n      <td>20000.0</td>\n      <td>1.75</td>\n      <td>75.0</td>\n      <td>600.0</td>\n      <td>Узкая ширина скашиваемой полосы на данной газо...</td>\n    </tr>\n    <tr>\n      <th>7</th>\n      <td>Champion SVB864</td>\n      <td>33.0</td>\n      <td>47000.0</td>\n      <td>0.95</td>\n      <td>40.0</td>\n      <td>500.0</td>\n      <td>Узкая ширина скашиваемой полосы на данной газо...</td>\n    </tr>\n    <tr>\n      <th>8</th>\n      <td>Bear EUZ148</td>\n      <td>34.0</td>\n      <td>49000.0</td>\n      <td>1.95</td>\n      <td>75.0</td>\n      <td>400.0</td>\n      <td>Узкая ширина скашиваемой полосы на данной газо...</td>\n    </tr>\n    <tr>\n      <th>...</th>\n      <td>...</td>\n      <td>...</td>\n      <td>...</td>\n      <td>...</td>\n      <td>...</td>\n      <td>...</td>\n      <td>...</td>\n    </tr>\n    <tr>\n      <th>186</th>\n      <td>Bear YAV944</td>\n      <td>32.0</td>\n      <td>24000.0</td>\n      <td>1.50</td>\n      <td>55.0</td>\n      <td>550.0</td>\n      <td>Узкая ширина скашиваемой полосы на данной газо...</td>\n    </tr>\n    <tr>\n      <th>188</th>\n      <td>Boch CJB382</td>\n      <td>32.0</td>\n      <td>32000.0</td>\n      <td>1.00</td>\n      <td>70.0</td>\n      <td>250.0</td>\n      <td>Узкая ширина скашиваемой полосы на данной газо...</td>\n    </tr>\n    <tr>\n      <th>192</th>\n      <td>Bear RBB398</td>\n      <td>33.0</td>\n      <td>40000.0</td>\n      <td>1.05</td>\n      <td>75.0</td>\n      <td>450.0</td>\n      <td>Узкая ширина скашиваемой полосы на данной газо...</td>\n    </tr>\n    <tr>\n      <th>195</th>\n      <td>Gardez OFR312</td>\n      <td>35.0</td>\n      <td>28000.0</td>\n      <td>1.45</td>\n      <td>25.0</td>\n      <td>200.0</td>\n      <td>Узкая ширина скашиваемой полосы на данной газо...</td>\n    </tr>\n    <tr>\n      <th>198</th>\n      <td>Bear QAO719</td>\n      <td>35.0</td>\n      <td>11000.0</td>\n      <td>1.20</td>\n      <td>55.0</td>\n      <td>350.0</td>\n      <td>Узкая ширина скашиваемой полосы на данной газо...</td>\n    </tr>\n  </tbody>\n</table>\n<p>61 rows × 7 columns</p>\n</div>"
     },
     "execution_count": 72,
     "metadata": {},
     "output_type": "execute_result"
    }
   ],
   "source": [
    "# Восстановление пропущенных значений\n",
    "data.loc[data['WIDTH'].isnull() & data['DESCRIPTION'].str.match(\"^узк\",case=False)] = median_width_30_35\n",
    "data.loc[data['DESCRIPTION'].str.match(\"^узк\",case=False,na=False)]"
   ],
   "metadata": {
    "collapsed": false,
    "ExecuteTime": {
     "end_time": "2024-01-03T19:54:25.139986800Z",
     "start_time": "2024-01-03T19:54:25.124943500Z"
    }
   },
   "id": "ed0168282edfc34"
  },
  {
   "cell_type": "code",
   "execution_count": 81,
   "outputs": [
    {
     "data": {
      "text/plain": "                NAME  WIDTH    PRICE  POWER  GRASS   AREA  \\\n9        Wolf JGN773   39.0  14000.0   1.00   30.0  350.0   \n10     Cooper RCR719   38.0  36000.0   0.95   65.0  350.0   \n14     Cooper GKI494   39.0  44000.0   1.40   75.0  600.0   \n15     Cooper AEA582   36.0   9000.0   1.35   45.0  600.0   \n16     Gardez TGZ222   38.0  43000.0   1.70   35.0  300.0   \n..               ...    ...      ...    ...    ...    ...   \n179    Gardez MCQ196   40.0  36000.0   1.35   45.0  600.0   \n183      Worx FXP214   40.0  21000.0   1.40   70.0  550.0   \n193      Wolf ZKL533   36.0  31000.0   1.80   65.0  400.0   \n194    Gardez AQP234   37.0  37000.0   1.20   25.0  350.0   \n197  Champion EMQ445   36.0  38000.0   0.80   50.0  500.0   \n\n                                           DESCRIPTION  \n9    Средняя ширина скашиваемой полосы на данной га...  \n10   Средняя ширина скашиваемой полосы на данной га...  \n14   Средняя ширина скашиваемой полосы на данной га...  \n15   Средняя ширина скашиваемой полосы на данной га...  \n16   Средняя ширина скашиваемой полосы на данной га...  \n..                                                 ...  \n179  Средняя ширина скашиваемой полосы на данной га...  \n183  Средняя ширина скашиваемой полосы на данной га...  \n193  Средняя ширина скашиваемой полосы на данной га...  \n194  Средняя ширина скашиваемой полосы на данной га...  \n197  Средняя ширина скашиваемой полосы на данной га...  \n\n[68 rows x 7 columns]",
      "text/html": "<div>\n<style scoped>\n    .dataframe tbody tr th:only-of-type {\n        vertical-align: middle;\n    }\n\n    .dataframe tbody tr th {\n        vertical-align: top;\n    }\n\n    .dataframe thead th {\n        text-align: right;\n    }\n</style>\n<table border=\"1\" class=\"dataframe\">\n  <thead>\n    <tr style=\"text-align: right;\">\n      <th></th>\n      <th>NAME</th>\n      <th>WIDTH</th>\n      <th>PRICE</th>\n      <th>POWER</th>\n      <th>GRASS</th>\n      <th>AREA</th>\n      <th>DESCRIPTION</th>\n    </tr>\n  </thead>\n  <tbody>\n    <tr>\n      <th>9</th>\n      <td>Wolf JGN773</td>\n      <td>39.0</td>\n      <td>14000.0</td>\n      <td>1.00</td>\n      <td>30.0</td>\n      <td>350.0</td>\n      <td>Средняя ширина скашиваемой полосы на данной га...</td>\n    </tr>\n    <tr>\n      <th>10</th>\n      <td>Cooper RCR719</td>\n      <td>38.0</td>\n      <td>36000.0</td>\n      <td>0.95</td>\n      <td>65.0</td>\n      <td>350.0</td>\n      <td>Средняя ширина скашиваемой полосы на данной га...</td>\n    </tr>\n    <tr>\n      <th>14</th>\n      <td>Cooper GKI494</td>\n      <td>39.0</td>\n      <td>44000.0</td>\n      <td>1.40</td>\n      <td>75.0</td>\n      <td>600.0</td>\n      <td>Средняя ширина скашиваемой полосы на данной га...</td>\n    </tr>\n    <tr>\n      <th>15</th>\n      <td>Cooper AEA582</td>\n      <td>36.0</td>\n      <td>9000.0</td>\n      <td>1.35</td>\n      <td>45.0</td>\n      <td>600.0</td>\n      <td>Средняя ширина скашиваемой полосы на данной га...</td>\n    </tr>\n    <tr>\n      <th>16</th>\n      <td>Gardez TGZ222</td>\n      <td>38.0</td>\n      <td>43000.0</td>\n      <td>1.70</td>\n      <td>35.0</td>\n      <td>300.0</td>\n      <td>Средняя ширина скашиваемой полосы на данной га...</td>\n    </tr>\n    <tr>\n      <th>...</th>\n      <td>...</td>\n      <td>...</td>\n      <td>...</td>\n      <td>...</td>\n      <td>...</td>\n      <td>...</td>\n      <td>...</td>\n    </tr>\n    <tr>\n      <th>179</th>\n      <td>Gardez MCQ196</td>\n      <td>40.0</td>\n      <td>36000.0</td>\n      <td>1.35</td>\n      <td>45.0</td>\n      <td>600.0</td>\n      <td>Средняя ширина скашиваемой полосы на данной га...</td>\n    </tr>\n    <tr>\n      <th>183</th>\n      <td>Worx FXP214</td>\n      <td>40.0</td>\n      <td>21000.0</td>\n      <td>1.40</td>\n      <td>70.0</td>\n      <td>550.0</td>\n      <td>Средняя ширина скашиваемой полосы на данной га...</td>\n    </tr>\n    <tr>\n      <th>193</th>\n      <td>Wolf ZKL533</td>\n      <td>36.0</td>\n      <td>31000.0</td>\n      <td>1.80</td>\n      <td>65.0</td>\n      <td>400.0</td>\n      <td>Средняя ширина скашиваемой полосы на данной га...</td>\n    </tr>\n    <tr>\n      <th>194</th>\n      <td>Gardez AQP234</td>\n      <td>37.0</td>\n      <td>37000.0</td>\n      <td>1.20</td>\n      <td>25.0</td>\n      <td>350.0</td>\n      <td>Средняя ширина скашиваемой полосы на данной га...</td>\n    </tr>\n    <tr>\n      <th>197</th>\n      <td>Champion EMQ445</td>\n      <td>36.0</td>\n      <td>38000.0</td>\n      <td>0.80</td>\n      <td>50.0</td>\n      <td>500.0</td>\n      <td>Средняя ширина скашиваемой полосы на данной га...</td>\n    </tr>\n  </tbody>\n</table>\n<p>68 rows × 7 columns</p>\n</div>"
     },
     "execution_count": 81,
     "metadata": {},
     "output_type": "execute_result"
    }
   ],
   "source": [
    "data.loc[data['WIDTH'].isnull() & data['DESCRIPTION'].str.match(\"средняя ширина|ширина средняя\",case=False)] = mean_width_36_40\n",
    "data.loc[data['DESCRIPTION'].str.match(\"средняя ширина|ширина средняя\",case=False,na=False)]"
   ],
   "metadata": {
    "collapsed": false,
    "ExecuteTime": {
     "end_time": "2024-01-03T20:00:36.810012200Z",
     "start_time": "2024-01-03T20:00:36.787912400Z"
    }
   },
   "id": "7786e6c5b8a3e66d"
  },
  {
   "cell_type": "code",
   "execution_count": 88,
   "outputs": [
    {
     "data": {
      "text/plain": "                NAME  WIDTH    PRICE  POWER  GRASS   AREA  \\\n0    Champion NPI256   41.0  22000.0   1.55   30.0  450.0   \n1      Nakita CPA252   44.0  37000.0   1.85   60.0  400.0   \n5        Bear YXK272   43.0  42000.0   0.85   40.0  250.0   \n12   Champion FFA517   44.0  44000.0   1.30   70.0  250.0   \n18       Wolf UIM773   44.0  23000.0   1.50   30.0  550.0   \n21     Nakita VNS181   42.0  29000.0   1.20   35.0  250.0   \n23       Bear SUJ689   42.0  36000.0   1.00   35.0  550.0   \n29     Nakita EUJ593   44.0  42000.0   1.50   45.0  350.0   \n30       Bear MSY574   44.0  12000.0   1.95   45.0  300.0   \n31     Nakita GDD918   44.0  12000.0   1.20   25.0  600.0   \n39       Boch HSX898   43.0  31000.0   1.25   40.0  200.0   \n42     Gardez KST572   42.0  10000.0   1.65   60.0  200.0   \n48     Nakita BCW174   43.0  28000.0   1.15   55.0  550.0   \n49     Cooper TNF995   41.0  40000.0   1.00   30.0  450.0   \n50       Bear PUV154   41.0  39000.0   1.00   55.0  400.0   \n51       Wolf OPR238   43.0  26000.0   1.75   40.0  250.0   \n63     Gardez HYJ888   41.0  30000.0   0.75   75.0  400.0   \n66     Nakita PHK998   41.0  31000.0   1.20   75.0  600.0   \n82     Cooper BOL125   42.0      NaN   1.10   45.0  450.0   \n86     Nakita ERH367   41.0   9000.0   1.55   35.0  600.0   \n88       Boch FRY984   43.0  24000.0   0.85   55.0  600.0   \n91   Champion VPR388   42.0  20000.0   0.95   75.0  500.0   \n95     Nakita XHA148   41.0  20000.0   1.10   35.0  400.0   \n96     Nakita SSG416   44.0  23000.0   1.80   75.0  350.0   \n104      Worx NCC616   41.0  19000.0   0.75   50.0  350.0   \n106    Nakita BIZ632   42.0  21000.0   1.90   75.0  200.0   \n113      Wolf JIA746   44.0  25000.0   1.10   45.0  550.0   \n117      Boch EGG991   41.0  29000.0   1.50   30.0  600.0   \n118    Cooper BNP425   42.0  30000.0   1.80   65.0  250.0   \n119    Cooper HCC488   42.0  19000.0   0.90   25.0  600.0   \n127  Champion VLT155   41.0  35000.0   1.15   45.0  450.0   \n128    Gardez HMT244   41.0  10000.0   1.55   60.0  450.0   \n130      Wolf SWG241   43.0  32000.0   1.75   60.0  200.0   \n135      Wolf VJD224   42.0  29000.0   1.85   65.0  450.0   \n140    Cooper IXB887   43.0  23000.0   1.25   35.0  250.0   \n148      Boch ARB816   44.0  23000.0   1.05   40.0  400.0   \n152    Nakita CRI325   41.0  10000.0   1.90   40.0  200.0   \n155    Cooper GUI512   44.0  41000.0   1.70   40.0  350.0   \n156      Bear JZA697   41.0  27000.0   0.85   70.0  300.0   \n158      Bear OZN633   42.0  11000.0   1.95   70.0  250.0   \n159      Wolf HJN611   42.0  26000.0   0.75   70.0  550.0   \n162    Cooper ISG511   43.0  10000.0   1.10   55.0  300.0   \n167    Cooper NND135   41.0  40000.0   1.55   25.0  600.0   \n168    Nakita FMR162   44.0  38000.0   1.55   25.0  250.0   \n180  Champion DUO655   42.0  15000.0   1.95   70.0  350.0   \n185      Wolf KXA999   41.0      NaN   1.05   70.0  400.0   \n187    Cooper KBF526   41.0  27000.0   1.50   35.0  350.0   \n189      Worx UTR966   41.0   9000.0   0.75   30.0  300.0   \n191      Boch WIX213   41.0  28000.0   0.80   30.0  450.0   \n196      Worx IGI227   44.0  30000.0   1.90   70.0  400.0   \n199    Nakita DBM924   42.0  40000.0   1.35   50.0  300.0   \n\n                                           DESCRIPTION  \n0    Широкая полоса скашивания на данной газонокоси...  \n1    Широкая полоса скашивания на данной газонокоси...  \n5    Широкая полоса скашивания на данной газонокоси...  \n12   Широкая полоса скашивания на данной газонокоси...  \n18   Широкая полоса скашивания на данной газонокоси...  \n21   Широкая полоса скашивания на данной газонокоси...  \n23   Широкая полоса скашивания на данной газонокоси...  \n29   Широкая полоса скашивания на данной газонокоси...  \n30   Широкая полоса скашивания на данной газонокоси...  \n31   Широкая полоса скашивания на данной газонокоси...  \n39   Широкая полоса скашивания на данной газонокоси...  \n42   Широкая полоса скашивания на данной газонокоси...  \n48   Широкая полоса скашивания на данной газонокоси...  \n49   Широкая полоса скашивания на данной газонокоси...  \n50   Широкая полоса скашивания на данной газонокоси...  \n51   Широкая полоса скашивания на данной газонокоси...  \n63   Широкая полоса скашивания на данной газонокоси...  \n66   Широкая полоса скашивания на данной газонокоси...  \n82   Широкая полоса скашивания на данной газонокоси...  \n86   Широкая полоса скашивания на данной газонокоси...  \n88   Широкая полоса скашивания на данной газонокоси...  \n91   Широкая полоса скашивания на данной газонокоси...  \n95   Широкая полоса скашивания на данной газонокоси...  \n96   Широкая полоса скашивания на данной газонокоси...  \n104  Широкая полоса скашивания на данной газонокоси...  \n106  Широкая полоса скашивания на данной газонокоси...  \n113  Широкая полоса скашивания на данной газонокоси...  \n117  Широкая полоса скашивания на данной газонокоси...  \n118  Широкая полоса скашивания на данной газонокоси...  \n119  Широкая полоса скашивания на данной газонокоси...  \n127  Широкая полоса скашивания на данной газонокоси...  \n128  Широкая полоса скашивания на данной газонокоси...  \n130  Широкая полоса скашивания на данной газонокоси...  \n135  Широкая полоса скашивания на данной газонокоси...  \n140  Широкая полоса скашивания на данной газонокоси...  \n148  Широкая полоса скашивания на данной газонокоси...  \n152  Широкая полоса скашивания на данной газонокоси...  \n155  Широкая полоса скашивания на данной газонокоси...  \n156  Широкая полоса скашивания на данной газонокоси...  \n158  Широкая полоса скашивания на данной газонокоси...  \n159  Широкая полоса скашивания на данной газонокоси...  \n162  Широкая полоса скашивания на данной газонокоси...  \n167  Широкая полоса скашивания на данной газонокоси...  \n168  Широкая полоса скашивания на данной газонокоси...  \n180  Широкая полоса скашивания на данной газонокоси...  \n185  Широкая полоса скашивания на данной газонокоси...  \n187  Широкая полоса скашивания на данной газонокоси...  \n189  Широкая полоса скашивания на данной газонокоси...  \n191  Широкая полоса скашивания на данной газонокоси...  \n196  Широкая полоса скашивания на данной газонокоси...  \n199  Широкая полоса скашивания на данной газонокоси...  ",
      "text/html": "<div>\n<style scoped>\n    .dataframe tbody tr th:only-of-type {\n        vertical-align: middle;\n    }\n\n    .dataframe tbody tr th {\n        vertical-align: top;\n    }\n\n    .dataframe thead th {\n        text-align: right;\n    }\n</style>\n<table border=\"1\" class=\"dataframe\">\n  <thead>\n    <tr style=\"text-align: right;\">\n      <th></th>\n      <th>NAME</th>\n      <th>WIDTH</th>\n      <th>PRICE</th>\n      <th>POWER</th>\n      <th>GRASS</th>\n      <th>AREA</th>\n      <th>DESCRIPTION</th>\n    </tr>\n  </thead>\n  <tbody>\n    <tr>\n      <th>0</th>\n      <td>Champion NPI256</td>\n      <td>41.0</td>\n      <td>22000.0</td>\n      <td>1.55</td>\n      <td>30.0</td>\n      <td>450.0</td>\n      <td>Широкая полоса скашивания на данной газонокоси...</td>\n    </tr>\n    <tr>\n      <th>1</th>\n      <td>Nakita CPA252</td>\n      <td>44.0</td>\n      <td>37000.0</td>\n      <td>1.85</td>\n      <td>60.0</td>\n      <td>400.0</td>\n      <td>Широкая полоса скашивания на данной газонокоси...</td>\n    </tr>\n    <tr>\n      <th>5</th>\n      <td>Bear YXK272</td>\n      <td>43.0</td>\n      <td>42000.0</td>\n      <td>0.85</td>\n      <td>40.0</td>\n      <td>250.0</td>\n      <td>Широкая полоса скашивания на данной газонокоси...</td>\n    </tr>\n    <tr>\n      <th>12</th>\n      <td>Champion FFA517</td>\n      <td>44.0</td>\n      <td>44000.0</td>\n      <td>1.30</td>\n      <td>70.0</td>\n      <td>250.0</td>\n      <td>Широкая полоса скашивания на данной газонокоси...</td>\n    </tr>\n    <tr>\n      <th>18</th>\n      <td>Wolf UIM773</td>\n      <td>44.0</td>\n      <td>23000.0</td>\n      <td>1.50</td>\n      <td>30.0</td>\n      <td>550.0</td>\n      <td>Широкая полоса скашивания на данной газонокоси...</td>\n    </tr>\n    <tr>\n      <th>21</th>\n      <td>Nakita VNS181</td>\n      <td>42.0</td>\n      <td>29000.0</td>\n      <td>1.20</td>\n      <td>35.0</td>\n      <td>250.0</td>\n      <td>Широкая полоса скашивания на данной газонокоси...</td>\n    </tr>\n    <tr>\n      <th>23</th>\n      <td>Bear SUJ689</td>\n      <td>42.0</td>\n      <td>36000.0</td>\n      <td>1.00</td>\n      <td>35.0</td>\n      <td>550.0</td>\n      <td>Широкая полоса скашивания на данной газонокоси...</td>\n    </tr>\n    <tr>\n      <th>29</th>\n      <td>Nakita EUJ593</td>\n      <td>44.0</td>\n      <td>42000.0</td>\n      <td>1.50</td>\n      <td>45.0</td>\n      <td>350.0</td>\n      <td>Широкая полоса скашивания на данной газонокоси...</td>\n    </tr>\n    <tr>\n      <th>30</th>\n      <td>Bear MSY574</td>\n      <td>44.0</td>\n      <td>12000.0</td>\n      <td>1.95</td>\n      <td>45.0</td>\n      <td>300.0</td>\n      <td>Широкая полоса скашивания на данной газонокоси...</td>\n    </tr>\n    <tr>\n      <th>31</th>\n      <td>Nakita GDD918</td>\n      <td>44.0</td>\n      <td>12000.0</td>\n      <td>1.20</td>\n      <td>25.0</td>\n      <td>600.0</td>\n      <td>Широкая полоса скашивания на данной газонокоси...</td>\n    </tr>\n    <tr>\n      <th>39</th>\n      <td>Boch HSX898</td>\n      <td>43.0</td>\n      <td>31000.0</td>\n      <td>1.25</td>\n      <td>40.0</td>\n      <td>200.0</td>\n      <td>Широкая полоса скашивания на данной газонокоси...</td>\n    </tr>\n    <tr>\n      <th>42</th>\n      <td>Gardez KST572</td>\n      <td>42.0</td>\n      <td>10000.0</td>\n      <td>1.65</td>\n      <td>60.0</td>\n      <td>200.0</td>\n      <td>Широкая полоса скашивания на данной газонокоси...</td>\n    </tr>\n    <tr>\n      <th>48</th>\n      <td>Nakita BCW174</td>\n      <td>43.0</td>\n      <td>28000.0</td>\n      <td>1.15</td>\n      <td>55.0</td>\n      <td>550.0</td>\n      <td>Широкая полоса скашивания на данной газонокоси...</td>\n    </tr>\n    <tr>\n      <th>49</th>\n      <td>Cooper TNF995</td>\n      <td>41.0</td>\n      <td>40000.0</td>\n      <td>1.00</td>\n      <td>30.0</td>\n      <td>450.0</td>\n      <td>Широкая полоса скашивания на данной газонокоси...</td>\n    </tr>\n    <tr>\n      <th>50</th>\n      <td>Bear PUV154</td>\n      <td>41.0</td>\n      <td>39000.0</td>\n      <td>1.00</td>\n      <td>55.0</td>\n      <td>400.0</td>\n      <td>Широкая полоса скашивания на данной газонокоси...</td>\n    </tr>\n    <tr>\n      <th>51</th>\n      <td>Wolf OPR238</td>\n      <td>43.0</td>\n      <td>26000.0</td>\n      <td>1.75</td>\n      <td>40.0</td>\n      <td>250.0</td>\n      <td>Широкая полоса скашивания на данной газонокоси...</td>\n    </tr>\n    <tr>\n      <th>63</th>\n      <td>Gardez HYJ888</td>\n      <td>41.0</td>\n      <td>30000.0</td>\n      <td>0.75</td>\n      <td>75.0</td>\n      <td>400.0</td>\n      <td>Широкая полоса скашивания на данной газонокоси...</td>\n    </tr>\n    <tr>\n      <th>66</th>\n      <td>Nakita PHK998</td>\n      <td>41.0</td>\n      <td>31000.0</td>\n      <td>1.20</td>\n      <td>75.0</td>\n      <td>600.0</td>\n      <td>Широкая полоса скашивания на данной газонокоси...</td>\n    </tr>\n    <tr>\n      <th>82</th>\n      <td>Cooper BOL125</td>\n      <td>42.0</td>\n      <td>NaN</td>\n      <td>1.10</td>\n      <td>45.0</td>\n      <td>450.0</td>\n      <td>Широкая полоса скашивания на данной газонокоси...</td>\n    </tr>\n    <tr>\n      <th>86</th>\n      <td>Nakita ERH367</td>\n      <td>41.0</td>\n      <td>9000.0</td>\n      <td>1.55</td>\n      <td>35.0</td>\n      <td>600.0</td>\n      <td>Широкая полоса скашивания на данной газонокоси...</td>\n    </tr>\n    <tr>\n      <th>88</th>\n      <td>Boch FRY984</td>\n      <td>43.0</td>\n      <td>24000.0</td>\n      <td>0.85</td>\n      <td>55.0</td>\n      <td>600.0</td>\n      <td>Широкая полоса скашивания на данной газонокоси...</td>\n    </tr>\n    <tr>\n      <th>91</th>\n      <td>Champion VPR388</td>\n      <td>42.0</td>\n      <td>20000.0</td>\n      <td>0.95</td>\n      <td>75.0</td>\n      <td>500.0</td>\n      <td>Широкая полоса скашивания на данной газонокоси...</td>\n    </tr>\n    <tr>\n      <th>95</th>\n      <td>Nakita XHA148</td>\n      <td>41.0</td>\n      <td>20000.0</td>\n      <td>1.10</td>\n      <td>35.0</td>\n      <td>400.0</td>\n      <td>Широкая полоса скашивания на данной газонокоси...</td>\n    </tr>\n    <tr>\n      <th>96</th>\n      <td>Nakita SSG416</td>\n      <td>44.0</td>\n      <td>23000.0</td>\n      <td>1.80</td>\n      <td>75.0</td>\n      <td>350.0</td>\n      <td>Широкая полоса скашивания на данной газонокоси...</td>\n    </tr>\n    <tr>\n      <th>104</th>\n      <td>Worx NCC616</td>\n      <td>41.0</td>\n      <td>19000.0</td>\n      <td>0.75</td>\n      <td>50.0</td>\n      <td>350.0</td>\n      <td>Широкая полоса скашивания на данной газонокоси...</td>\n    </tr>\n    <tr>\n      <th>106</th>\n      <td>Nakita BIZ632</td>\n      <td>42.0</td>\n      <td>21000.0</td>\n      <td>1.90</td>\n      <td>75.0</td>\n      <td>200.0</td>\n      <td>Широкая полоса скашивания на данной газонокоси...</td>\n    </tr>\n    <tr>\n      <th>113</th>\n      <td>Wolf JIA746</td>\n      <td>44.0</td>\n      <td>25000.0</td>\n      <td>1.10</td>\n      <td>45.0</td>\n      <td>550.0</td>\n      <td>Широкая полоса скашивания на данной газонокоси...</td>\n    </tr>\n    <tr>\n      <th>117</th>\n      <td>Boch EGG991</td>\n      <td>41.0</td>\n      <td>29000.0</td>\n      <td>1.50</td>\n      <td>30.0</td>\n      <td>600.0</td>\n      <td>Широкая полоса скашивания на данной газонокоси...</td>\n    </tr>\n    <tr>\n      <th>118</th>\n      <td>Cooper BNP425</td>\n      <td>42.0</td>\n      <td>30000.0</td>\n      <td>1.80</td>\n      <td>65.0</td>\n      <td>250.0</td>\n      <td>Широкая полоса скашивания на данной газонокоси...</td>\n    </tr>\n    <tr>\n      <th>119</th>\n      <td>Cooper HCC488</td>\n      <td>42.0</td>\n      <td>19000.0</td>\n      <td>0.90</td>\n      <td>25.0</td>\n      <td>600.0</td>\n      <td>Широкая полоса скашивания на данной газонокоси...</td>\n    </tr>\n    <tr>\n      <th>127</th>\n      <td>Champion VLT155</td>\n      <td>41.0</td>\n      <td>35000.0</td>\n      <td>1.15</td>\n      <td>45.0</td>\n      <td>450.0</td>\n      <td>Широкая полоса скашивания на данной газонокоси...</td>\n    </tr>\n    <tr>\n      <th>128</th>\n      <td>Gardez HMT244</td>\n      <td>41.0</td>\n      <td>10000.0</td>\n      <td>1.55</td>\n      <td>60.0</td>\n      <td>450.0</td>\n      <td>Широкая полоса скашивания на данной газонокоси...</td>\n    </tr>\n    <tr>\n      <th>130</th>\n      <td>Wolf SWG241</td>\n      <td>43.0</td>\n      <td>32000.0</td>\n      <td>1.75</td>\n      <td>60.0</td>\n      <td>200.0</td>\n      <td>Широкая полоса скашивания на данной газонокоси...</td>\n    </tr>\n    <tr>\n      <th>135</th>\n      <td>Wolf VJD224</td>\n      <td>42.0</td>\n      <td>29000.0</td>\n      <td>1.85</td>\n      <td>65.0</td>\n      <td>450.0</td>\n      <td>Широкая полоса скашивания на данной газонокоси...</td>\n    </tr>\n    <tr>\n      <th>140</th>\n      <td>Cooper IXB887</td>\n      <td>43.0</td>\n      <td>23000.0</td>\n      <td>1.25</td>\n      <td>35.0</td>\n      <td>250.0</td>\n      <td>Широкая полоса скашивания на данной газонокоси...</td>\n    </tr>\n    <tr>\n      <th>148</th>\n      <td>Boch ARB816</td>\n      <td>44.0</td>\n      <td>23000.0</td>\n      <td>1.05</td>\n      <td>40.0</td>\n      <td>400.0</td>\n      <td>Широкая полоса скашивания на данной газонокоси...</td>\n    </tr>\n    <tr>\n      <th>152</th>\n      <td>Nakita CRI325</td>\n      <td>41.0</td>\n      <td>10000.0</td>\n      <td>1.90</td>\n      <td>40.0</td>\n      <td>200.0</td>\n      <td>Широкая полоса скашивания на данной газонокоси...</td>\n    </tr>\n    <tr>\n      <th>155</th>\n      <td>Cooper GUI512</td>\n      <td>44.0</td>\n      <td>41000.0</td>\n      <td>1.70</td>\n      <td>40.0</td>\n      <td>350.0</td>\n      <td>Широкая полоса скашивания на данной газонокоси...</td>\n    </tr>\n    <tr>\n      <th>156</th>\n      <td>Bear JZA697</td>\n      <td>41.0</td>\n      <td>27000.0</td>\n      <td>0.85</td>\n      <td>70.0</td>\n      <td>300.0</td>\n      <td>Широкая полоса скашивания на данной газонокоси...</td>\n    </tr>\n    <tr>\n      <th>158</th>\n      <td>Bear OZN633</td>\n      <td>42.0</td>\n      <td>11000.0</td>\n      <td>1.95</td>\n      <td>70.0</td>\n      <td>250.0</td>\n      <td>Широкая полоса скашивания на данной газонокоси...</td>\n    </tr>\n    <tr>\n      <th>159</th>\n      <td>Wolf HJN611</td>\n      <td>42.0</td>\n      <td>26000.0</td>\n      <td>0.75</td>\n      <td>70.0</td>\n      <td>550.0</td>\n      <td>Широкая полоса скашивания на данной газонокоси...</td>\n    </tr>\n    <tr>\n      <th>162</th>\n      <td>Cooper ISG511</td>\n      <td>43.0</td>\n      <td>10000.0</td>\n      <td>1.10</td>\n      <td>55.0</td>\n      <td>300.0</td>\n      <td>Широкая полоса скашивания на данной газонокоси...</td>\n    </tr>\n    <tr>\n      <th>167</th>\n      <td>Cooper NND135</td>\n      <td>41.0</td>\n      <td>40000.0</td>\n      <td>1.55</td>\n      <td>25.0</td>\n      <td>600.0</td>\n      <td>Широкая полоса скашивания на данной газонокоси...</td>\n    </tr>\n    <tr>\n      <th>168</th>\n      <td>Nakita FMR162</td>\n      <td>44.0</td>\n      <td>38000.0</td>\n      <td>1.55</td>\n      <td>25.0</td>\n      <td>250.0</td>\n      <td>Широкая полоса скашивания на данной газонокоси...</td>\n    </tr>\n    <tr>\n      <th>180</th>\n      <td>Champion DUO655</td>\n      <td>42.0</td>\n      <td>15000.0</td>\n      <td>1.95</td>\n      <td>70.0</td>\n      <td>350.0</td>\n      <td>Широкая полоса скашивания на данной газонокоси...</td>\n    </tr>\n    <tr>\n      <th>185</th>\n      <td>Wolf KXA999</td>\n      <td>41.0</td>\n      <td>NaN</td>\n      <td>1.05</td>\n      <td>70.0</td>\n      <td>400.0</td>\n      <td>Широкая полоса скашивания на данной газонокоси...</td>\n    </tr>\n    <tr>\n      <th>187</th>\n      <td>Cooper KBF526</td>\n      <td>41.0</td>\n      <td>27000.0</td>\n      <td>1.50</td>\n      <td>35.0</td>\n      <td>350.0</td>\n      <td>Широкая полоса скашивания на данной газонокоси...</td>\n    </tr>\n    <tr>\n      <th>189</th>\n      <td>Worx UTR966</td>\n      <td>41.0</td>\n      <td>9000.0</td>\n      <td>0.75</td>\n      <td>30.0</td>\n      <td>300.0</td>\n      <td>Широкая полоса скашивания на данной газонокоси...</td>\n    </tr>\n    <tr>\n      <th>191</th>\n      <td>Boch WIX213</td>\n      <td>41.0</td>\n      <td>28000.0</td>\n      <td>0.80</td>\n      <td>30.0</td>\n      <td>450.0</td>\n      <td>Широкая полоса скашивания на данной газонокоси...</td>\n    </tr>\n    <tr>\n      <th>196</th>\n      <td>Worx IGI227</td>\n      <td>44.0</td>\n      <td>30000.0</td>\n      <td>1.90</td>\n      <td>70.0</td>\n      <td>400.0</td>\n      <td>Широкая полоса скашивания на данной газонокоси...</td>\n    </tr>\n    <tr>\n      <th>199</th>\n      <td>Nakita DBM924</td>\n      <td>42.0</td>\n      <td>40000.0</td>\n      <td>1.35</td>\n      <td>50.0</td>\n      <td>300.0</td>\n      <td>Широкая полоса скашивания на данной газонокоси...</td>\n    </tr>\n  </tbody>\n</table>\n</div>"
     },
     "execution_count": 88,
     "metadata": {},
     "output_type": "execute_result"
    }
   ],
   "source": [
    "data.loc[data['WIDTH'].isnull() & data['DESCRIPTION'].str.match(\"широкая.*полоса|широкие.*полосы\",case=False)] = median_width_41_45\n",
    "data.loc[data['DESCRIPTION'].str.match(\"широкая.*полоса|широкие.*полосы\",case=False,na=False)]"
   ],
   "metadata": {
    "collapsed": false,
    "ExecuteTime": {
     "end_time": "2024-01-03T20:06:56.222098600Z",
     "start_time": "2024-01-03T20:06:56.187200300Z"
    }
   },
   "id": "da4952de06f11db4"
  },
  {
   "cell_type": "code",
   "execution_count": 92,
   "outputs": [
    {
     "data": {
      "text/plain": "array([False])"
     },
     "execution_count": 92,
     "metadata": {},
     "output_type": "execute_result"
    }
   ],
   "source": [
    "data['WIDTH'].isnull().unique()"
   ],
   "metadata": {
    "collapsed": false,
    "ExecuteTime": {
     "end_time": "2024-01-03T20:07:43.877015300Z",
     "start_time": "2024-01-03T20:07:43.851099800Z"
    }
   },
   "id": "9c1c93a6c99baae"
  },
  {
   "cell_type": "code",
   "execution_count": 93,
   "outputs": [
    {
     "data": {
      "text/plain": "37.37"
     },
     "execution_count": 93,
     "metadata": {},
     "output_type": "execute_result"
    }
   ],
   "source": [
    "data['WIDTH'].mean()"
   ],
   "metadata": {
    "collapsed": false,
    "ExecuteTime": {
     "end_time": "2024-01-03T20:08:23.382114800Z",
     "start_time": "2024-01-03T20:08:23.337597900Z"
    }
   },
   "id": "d421a4147c531685"
  },
  {
   "cell_type": "markdown",
   "source": [
    "2. Цены на газонокосилки имели очень большой разброс и Юрий решил избавиться от вариантов, стоимость которых попадала под определение \"экстремальных выбросов\"."
   ],
   "metadata": {
    "collapsed": false
   },
   "id": "c7ada20d0b184341"
  },
  {
   "cell_type": "code",
   "execution_count": 93,
   "outputs": [],
   "source": [],
   "metadata": {
    "collapsed": false,
    "ExecuteTime": {
     "end_time": "2024-01-03T20:09:12.763646900Z",
     "start_time": "2024-01-03T20:09:12.728983200Z"
    }
   },
   "id": "2b14fe413f517699"
  },
  {
   "cell_type": "markdown",
   "source": [
    "3. Затем Юрий исключил записи в которых все еще оставались пропущенные значения."
   ],
   "metadata": {
    "collapsed": false
   },
   "id": "4352bfbf610dba6d"
  },
  {
   "cell_type": "code",
   "execution_count": 93,
   "outputs": [],
   "source": [],
   "metadata": {
    "collapsed": false,
    "ExecuteTime": {
     "end_time": "2024-01-03T20:09:46.730041500Z",
     "start_time": "2024-01-03T20:09:46.701258200Z"
    }
   },
   "id": "2a744ed58e15c04a"
  },
  {
   "cell_type": "markdown",
   "source": [
    "Введите количество оставшихся к рассмотрению газонокосилок:"
   ],
   "metadata": {
    "collapsed": false
   },
   "id": "af53aa31a2a404fe"
  },
  {
   "cell_type": "code",
   "execution_count": null,
   "outputs": [],
   "source": [],
   "metadata": {
    "collapsed": false
   },
   "id": "efc05c5d02c50124"
  }
 ],
 "metadata": {
  "kernelspec": {
   "display_name": "Python 3",
   "language": "python",
   "name": "python3"
  },
  "language_info": {
   "codemirror_mode": {
    "name": "ipython",
    "version": 2
   },
   "file_extension": ".py",
   "mimetype": "text/x-python",
   "name": "python",
   "nbconvert_exporter": "python",
   "pygments_lexer": "ipython2",
   "version": "2.7.6"
  }
 },
 "nbformat": 4,
 "nbformat_minor": 5
}
