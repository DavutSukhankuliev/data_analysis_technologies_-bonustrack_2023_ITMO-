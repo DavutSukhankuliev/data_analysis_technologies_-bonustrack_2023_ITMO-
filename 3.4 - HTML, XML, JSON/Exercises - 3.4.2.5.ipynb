{
 "cells": [
  {
   "cell_type": "markdown",
   "source": [
    "1. Основные API для GitHub перечислены [здесь](https://api.github.com/). Найдите API для получения информации о пользователе (user_url) по его логину. С помощью языка Python отправьте запрос на получение информации для пользователя \"itmo\". Введите страну регистрации данного пользователя из полученного ответа (\"location\").\n",
    "```\n",
    "{\n",
    "  \"current_user_url\": \"https://api.github.com/user\",\n",
    "  \"current_user_authorizations_html_url\": \"https://github.com/settings/connections/applications{/client_id}\",\n",
    "  \"authorizations_url\": \"https://api.github.com/authorizations\",\n",
    "  \"code_search_url\": \"https://api.github.com/search/code?q={query}{&page,per_page,sort,order}\",\n",
    "  \"commit_search_url\": \"https://api.github.com/search/commits?q={query}{&page,per_page,sort,order}\",\n",
    "  \"emails_url\": \"https://api.github.com/user/emails\",\n",
    "  \"emojis_url\": \"https://api.github.com/emojis\",\n",
    "  \"events_url\": \"https://api.github.com/events\",\n",
    "  \"feeds_url\": \"https://api.github.com/feeds\",\n",
    "  \"followers_url\": \"https://api.github.com/user/followers\",\n",
    "  \"following_url\": \"https://api.github.com/user/following{/target}\",\n",
    "  \"gists_url\": \"https://api.github.com/gists{/gist_id}\",\n",
    "  \"hub_url\": \"https://api.github.com/hub\",\n",
    "  \"issue_search_url\": \"https://api.github.com/search/issues?q={query}{&page,per_page,sort,order}\",\n",
    "  \"issues_url\": \"https://api.github.com/issues\",\n",
    "  \"keys_url\": \"https://api.github.com/user/keys\",\n",
    "  \"label_search_url\": \"https://api.github.com/search/labels?q={query}&repository_id={repository_id}{&page,per_page}\",\n",
    "  \"notifications_url\": \"https://api.github.com/notifications\",\n",
    "  \"organization_url\": \"https://api.github.com/orgs/{org}\",\n",
    "  \"organization_repositories_url\": \"https://api.github.com/orgs/{org}/repos{?type,page,per_page,sort}\",\n",
    "  \"organization_teams_url\": \"https://api.github.com/orgs/{org}/teams\",\n",
    "  \"public_gists_url\": \"https://api.github.com/gists/public\",\n",
    "  \"rate_limit_url\": \"https://api.github.com/rate_limit\",\n",
    "  \"repository_url\": \"https://api.github.com/repos/{owner}/{repo}\",\n",
    "  \"repository_search_url\": \"https://api.github.com/search/repositories?q={query}{&page,per_page,sort,order}\",\n",
    "  \"current_user_repositories_url\": \"https://api.github.com/user/repos{?type,page,per_page,sort}\",\n",
    "  \"starred_url\": \"https://api.github.com/user/starred{/owner}{/repo}\",\n",
    "  \"starred_gists_url\": \"https://api.github.com/gists/starred\",\n",
    "  \"topic_search_url\": \"https://api.github.com/search/topics?q={query}{&page,per_page}\",\n",
    "  \"user_url\": \"https://api.github.com/users/{user}\",\n",
    "  \"user_organizations_url\": \"https://api.github.com/user/orgs\",\n",
    "  \"user_repositories_url\": \"https://api.github.com/users/{user}/repos{?type,page,per_page,sort}\",\n",
    "  \"user_search_url\": \"https://api.github.com/search/users?q={query}{&page,per_page,sort,order}\"\n",
    "}\n",
    "```\n"
   ],
   "metadata": {
    "collapsed": false
   },
   "id": "9112f189ee2e761b"
  },
  {
   "cell_type": "code",
   "outputs": [
    {
     "name": "stdout",
     "output_type": "stream",
     "text": [
      "finland\n"
     ]
    }
   ],
   "source": [
    "import requests\n",
    "\n",
    "# URL для получения информации о пользователе \"itmo\"\n",
    "user_url = 'https://api.github.com/users/itmo'\n",
    "\n",
    "# Отправка GET-запроса\n",
    "response = requests.get(user_url)\n",
    "\n",
    "# Проверка успешности запроса\n",
    "if response.status_code == 200:\n",
    "    # Преобразование ответа в JSON и извлечение страны\n",
    "    user_info = response.json()\n",
    "    location = user_info.get('location', 'Location not specified')\n",
    "else:\n",
    "    location = 'Failed to retrieve information'\n",
    "\n",
    "# Вывод страны регистрации пользователя\n",
    "print(location)"
   ],
   "metadata": {
    "collapsed": false,
    "ExecuteTime": {
     "end_time": "2024-06-27T20:02:38.957615700Z",
     "start_time": "2024-06-27T20:02:38.117416Z"
    }
   },
   "id": "efc4766c2fff18f7",
   "execution_count": 1
  },
  {
   "cell_type": "markdown",
   "source": [
    "2. С помощью языка Python получите данные о текущих курсах валют ЦБ РФ (https://www.cbr-xml-daily.ru/daily_json.js). Сколько различных валют перечислено в ответном запросе (коллекция \"Valute\")?\n"
   ],
   "metadata": {
    "collapsed": false
   },
   "id": "122b134cb61b2327"
  },
  {
   "cell_type": "code",
   "outputs": [
    {
     "name": "stdout",
     "output_type": "stream",
     "text": [
      "Количество различных валют: 43\n"
     ]
    }
   ],
   "source": [
    "import requests\n",
    "import json\n",
    "\n",
    "# URL для получения текущих курсов валют ЦБ РФ\n",
    "url = \"https://www.cbr-xml-daily.ru/daily_json.js\"\n",
    "\n",
    "# Выполнение GET-запроса\n",
    "response = requests.get(url)\n",
    "\n",
    "# Проверка успешности выполнения запроса\n",
    "if response.status_code == 200:\n",
    "    # Парсинг JSON-ответа\n",
    "    data = response.json()\n",
    "    \n",
    "    # Получение коллекции \"Valute\"\n",
    "    valutes = data.get(\"Valute\", {})\n",
    "    \n",
    "    # Подсчет количества различных валют\n",
    "    num_valutes = len(valutes)\n",
    "    \n",
    "    print(f\"Количество различных валют: {num_valutes}\")\n",
    "else:\n",
    "    print(f\"Ошибка при запросе данных: {response.status_code}\")"
   ],
   "metadata": {
    "collapsed": false,
    "ExecuteTime": {
     "end_time": "2024-06-27T20:06:04.447571500Z",
     "start_time": "2024-06-27T20:06:03.935145Z"
    }
   },
   "id": "2aa58c7322f82d2",
   "execution_count": 3
  },
  {
   "cell_type": "markdown",
   "source": [
    "3. С помощью языка Python получите данные о текущих курсах валют ЦБ РФ (https://www.cbr-xml-daily.ru/daily_json.js) и найдите наименьшее значение \"Value\". Обязательно надо учитывать значение поля \"Nominal\" (для какого количества единиц указан курс) для каждой валюты. Числовой код валюты (\"NumCode\") с наименьшим курсом введите в качестве ответа (в том виде, как в полученном ответном запросе)."
   ],
   "metadata": {
    "collapsed": false
   },
   "id": "d156b25fc676160b"
  },
  {
   "cell_type": "code",
   "outputs": [
    {
     "name": "stdout",
     "output_type": "stream",
     "text": [
      "Числовой код валюты с наименьшим курсом: 704\n"
     ]
    }
   ],
   "source": [
    "import requests\n",
    "\n",
    "# URL для получения текущих курсов валют ЦБ РФ\n",
    "url = \"https://www.cbr-xml-daily.ru/daily_json.js\"\n",
    "\n",
    "# Выполнение GET-запроса\n",
    "response = requests.get(url)\n",
    "\n",
    "# Проверка успешности выполнения запроса\n",
    "if response.status_code == 200:\n",
    "    # Парсинг JSON-ответа\n",
    "    data = response.json()\n",
    "    \n",
    "    # Получение коллекции \"Valute\"\n",
    "    valutes = data.get(\"Valute\", {})\n",
    "    \n",
    "    # Переменные для хранения минимального курса и соответствующего числового кода\n",
    "    min_value = float('inf')\n",
    "    min_num_code = \"\"\n",
    "\n",
    "    # Перебор всех валют\n",
    "    for valute in valutes.values():\n",
    "        nominal = valute.get(\"Nominal\", 1)\n",
    "        value = valute.get(\"Value\", 0)\n",
    "        num_code = valute.get(\"NumCode\", \"\")\n",
    "\n",
    "        # Вычисление курса для одной единицы валюты\n",
    "        normalized_value = value / nominal\n",
    "\n",
    "        # Поиск наименьшего курса\n",
    "        if normalized_value < min_value:\n",
    "            min_value = normalized_value\n",
    "            min_num_code = num_code\n",
    "\n",
    "    print(f\"Числовой код валюты с наименьшим курсом: {min_num_code}\")\n",
    "else:\n",
    "    print(f\"Ошибка при запросе данных: {response.status_code}\")"
   ],
   "metadata": {
    "collapsed": false,
    "ExecuteTime": {
     "end_time": "2024-06-27T20:06:51.029574900Z",
     "start_time": "2024-06-27T20:06:49.778562800Z"
    }
   },
   "id": "816ecc9cd3ea0604",
   "execution_count": 4
  },
  {
   "cell_type": "code",
   "outputs": [],
   "source": [],
   "metadata": {
    "collapsed": false
   },
   "id": "77a6d2990fcc9dc3"
  }
 ],
 "metadata": {
  "kernelspec": {
   "display_name": "Python 3",
   "language": "python",
   "name": "python3"
  },
  "language_info": {
   "codemirror_mode": {
    "name": "ipython",
    "version": 2
   },
   "file_extension": ".py",
   "mimetype": "text/x-python",
   "name": "python",
   "nbconvert_exporter": "python",
   "pygments_lexer": "ipython2",
   "version": "2.7.6"
  }
 },
 "nbformat": 4,
 "nbformat_minor": 5
}
