{
 "cells": [
  {
   "cell_type": "markdown",
   "source": [
    "Дан некий `HTML-документ` , полученный с сайта `https://www.kinopoisk.ru/`, в котором содержится информация о новинках за определенный период.\n",
    "\n",
    "С помощью языка Python cформируйте список всех названий фильмов из файла, используя соответсвующие теги и аттрибуты. Результирующий список должен содержать только названия фильмов.\n",
    "\n",
    "Если открыть приложенный файл в браузере, то с помощью опции «Исследовать элемент» можно найти необходимые теги и аттрибуты. Так, названия фильмов содержатся в теге `<div class=\"name\">`.\n",
    "\n",
    "Для того, чтобы прочитать приложенный файл перед передачей его в конструктор `BeautifulSoup`, можно поместить файл во временное хранилище Google Colab или на Google disk и выполнить следующее:\n",
    "```\n",
    "with open('/PATH/html_ind.html', 'r') as f:\n",
    "    contents = f.read()\n",
    "    page = BeautifulSoup(contents, 'html.parser')\n",
    "```\n",
    "Полученный список введите в виде `['Название фильма_1', 'Название фильма_2']`. Год создания фильма указывать НЕ нужно.\n"
   ],
   "metadata": {
    "collapsed": false
   },
   "id": "5408543a494b27c9"
  },
  {
   "cell_type": "code",
   "outputs": [
    {
     "name": "stdout",
     "output_type": "stream",
     "text": [
      "['\\nО чем говорят мужчины. Простые удовольствия (2022)\\n\\n                     \\n                     93 мин,\\n                     Централ Партнершип\\n                     \\xa0\\n                     \\n', '\\nБеспринципные в деревне (2023)\\n\\n                     \\n                     100 мин,\\n                     Атмосфера кино\\n                     \\xa0\\n                     \\n', '\\nНюрнберг (2023)\\n\\n                     Nurnberg,\\n                     131 мин,\\n                     НМГ Кинопрокат\\n                     \\xa0\\n                     \\n', '\\nСто лет тому вперёд (2022)\\n\\nЦентрал Партнершип\\n                     \\xa0\\n                     \\n', '\\nСамая большая луна (2023)\\n\\nАтмосфера кино\\n                     \\xa0\\n                     \\n', '\\nВызов (2023)\\n\\nЦентрал Партнершип\\n                     \\xa0\\n                     \\n']\n"
     ]
    }
   ],
   "source": [
    "from bs4 import BeautifulSoup\n",
    "\n",
    "# Открываем и читаем содержимое файла\n",
    "with open('kinopoisk_html.html', 'r', encoding='utf-8') as file:\n",
    "    contents = file.read()\n",
    "\n",
    "# Создаем объект BeautifulSoup\n",
    "soup = BeautifulSoup(contents, 'html.parser')\n",
    "\n",
    "# Ищем все элементы <div> с классом \"name\" и извлекаем текст\n",
    "film_titles = [div.text for div in soup.find_all('div', class_='name')]\n",
    "\n",
    "# Выводим результат\n",
    "print(film_titles)"
   ],
   "metadata": {
    "collapsed": false,
    "ExecuteTime": {
     "end_time": "2024-06-26T21:23:59.023304400Z",
     "start_time": "2024-06-26T21:23:58.982275900Z"
    }
   },
   "id": "89dd078bcb15998d",
   "execution_count": 3
  },
  {
   "cell_type": "code",
   "outputs": [],
   "source": [
    "['О чем говорят мужчины. Простые удовольствия', 'Беспринципные в деревне', 'Нюрнберг', 'Сто лет тому вперёд', 'Самая большая луна', 'Вызов']"
   ],
   "metadata": {
    "collapsed": false
   },
   "id": "4904186e8c149804"
  }
 ],
 "metadata": {
  "kernelspec": {
   "display_name": "Python 3",
   "language": "python",
   "name": "python3"
  },
  "language_info": {
   "codemirror_mode": {
    "name": "ipython",
    "version": 2
   },
   "file_extension": ".py",
   "mimetype": "text/x-python",
   "name": "python",
   "nbconvert_exporter": "python",
   "pygments_lexer": "ipython2",
   "version": "2.7.6"
  }
 },
 "nbformat": 4,
 "nbformat_minor": 5
}
