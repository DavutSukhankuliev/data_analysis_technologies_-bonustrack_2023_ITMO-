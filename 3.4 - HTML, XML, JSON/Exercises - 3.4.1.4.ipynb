{
 "cells": [
  {
   "cell_type": "markdown",
   "source": [
    "1. Дан некий фрагмент HTML-документа:\n",
    "```\n",
    "html_doc = '''<nav>\n",
    "<ul>\n",
    "<li><a href=\"/home\">Home</a></li>\n",
    "<li><a href=\"/about\">About</a></li>\n",
    "<li><a href=\"/catalog\">Catalog</a></li>\n",
    "<li><a href=\"/contact\">Contact us</a></li>\n",
    "</ul>\n",
    "<p class=\"title\">\n",
    "<b> Title </b>\n",
    "</p>\n",
    "<b>Item 1</b>\n",
    "<b>Item 2</b>\n",
    "<b>Item 3</b>\n",
    "</nav>'''\n",
    "```\n",
    "При помощи языка Python напишите строку кода, которая выводит второй тег <li>с помощью метода `.next_sibling`.\n",
    "```\n",
    "from bs4 import BeautifulSoup\n",
    "page = BeautifulSoup(...)        \n",
    "#ваш код здесь\n",
    "```"
   ],
   "metadata": {
    "collapsed": false
   },
   "id": "6638f9ecabf188a9"
  },
  {
   "cell_type": "code",
   "outputs": [
    {
     "name": "stdout",
     "output_type": "stream",
     "text": [
      "<li><a href=\"/about\">About</a></li>\n"
     ]
    }
   ],
   "source": [
    "from bs4 import BeautifulSoup\n",
    "\n",
    "html_doc = '''<nav>\n",
    "<ul>\n",
    "<li><a href=\"/home\">Home</a></li>\n",
    "<li><a href=\"/about\">About</a></li>\n",
    "<li><a href=\"/catalog\">Catalog</a></li>\n",
    "<li><a href=\"/contact\">Contact us</a></li>\n",
    "</ul>\n",
    "<p class=\"title\">\n",
    "<b> Title </b>\n",
    "</p>\n",
    "<b>Item 1</b>\n",
    "<b>Item 2</b>\n",
    "<b>Item 3</b>\n",
    "</nav>'''\n",
    "\n",
    "# Создание объекта BeautifulSoup, передав HTML-документ в конструктор\n",
    "page = BeautifulSoup(html_doc, 'html.parser')\n",
    "\n",
    "# Нахождение первого тега <li>\n",
    "first_li = page.find('li')\n",
    "\n",
    "# Пропуск текстовых и пустых узлов, чтобы найти второй тег <li>\n",
    "second_li = first_li.next_sibling\n",
    "while second_li and second_li.name != 'li':\n",
    "    second_li = second_li.next_sibling\n",
    "\n",
    "# Печать второго тега <li>\n",
    "print(second_li)"
   ],
   "metadata": {
    "collapsed": false,
    "ExecuteTime": {
     "end_time": "2024-06-26T20:51:13.706823300Z",
     "start_time": "2024-06-26T20:51:13.624855900Z"
    }
   },
   "id": "30fbb5d931e3d52f",
   "execution_count": 1
  },
  {
   "cell_type": "markdown",
   "source": [
    "2. Дан некий фрагмент HTML-документа:\n",
    "```\n",
    "html_doc = '''<nav>\n",
    "<ul>\n",
    "<li><a href=\"/home\">Home</a></li>\n",
    "<li><a href=\"/about\">About</a></li>\n",
    "<li><a href=\"/catalog\">Catalog</a></li>\n",
    "<li><a href=\"/contact\">Contact us</a></li>\n",
    "</ul>\n",
    "<p class=\"title\">\n",
    "<b> Title </b>\n",
    "</p>\n",
    "<b>Item 1</b>\n",
    "<b>Item 2</b>\n",
    "<b>Item 3</b>\n",
    "</nav>'''\n",
    "```\n",
    "При помощи языка Python напишите строку кода для получения всех тегов с помощью метода `.select()` (с помощью CSS селекторов), у которых аттрибут `href` из приведенного выше HTML-документа.\n",
    "```\n",
    "from bs4 import BeautifulSoup\n",
    "page = BeautifulSoup(html_doc, features='html.parser')\n",
    "#ваш код здесь\n",
    "```"
   ],
   "metadata": {
    "collapsed": false
   },
   "id": "60a049304c449794"
  },
  {
   "cell_type": "code",
   "outputs": [
    {
     "name": "stdout",
     "output_type": "stream",
     "text": [
      "<a href=\"/home\">Home</a>\n",
      "<a href=\"/about\">About</a>\n",
      "<a href=\"/catalog\">Catalog</a>\n",
      "<a href=\"/contact\">Contact us</a>\n"
     ]
    }
   ],
   "source": [
    "from bs4 import BeautifulSoup\n",
    "\n",
    "html_doc = '''<nav>\n",
    "<ul>\n",
    "<li><a href=\"/home\">Home</a></li>\n",
    "<li><a href=\"/about\">About</a></li>\n",
    "<li><a href=\"/catalog\">Catalog</a></li>\n",
    "<li><a href=\"/contact\">Contact us</a></li>\n",
    "</ul>\n",
    "<p class=\"title\">\n",
    "<b> Title </b>\n",
    "</p>\n",
    "<b>Item 1</b>\n",
    "<b>Item 2</b>\n",
    "<b>Item 3</b>\n",
    "</nav>'''\n",
    "\n",
    "# Создание объекта BeautifulSoup, передавая HTML-документ в конструктор\n",
    "page = BeautifulSoup(html_doc, features='html.parser')\n",
    "\n",
    "# Получение всех тегов, у которых есть атрибут href\n",
    "tags_with_href = page.select('[href]')\n",
    "\n",
    "# Печать найденных тегов\n",
    "for tag in tags_with_href:\n",
    "    print(tag)"
   ],
   "metadata": {
    "collapsed": false,
    "ExecuteTime": {
     "end_time": "2024-06-26T20:53:11.114789900Z",
     "start_time": "2024-06-26T20:53:11.102462900Z"
    }
   },
   "id": "da73a7b1767136bc",
   "execution_count": 2
  },
  {
   "cell_type": "markdown",
   "source": [
    "3. Дан некий фрагмент HTML-документа:\n",
    "```\n",
    "html_doc = '''<nav>\n",
    "<ul>\n",
    "<li><a href=\"/home\">Home</a></li>\n",
    "<li><a href=\"/about\">About</a></li>\n",
    "<li><a href=\"/catalog\">Catalog</a></li>\n",
    "<li><a href=\"/contact\">Contact us</a></li>\n",
    "</ul>\n",
    "<p class=\"title\">\n",
    "<b> Title </b>\n",
    "</p>\n",
    "<b>Item 1</b>\n",
    "<b>Item 2</b>\n",
    "<b>Item 3</b>\n",
    "</nav>'''\n",
    "```\n",
    "При помощи языка Python напишите строку кода для получения с помощью метода `.select()` (с помощью CSS селекторов) тех тегов из приведенного выше HTML-документа, имена которых НЕ `<ul>, <nav>, <li>` .\n",
    "```\n",
    "from bs4 import BeautifulSoup\n",
    "page = BeautifulSoup(html_doc, features='html.parser')\n",
    "#ваш код здесь\n",
    "```"
   ],
   "metadata": {
    "collapsed": false
   },
   "id": "74e4fb78a566d35"
  },
  {
   "cell_type": "code",
   "outputs": [
    {
     "data": {
      "text/plain": "[<a href=\"/home\">Home</a>,\n <a href=\"/about\">About</a>,\n <a href=\"/catalog\">Catalog</a>,\n <a href=\"/contact\">Contact us</a>,\n <p class=\"title\">\n <b> Title </b>\n </p>,\n <b> Title </b>,\n <b>Item 1</b>,\n <b>Item 2</b>,\n <b>Item 3</b>]"
     },
     "execution_count": 5,
     "metadata": {},
     "output_type": "execute_result"
    }
   ],
   "source": [
    "from bs4 import BeautifulSoup\n",
    "\n",
    "html_doc = '''<nav>\n",
    "<ul>\n",
    "<li><a href=\"/home\">Home</a></li>\n",
    "<li><a href=\"/about\">About</a></li>\n",
    "<li><a href=\"/catalog\">Catalog</a></li>\n",
    "<li><a href=\"/contact\">Contact us</a></li>\n",
    "</ul>\n",
    "<p class=\"title\">\n",
    "<b> Title </b>\n",
    "</p>\n",
    "<b>Item 1</b>\n",
    "<b>Item 2</b>\n",
    "<b>Item 3</b>\n",
    "</nav>'''\n",
    "\n",
    "# Создание объекта BeautifulSoup, передавая HTML-документ в конструктор\n",
    "page.select('*:not(ul, nav, li)')  "
   ],
   "metadata": {
    "collapsed": false,
    "ExecuteTime": {
     "end_time": "2024-06-26T20:57:28.844036400Z",
     "start_time": "2024-06-26T20:57:28.838215Z"
    }
   },
   "id": "fe4934c795277d84",
   "execution_count": 5
  },
  {
   "cell_type": "markdown",
   "source": [
    "4. Дан некий фрагмент HTML-документа:\n",
    "```\n",
    "html_doc = '''<nav>\n",
    "<ul>\n",
    "<li><a href=\"/home\">Home</a></li>\n",
    "<li><a href=\"/about\">About</a></li>\n",
    "<li><a href=\"/catalog\">Catalog</a></li>\n",
    "<li><a href=\"/contact\">Contact us</a></li>\n",
    "</ul>\n",
    "<p class=\"title\">\n",
    "<b> Title </b>\n",
    "</p>\n",
    "<b>Item 1</b>\n",
    "<b>Item 2</b>\n",
    "<b>Item 3</b>\n",
    "</nav>'''\n",
    "```\n",
    "При помощи языка Python напишите функцию get_tag_by_text(page,text), которая с помощью метода `next_sibling` выводит тег следующий за тегом с текстом `Item 1`. На вход функция получает объект `page` конструктора BeautifulSoup (в нашем случае `page = BeautifulSoup(html_doc, features='html.parser')` и текст тега `text` (в нашем случае `text = 'Item 1'`).\n",
    "```\n",
    "from bs4 import BeautifulSoup\n",
    "page = BeautifulSoup(html_doc, features='html.parser')\n",
    "text = 'Item 1'\n",
    "def get_tag_by_text(page,text):\n",
    "#ваш код здесь\n",
    "```"
   ],
   "metadata": {
    "collapsed": false
   },
   "id": "83c7275a5bdb2212"
  },
  {
   "cell_type": "code",
   "outputs": [
    {
     "name": "stdout",
     "output_type": "stream",
     "text": []
    }
   ],
   "source": [
    "from bs4 import BeautifulSoup\n",
    "\n",
    "html_doc = '''<nav>\n",
    "<ul>\n",
    "<li><a href=\"/home\">Home</a></li>\n",
    "<li><a href=\"/about\">About</a></li>\n",
    "<li><a href=\"/catalog\">Catalog</a></li>\n",
    "<li><a href=\"/contact\">Contact us</a></li>\n",
    "</ul>\n",
    "<p class=\"title\">\n",
    "<b> Title </b>\n",
    "</p>\n",
    "<b>Item 1</b>\n",
    "<b>Item 2</b>\n",
    "<b>Item 3</b>\n",
    "</nav>'''\n",
    "\n",
    "page = BeautifulSoup(html_doc, features='html.parser')\n",
    "text = 'Item 1'\n",
    "\n",
    "def get_tag_by_text(page, text):\n",
    "    # Найти тег с заданным текстом\n",
    "    tag_with_text = page.find(string=text)\n",
    "    \n",
    "    # Проверить, что найденный элемент не None и является строкой\n",
    "    if tag_with_text is not None:\n",
    "        # Переход к родительскому тегу\n",
    "        parent_tag = tag_with_text.parent\n",
    "        # Получение следующего соседнего элемента\n",
    "        next_tag = parent_tag.next_sibling\n",
    "        # Пропуск пустых или текстовых узлов\n",
    "        while next_tag and next_tag.name is None:\n",
    "            next_tag = next_tag.next_sibling\n",
    "        return next_tag\n",
    "    return None\n",
    "\n",
    "# Пример использования функции\n",
    "next_tag = get_tag_by_text(page, text)\n",
    "print(next_tag)"
   ],
   "metadata": {
    "collapsed": false,
    "ExecuteTime": {
     "end_time": "2024-06-26T21:04:22.911576800Z",
     "start_time": "2024-06-26T21:04:22.906534100Z"
    }
   },
   "id": "c99551c27dcc510a",
   "execution_count": 9
  },
  {
   "cell_type": "code",
   "outputs": [],
   "source": [
    "def get_tag_by_text(page,text):\n",
    "  for tag in page.find_all():  # перебираем все теги\n",
    "    if tag.string == text: # ищем совпадение текста\n",
    "      result = page.find(tag.name, string = text).next_sibling\n",
    "      return result"
   ],
   "metadata": {
    "collapsed": false
   },
   "id": "40ef8f9ab735283"
  }
 ],
 "metadata": {
  "kernelspec": {
   "display_name": "Python 3",
   "language": "python",
   "name": "python3"
  },
  "language_info": {
   "codemirror_mode": {
    "name": "ipython",
    "version": 2
   },
   "file_extension": ".py",
   "mimetype": "text/x-python",
   "name": "python",
   "nbconvert_exporter": "python",
   "pygments_lexer": "ipython2",
   "version": "2.7.6"
  }
 },
 "nbformat": 4,
 "nbformat_minor": 5
}
