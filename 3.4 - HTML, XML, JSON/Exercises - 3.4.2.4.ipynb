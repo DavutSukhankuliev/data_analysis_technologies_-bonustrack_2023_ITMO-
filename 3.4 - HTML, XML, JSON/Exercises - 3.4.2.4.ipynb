{
 "cells": [
  {
   "cell_type": "markdown",
   "source": [
    "1. С помощью языка Python отправьте запрос на получение информации с https://api.openrouteservice.org/v2/directions/ и введите полученный код ответа:\n"
   ],
   "metadata": {
    "collapsed": false
   },
   "id": "5dd1ed7ddb012c87"
  },
  {
   "cell_type": "code",
   "outputs": [
    {
     "name": "stdout",
     "output_type": "stream",
     "text": [
      "401\n"
     ]
    }
   ],
   "source": [
    "import requests\n",
    "response = requests.get('https://api.openrouteservice.org/v2/directions/')\n",
    "print(response.status_code)   "
   ],
   "metadata": {
    "collapsed": false,
    "ExecuteTime": {
     "end_time": "2024-06-27T19:55:56.835570900Z",
     "start_time": "2024-06-27T19:55:56.169219Z"
    }
   },
   "id": "593e3003d0776789",
   "execution_count": 2
  },
  {
   "cell_type": "markdown",
   "source": [
    "2. Информацию о рейтингах фильмов в формате XML можно получить в том числе и через сервис https://rating.kinopoisk.ru/***.xml (на место \"***\" необходимо подставить ID фильма). :\n",
    "\n",
    "С помощью языка Python отправьте GET запрос на указанный сервис для фильма с ID = 1411988. В ответе введите значение заголовка \"Content-Encoding\", полученного в ответном запросе."
   ],
   "metadata": {
    "collapsed": false
   },
   "id": "63b88561133e922d"
  },
  {
   "cell_type": "code",
   "outputs": [
    {
     "name": "stdout",
     "output_type": "stream",
     "text": [
      "gzip\n"
     ]
    }
   ],
   "source": [
    "import requests\n",
    "\n",
    "# ID фильма\n",
    "film_id = 1411988\n",
    "\n",
    "# Формируем URL для запроса\n",
    "url = f'https://rating.kinopoisk.ru/{film_id}.xml'\n",
    "\n",
    "# Отправка GET-запроса\n",
    "response = requests.get(url)\n",
    "\n",
    "# Получение значения заголовка \"Content-Encoding\"\n",
    "content_encoding = response.headers.get('Content-Encoding')\n",
    "\n",
    "# Вывод значения заголовка\n",
    "print(content_encoding)\n"
   ],
   "metadata": {
    "collapsed": false,
    "ExecuteTime": {
     "end_time": "2024-06-27T19:57:39.264084600Z",
     "start_time": "2024-06-27T19:57:38.562444900Z"
    }
   },
   "id": "c612c583c517658f",
   "execution_count": 3
  },
  {
   "cell_type": "markdown",
   "source": [
    "3. Информацию о рейтингах фильмов в формате XML можно получить в том числе и через сервис https://rating.kinopoisk.ru/***.xml (на место \"***\" необходимо подставить ID фильма).\n",
    "\n",
    "С помощью языка Python отправьте GET запрос на указанный сервис для фильма с ID = 1411988. Выберите промежуток для полученного в ответном запросе значения рейтинга пользователей сайта https://www.kinopoisk.ru/ (тег <kp_rating>)."
   ],
   "metadata": {
    "collapsed": false
   },
   "id": "2cf392da3fb23636"
  },
  {
   "cell_type": "code",
   "outputs": [
    {
     "name": "stdout",
     "output_type": "stream",
     "text": [
      "Rating from Kinopoisk: 6.042\n"
     ]
    }
   ],
   "source": [
    "import requests\n",
    "from bs4 import BeautifulSoup\n",
    "\n",
    "# ID фильма\n",
    "film_id = 1411988\n",
    "\n",
    "# Формируем URL для запроса\n",
    "url = f'https://rating.kinopoisk.ru/{film_id}.xml'\n",
    "\n",
    "# Отправка GET-запроса\n",
    "response = requests.get(url)\n",
    "\n",
    "# Обработка ответа как XML\n",
    "soup = BeautifulSoup(response.content, 'html.parser')\n",
    "\n",
    "# Извлечение значения тега <kp_rating>\n",
    "kp_rating_tag = soup.find('kp_rating')\n",
    "kp_rating = kp_rating_tag.get_text() if kp_rating_tag else 'Not found'\n",
    "\n",
    "# Вывод значения рейтинга\n",
    "print(f'Rating from Kinopoisk: {kp_rating}')"
   ],
   "metadata": {
    "collapsed": false,
    "ExecuteTime": {
     "end_time": "2024-06-27T19:59:59.033191500Z",
     "start_time": "2024-06-27T19:59:58.403834900Z"
    }
   },
   "id": "739161f504ecf4a8",
   "execution_count": 10
  },
  {
   "cell_type": "code",
   "outputs": [],
   "source": [],
   "metadata": {
    "collapsed": false
   },
   "id": "c37c067607ccd5e2"
  }
 ],
 "metadata": {
  "kernelspec": {
   "display_name": "Python 3",
   "language": "python",
   "name": "python3"
  },
  "language_info": {
   "codemirror_mode": {
    "name": "ipython",
    "version": 2
   },
   "file_extension": ".py",
   "mimetype": "text/x-python",
   "name": "python",
   "nbconvert_exporter": "python",
   "pygments_lexer": "ipython2",
   "version": "2.7.6"
  }
 },
 "nbformat": 4,
 "nbformat_minor": 5
}
