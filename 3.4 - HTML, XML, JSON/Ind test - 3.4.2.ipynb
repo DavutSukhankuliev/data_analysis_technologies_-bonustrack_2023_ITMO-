{
 "cells": [
  {
   "cell_type": "markdown",
   "source": [
    "С помощью языка Python получите данные о текущих курсах валют ЦБ РФ (https://www.cbr-xml-daily.ru/daily_json.js). Отсортируйте список валют в обратном алфавитном порядке (ключ \"CharCode\"), введите значение CharCode из такого списка для индекса 15:"
   ],
   "metadata": {
    "collapsed": false
   },
   "id": "5707838d3e62ccf6"
  },
  {
   "cell_type": "code",
   "outputs": [
    {
     "name": "stdout",
     "output_type": "stream",
     "text": [
      "CharCode валюты на индексе 15: PLN\n"
     ]
    }
   ],
   "source": [
    "import requests\n",
    "\n",
    "# URL для получения текущих курсов валют ЦБ РФ\n",
    "url = \"https://www.cbr-xml-daily.ru/daily_json.js\"\n",
    "\n",
    "# Выполнение GET-запроса\n",
    "response = requests.get(url)\n",
    "\n",
    "# Проверка успешности выполнения запроса\n",
    "if response.status_code == 200:\n",
    "    # Парсинг JSON-ответа\n",
    "    data = response.json()\n",
    "\n",
    "    # Получение коллекции \"Valute\"\n",
    "    valutes = data.get(\"Valute\", {})\n",
    "\n",
    "    # Извлечение списка валют с их CharCode\n",
    "    valutes_list = list(valutes.values())\n",
    "\n",
    "    # Сортировка списка валют в обратном алфавитном порядке по CharCode\n",
    "    sorted_valutes = sorted(valutes_list, key=lambda x: x[\"CharCode\"], reverse=True)\n",
    "\n",
    "    # Извлечение CharCode для валюты с индексом 15 (если индекс существует)\n",
    "    if len(sorted_valutes) > 15:\n",
    "        char_code_at_index_15 = sorted_valutes[15][\"CharCode\"]\n",
    "        print(f\"CharCode валюты на индексе 15: {char_code_at_index_15}\")\n",
    "    else:\n",
    "        print(\"Список валют слишком короткий для получения CharCode на индексе 15.\")\n",
    "else:\n",
    "    print(f\"Ошибка при запросе данных: {response.status_code}\")"
   ],
   "metadata": {
    "collapsed": false,
    "ExecuteTime": {
     "end_time": "2024-06-27T20:08:06.975731500Z",
     "start_time": "2024-06-27T20:08:06.426996300Z"
    }
   },
   "id": "f680f221966cb249",
   "execution_count": 1
  },
  {
   "cell_type": "code",
   "outputs": [],
   "source": [],
   "metadata": {
    "collapsed": false
   },
   "id": "fbc03b7cbf83a381"
  }
 ],
 "metadata": {
  "kernelspec": {
   "display_name": "Python 3",
   "language": "python",
   "name": "python3"
  },
  "language_info": {
   "codemirror_mode": {
    "name": "ipython",
    "version": 2
   },
   "file_extension": ".py",
   "mimetype": "text/x-python",
   "name": "python",
   "nbconvert_exporter": "python",
   "pygments_lexer": "ipython2",
   "version": "2.7.6"
  }
 },
 "nbformat": 4,
 "nbformat_minor": 5
}
