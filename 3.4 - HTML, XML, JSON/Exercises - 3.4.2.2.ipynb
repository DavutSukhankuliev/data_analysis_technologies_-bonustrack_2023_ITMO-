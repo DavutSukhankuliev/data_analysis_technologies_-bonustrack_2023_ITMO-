{
 "cells": [
  {
   "cell_type": "markdown",
   "source": [
    "1. Дан некий фрагмент JSON файла, взятого с сайта https://www.kinopoisk.ru:\n",
    "```\n",
    "data = '''{\"kinopoiskId\":1114973,\n",
    "\"nameRu\":\"Большое путешествие\",\n",
    "\"nameEn\":\"\",\n",
    "\"year\":2019,\n",
    "\"posterUrl\":\"https://kinopoiskapiunofficial.tech/images/posters/kp/1114973.jpg\",\n",
    "\"posterUrlPreview\":\"https://kinopoiskapiunofficial.tech/images/posters/kp_small/1114973.jpg\",\n",
    "\"countries\":[{\"country\":\"Россия\"},{\"country\":\"США\"}],\n",
    "\"genres\":[{\"genre\":\"мультфильм\"},{\"genre\":\"комедия\"},{\"genre\":\"приключения\"}],\n",
    "\"duration\":80,\n",
    "\"premiereRu\":\"2022-08-04\"}'''\n",
    "```\n",
    "С помощью языка Python переведите указанный выше фрагмент JSON файла в объект (словарь) Python `data_json`:\n",
    "```\n",
    "import json\n",
    "data = \"\"\"{\"kinopoiskId\":1114973,\"nameRu\":\"Большое путешествие\",\n",
    "        \"nameEn\":\"\",\"year\":2019,\"posterUrl\":\"https://kinopoiskapiunofficial.tech/images/posters/kp/1114973.jpg\",\n",
    "        \"posterUrlPreview\":\"https://kinopoiskapiunofficial.tech/images/posters/kp_small/1114973.jpg\",\"countries\":[{\"country\":\"Россия\"},{\"country\":\"США\"}],\"genres\":[{\"genre\":\"мультфильм\"},{\"genre\":\"комедия\"},{\"genre\":\"приключения\"}],\"duration\":80,\"premiereRu\":\"2022-08-04\"}\"\"\"\n",
    "data_json =  #ваш код здесь\n",
    "```"
   ],
   "metadata": {
    "collapsed": false
   },
   "id": "1cc2f37cf76a0301"
  },
  {
   "cell_type": "code",
   "outputs": [
    {
     "name": "stdout",
     "output_type": "stream",
     "text": [
      "{'kinopoiskId': 1114973, 'nameRu': 'Большое путешествие', 'nameEn': '', 'year': 2019, 'posterUrl': 'https://kinopoiskapiunofficial.tech/images/posters/kp/1114973.jpg', 'posterUrlPreview': 'https://kinopoiskapiunofficial.tech/images/posters/kp_small/1114973.jpg', 'countries': [{'country': 'Россия'}, {'country': 'США'}], 'genres': [{'genre': 'мультфильм'}, {'genre': 'комедия'}, {'genre': 'приключения'}], 'duration': 80, 'premiereRu': '2022-08-04'}\n"
     ]
    }
   ],
   "source": [
    "import json\n",
    "\n",
    "data = '''{\"kinopoiskId\":1114973,\n",
    "\"nameRu\":\"Большое путешествие\",\n",
    "\"nameEn\":\"\",\n",
    "\"year\":2019,\n",
    "\"posterUrl\":\"https://kinopoiskapiunofficial.tech/images/posters/kp/1114973.jpg\",\n",
    "\"posterUrlPreview\":\"https://kinopoiskapiunofficial.tech/images/posters/kp_small/1114973.jpg\",\n",
    "\"countries\":[{\"country\":\"Россия\"},{\"country\":\"США\"}],\n",
    "\"genres\":[{\"genre\":\"мультфильм\"},{\"genre\":\"комедия\"},{\"genre\":\"приключения\"}],\n",
    "\"duration\":80,\n",
    "\"premiereRu\":\"2022-08-04\"}'''\n",
    "\n",
    "# Преобразование JSON строки в Python словарь\n",
    "data_json = json.loads(data)\n",
    "\n",
    "# Печать полученного словаря\n",
    "print(data_json)"
   ],
   "metadata": {
    "collapsed": false,
    "ExecuteTime": {
     "end_time": "2024-06-27T19:42:27.476778500Z",
     "start_time": "2024-06-27T19:42:27.460229400Z"
    }
   },
   "id": "5ad8e9e324f85923",
   "execution_count": 1
  },
  {
   "cell_type": "markdown",
   "source": [
    "2. Дан некий фрагмент JSON файла, взятого с сайта https://www.kinopoisk.ru:\n",
    "```\n",
    "data = '''{\"kinopoiskId\":1114973,\n",
    "\"nameRu\":\"Большое путешествие\",\n",
    "\"nameEn\":\"\",\n",
    "\"year\":2019,\n",
    "\"posterUrl\":\"https://kinopoiskapiunofficial.tech/images/posters/kp/1114973.jpg\",\n",
    "\"posterUrlPreview\":\"https://kinopoiskapiunofficial.tech/images/posters/kp_small/1114973.jpg\",\n",
    "\"countries\":[{\"country\":\"Россия\"},{\"country\":\"США\"}],\n",
    "\"genres\":[{\"genre\":\"мультфильм\"},{\"genre\":\"комедия\"},{\"genre\":\"приключения\"}],\n",
    "\"duration\":80,\n",
    "\"premiereRu\":\"2022-08-04\"}'''\n",
    "```\n",
    "С помощью языка Python из полученного в предыдущем задании словаря `data_json` выведите список жанров фильма (`['мультфильм', 'комедия', 'приключения']`).\n",
    "```  \n",
    "import json\n",
    " #ваш код здесь\n",
    "```"
   ],
   "metadata": {
    "collapsed": false
   },
   "id": "73fe8a22dccc0495"
  },
  {
   "cell_type": "code",
   "outputs": [
    {
     "name": "stdout",
     "output_type": "stream",
     "text": [
      "['мультфильм', 'комедия', 'приключения']\n"
     ]
    }
   ],
   "source": [
    "import json\n",
    "\n",
    "# Исходный JSON\n",
    "data = '''{\"kinopoiskId\":1114973,\n",
    "\"nameRu\":\"Большое путешествие\",\n",
    "\"nameEn\":\"\",\n",
    "\"year\":2019,\n",
    "\"posterUrl\":\"https://kinopoiskapiunofficial.tech/images/posters/kp/1114973.jpg\",\n",
    "\"posterUrlPreview\":\"https://kinopoiskapiunofficial.tech/images/posters/kp_small/1114973.jpg\",\n",
    "\"countries\":[{\"country\":\"Россия\"},{\"country\":\"США\"}],\n",
    "\"genres\":[{\"genre\":\"мультфильм\"},{\"genre\":\"комедия\"},{\"genre\":\"приключения\"}],\n",
    "\"duration\":80,\n",
    "\"premiereRu\":\"2022-08-04\"}'''\n",
    "\n",
    "# Преобразование JSON строки в Python словарь\n",
    "data_json = json.loads(data)\n",
    "\n",
    "# Извлечение списка жанров\n",
    "genres_list = [genre['genre'] for genre in data_json['genres']]\n",
    "\n",
    "# Печать списка жанров\n",
    "print(genres_list)"
   ],
   "metadata": {
    "collapsed": false,
    "ExecuteTime": {
     "end_time": "2024-06-27T19:43:52.305655500Z",
     "start_time": "2024-06-27T19:43:52.289616400Z"
    }
   },
   "id": "9ca7dfab2eefdd13",
   "execution_count": 2
  },
  {
   "cell_type": "markdown",
   "source": [
    "3. Дан некий фрагмент JSON файла, взятого с сайта https://www.kinopoisk.ru:\n",
    "```\n",
    "data = '''{\"kinopoiskId\":1114973,\n",
    "\"nameRu\":\"Большое путешествие\",\n",
    "\"nameEn\":\"\",\n",
    "\"year\":2019,\n",
    "\"posterUrl\":\"https://kinopoiskapiunofficial.tech/images/posters/kp/1114973.jpg\",\n",
    "\"posterUrlPreview\":\"https://kinopoiskapiunofficial.tech/images/posters/kp_small/1114973.jpg\",\n",
    "\"countries\":[{\"country\":\"Россия\"},{\"country\":\"США\"}],\n",
    "\"genres\":[{\"genre\":\"мультфильм\"},{\"genre\":\"комедия\"},{\"genre\":\"приключения\"}],\n",
    "\"duration\":80,\n",
    "\"premiereRu\":\"2022-08-04\"}'''\n",
    "```\n",
    "С помощью языка Python реализуйте функцию `new_name(data)`, которая при трансформации данного JSON файла в объект Python присвоит значение `\"The Big Trip\"` ключу `\"nameEn\"` (эту функцию можно использовать в качестве параметра `object_hook` метода `.loads()`).\n",
    "```\n",
    "import json\n",
    "def new_name(data):\n",
    " #ваш код здесь\n",
    "      \n",
    "json.loads(data, object_hook = lambda dict: new_name(dict))\n",
    "```"
   ],
   "metadata": {
    "collapsed": false
   },
   "id": "c5f91469e06a116b"
  },
  {
   "cell_type": "code",
   "outputs": [
    {
     "name": "stdout",
     "output_type": "stream",
     "text": [
      "{'kinopoiskId': 1114973, 'nameRu': 'Большое путешествие', 'nameEn': 'The Big Trip', 'year': 2019, 'posterUrl': 'https://kinopoiskapiunofficial.tech/images/posters/kp/1114973.jpg', 'posterUrlPreview': 'https://kinopoiskapiunofficial.tech/images/posters/kp_small/1114973.jpg', 'countries': [{'country': 'Россия'}, {'country': 'США'}], 'genres': [{'genre': 'мультфильм'}, {'genre': 'комедия'}, {'genre': 'приключения'}], 'duration': 80, 'premiereRu': '2022-08-04'}\n"
     ]
    }
   ],
   "source": [
    "import json\n",
    "\n",
    "# Исходный JSON\n",
    "data = '''{\"kinopoiskId\":1114973,\n",
    "\"nameRu\":\"Большое путешествие\",\n",
    "\"nameEn\":\"\",\n",
    "\"year\":2019,\n",
    "\"posterUrl\":\"https://kinopoiskapiunofficial.tech/images/posters/kp/1114973.jpg\",\n",
    "\"posterUrlPreview\":\"https://kinopoiskapiunofficial.tech/images/posters/kp_small/1114973.jpg\",\n",
    "\"countries\":[{\"country\":\"Россия\"},{\"country\":\"США\"}],\n",
    "\"genres\":[{\"genre\":\"мультфильм\"},{\"genre\":\"комедия\"},{\"genre\":\"приключения\"}],\n",
    "\"duration\":80,\n",
    "\"premiereRu\":\"2022-08-04\"}'''\n",
    "\n",
    "# Функция для присвоения нового значения ключу \"nameEn\"\n",
    "def new_name(obj):\n",
    "    if \"nameEn\" in obj:\n",
    "        obj[\"nameEn\"] = \"The Big Trip\"\n",
    "    return obj\n",
    "\n",
    "# Преобразование JSON строки в Python словарь с использованием object_hook\n",
    "data_json = json.loads(data, object_hook=new_name)\n",
    "\n",
    "# Печать обновленного словаря\n",
    "print(data_json)"
   ],
   "metadata": {
    "collapsed": false,
    "ExecuteTime": {
     "end_time": "2024-06-27T19:47:07.968979100Z",
     "start_time": "2024-06-27T19:47:07.956897500Z"
    }
   },
   "id": "6c3e54e51491eb65",
   "execution_count": 3
  },
  {
   "cell_type": "code",
   "outputs": [
    {
     "name": "stdout",
     "output_type": "stream",
     "text": [
      "{'kinopoiskId': 1114973, 'nameRu': 'Большое путешествие', 'nameEn': 'The Big Trip', 'year': 2019, 'posterUrl': 'https://kinopoiskapiunofficial.tech/images/posters/kp/1114973.jpg', 'posterUrlPreview': 'https://kinopoiskapiunofficial.tech/images/posters/kp_small/1114973.jpg', 'countries': [{'country': 'Россия', 'nameEn': 'The Big Trip'}, {'country': 'США', 'nameEn': 'The Big Trip'}], 'genres': [{'genre': 'мультфильм', 'nameEn': 'The Big Trip'}, {'genre': 'комедия', 'nameEn': 'The Big Trip'}, {'genre': 'приключения', 'nameEn': 'The Big Trip'}], 'duration': 80, 'premiereRu': '2022-08-04'}\n"
     ]
    }
   ],
   "source": [
    "import json\n",
    "\n",
    "# Исходный JSON\n",
    "data = '''{\"kinopoiskId\":1114973,\n",
    "\"nameRu\":\"Большое путешествие\",\n",
    "\"nameEn\":\"\",\n",
    "\"year\":2019,\n",
    "\"posterUrl\":\"https://kinopoiskapiunofficial.tech/images/posters/kp/1114973.jpg\",\n",
    "\"posterUrlPreview\":\"https://kinopoiskapiunofficial.tech/images/posters/kp_small/1114973.jpg\",\n",
    "\"countries\":[{\"country\":\"Россия\"},{\"country\":\"США\"}],\n",
    "\"genres\":[{\"genre\":\"мультфильм\"},{\"genre\":\"комедия\"},{\"genre\":\"приключения\"}],\n",
    "\"duration\":80,\n",
    "\"premiereRu\":\"2022-08-04\"}'''\n",
    "\n",
    "def new_name(data):  \n",
    "  data[\"nameEn\"] = \"The Big Trip\" \n",
    "  return data   \n",
    "\n",
    "data_json = json.loads(data, object_hook=new_name)\n",
    "\n",
    "# Печать обновленного словаря\n",
    "print(data_json)"
   ],
   "metadata": {
    "collapsed": false,
    "ExecuteTime": {
     "end_time": "2024-06-27T19:47:50.773841300Z",
     "start_time": "2024-06-27T19:47:50.762230300Z"
    }
   },
   "id": "ec9aa03350058d68",
   "execution_count": 4
  },
  {
   "cell_type": "markdown",
   "source": [
    "4. Дан некий словарь Python (курс австралийского доллара на определенную дату с сайта https://www.cbr-xml-daily.ru :\n",
    "```\n",
    "dict = {'Valute': {'AUD': {'ID': 'R01010', 'NumCode': '036', 'CharCode': 'AUD', 'Nominal': 1, 'Name': 'Australian dollar', 'Value': 53.6845, 'Previous': 51.9388}}}\n",
    "```\n",
    "С помощью языка Python трансформируйте данный словарь в объект JSON, отсортировав по ключам.\n",
    "```\n",
    "import json\n",
    "dict_json = #ваш код здесь\n",
    "```"
   ],
   "metadata": {
    "collapsed": false
   },
   "id": "c8095fd6fdf4847b"
  },
  {
   "cell_type": "code",
   "outputs": [
    {
     "name": "stdout",
     "output_type": "stream",
     "text": [
      "{\"Valute\": {\"AUD\": {\"CharCode\": \"AUD\", \"ID\": \"R01010\", \"Name\": \"Australian dollar\", \"Nominal\": 1, \"NumCode\": \"036\", \"Previous\": 51.9388, \"Value\": 53.6845}}}\n"
     ]
    }
   ],
   "source": [
    "import json\n",
    "\n",
    "# Исходный словарь\n",
    "dict = {'Valute': {'AUD': {'ID': 'R01010', 'NumCode': '036', 'CharCode': 'AUD', 'Nominal': 1, 'Name': 'Australian dollar', 'Value': 53.6845, 'Previous': 51.9388}}}\n",
    "\n",
    "# Преобразование словаря в объект JSON с сортировкой по ключам\n",
    "dict_json = json.dumps(dict, sort_keys=True, ensure_ascii=False, indent=4)\n",
    "\n",
    "# Печать JSON строки\n",
    "print(dict_json)"
   ],
   "metadata": {
    "collapsed": false,
    "ExecuteTime": {
     "end_time": "2024-06-27T19:49:57.654520300Z",
     "start_time": "2024-06-27T19:49:57.634516500Z"
    }
   },
   "id": "c7a7aa7d6357fbe9",
   "execution_count": 7
  },
  {
   "cell_type": "markdown",
   "source": [
    "5. Дан некий файл `kinopoisk_example.json` формата JSON , взятый с сайта https://www.kinopoisk.ru:\n",
    "\n",
    "С помощью языка Python прочитайте данный файл, предварительно загрузив его во временное хранилище Google Colab или на Google disk), выведите список продолжительности каждого фильма (ключ `duration`) через запятую (например, 102, 120, 90)"
   ],
   "metadata": {
    "collapsed": false
   },
   "id": "3cdd137ee4331b6a"
  },
  {
   "cell_type": "code",
   "outputs": [
    {
     "name": "stdout",
     "output_type": "stream",
     "text": [
      "80, 101, 82, 112, 92, 80, 103, 93, 114, 90, 107, 86, 90, 99, 97, 98, 100, 89, 105, 90, 160, 41, 103, 103, 126, 85, 143, 90, 106, 86, 117, 85, 76, 122, 100, 119, 47, 32, 140, 95, 122, 93, 90, 102, 75, 96, 89, 106, 85, 85, 86, None, 183\n"
     ]
    }
   ],
   "source": [
    "import json\n",
    "\n",
    "# Путь к файлу на Google Colab или Google Drive\n",
    "file_path = 'Exercises - 3.4.2 kinopoisk_example.json'\n",
    "\n",
    "# Чтение содержимого файла\n",
    "with open(file_path, 'r', encoding='utf-8') as file:\n",
    "    data = json.load(file)\n",
    "\n",
    "# Извлечение значений продолжительности (duration)\n",
    "durations = [str(item['duration']) for item in data['items'] if 'duration' in item]\n",
    "\n",
    "# Вывод значений через запятую\n",
    "print(', '.join(durations))\n"
   ],
   "metadata": {
    "collapsed": false,
    "ExecuteTime": {
     "end_time": "2024-06-27T19:52:34.762741600Z",
     "start_time": "2024-06-27T19:52:34.745582900Z"
    }
   },
   "id": "51630a5437a5e2b7",
   "execution_count": 8
  },
  {
   "cell_type": "code",
   "outputs": [],
   "source": [],
   "metadata": {
    "collapsed": false
   },
   "id": "cffdce88da6e11ae"
  }
 ],
 "metadata": {
  "kernelspec": {
   "display_name": "Python 3",
   "language": "python",
   "name": "python3"
  },
  "language_info": {
   "codemirror_mode": {
    "name": "ipython",
    "version": 2
   },
   "file_extension": ".py",
   "mimetype": "text/x-python",
   "name": "python",
   "nbconvert_exporter": "python",
   "pygments_lexer": "ipython2",
   "version": "2.7.6"
  }
 },
 "nbformat": 4,
 "nbformat_minor": 5
}
