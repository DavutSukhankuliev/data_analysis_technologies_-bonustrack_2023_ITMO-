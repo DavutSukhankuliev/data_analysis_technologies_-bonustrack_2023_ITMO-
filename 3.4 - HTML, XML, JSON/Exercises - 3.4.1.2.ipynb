{
 "cells": [
  {
   "cell_type": "markdown",
   "source": [
    "2. При помощи Python реализуйте функцию с именем `re_match(str)`, которая находит в строке `str` год (например, 2023) с помощью функции `.match()`. На выходе должны получать значение года. Например, результатом выполнения `re_match(\"2023 год\")` должен быть `2023`, а для `re_match(\"год 2023\")` - `None`. Обратите внимание, что функция должна выдавать `None`, если строка начинается не с года.\n",
    "```\n",
    "import re\n",
    "def re_match(str):\n",
    "```"
   ],
   "metadata": {
    "collapsed": false
   },
   "id": "e45b1dec2fe0c3d6"
  },
  {
   "cell_type": "code",
   "outputs": [
    {
     "name": "stdout",
     "output_type": "stream",
     "text": [
      "2023\n",
      "None\n"
     ]
    }
   ],
   "source": [
    "import re\n",
    "\n",
    "def re_match(str):\n",
    "    # Регулярное выражение для нахождения четырех цифр в начале строки\n",
    "    pattern = r\"^\\d{4}\"\n",
    "    \n",
    "    # Используем метод match для поиска совпадения в начале строки\n",
    "    match = re.match(pattern, str)\n",
    "    \n",
    "    # Если совпадение найдено, возвращаем найденный год\n",
    "    if match:\n",
    "        return int(match.group())\n",
    "    else:\n",
    "        return None\n",
    "\n",
    "# Примеры использования функции\n",
    "print(re_match(\"2023 год\"))  # Вывод: 2023\n",
    "print(re_match(\"год 2023\"))  # Вывод: None"
   ],
   "metadata": {
    "collapsed": false,
    "ExecuteTime": {
     "end_time": "2024-06-26T20:27:27.990814800Z",
     "start_time": "2024-06-26T20:27:27.973479200Z"
    }
   },
   "id": "11a9e9b05cd41048",
   "execution_count": 1
  },
  {
   "cell_type": "code",
   "outputs": [
    {
     "name": "stdout",
     "output_type": "stream",
     "text": [
      "2023\n",
      "None\n"
     ]
    }
   ],
   "source": [
    "import re\n",
    "\n",
    "def re_match(str):\n",
    "    # Используем метод match для поиска совпадения в начале строки\n",
    "    match = re.match(r'^\\d{4}', str)\n",
    "    \n",
    "    # Если совпадение найдено, возвращаем найденный год\n",
    "    if match:\n",
    "        return int(match.group())\n",
    "    return None\n",
    "\n",
    "# Примеры использования функции\n",
    "print(re_match(\"2023 год\"))  # Вывод: 2023\n",
    "print(re_match(\"год 2023\"))  # Вывод: None"
   ],
   "metadata": {
    "collapsed": false,
    "ExecuteTime": {
     "end_time": "2024-06-26T20:29:09.279986300Z",
     "start_time": "2024-06-26T20:29:09.271434100Z"
    }
   },
   "id": "6272929df1439071",
   "execution_count": 5
  },
  {
   "cell_type": "markdown",
   "source": [
    "3. При помощи Python реализуйте функцию с именем `re_all(str)`, которая находит в строке `str` количество вхождений годов, начинающихся с `19`. Например, результатом выполнения `re_all(\"1908, 2000, 1897,1913,2023 года\")` должно быть число `2` (1908, 1913)."
   ],
   "metadata": {
    "collapsed": false
   },
   "id": "f8f209091aac8c9"
  },
  {
   "cell_type": "code",
   "outputs": [
    {
     "name": "stdout",
     "output_type": "stream",
     "text": [
      "2\n",
      "3\n"
     ]
    }
   ],
   "source": [
    "import re\n",
    "\n",
    "def re_all(str):\n",
    "    # Регулярное выражение для нахождения годов, начинающихся с `19`\n",
    "    pattern = r\"\\b19\\d{2}\\b\"\n",
    "    \n",
    "    # Используем метод findall для поиска всех совпадений в строке\n",
    "    matches = re.findall(pattern, str)\n",
    "    \n",
    "    # Возвращаем количество найденных совпадений\n",
    "    return len(matches)\n",
    "\n",
    "# Примеры использования функции\n",
    "print(re_all(\"1908, 2000, 1897,1913,2023 года\"))  # Вывод: 2 (1908, 1913)\n",
    "print(re_all(\"1950, 1800, 1999, 2001, 1975\"))      # Вывод: 3 (1950, 1999, 1975)"
   ],
   "metadata": {
    "collapsed": false,
    "ExecuteTime": {
     "end_time": "2024-06-26T20:30:35.520643500Z",
     "start_time": "2024-06-26T20:30:35.505594800Z"
    }
   },
   "id": "1e8e1564096ca8be",
   "execution_count": 6
  },
  {
   "cell_type": "markdown",
   "source": [
    "4. Необходимо преобразовать выражение \"Смелый человек совершает смелые поступки. Но смелые поступки не всегда делают его героем.» так, чтобы избежать повтора слова \"смелые\". Вместо него подставить \"такие\" во втором предложении. При помощи Python реализуйте функцию с именем `replace(str, word1, word2)`, которая выполнит необходимые преобразования в нашем выражении. `word1` - слово, которое необходимо заменить, а `word2` - на которое заменить. На выходе мы должны получить измененный текст."
   ],
   "metadata": {
    "collapsed": false
   },
   "id": "196cb9256fd05fd9"
  },
  {
   "cell_type": "code",
   "outputs": [
    {
     "name": "stdout",
     "output_type": "stream",
     "text": [
      "Смелый человек совершает смелые поступки. Но такие поступки не всегда делают его героем.\n"
     ]
    }
   ],
   "source": [
    "def replace(str, word1, word2):\n",
    "    # Разделяем текст на предложения\n",
    "    sentences = str.split('. ')\n",
    "    \n",
    "    # Обрабатываем каждое предложение\n",
    "    for i in range(1, len(sentences)):\n",
    "        # Если предложение содержит слово для замены\n",
    "        if word1 in sentences[i]:\n",
    "            # Заменяем первое вхождение слова\n",
    "            sentences[i] = sentences[i].replace(word1, word2, 1)\n",
    "            break\n",
    "    \n",
    "    # Соединим предложения обратно в текст\n",
    "    result = '. '.join(sentences)\n",
    "    \n",
    "    # Обратите внимание, что точка в конце предложения также важна\n",
    "    if not result.endswith('.'):\n",
    "        result += '.'\n",
    "    \n",
    "    return result\n",
    "\n",
    "# Пример использования функции\n",
    "original_text = \"Смелый человек совершает смелые поступки. Но смелые поступки не всегда делают его героем.\"\n",
    "result_text = replace(original_text, \"смелые\", \"такие\")\n",
    "\n",
    "print(result_text)  # Вывод: \"Смелый человек совершает смелые поступки. Но такие поступки не всегда делают его героем.\""
   ],
   "metadata": {
    "collapsed": false,
    "ExecuteTime": {
     "end_time": "2024-06-26T20:32:14.243601700Z",
     "start_time": "2024-06-26T20:32:14.237007300Z"
    }
   },
   "id": "7e6769b6e2f839f1",
   "execution_count": 7
  },
  {
   "cell_type": "code",
   "outputs": [],
   "source": [],
   "metadata": {
    "collapsed": false
   },
   "id": "3535bede3d1d533"
  }
 ],
 "metadata": {
  "kernelspec": {
   "display_name": "Python 3",
   "language": "python",
   "name": "python3"
  },
  "language_info": {
   "codemirror_mode": {
    "name": "ipython",
    "version": 2
   },
   "file_extension": ".py",
   "mimetype": "text/x-python",
   "name": "python",
   "nbconvert_exporter": "python",
   "pygments_lexer": "ipython2",
   "version": "2.7.6"
  }
 },
 "nbformat": 4,
 "nbformat_minor": 5
}
