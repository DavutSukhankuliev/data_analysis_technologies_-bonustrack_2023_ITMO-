{
 "cells": [
  {
   "cell_type": "markdown",
   "source": [
    "1. Дан некий фрагмент HTML-документа:\n",
    "```\n",
    "html_doc = '''<nav>\n",
    "  \t<ul>\n",
    "  \t\t\t<li><a href=\"/home\">Home</a></li>\n",
    "  \t\t\t<li><a href=\"/about\">About</a></li>\n",
    "  \t\t\t<li><a href=\"/catalog\">Catalog</a></li>\n",
    "  \t\t\t<li><a href=\"/contact\">Contact us</a></li>\n",
    "  \t</ul>\n",
    "  \t<p class=\"title\"><b> Title </b></p>\n",
    "  \t<b>Item 1</b>\n",
    "  \t<b>Item 2</b>\n",
    "  \t<b>Item 3</b>\n",
    "</nav>'''\n",
    "```\n",
    "При помощи Python создайте соответсвующий объект `page`, получающийся в результате передачи данного HTML-документа в конструктор класса `BeautifulSoup()`.\n",
    "```\n",
    "from bs4 import BeautifulSoup\n",
    "page = #ваш код здесь\n",
    "```"
   ],
   "metadata": {
    "collapsed": false
   },
   "id": "37ce199e00256684"
  },
  {
   "cell_type": "code",
   "outputs": [
    {
     "name": "stdout",
     "output_type": "stream",
     "text": [
      "<nav>\n",
      " <ul>\n",
      "  <li>\n",
      "   <a href=\"/home\">\n",
      "    Home\n",
      "   </a>\n",
      "  </li>\n",
      "  <li>\n",
      "   <a href=\"/about\">\n",
      "    About\n",
      "   </a>\n",
      "  </li>\n",
      "  <li>\n",
      "   <a href=\"/catalog\">\n",
      "    Catalog\n",
      "   </a>\n",
      "  </li>\n",
      "  <li>\n",
      "   <a href=\"/contact\">\n",
      "    Contact us\n",
      "   </a>\n",
      "  </li>\n",
      " </ul>\n",
      " <p class=\"title\">\n",
      "  <b>\n",
      "   Title\n",
      "  </b>\n",
      " </p>\n",
      " <b>\n",
      "  Item 1\n",
      " </b>\n",
      " <b>\n",
      "  Item 2\n",
      " </b>\n",
      " <b>\n",
      "  Item 3\n",
      " </b>\n",
      "</nav>\n"
     ]
    }
   ],
   "source": [
    "from bs4 import BeautifulSoup\n",
    "\n",
    "html_doc = '''<nav>\n",
    "      <ul>\n",
    "              <li><a href=\"/home\">Home</a></li>\n",
    "              <li><a href=\"/about\">About</a></li>\n",
    "              <li><a href=\"/catalog\">Catalog</a></li>\n",
    "              <li><a href=\"/contact\">Contact us</a></li>\n",
    "      </ul>\n",
    "      <p class=\"title\"><b> Title </b></p>\n",
    "      <b>Item 1</b>\n",
    "      <b>Item 2</b>\n",
    "      <b>Item 3</b>\n",
    "</nav>'''\n",
    "\n",
    "# Создание объекта BeautifulSoup, передав HTML-документ в конструктор\n",
    "page = BeautifulSoup(html_doc, 'html.parser')\n",
    "\n",
    "# Печать объектов, чтобы убедиться в корректности\n",
    "print(page.prettify())"
   ],
   "metadata": {
    "collapsed": false,
    "ExecuteTime": {
     "end_time": "2024-06-26T20:39:24.778838300Z",
     "start_time": "2024-06-26T20:39:24.683107400Z"
    }
   },
   "id": "6bf8e1745a0d7f17",
   "execution_count": 1
  },
  {
   "cell_type": "markdown",
   "source": [
    "2. Дан некий фрагмент HTML-документа:\n",
    "```\n",
    "html_doc = '''<nav>\n",
    "<ul>\n",
    "<li><a href=\"/home\">Home</a></li>\n",
    "<li><a href=\"/about\">About</a></li>\n",
    "<li><a href=\"/catalog\">Catalog</a></li>\n",
    "<li><a href=\"/contact\">Contact us</a></li>\n",
    "</ul>\n",
    "<p class=\"title\">\n",
    "<b> Title </b>\n",
    "</p>\n",
    "<b>Item 1</b>\n",
    "<b>Item 2</b>\n",
    "<b>Item 3</b>\n",
    "</nav>'''\n",
    "```\n",
    "При помощи Python напишите строку кода, которая выводит текст первого тега <li>.\n",
    "```\n",
    "from bs4 import BeautifulSoup\n",
    "page = BeautifulSoup(...)        \n",
    "#ваш код здесь\n",
    "```"
   ],
   "metadata": {
    "collapsed": false
   },
   "id": "708a0bd31be03020"
  },
  {
   "cell_type": "code",
   "outputs": [
    {
     "name": "stdout",
     "output_type": "stream",
     "text": [
      "Home\n"
     ]
    }
   ],
   "source": [
    "from bs4 import BeautifulSoup\n",
    "\n",
    "html_doc = '''<nav>\n",
    "<ul>\n",
    "<li><a href=\"/home\">Home</a></li>\n",
    "<li><a href=\"/about\">About</a></li>\n",
    "<li><a href=\"/catalog\">Catalog</a></li>\n",
    "<li><a href=\"/contact\">Contact us</a></li>\n",
    "</ul>\n",
    "<p class=\"title\">\n",
    "<b> Title </b>\n",
    "</p>\n",
    "<b>Item 1</b>\n",
    "<b>Item 2</b>\n",
    "<b>Item 3</b>\n",
    "</nav>'''\n",
    "\n",
    "# Создание объекта BeautifulSoup, передав HTML-документ в конструктор\n",
    "page = BeautifulSoup(html_doc, 'html.parser')\n",
    "\n",
    "# Извлечение текста первого тега <li>\n",
    "first_li_text = page.find('li').get_text()\n",
    "\n",
    "# Печать текста первого тега <li>\n",
    "print(first_li_text)"
   ],
   "metadata": {
    "collapsed": false,
    "ExecuteTime": {
     "end_time": "2024-06-26T20:41:30.621475400Z",
     "start_time": "2024-06-26T20:41:30.605920200Z"
    }
   },
   "id": "964319808ca3fee",
   "execution_count": 2
  },
  {
   "cell_type": "markdown",
   "source": [
    "3. Дан некий фрагмент HTML-документа:\n",
    "```\n",
    "html_doc = '''<nav>\n",
    "<ul>\n",
    "<li><a href=\"/home\">Home</a></li>\n",
    "<li><a href=\"/about\">About</a></li>\n",
    "<li><a href=\"/catalog\">Catalog</a></li>\n",
    "<li><a href=\"/contact\">Contact us</a></li>\n",
    "</ul>\n",
    "<p class=\"title\">\n",
    "<b> Title </b>\n",
    "</p>\n",
    "<b>Item 1</b>\n",
    "<b>Item 2</b>\n",
    "<b>Item 3</b>\n",
    "</nav>'''\n",
    "```\n",
    "При помощи языка Python напишите код, который выводит все значения тега <li>.\n",
    "```\n",
    "from bs4 import BeautifulSoup\n",
    "page = BeautifulSoup(...)        \n",
    "#ваш код здесь\n",
    "```"
   ],
   "metadata": {
    "collapsed": false
   },
   "id": "e2574f7d78de3ac6"
  },
  {
   "cell_type": "code",
   "outputs": [
    {
     "name": "stdout",
     "output_type": "stream",
     "text": [
      "Home\n",
      "About\n",
      "Catalog\n",
      "Contact us\n"
     ]
    }
   ],
   "source": [
    "from bs4 import BeautifulSoup\n",
    "\n",
    "html_doc = '''<nav>\n",
    "<ul>\n",
    "<li><a href=\"/home\">Home</a></li>\n",
    "<li><a href=\"/about\">About</a></li>\n",
    "<li><a href=\"/catalog\">Catalog</a></li>\n",
    "<li><a href=\"/contact\">Contact us</a></li>\n",
    "</ul>\n",
    "<p class=\"title\">\n",
    "<b> Title </b>\n",
    "</p>\n",
    "<b>Item 1</b>\n",
    "<b>Item 2</b>\n",
    "<b>Item 3</b>\n",
    "</nav>'''\n",
    "\n",
    "# Создание объекта BeautifulSoup, передав HTML-документ в конструктор\n",
    "page = BeautifulSoup(html_doc, 'html.parser')\n",
    "\n",
    "# Нахождение всех тегов <li>\n",
    "all_li = page.find_all('li')\n",
    "\n",
    "# Печать текста содержимого каждого тега <li>\n",
    "for li in all_li:\n",
    "    print(li.get_text())"
   ],
   "metadata": {
    "collapsed": false,
    "ExecuteTime": {
     "end_time": "2024-06-26T20:43:44.643723500Z",
     "start_time": "2024-06-26T20:43:44.636854100Z"
    }
   },
   "id": "76952b320744544",
   "execution_count": 3
  },
  {
   "cell_type": "markdown",
   "source": [
    "4. Дан некий фрагмент HTML-документа:\n",
    "```\n",
    "html_doc = '''<nav>\n",
    "<ul>\n",
    "<li><a href=\"/home\">Home</a></li>\n",
    "<li><a href=\"/about\">About</a></li>\n",
    "<li><a href=\"/catalog\">Catalog</a></li>\n",
    "<li><a href=\"/contact\">Contact us</a></li>\n",
    "</ul>\n",
    "<p class=\"title\">\n",
    "<b> Title </b>\n",
    "</p>\n",
    "<b>Item 1</b>\n",
    "<b>Item 2</b>\n",
    "<b>Item 3</b>\n",
    "</nav>'''\n",
    "```\n",
    "При помощи языка Python напишите строку кода, которая выводит все теги <а>, у которых значение аттрибута `href` принимает значение `/аbout` .\n",
    "```\n",
    "from bs4 import BeautifulSoup\n",
    "page = BeautifulSoup(...)        \n",
    "#ваш код здесь\n",
    "```"
   ],
   "metadata": {
    "collapsed": false
   },
   "id": "baa02f69a5fc3cac"
  },
  {
   "cell_type": "code",
   "outputs": [
    {
     "data": {
      "text/plain": "[<a href=\"/about\">About</a>]"
     },
     "execution_count": 6,
     "metadata": {},
     "output_type": "execute_result"
    }
   ],
   "source": [
    "from bs4 import BeautifulSoup\n",
    "\n",
    "html_doc = '''<nav>\n",
    "<ul>\n",
    "<li><a href=\"/home\">Home</a></li>\n",
    "<li><a href=\"/about\">About</a></li>\n",
    "<li><a href=\"/catalog\">Catalog</a></li>\n",
    "<li><a href=\"/contact\">Contact us</a></li>\n",
    "</ul>\n",
    "<p class=\"title\">\n",
    "<b> Title </b>\n",
    "</p>\n",
    "<b>Item 1</b>\n",
    "<b>Item 2</b>\n",
    "<b>Item 3</b>\n",
    "</nav>'''\n",
    "\n",
    "page = BeautifulSoup(html_doc, features='html.parser')\n",
    "page.find_all('a', {'href': '/about'})"
   ],
   "metadata": {
    "collapsed": false,
    "ExecuteTime": {
     "end_time": "2024-06-26T20:46:54.014922100Z",
     "start_time": "2024-06-26T20:46:54.006079200Z"
    }
   },
   "id": "c04bd3c70b62bb8b",
   "execution_count": 6
  },
  {
   "cell_type": "markdown",
   "source": [
    "5. Дан некий фрагмент HTML-документа:\n",
    "```\n",
    "html_doc = '''<nav>\n",
    "<ul>\n",
    "<li><a href=\"/home\">Home</a></li>\n",
    "<li><a href=\"/about\">About</a></li>\n",
    "<li><a href=\"/catalog\">Catalog</a></li>\n",
    "<li><a href=\"/contact\">Contact us</a></li>\n",
    "</ul>\n",
    "<p class=\"title\">\n",
    "<b> Title </b>\n",
    "</p>\n",
    "<b>Item 1</b>\n",
    "<b>Item 2</b>\n",
    "<b>Item 3</b>\n",
    "</nav>'''\n",
    "```\n",
    "При помощи языка Python напишите строки кода, которые выводят все дочерние элементы тега <ul>с помощью метода `.children`.\n",
    "```\n",
    "from bs4 import BeautifulSoup\n",
    "page = BeautifulSoup(...)        \n",
    "#ваш код здесь\n",
    "```"
   ],
   "metadata": {
    "collapsed": false
   },
   "id": "eeca7768d5a60b82"
  },
  {
   "cell_type": "code",
   "outputs": [
    {
     "name": "stdout",
     "output_type": "stream",
     "text": [
      "<li><a href=\"/home\">Home</a></li>\n",
      "<li><a href=\"/about\">About</a></li>\n",
      "<li><a href=\"/catalog\">Catalog</a></li>\n",
      "<li><a href=\"/contact\">Contact us</a></li>\n"
     ]
    }
   ],
   "source": [
    "from bs4 import BeautifulSoup\n",
    "\n",
    "html_doc = '''<nav>\n",
    "<ul>\n",
    "<li><a href=\"/home\">Home</a></li>\n",
    "<li><a href=\"/about\">About</a></li>\n",
    "<li><a href=\"/catalog\">Catalog</a></li>\n",
    "<li><a href=\"/contact\">Contact us</a></li>\n",
    "</ul>\n",
    "<p class=\"title\">\n",
    "<b> Title </b>\n",
    "</p>\n",
    "<b>Item 1</b>\n",
    "<b>Item 2</b>\n",
    "<b>Item 3</b>\n",
    "</nav>'''\n",
    "\n",
    "# Создание объекта BeautifulSoup, передав HTML-документ в конструктор\n",
    "page = BeautifulSoup(html_doc, 'html.parser')\n",
    "\n",
    "# Нахождение элемента <ul>\n",
    "ul = page.find('ul')\n",
    "\n",
    "# Печать всех дочерних элементов тега <ul> с помощью метода .children\n",
    "for child in ul.children:\n",
    "    if child.name:  # Пропуск текстовых и пустых узлов\n",
    "        print(child)"
   ],
   "metadata": {
    "collapsed": false,
    "ExecuteTime": {
     "end_time": "2024-06-26T20:48:45.618881200Z",
     "start_time": "2024-06-26T20:48:45.606996300Z"
    }
   },
   "id": "2ecfa16db83bf06f",
   "execution_count": 7
  },
  {
   "cell_type": "code",
   "outputs": [],
   "source": [],
   "metadata": {
    "collapsed": false
   },
   "id": "b8def9a21ed0e063"
  }
 ],
 "metadata": {
  "kernelspec": {
   "display_name": "Python 3",
   "language": "python",
   "name": "python3"
  },
  "language_info": {
   "codemirror_mode": {
    "name": "ipython",
    "version": 2
   },
   "file_extension": ".py",
   "mimetype": "text/x-python",
   "name": "python",
   "nbconvert_exporter": "python",
   "pygments_lexer": "ipython2",
   "version": "2.7.6"
  }
 },
 "nbformat": 4,
 "nbformat_minor": 5
}
