{
 "nbformat": 4,
 "nbformat_minor": 0,
 "metadata": {
  "colab": {
   "provenance": []
  },
  "kernelspec": {
   "name": "python3",
   "display_name": "Python 3"
  },
  "language_info": {
   "name": "python"
  }
 },
 "cells": [
  {
   "cell_type": "markdown",
   "metadata": {
    "id": "JCo8Jn0hrTUs"
   },
   "source": [
    "В этом блокноте мы научимся строить столбчатые и круговые диаграммы.\n",
    "Для начала подключаем библиотеку pandas и загружаем интересующий нас [файл](https://studio.openedu.ru/assets/courseware/v1/0aa30d8da69ae54cda3cf9c4dddff6de/asset-v1:ITMOUniversity+DATANTECH2035+fall_2021+type@asset+block/var123126.xlsx) при помощи метода `read_excel`. Подробное описание можно найти по [ссылке](https://pandas.pydata.org/docs/reference/api/pandas.read_excel.html)."
   ]
  },
  {
   "cell_type": "code",
   "metadata": {
    "id": "0PmQ1OBmrOjd"
   },
   "source": [
    "import pandas as pd\n",
    "answers = pd.read_excel('https://courses.openedu.ru/assets/courseware/v1/ffb9de5dd5f03d87e2d060d1c29d2af2/asset-v1:ITMOUniversity+DATANTECH2035+fall_2021_3+type@asset+block/var732742.xlsx')"
   ],
   "execution_count": null,
   "outputs": []
  },
  {
   "cell_type": "markdown",
   "metadata": {
    "id": "kDi6o2r-sOFP"
   },
   "source": [
    "Посмотрим на наши данные"
   ]
  },
  {
   "cell_type": "code",
   "metadata": {
    "colab": {
     "base_uri": "https://localhost:8080/",
     "height": 555
    },
    "id": "WIJgkB8csA6N",
    "outputId": "5e8a4dad-ff85-4dda-a0ad-813f9b90f314"
   },
   "source": [
    "answers"
   ],
   "execution_count": null,
   "outputs": [
    {
     "output_type": "execute_result",
     "data": {
      "text/plain": [
       "                Choice_1                          Choice_2  \\\n",
       "0                    NaN                               NaN   \n",
       "1                    NaN                               NaN   \n",
       "2                    NaN                               NaN   \n",
       "3    Визуализация данных                 Машинное обучение   \n",
       "4               Big Data  Методы искусственного интеллекта   \n",
       "..                   ...                               ...   \n",
       "595  Электронные таблицы               Визуализация данных   \n",
       "596  Визуализация данных  Методы искусственного интеллекта   \n",
       "597  Визуализация данных                    Анализ текстов   \n",
       "598             Big Data                    Анализ текстов   \n",
       "599           Статистика               Визуализация данных   \n",
       "\n",
       "                             Choice_3                          Choice_4  \\\n",
       "0                                 NaN                               NaN   \n",
       "1                                 NaN                               NaN   \n",
       "2                                 NaN                               NaN   \n",
       "3                                 NaN                               NaN   \n",
       "4                 Визуализация данных                               NaN   \n",
       "..                                ...                               ...   \n",
       "595                 Машинное обучение                               NaN   \n",
       "596                            Python                 Машинное обучение   \n",
       "597  Методы искусственного интеллекта                            Python   \n",
       "598             Обработка изображений  Методы искусственного интеллекта   \n",
       "599                               NaN                               NaN   \n",
       "\n",
       "              Choice_5  Choice_6           Choice_7             Choice_8  \\\n",
       "0                  NaN       NaN                NaN                  NaN   \n",
       "1                  NaN       NaN                NaN                  NaN   \n",
       "2                  NaN       NaN                NaN                  NaN   \n",
       "3                  NaN       NaN                NaN                  NaN   \n",
       "4                  NaN       NaN                NaN                  NaN   \n",
       "..                 ...       ...                ...                  ...   \n",
       "595                NaN       NaN                NaN                  NaN   \n",
       "596         Статистика       NaN                NaN                  NaN   \n",
       "597  Машинное обучение  Big Data                NaN                  NaN   \n",
       "598         Статистика    Python  Машинное обучение  Визуализация данных   \n",
       "599                NaN       NaN                NaN                  NaN   \n",
       "\n",
       "                Choice_9  \n",
       "0                    NaN  \n",
       "1                    NaN  \n",
       "2                    NaN  \n",
       "3                    NaN  \n",
       "4                    NaN  \n",
       "..                   ...  \n",
       "595                  NaN  \n",
       "596                  NaN  \n",
       "597                  NaN  \n",
       "598  Электронные таблицы  \n",
       "599                  NaN  \n",
       "\n",
       "[600 rows x 9 columns]"
      ],
      "text/html": [
       "\n",
       "  <div id=\"df-b3245458-9e8f-4592-a632-5d4942e8de74\">\n",
       "    <div class=\"colab-df-container\">\n",
       "      <div>\n",
       "<style scoped>\n",
       "    .dataframe tbody tr th:only-of-type {\n",
       "        vertical-align: middle;\n",
       "    }\n",
       "\n",
       "    .dataframe tbody tr th {\n",
       "        vertical-align: top;\n",
       "    }\n",
       "\n",
       "    .dataframe thead th {\n",
       "        text-align: right;\n",
       "    }\n",
       "</style>\n",
       "<table border=\"1\" class=\"dataframe\">\n",
       "  <thead>\n",
       "    <tr style=\"text-align: right;\">\n",
       "      <th></th>\n",
       "      <th>Choice_1</th>\n",
       "      <th>Choice_2</th>\n",
       "      <th>Choice_3</th>\n",
       "      <th>Choice_4</th>\n",
       "      <th>Choice_5</th>\n",
       "      <th>Choice_6</th>\n",
       "      <th>Choice_7</th>\n",
       "      <th>Choice_8</th>\n",
       "      <th>Choice_9</th>\n",
       "    </tr>\n",
       "  </thead>\n",
       "  <tbody>\n",
       "    <tr>\n",
       "      <th>0</th>\n",
       "      <td>NaN</td>\n",
       "      <td>NaN</td>\n",
       "      <td>NaN</td>\n",
       "      <td>NaN</td>\n",
       "      <td>NaN</td>\n",
       "      <td>NaN</td>\n",
       "      <td>NaN</td>\n",
       "      <td>NaN</td>\n",
       "      <td>NaN</td>\n",
       "    </tr>\n",
       "    <tr>\n",
       "      <th>1</th>\n",
       "      <td>NaN</td>\n",
       "      <td>NaN</td>\n",
       "      <td>NaN</td>\n",
       "      <td>NaN</td>\n",
       "      <td>NaN</td>\n",
       "      <td>NaN</td>\n",
       "      <td>NaN</td>\n",
       "      <td>NaN</td>\n",
       "      <td>NaN</td>\n",
       "    </tr>\n",
       "    <tr>\n",
       "      <th>2</th>\n",
       "      <td>NaN</td>\n",
       "      <td>NaN</td>\n",
       "      <td>NaN</td>\n",
       "      <td>NaN</td>\n",
       "      <td>NaN</td>\n",
       "      <td>NaN</td>\n",
       "      <td>NaN</td>\n",
       "      <td>NaN</td>\n",
       "      <td>NaN</td>\n",
       "    </tr>\n",
       "    <tr>\n",
       "      <th>3</th>\n",
       "      <td>Визуализация данных</td>\n",
       "      <td>Машинное обучение</td>\n",
       "      <td>NaN</td>\n",
       "      <td>NaN</td>\n",
       "      <td>NaN</td>\n",
       "      <td>NaN</td>\n",
       "      <td>NaN</td>\n",
       "      <td>NaN</td>\n",
       "      <td>NaN</td>\n",
       "    </tr>\n",
       "    <tr>\n",
       "      <th>4</th>\n",
       "      <td>Big Data</td>\n",
       "      <td>Методы искусственного интеллекта</td>\n",
       "      <td>Визуализация данных</td>\n",
       "      <td>NaN</td>\n",
       "      <td>NaN</td>\n",
       "      <td>NaN</td>\n",
       "      <td>NaN</td>\n",
       "      <td>NaN</td>\n",
       "      <td>NaN</td>\n",
       "    </tr>\n",
       "    <tr>\n",
       "      <th>...</th>\n",
       "      <td>...</td>\n",
       "      <td>...</td>\n",
       "      <td>...</td>\n",
       "      <td>...</td>\n",
       "      <td>...</td>\n",
       "      <td>...</td>\n",
       "      <td>...</td>\n",
       "      <td>...</td>\n",
       "      <td>...</td>\n",
       "    </tr>\n",
       "    <tr>\n",
       "      <th>595</th>\n",
       "      <td>Электронные таблицы</td>\n",
       "      <td>Визуализация данных</td>\n",
       "      <td>Машинное обучение</td>\n",
       "      <td>NaN</td>\n",
       "      <td>NaN</td>\n",
       "      <td>NaN</td>\n",
       "      <td>NaN</td>\n",
       "      <td>NaN</td>\n",
       "      <td>NaN</td>\n",
       "    </tr>\n",
       "    <tr>\n",
       "      <th>596</th>\n",
       "      <td>Визуализация данных</td>\n",
       "      <td>Методы искусственного интеллекта</td>\n",
       "      <td>Python</td>\n",
       "      <td>Машинное обучение</td>\n",
       "      <td>Статистика</td>\n",
       "      <td>NaN</td>\n",
       "      <td>NaN</td>\n",
       "      <td>NaN</td>\n",
       "      <td>NaN</td>\n",
       "    </tr>\n",
       "    <tr>\n",
       "      <th>597</th>\n",
       "      <td>Визуализация данных</td>\n",
       "      <td>Анализ текстов</td>\n",
       "      <td>Методы искусственного интеллекта</td>\n",
       "      <td>Python</td>\n",
       "      <td>Машинное обучение</td>\n",
       "      <td>Big Data</td>\n",
       "      <td>NaN</td>\n",
       "      <td>NaN</td>\n",
       "      <td>NaN</td>\n",
       "    </tr>\n",
       "    <tr>\n",
       "      <th>598</th>\n",
       "      <td>Big Data</td>\n",
       "      <td>Анализ текстов</td>\n",
       "      <td>Обработка изображений</td>\n",
       "      <td>Методы искусственного интеллекта</td>\n",
       "      <td>Статистика</td>\n",
       "      <td>Python</td>\n",
       "      <td>Машинное обучение</td>\n",
       "      <td>Визуализация данных</td>\n",
       "      <td>Электронные таблицы</td>\n",
       "    </tr>\n",
       "    <tr>\n",
       "      <th>599</th>\n",
       "      <td>Статистика</td>\n",
       "      <td>Визуализация данных</td>\n",
       "      <td>NaN</td>\n",
       "      <td>NaN</td>\n",
       "      <td>NaN</td>\n",
       "      <td>NaN</td>\n",
       "      <td>NaN</td>\n",
       "      <td>NaN</td>\n",
       "      <td>NaN</td>\n",
       "    </tr>\n",
       "  </tbody>\n",
       "</table>\n",
       "<p>600 rows × 9 columns</p>\n",
       "</div>\n",
       "      <button class=\"colab-df-convert\" onclick=\"convertToInteractive('df-b3245458-9e8f-4592-a632-5d4942e8de74')\"\n",
       "              title=\"Convert this dataframe to an interactive table.\"\n",
       "              style=\"display:none;\">\n",
       "        \n",
       "  <svg xmlns=\"http://www.w3.org/2000/svg\" height=\"24px\"viewBox=\"0 0 24 24\"\n",
       "       width=\"24px\">\n",
       "    <path d=\"M0 0h24v24H0V0z\" fill=\"none\"/>\n",
       "    <path d=\"M18.56 5.44l.94 2.06.94-2.06 2.06-.94-2.06-.94-.94-2.06-.94 2.06-2.06.94zm-11 1L8.5 8.5l.94-2.06 2.06-.94-2.06-.94L8.5 2.5l-.94 2.06-2.06.94zm10 10l.94 2.06.94-2.06 2.06-.94-2.06-.94-.94-2.06-.94 2.06-2.06.94z\"/><path d=\"M17.41 7.96l-1.37-1.37c-.4-.4-.92-.59-1.43-.59-.52 0-1.04.2-1.43.59L10.3 9.45l-7.72 7.72c-.78.78-.78 2.05 0 2.83L4 21.41c.39.39.9.59 1.41.59.51 0 1.02-.2 1.41-.59l7.78-7.78 2.81-2.81c.8-.78.8-2.07 0-2.86zM5.41 20L4 18.59l7.72-7.72 1.47 1.35L5.41 20z\"/>\n",
       "  </svg>\n",
       "      </button>\n",
       "      \n",
       "  <style>\n",
       "    .colab-df-container {\n",
       "      display:flex;\n",
       "      flex-wrap:wrap;\n",
       "      gap: 12px;\n",
       "    }\n",
       "\n",
       "    .colab-df-convert {\n",
       "      background-color: #E8F0FE;\n",
       "      border: none;\n",
       "      border-radius: 50%;\n",
       "      cursor: pointer;\n",
       "      display: none;\n",
       "      fill: #1967D2;\n",
       "      height: 32px;\n",
       "      padding: 0 0 0 0;\n",
       "      width: 32px;\n",
       "    }\n",
       "\n",
       "    .colab-df-convert:hover {\n",
       "      background-color: #E2EBFA;\n",
       "      box-shadow: 0px 1px 2px rgba(60, 64, 67, 0.3), 0px 1px 3px 1px rgba(60, 64, 67, 0.15);\n",
       "      fill: #174EA6;\n",
       "    }\n",
       "\n",
       "    [theme=dark] .colab-df-convert {\n",
       "      background-color: #3B4455;\n",
       "      fill: #D2E3FC;\n",
       "    }\n",
       "\n",
       "    [theme=dark] .colab-df-convert:hover {\n",
       "      background-color: #434B5C;\n",
       "      box-shadow: 0px 1px 3px 1px rgba(0, 0, 0, 0.15);\n",
       "      filter: drop-shadow(0px 1px 2px rgba(0, 0, 0, 0.3));\n",
       "      fill: #FFFFFF;\n",
       "    }\n",
       "  </style>\n",
       "\n",
       "      <script>\n",
       "        const buttonEl =\n",
       "          document.querySelector('#df-b3245458-9e8f-4592-a632-5d4942e8de74 button.colab-df-convert');\n",
       "        buttonEl.style.display =\n",
       "          google.colab.kernel.accessAllowed ? 'block' : 'none';\n",
       "\n",
       "        async function convertToInteractive(key) {\n",
       "          const element = document.querySelector('#df-b3245458-9e8f-4592-a632-5d4942e8de74');\n",
       "          const dataTable =\n",
       "            await google.colab.kernel.invokeFunction('convertToInteractive',\n",
       "                                                     [key], {});\n",
       "          if (!dataTable) return;\n",
       "\n",
       "          const docLinkHtml = 'Like what you see? Visit the ' +\n",
       "            '<a target=\"_blank\" href=https://colab.research.google.com/notebooks/data_table.ipynb>data table notebook</a>'\n",
       "            + ' to learn more about interactive tables.';\n",
       "          element.innerHTML = '';\n",
       "          dataTable['output_type'] = 'display_data';\n",
       "          await google.colab.output.renderOutput(dataTable, element);\n",
       "          const docLink = document.createElement('div');\n",
       "          docLink.innerHTML = docLinkHtml;\n",
       "          element.appendChild(docLink);\n",
       "        }\n",
       "      </script>\n",
       "    </div>\n",
       "  </div>\n",
       "  "
      ]
     },
     "metadata": {},
     "execution_count": 2
    }
   ]
  },
  {
   "cell_type": "markdown",
   "metadata": {
    "id": "TBjC1FfnsTsV"
   },
   "source": [
    "Теперь построим столбчатую диаграмму по первому столбцу. Так как наши данные — строковые, то придется сначала подготовить дополнительную таблицу. Во-первых, найдем уникальные названия в первом столбце"
   ]
  },
  {
   "cell_type": "code",
   "metadata": {
    "colab": {
     "base_uri": "https://localhost:8080/",
     "height": 359
    },
    "id": "qZFCmU4zsTCV",
    "outputId": "ad5fe7e7-697c-434c-8044-91735a28e4ee"
   },
   "source": [
    "to_plot = pd.DataFrame(answers['Choice_1'].value_counts())\n",
    "to_plot"
   ],
   "execution_count": null,
   "outputs": [
    {
     "output_type": "execute_result",
     "data": {
      "text/html": [
       "<div>\n",
       "<style scoped>\n",
       "    .dataframe tbody tr th:only-of-type {\n",
       "        vertical-align: middle;\n",
       "    }\n",
       "\n",
       "    .dataframe tbody tr th {\n",
       "        vertical-align: top;\n",
       "    }\n",
       "\n",
       "    .dataframe thead th {\n",
       "        text-align: right;\n",
       "    }\n",
       "</style>\n",
       "<table border=\"1\" class=\"dataframe\">\n",
       "  <thead>\n",
       "    <tr style=\"text-align: right;\">\n",
       "      <th></th>\n",
       "      <th>Choice_1</th>\n",
       "    </tr>\n",
       "  </thead>\n",
       "  <tbody>\n",
       "    <tr>\n",
       "      <th>Статистика</th>\n",
       "      <td>78</td>\n",
       "    </tr>\n",
       "    <tr>\n",
       "      <th>Визуализация данных</th>\n",
       "      <td>66</td>\n",
       "    </tr>\n",
       "    <tr>\n",
       "      <th>Big Data</th>\n",
       "      <td>56</td>\n",
       "    </tr>\n",
       "    <tr>\n",
       "      <th>Python</th>\n",
       "      <td>52</td>\n",
       "    </tr>\n",
       "    <tr>\n",
       "      <th>Методы искусственного интеллекта</th>\n",
       "      <td>50</td>\n",
       "    </tr>\n",
       "    <tr>\n",
       "      <th>Анализ текстов</th>\n",
       "      <td>46</td>\n",
       "    </tr>\n",
       "    <tr>\n",
       "      <th>Электронные таблицы</th>\n",
       "      <td>43</td>\n",
       "    </tr>\n",
       "    <tr>\n",
       "      <th>Обработка изображений</th>\n",
       "      <td>38</td>\n",
       "    </tr>\n",
       "    <tr>\n",
       "      <th>Машинное обучение</th>\n",
       "      <td>36</td>\n",
       "    </tr>\n",
       "    <tr>\n",
       "      <th>Ничего из перечисленного</th>\n",
       "      <td>14</td>\n",
       "    </tr>\n",
       "  </tbody>\n",
       "</table>\n",
       "</div>"
      ],
      "text/plain": [
       "                                  Choice_1\n",
       "Статистика                              78\n",
       "Визуализация данных                     66\n",
       "Big Data                                56\n",
       "Python                                  52\n",
       "Методы искусственного интеллекта        50\n",
       "Анализ текстов                          46\n",
       "Электронные таблицы                     43\n",
       "Обработка изображений                   38\n",
       "Машинное обучение                       36\n",
       "Ничего из перечисленного                14"
      ]
     },
     "metadata": {},
     "execution_count": 3
    }
   ]
  },
  {
   "cell_type": "markdown",
   "metadata": {
    "id": "M_XAPxAb3ART"
   },
   "source": [
    "Назовем полученную колонку именем Amount, отсортируем данные по убыванию ключа"
   ]
  },
  {
   "cell_type": "code",
   "metadata": {
    "colab": {
     "base_uri": "https://localhost:8080/",
     "height": 359
    },
    "id": "Cljm_hpcz5p1",
    "outputId": "0d938d2b-9fd2-47b0-c2fc-e3eea1d99217"
   },
   "source": [
    "to_plot.columns = ['Amount']\n",
    "to_plot = to_plot.sort_index()\n",
    "to_plot"
   ],
   "execution_count": null,
   "outputs": [
    {
     "output_type": "execute_result",
     "data": {
      "text/html": [
       "<div>\n",
       "<style scoped>\n",
       "    .dataframe tbody tr th:only-of-type {\n",
       "        vertical-align: middle;\n",
       "    }\n",
       "\n",
       "    .dataframe tbody tr th {\n",
       "        vertical-align: top;\n",
       "    }\n",
       "\n",
       "    .dataframe thead th {\n",
       "        text-align: right;\n",
       "    }\n",
       "</style>\n",
       "<table border=\"1\" class=\"dataframe\">\n",
       "  <thead>\n",
       "    <tr style=\"text-align: right;\">\n",
       "      <th></th>\n",
       "      <th>Amount</th>\n",
       "    </tr>\n",
       "  </thead>\n",
       "  <tbody>\n",
       "    <tr>\n",
       "      <th>Big Data</th>\n",
       "      <td>56</td>\n",
       "    </tr>\n",
       "    <tr>\n",
       "      <th>Python</th>\n",
       "      <td>52</td>\n",
       "    </tr>\n",
       "    <tr>\n",
       "      <th>Анализ текстов</th>\n",
       "      <td>46</td>\n",
       "    </tr>\n",
       "    <tr>\n",
       "      <th>Визуализация данных</th>\n",
       "      <td>66</td>\n",
       "    </tr>\n",
       "    <tr>\n",
       "      <th>Машинное обучение</th>\n",
       "      <td>36</td>\n",
       "    </tr>\n",
       "    <tr>\n",
       "      <th>Методы искусственного интеллекта</th>\n",
       "      <td>50</td>\n",
       "    </tr>\n",
       "    <tr>\n",
       "      <th>Ничего из перечисленного</th>\n",
       "      <td>14</td>\n",
       "    </tr>\n",
       "    <tr>\n",
       "      <th>Обработка изображений</th>\n",
       "      <td>38</td>\n",
       "    </tr>\n",
       "    <tr>\n",
       "      <th>Статистика</th>\n",
       "      <td>78</td>\n",
       "    </tr>\n",
       "    <tr>\n",
       "      <th>Электронные таблицы</th>\n",
       "      <td>43</td>\n",
       "    </tr>\n",
       "  </tbody>\n",
       "</table>\n",
       "</div>"
      ],
      "text/plain": [
       "                                  Amount\n",
       "Big Data                              56\n",
       "Python                                52\n",
       "Анализ текстов                        46\n",
       "Визуализация данных                   66\n",
       "Машинное обучение                     36\n",
       "Методы искусственного интеллекта      50\n",
       "Ничего из перечисленного              14\n",
       "Обработка изображений                 38\n",
       "Статистика                            78\n",
       "Электронные таблицы                   43"
      ]
     },
     "metadata": {},
     "execution_count": 4
    }
   ]
  },
  {
   "cell_type": "markdown",
   "metadata": {
    "id": "DwlrdLbI3qd5"
   },
   "source": [
    "Теперь построим столбчатую диаграмму:"
   ]
  },
  {
   "cell_type": "code",
   "metadata": {
    "colab": {
     "base_uri": "https://localhost:8080/",
     "height": 448
    },
    "id": "mN00tUhmy8r5",
    "outputId": "6a3b71b7-57b4-4a1e-f3f3-4e659baa3ec6"
   },
   "source": [
    "import matplotlib.pyplot as plt\n",
    "\n",
    "plt.bar(to_plot.index, to_plot['Amount'])\n",
    "plt.xticks(rotation = 'vertical')\n",
    "plt.show()"
   ],
   "execution_count": null,
   "outputs": [
    {
     "output_type": "display_data",
     "data": {
      "image/png": "[encoded data removed]",
      "text/plain": [
       "<Figure size 432x288 with 1 Axes>"
      ]
     },
     "metadata": {
      "needs_background": "light"
     }
    }
   ]
  },
  {
   "cell_type": "markdown",
   "metadata": {
    "id": "imtmj9l33uc9"
   },
   "source": [
    "Обратимся ко второй части задания. Сначала сведем задачу к предыдущей — распрямим наш набор данных, а затем повторим все то, что уже делали ранее."
   ]
  },
  {
   "cell_type": "code",
   "metadata": {
    "colab": {
     "base_uri": "https://localhost:8080/",
     "height": 359
    },
    "id": "I-89AZ413tpn",
    "outputId": "0f30dfa8-3100-41ac-a6ac-d228eb97b128"
   },
   "source": [
    "full_to_plot = pd.DataFrame(pd.DataFrame(answers.values.reshape(-1))[0].value_counts())\n",
    "full_to_plot.columns = ['Amount']\n",
    "full_to_plot = full_to_plot.sort_index()\n",
    "full_to_plot"
   ],
   "execution_count": null,
   "outputs": [
    {
     "output_type": "execute_result",
     "data": {
      "text/html": [
       "<div>\n",
       "<style scoped>\n",
       "    .dataframe tbody tr th:only-of-type {\n",
       "        vertical-align: middle;\n",
       "    }\n",
       "\n",
       "    .dataframe tbody tr th {\n",
       "        vertical-align: top;\n",
       "    }\n",
       "\n",
       "    .dataframe thead th {\n",
       "        text-align: right;\n",
       "    }\n",
       "</style>\n",
       "<table border=\"1\" class=\"dataframe\">\n",
       "  <thead>\n",
       "    <tr style=\"text-align: right;\">\n",
       "      <th></th>\n",
       "      <th>Amount</th>\n",
       "    </tr>\n",
       "  </thead>\n",
       "  <tbody>\n",
       "    <tr>\n",
       "      <th>Big Data</th>\n",
       "      <td>217</td>\n",
       "    </tr>\n",
       "    <tr>\n",
       "      <th>Python</th>\n",
       "      <td>221</td>\n",
       "    </tr>\n",
       "    <tr>\n",
       "      <th>Анализ текстов</th>\n",
       "      <td>189</td>\n",
       "    </tr>\n",
       "    <tr>\n",
       "      <th>Визуализация данных</th>\n",
       "      <td>293</td>\n",
       "    </tr>\n",
       "    <tr>\n",
       "      <th>Машинное обучение</th>\n",
       "      <td>209</td>\n",
       "    </tr>\n",
       "    <tr>\n",
       "      <th>Методы искусственного интеллекта</th>\n",
       "      <td>219</td>\n",
       "    </tr>\n",
       "    <tr>\n",
       "      <th>Ничего из перечисленного</th>\n",
       "      <td>17</td>\n",
       "    </tr>\n",
       "    <tr>\n",
       "      <th>Обработка изображений</th>\n",
       "      <td>178</td>\n",
       "    </tr>\n",
       "    <tr>\n",
       "      <th>Статистика</th>\n",
       "      <td>268</td>\n",
       "    </tr>\n",
       "    <tr>\n",
       "      <th>Электронные таблицы</th>\n",
       "      <td>222</td>\n",
       "    </tr>\n",
       "  </tbody>\n",
       "</table>\n",
       "</div>"
      ],
      "text/plain": [
       "                                  Amount\n",
       "Big Data                             217\n",
       "Python                               221\n",
       "Анализ текстов                       189\n",
       "Визуализация данных                  293\n",
       "Машинное обучение                    209\n",
       "Методы искусственного интеллекта     219\n",
       "Ничего из перечисленного              17\n",
       "Обработка изображений                178\n",
       "Статистика                           268\n",
       "Электронные таблицы                  222"
      ]
     },
     "metadata": {},
     "execution_count": 6
    }
   ]
  },
  {
   "cell_type": "markdown",
   "metadata": {
    "id": "kLXBUHbK5UXV"
   },
   "source": [
    "Теперь построим круговую диаграмму"
   ]
  },
  {
   "cell_type": "code",
   "metadata": {
    "colab": {
     "base_uri": "https://localhost:8080/",
     "height": 248
    },
    "id": "IQ-9EcI05WWE",
    "outputId": "90e63e89-4233-4737-aaac-fbcc11a9c487"
   },
   "source": [
    "plt.pie(full_to_plot['Amount'], labels = full_to_plot.index)\n",
    "plt.show()"
   ],
   "execution_count": null,
   "outputs": [
    {
     "output_type": "display_data",
     "data": {
      "image/png": "[encoded data removed]",
      "text/plain": [
       "<Figure size 432x288 with 1 Axes>"
      ]
     },
     "metadata": {}
    }
   ]
  }
 ]
}
