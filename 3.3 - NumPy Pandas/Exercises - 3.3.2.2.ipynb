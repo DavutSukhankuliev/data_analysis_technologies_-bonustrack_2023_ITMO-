{
 "cells": [
  {
   "cell_type": "markdown",
   "source": [
    "1. При помощи Python создайте функцию `is_positive_numeric(a)`, принимающую на вход одну серию, состоящую из целочисленных чисел, и возвращающую новую серию, где на местах неотрицательных значений из первой серии стоит 1, а на местах отрицательных значений из первой серии — `0`. Например, если `a = pd.Series([-3, 4, 2, -2, 6, 0])`, то возвращена должна быть серия, состоящая из элементов: `[0, 1, 1, 0, 1, 1]`)"
   ],
   "metadata": {
    "collapsed": false
   },
   "id": "57fb1819c25e1df2"
  },
  {
   "cell_type": "code",
   "outputs": [
    {
     "name": "stdout",
     "output_type": "stream",
     "text": [
      "0     1\n",
      "1     1\n",
      "2     1\n",
      "3     1\n",
      "4     1\n",
      "5     1\n",
      "6     0\n",
      "7     1\n",
      "8     0\n",
      "9     0\n",
      "10    1\n",
      "11    0\n",
      "12    1\n",
      "13    0\n",
      "14    1\n",
      "15    0\n",
      "16    1\n",
      "17    1\n",
      "18    1\n",
      "19    1\n",
      "20    1\n",
      "dtype: int32\n"
     ]
    }
   ],
   "source": [
    "import pandas as pd\n",
    "\n",
    "def is_positive_numeric(a):\n",
    "    # Проверим, что все элементы серии имеют целочисленный тип\n",
    "    if not pd.api.types.is_integer_dtype(a):\n",
    "        raise ValueError(\"Серия должна состоять из целочисленных чисел\")\n",
    "\n",
    "    # Создаем новую серию, где на местах неотрицательных значений стоит 1, а на местах отрицательных — 0\n",
    "    result = (a >= 0).astype(int)\n",
    "    \n",
    "    return result\n",
    "\n",
    "# Пример использования\n",
    "a = pd.Series([93, 67, 93, 28, 11, 46, -3, 84, -59, -10, 66, -97, 75, -34, 93, -46, 5, 57, 61, 18, 22])\n",
    "result = is_positive_numeric(a)\n",
    "print(result)"
   ],
   "metadata": {
    "collapsed": false,
    "ExecuteTime": {
     "end_time": "2024-06-23T17:36:17.362256200Z",
     "start_time": "2024-06-23T17:36:17.353893700Z"
    }
   },
   "id": "97353324cbbdd5a6",
   "execution_count": 5
  },
  {
   "cell_type": "code",
   "outputs": [
    {
     "name": "stdout",
     "output_type": "stream",
     "text": [
      "0     1\n",
      "1     1\n",
      "2     1\n",
      "3     1\n",
      "4     1\n",
      "5     1\n",
      "6     0\n",
      "7     1\n",
      "8     0\n",
      "9     0\n",
      "10    1\n",
      "11    0\n",
      "12    1\n",
      "13    0\n",
      "14    1\n",
      "15    0\n",
      "16    1\n",
      "17    1\n",
      "18    1\n",
      "19    1\n",
      "20    1\n",
      "dtype: int64\n"
     ]
    }
   ],
   "source": [
    "import pandas as pd\n",
    "\n",
    "def is_positive_numeric(a):\n",
    "    return a.mask(a >= 0, 1).where(a >= 0, 0)\n",
    "\n",
    "# Пример использования\n",
    "a = pd.Series([93, 67, 93, 28, 11, 46, -3, 84, -59, -10, 66, -97, 75, -34, 93, -46, 5, 57, 61, 18, 22])\n",
    "result = is_positive_numeric(a)\n",
    "print(result)"
   ],
   "metadata": {
    "collapsed": false,
    "ExecuteTime": {
     "end_time": "2024-06-23T17:36:19.107664900Z",
     "start_time": "2024-06-23T17:36:19.098872400Z"
    }
   },
   "id": "d2ba01cf31f1ba98",
   "execution_count": 6
  },
  {
   "cell_type": "markdown",
   "source": [
    "2. При помощи Python создайте функцию `fill_na_with_array(a, b)`, принимающую на вход две серии одинаковых размеров. В первой серии могут встречаться `NaN`-значения. На местах `NaN`-значений из первой серии нужно поставить соответствующее (имеющее тот же индекс) значение из второй серии, и вернуть новую серию. Например, если `a = pd.Series([np.nan, 12, np.nan])` и `b = pd.Series([1, 2, 3])`, то возвращена должна быть серия, состоящая из элементов: `[1.0, 12.0, 3.0]`)"
   ],
   "metadata": {
    "collapsed": false
   },
   "id": "d0b7e536b1eb9b07"
  },
  {
   "cell_type": "code",
   "outputs": [
    {
     "name": "stdout",
     "output_type": "stream",
     "text": [
      "0      3.0\n",
      "1     10.0\n",
      "2     11.0\n",
      "3    -64.0\n",
      "4     81.0\n",
      "5    -59.0\n",
      "6    -15.0\n",
      "7     71.0\n",
      "8    -65.0\n",
      "9    -93.0\n",
      "10    26.0\n",
      "11    29.0\n",
      "12    44.0\n",
      "13    28.0\n",
      "14    30.0\n",
      "dtype: float64\n"
     ]
    }
   ],
   "source": [
    "import pandas as pd\n",
    "import numpy as np\n",
    "\n",
    "def fill_na_with_array(a, b):\n",
    "    # Проверим, что обе серии имеют одинаковый размер\n",
    "    if len(a) != len(b):\n",
    "        raise ValueError(\"Серии должны быть одинакового размера\")\n",
    "    \n",
    "    # Заполняем NaN значения из первой серии значениями из второй серии\n",
    "    result = a.fillna(b)\n",
    "    \n",
    "    return result\n",
    "\n",
    "# Пример использования\n",
    "a = pd.Series([np.nan, 10, np.nan, np.nan, 81, -59, -15, np.nan, np.nan, -93, np.nan, 29, 44, 28, 30])\n",
    "b = pd.Series([3, -23, 11, -64, 59, 33, -25, 71, -65, 60, 26, -66, -20, -80, -66])\n",
    "\n",
    "result = fill_na_with_array(a, b)\n",
    "print(result)"
   ],
   "metadata": {
    "collapsed": false,
    "ExecuteTime": {
     "end_time": "2024-06-23T17:44:44.905945Z",
     "start_time": "2024-06-23T17:44:44.891914900Z"
    }
   },
   "id": "4064da260f6ffa5c",
   "execution_count": 8
  },
  {
   "cell_type": "code",
   "outputs": [
    {
     "name": "stdout",
     "output_type": "stream",
     "text": [
      "0      3.0\n",
      "1     10.0\n",
      "2     11.0\n",
      "3    -64.0\n",
      "4     81.0\n",
      "5    -59.0\n",
      "6    -15.0\n",
      "7     71.0\n",
      "8    -65.0\n",
      "9    -93.0\n",
      "10    26.0\n",
      "11    29.0\n",
      "12    44.0\n",
      "13    28.0\n",
      "14    30.0\n",
      "dtype: float64\n"
     ]
    }
   ],
   "source": [
    "import pandas as pd\n",
    "\n",
    "def fill_na_with_array(a, b):\n",
    "    c = a.copy()\n",
    "    c[a.isna()] = b[a.isna()]\n",
    "    return c\n",
    "\n",
    "a = pd.Series([np.nan, 10, np.nan, np.nan, 81, -59, -15, np.nan, np.nan, -93, np.nan, 29, 44, 28, 30])\n",
    "b = pd.Series([3, -23, 11, -64, 59, 33, -25, 71, -65, 60, 26, -66, -20, -80, -66])\n",
    "\n",
    "result = fill_na_with_array(a, b)\n",
    "print(result)"
   ],
   "metadata": {
    "collapsed": false,
    "ExecuteTime": {
     "end_time": "2024-06-23T17:47:23.980146Z",
     "start_time": "2024-06-23T17:47:23.968351700Z"
    }
   },
   "id": "53c1941d9fdd49f9",
   "execution_count": 9
  },
  {
   "cell_type": "markdown",
   "source": [
    "3. При помощи Python создайте функцию `lower_sign_invert(a)`, принимающую на вход серию из чисел и возвращающую копию этой серии, в которой изменен знак числа, если ассоциативная метка к нему — буква нижнего регистра. Например, если `a = pd.Series([1, 2, 3, 4], index=['a', 'A', 'B', 'b'])`, то возвращена должна быть серия\n",
    "```\n",
    "a   -1\n",
    "A   2\n",
    "B   3\n",
    "b   -4   \n",
    "```\n"
   ],
   "metadata": {
    "collapsed": false
   },
   "id": "26a71c089fd1cbcc"
  },
  {
   "cell_type": "code",
   "outputs": [
    {
     "name": "stdout",
     "output_type": "stream",
     "text": [
      "a   -1\n",
      "A    2\n",
      "B    3\n",
      "b   -4\n",
      "dtype: int64\n"
     ]
    }
   ],
   "source": [
    "import pandas as pd\n",
    "\n",
    "def lower_sign_invert(a):\n",
    "    # Создаем копию входной серии, чтобы не изменять оригинал\n",
    "    result = a.copy()\n",
    "    \n",
    "    # Изменяем знак чисел в серии для индексов, которые являются буквами нижнего регистра\n",
    "    for idx in result.index:\n",
    "        if isinstance(idx, str) and idx.islower():\n",
    "            result[idx] = -result[idx]\n",
    "    \n",
    "    return result\n",
    "\n",
    "# Пример использования\n",
    "a = pd.Series([1, 2, 3, 4], index=['a', 'A', 'B', 'b'])\n",
    "result = lower_sign_invert(a)\n",
    "print(result)"
   ],
   "metadata": {
    "collapsed": false,
    "ExecuteTime": {
     "end_time": "2024-06-23T17:51:33.863530400Z",
     "start_time": "2024-06-23T17:51:33.848190400Z"
    }
   },
   "id": "3410fb5d590ce3d6",
   "execution_count": 10
  },
  {
   "cell_type": "code",
   "outputs": [],
   "source": [],
   "metadata": {
    "collapsed": false
   },
   "id": "de4d8299636b0a82"
  }
 ],
 "metadata": {
  "kernelspec": {
   "display_name": "Python 3",
   "language": "python",
   "name": "python3"
  },
  "language_info": {
   "codemirror_mode": {
    "name": "ipython",
    "version": 2
   },
   "file_extension": ".py",
   "mimetype": "text/x-python",
   "name": "python",
   "nbconvert_exporter": "python",
   "pygments_lexer": "ipython2",
   "version": "2.7.6"
  }
 },
 "nbformat": 4,
 "nbformat_minor": 5
}
