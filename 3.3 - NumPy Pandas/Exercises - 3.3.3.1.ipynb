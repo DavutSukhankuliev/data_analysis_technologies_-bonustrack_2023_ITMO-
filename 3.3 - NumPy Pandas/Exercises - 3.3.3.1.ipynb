{
 "cells": [
  {
   "cell_type": "markdown",
   "source": [
    "1. Пусть у нас есть некий датафрейм `df` со следующими колонкам:`Column1`, `Column2`, `Column3`:\n",
    "```\n",
    "df = pd.DataFrame({\n",
    "    'Column1': [10, 25, 'NULL', 70, 18],\n",
    "    'Column2': [0, 'NULL', 1, 0, 1],\n",
    "    'Column3': ['1st', '3rd', '3rd', '2nd', '1st']}) \n",
    "```\n",
    "\n",
    "Напишите строку кода на языке Python, которая меняет значения `'1st'`на `1`:\n",
    "Напишите строку кода на языке Python, которая меняет значения `'NULL'` на `NaN` в колонке `'Column1'`:"
   ],
   "metadata": {
    "collapsed": false
   },
   "id": "3e641e42f558c220"
  },
  {
   "cell_type": "code",
   "outputs": [
    {
     "name": "stdout",
     "output_type": "stream",
     "text": [
      "  Column1 Column2 Column3\n",
      "0      10       0       1\n",
      "1      25    NULL     3rd\n",
      "2    NULL       1     3rd\n",
      "3      70       0     2nd\n",
      "4      18       1       1\n",
      "   Column1 Column2 Column3\n",
      "0     10.0       0       1\n",
      "1     25.0    NULL     3rd\n",
      "2      NaN       1     3rd\n",
      "3     70.0       0     2nd\n",
      "4     18.0       1       1\n"
     ]
    },
    {
     "name": "stderr",
     "output_type": "stream",
     "text": [
      "C:\\Users\\stalk\\AppData\\Local\\Temp\\ipykernel_19120\\4294702023.py:1: DeprecationWarning: \n",
      "Pyarrow will become a required dependency of pandas in the next major release of pandas (pandas 3.0),\n",
      "(to allow more performant data types, such as the Arrow string type, and better interoperability with other libraries)\n",
      "but was not found to be installed on your system.\n",
      "If this would cause problems for you,\n",
      "please provide us feedback at https://github.com/pandas-dev/pandas/issues/54466\n",
      "        \n",
      "  import pandas as pd\n",
      "C:\\Users\\stalk\\AppData\\Local\\Temp\\ipykernel_19120\\4294702023.py:17: FutureWarning: A value is trying to be set on a copy of a DataFrame or Series through chained assignment using an inplace method.\n",
      "The behavior will change in pandas 3.0. This inplace method will never work because the intermediate object on which we are setting values always behaves as a copy.\n",
      "\n",
      "For example, when doing 'df[col].method(value, inplace=True)', try using 'df.method({col: value}, inplace=True)' or df[col] = df[col].method(value) instead, to perform the operation inplace on the original object.\n",
      "\n",
      "\n",
      "  df['Column1'].replace('NULL', np.nan, inplace=True)\n",
      "C:\\Users\\stalk\\AppData\\Local\\Temp\\ipykernel_19120\\4294702023.py:17: FutureWarning: Downcasting behavior in `replace` is deprecated and will be removed in a future version. To retain the old behavior, explicitly call `result.infer_objects(copy=False)`. To opt-in to the future behavior, set `pd.set_option('future.no_silent_downcasting', True)`\n",
      "  df['Column1'].replace('NULL', np.nan, inplace=True)\n"
     ]
    }
   ],
   "source": [
    "import pandas as pd\n",
    "import numpy as np\n",
    "\n",
    "# Создание DataFrame\n",
    "df = pd.DataFrame({\n",
    "    'Column1': [10, 25, 'NULL', 70, 18],\n",
    "    'Column2': [0, 'NULL', 1, 0, 1],\n",
    "    'Column3': ['1st', '3rd', '3rd', '2nd', '1st']\n",
    "})\n",
    "\n",
    "# Замена значений '1st' на 1 во всём DataFrame\n",
    "df.replace('1st', 1, inplace=True)\n",
    "\n",
    "print(df)\n",
    "\n",
    "# Замена значений 'NULL' на NaN в колонке 'Column1'\n",
    "df['Column1'].replace('NULL', np.nan, inplace=True)\n",
    "\n",
    "# Печать результата\n",
    "print(df)"
   ],
   "metadata": {
    "collapsed": false,
    "ExecuteTime": {
     "end_time": "2024-06-24T22:00:34.680342700Z",
     "start_time": "2024-06-24T22:00:33.650793100Z"
    }
   },
   "id": "e2b89bedaf85f660",
   "execution_count": 1
  },
  {
   "cell_type": "markdown",
   "source": [
    "2. Пусть у нас есть некий датафрейм `df` со следующими колонкам:`Column1`, `Column2`, `Column3`:\n",
    "```\n",
    "df = pd.DataFrame({\n",
    "    'Column1': [10, 25, 'NULL', 70, 18],\n",
    "    'Column2': [0, 'NULL', 1, 0, 1],\n",
    "    'Column3': ['1st', '3rd', '3rd', '2nd', '1st']}) \n",
    "```\n",
    "Cколько колонок останется в нашем датафрейме после выполнения следующей строки кода `df.drop({'Column1','Column2'}, axis=1)`:"
   ],
   "metadata": {
    "collapsed": false
   },
   "id": "77a908d9d9d81a21"
  },
  {
   "cell_type": "code",
   "outputs": [
    {
     "name": "stdout",
     "output_type": "stream",
     "text": [
      "Index(['Column1', 'Column2', 'Column3'], dtype='object')\n"
     ]
    }
   ],
   "source": [
    "import pandas as pd\n",
    "\n",
    "# Создание DataFrame\n",
    "df = pd.DataFrame({\n",
    "    'Column1': [10, 25, 'NULL', 70, 18],\n",
    "    'Column2': [0, 'NULL', 1, 0, 1],\n",
    "    'Column3': ['1st', '3rd', '3rd', '2nd', '1st']\n",
    "})\n",
    "\n",
    "# Удаление колонок 'Column1' и 'Column2'\n",
    "df.drop({'Column1', 'Column2'}, axis=1)\n",
    "\n",
    "# Печать оставшихся колонок\n",
    "print(df.columns)"
   ],
   "metadata": {
    "collapsed": false,
    "ExecuteTime": {
     "end_time": "2024-06-24T22:04:53.054622400Z",
     "start_time": "2024-06-24T22:04:53.046477800Z"
    }
   },
   "id": "8a6eff29b516ba81",
   "execution_count": 3
  },
  {
   "cell_type": "markdown",
   "source": [
    "3. Средствами библиотеки Pandas языка Python считайте данные из файле `titanic.csv` (набор данных выживших пассажиров Титаника: класс кабины, возраст, пол, порт посадки и т.д.) и введите названия колонок (через запятую), в которых есть значения `NaN`:"
   ],
   "metadata": {
    "collapsed": false
   },
   "id": "1c4bef15db200dd0"
  },
  {
   "cell_type": "code",
   "outputs": [
    {
     "name": "stdout",
     "output_type": "stream",
     "text": [
      "Age\n"
     ]
    }
   ],
   "source": [
    "import pandas as pd\n",
    "\n",
    "# Загрузка данных из файла titanic.csv\n",
    "df = pd.read_csv('Exercises - 3.3.2 titanic.csv')\n",
    "\n",
    "# Проверка на наличие значений NaN в каждом столбце и выбор столбцов с NaN\n",
    "columns_with_nan = df.columns[df.isna().any()].tolist()\n",
    "\n",
    "# Вывод названий колонок через запятую\n",
    "print(\", \".join(columns_with_nan))"
   ],
   "metadata": {
    "collapsed": false,
    "ExecuteTime": {
     "end_time": "2024-06-24T22:07:00.658960500Z",
     "start_time": "2024-06-24T22:07:00.633624600Z"
    }
   },
   "id": "2aea301c5df406c2",
   "execution_count": 5
  },
  {
   "cell_type": "code",
   "outputs": [],
   "source": [],
   "metadata": {
    "collapsed": false
   },
   "id": "248e2004314c1a44"
  }
 ],
 "metadata": {
  "kernelspec": {
   "display_name": "Python 3",
   "language": "python",
   "name": "python3"
  },
  "language_info": {
   "codemirror_mode": {
    "name": "ipython",
    "version": 2
   },
   "file_extension": ".py",
   "mimetype": "text/x-python",
   "name": "python",
   "nbconvert_exporter": "python",
   "pygments_lexer": "ipython2",
   "version": "2.7.6"
  }
 },
 "nbformat": 4,
 "nbformat_minor": 5
}
