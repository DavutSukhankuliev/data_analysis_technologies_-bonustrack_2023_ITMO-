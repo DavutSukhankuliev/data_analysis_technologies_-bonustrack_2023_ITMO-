{
 "cells": [
  {
   "cell_type": "markdown",
   "source": [
    "1. Дан некий датафрейм `df_data`, состоящий из одной колонки `'Date'` с датами в строковом формате.\n",
    "```\n",
    "                Date\n",
    "0   01-05-2022\n",
    "1   01-06-2022\n",
    "2   01-07-2022\n",
    "3   01-08-2022\n",
    "4   01-09-2022\n",
    "5   01-10-2022\n",
    "6   01-11-2022\n",
    "7   01-12-2022\n",
    "8   01-01-2023\n",
    "9   01-02-2023\n",
    "10  01-03-2023\n",
    "11  01-04-2023\n",
    "12  01-05-2023\n",
    "```\n",
    "\n",
    "Выполнение какой строки кода (вариантов может быть несколько) приведет к изменению типа данных на `datetime64[ns]`?\n",
    "\n",
    "df_data = df_data.astype({'Date': np.datetime64})\n",
    "df_data = df_data.astype('datetime64')\n",
    "df_data = df_data.astype('datetime64[ns]')"
   ],
   "metadata": {
    "collapsed": false
   },
   "id": "ad01d83dffe6748d"
  },
  {
   "cell_type": "markdown",
   "source": [
    "2. Средствами библиотеки Pandas языка Python в создайте датафрейм `df_all` из файла `Exercises - 3.3.3 daily_weather_data.csv.csv`, в котором собраны данные о погоде в столицах мира по месяцам с 2018 по 2022 год. Напишите строки кода, которые приведут к требуемым результатам. Рекомендуем выполнять данное задание по порядку.\n",
    "\n",
    "Приведите значения колонки `'date'` к типу `datetime64[ns]`\n",
    "Установите значения колонки `'date'` в качестве индексов\n",
    "Оставьте в датафрейме только те строки, у которых столица `Sukhumi`\n",
    "Сгруппируйте данные по годам и выведите среднее значение средней температуры `'tavg'` за каждый год в `Sukhumi`\n",
    "Введите значение средней температуры за `2021` год в `Sukhumi` (округлите до целого)."
   ],
   "metadata": {
    "collapsed": false
   },
   "id": "6477f31d28a16ae8"
  },
  {
   "cell_type": "code",
   "outputs": [
    {
     "name": "stdout",
     "output_type": "stream",
     "text": [
      "date\n",
      "2018-12-31    16.789024\n",
      "2019-12-31    14.614521\n",
      "2020-12-31    14.867760\n",
      "2021-12-31    15.084658\n",
      "2022-12-31    15.390074\n",
      "Freq: YE-DEC, Name: tavg, dtype: float64\n",
      "Средняя температура за 2021 год в Sukhumi: date\n",
      "2021-12-31    15.0\n",
      "Freq: YE-DEC, Name: tavg, dtype: float64\n"
     ]
    },
    {
     "name": "stderr",
     "output_type": "stream",
     "text": [
      "C:\\Users\\stalk\\AppData\\Local\\Temp\\ipykernel_13364\\1677823727.py:16: FutureWarning: 'Y' is deprecated and will be removed in a future version, please use 'YE' instead.\n",
      "  average_temp_per_year = df_sukhumi['tavg'].resample('Y').mean()\n"
     ]
    }
   ],
   "source": [
    "import pandas as pd\n",
    "import numpy as np\n",
    "\n",
    "# Загрузка данных из файла daily_weather_data.csv\n",
    "df_all = pd.read_csv('Exercises - 3.3.3 daily_weather_data.csv')\n",
    "\n",
    "# Приведение значений колонки 'date' к типу datetime64[ns]\n",
    "df_all['date'] = pd.to_datetime(df_all['date'], format='%d-%m-%Y')\n",
    "# or\n",
    "df_all = df_all.astype({'date': np.datetime64})\n",
    "\n",
    "# Установка значений колонки 'date' в качестве индексов\n",
    "df_all.set_index('date', inplace=True)\n",
    "# or\n",
    "df_all = df_all.set_index('date')\n",
    "\n",
    "# Оставляем только строки, у которых столица 'Sukhumi'\n",
    "df_sukhumi = df_all[df_all['city'] == 'Sukhumi']\n",
    "# or\n",
    "df_all = df_all[(df_all['city'] == 'Sukhumi')]\n",
    "\n",
    "# Сгруппируем данные по годам и вычислим среднее значение средней температуры 'tavg' за каждый год в Sukhumi\n",
    "average_temp_per_year = df_sukhumi['tavg'].resample('Y').mean()\n",
    "# or\n",
    "df_all = df_all[['tavg']].groupby(pd.Grouper(freq='1Y')).mean()\n",
    "\n",
    "print(average_temp_per_year)\n",
    "\n",
    "# Выводим значение средней температуры за 2021 год, округлённое до целого числа\n",
    "average_temp_2021 = round(average_temp_per_year.loc['2021'])\n",
    "print(f\"Средняя температура за 2021 год в Sukhumi: {average_temp_2021}\")"
   ],
   "metadata": {
    "collapsed": false,
    "ExecuteTime": {
     "end_time": "2024-06-24T22:45:31.952784700Z",
     "start_time": "2024-06-24T22:45:30.832142600Z"
    }
   },
   "id": "db93ec9b453cbdba",
   "execution_count": 3
  },
  {
   "cell_type": "code",
   "outputs": [],
   "source": [],
   "metadata": {
    "collapsed": false
   },
   "id": "a0d8f40657330b30"
  }
 ],
 "metadata": {
  "kernelspec": {
   "display_name": "Python 3",
   "language": "python",
   "name": "python3"
  },
  "language_info": {
   "codemirror_mode": {
    "name": "ipython",
    "version": 2
   },
   "file_extension": ".py",
   "mimetype": "text/x-python",
   "name": "python",
   "nbconvert_exporter": "python",
   "pygments_lexer": "ipython2",
   "version": "2.7.6"
  }
 },
 "nbformat": 4,
 "nbformat_minor": 5
}
