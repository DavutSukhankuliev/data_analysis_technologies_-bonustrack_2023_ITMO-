{
 "cells": [
  {
   "cell_type": "markdown",
   "source": [
    "1. Дан следующий трехмерный массив `arr`:\n",
    "$$\n",
    "\\begin{array}{|c|c|с|}\n",
    "\\hline        \n",
    "\\textbf{1} & \\textbf{2} & \\textbf{3}\\\\ \\hline        \n",
    "\\textbf{4} & \\textbf{5} & \\textbf{6}\\\\ \\hline\n",
    "\\textbf{7} & \\textbf{8} & \\textbf{9}\\\\ \\hline       \n",
    "\\end{array}\n",
    "$$\n",
    "При помощи Python и метода `.size` необходимо вывести размерность получаемых ниже элементов массива.\n",
    "Выведите размерность для `arr[:2,1:]`\n",
    "Выведите размерность для `arr[2]`\n",
    "Выведите размерность для `arr[:, :2]`\n",
    "Выведите размерность для `arr[1, :2]`"
   ],
   "metadata": {
    "collapsed": false
   },
   "id": "16964602816eb1cf"
  },
  {
   "cell_type": "code",
   "outputs": [
    {
     "name": "stdout",
     "output_type": "stream",
     "text": [
      "Размерность arr[:2, 1:]: (2, 2) , Количество элементов: 4\n",
      "Размерность arr[2]: (3,) , Количество элементов: 3\n",
      "Размерность arr[:, :2]: (3, 2) , Количество элементов: 6\n",
      "Размерность arr[1, :2]: (2,) , Количество элементов: 2\n"
     ]
    }
   ],
   "source": [
    "import numpy as np\n",
    "\n",
    "# Создаем трехмерный массив\n",
    "arr = np.array([\n",
    "    [1, 2, 3],\n",
    "    [4, 5, 6],\n",
    "    [7, 8, 9]\n",
    "])\n",
    "\n",
    "# Размерность для arr[:2, 1:]\n",
    "subarray1 = arr[:2, 1:]\n",
    "print(\"Размерность arr[:2, 1:]:\", subarray1.shape, \", Количество элементов:\", subarray1.size)\n",
    "\n",
    "# Размерность для arr[2]\n",
    "subarray2 = arr[2]\n",
    "print(\"Размерность arr[2]:\", subarray2.shape, \", Количество элементов:\", subarray2.size)\n",
    "\n",
    "# Размерность для arr[:, :2]\n",
    "subarray3 = arr[:, :2]\n",
    "print(\"Размерность arr[:, :2]:\", subarray3.shape, \", Количество элементов:\", subarray3.size)\n",
    "\n",
    "# Размерность для arr[1, :2]\n",
    "subarray4 = arr[1, :2]\n",
    "print(\"Размерность arr[1, :2]:\", subarray4.shape, \", Количество элементов:\", subarray4.size)"
   ],
   "metadata": {
    "collapsed": false,
    "ExecuteTime": {
     "end_time": "2024-06-23T16:25:57.525573500Z",
     "start_time": "2024-06-23T16:25:57.506988800Z"
    }
   },
   "id": "e85727f716572fdc",
   "execution_count": 3
  },
  {
   "cell_type": "markdown",
   "source": [
    "2. Напишите разультаты выполнения кода, написанного на языке Python.\n",
    "\n",
    "Выведите размерность `.size` массива `np.append(np.zeros((2,2)),np.array([[1,2],[4,5]]))`:\n",
    "Выведите количество строк массива `np.append(np.zeros((2,2)),np.array([[1,2],[4,5]]),axis = 1)`:\n",
    "Выведите значение последнего элемента массива `np.sort(np.append(np.array([[1,2],[3,0]]),np.array([[1,2],[5,4]]),axis = 0),axis = 0)`:\n",
    "Сколько элементов будет выведено в результате суммирования `np.append(np.array([[1,2],[3,0]]),np.array([[1,2],[5,4]]),axis = 0).sum(axis = 1)`:"
   ],
   "metadata": {
    "collapsed": false
   },
   "id": "d9662c6da403ede4"
  },
  {
   "cell_type": "code",
   "outputs": [
    {
     "name": "stdout",
     "output_type": "stream",
     "text": [
      "8\n",
      "[[0. 0. 1. 2.]\n",
      " [0. 0. 4. 5.]]\n",
      "[[1 0]\n",
      " [1 2]\n",
      " [3 2]\n",
      " [5 4]]\n",
      "[3 3 3 9]\n"
     ]
    }
   ],
   "source": [
    "# Выведите размерность `.size` массива `np.append(np.zeros((2,2)),np.array([[1,2],[4,5]]))`:\n",
    "print(np.append(np.zeros((2,2)),np.array([[1,2],[4,5]])).size)\n",
    "\n",
    "# Выведите количество строк массива `np.append(np.zeros((2,2)),np.array([[1,2],[4,5]]),axis = 1)`:\n",
    "print(np.append(np.zeros((2,2)),np.array([[1,2],[4,5]]),axis = 1))\n",
    "\n",
    "# Выведите значение последнего элемента массива `np.sort(np.append(np.array([[1,2],[3,0]]),np.array([[1,2],[5,4]]),axis = 0),axis = 0)`:\n",
    "print(np.sort(np.append(np.array([[1,2],[3,0]]),np.array([[1,2],[5,4]]),axis = 0),axis = 0))\n",
    "\n",
    "# Сколько элементов будет выведено в результате суммирования `np.append(np.array([[1,2],[3,0]]),np.array([[1,2],[5,4]]),axis = 0).sum(axis = 1)`:\n",
    "print(np.append(np.array([[1,2],[3,0]]),np.array([[1,2],[5,4]]),axis = 0).sum(axis = 1))"
   ],
   "metadata": {
    "collapsed": false,
    "ExecuteTime": {
     "end_time": "2024-06-23T16:32:21.193838800Z",
     "start_time": "2024-06-23T16:32:21.184746500Z"
    }
   },
   "id": "d1f231fe6481d7b9",
   "execution_count": 9
  },
  {
   "cell_type": "markdown",
   "source": [
    "3. Пусть даны две квадратные матрицы `a, b` одинаковой размерности. При помощи Python реализуйте функцию с именем `vertical_concat(a, b)`, которая принимает на вход данные матрицы и соединяет их вдоль строк (в результате должна получиться матрица с таким же числом столбцов, как в исходных, и вдвое большим количеством строк). Например, если исходные матрицы\n",
    "```\n",
    "a = np.array([\n",
    "    [1, 2, 3],\n",
    "    [4, 5, 6]\n",
    "])\n",
    "b = np.array([\n",
    "    [1, 1, 1],\n",
    "    [1, 1, 1]\n",
    "]), \n",
    "```\n",
    "тогда результат\n",
    "```\n",
    "np.array([\n",
    "    [1, 2, 3],\n",
    "    [4, 5, 6],\n",
    "    [1, 1, 1],\n",
    "    [1, 1, 1]\n",
    "])     \n",
    "```\n"
   ],
   "metadata": {
    "collapsed": false
   },
   "id": "86071ea07ae6ed2e"
  },
  {
   "cell_type": "code",
   "outputs": [
    {
     "name": "stdout",
     "output_type": "stream",
     "text": [
      "[[1 2 3]\n",
      " [4 5 6]\n",
      " [1 1 1]\n",
      " [1 1 1]]\n"
     ]
    }
   ],
   "source": [
    "import numpy as np\n",
    "\n",
    "def vertical_concat(a, b):\n",
    "    # Проверим, что обе матрицы имеют одинаковую размерность\n",
    "    if a.shape != b.shape:\n",
    "        raise ValueError(\"Матрицы должны быть одинаковой размерности\")\n",
    "    \n",
    "    # Соединяем матрицы вдоль строк (оси 0)\n",
    "    result = np.vstack((a, b))\n",
    "    return result\n",
    "\n",
    "# Пример использования\n",
    "a = np.array([\n",
    "    [1, 2, 3],\n",
    "    [4, 5, 6]\n",
    "])\n",
    "\n",
    "b = np.array([\n",
    "    [1, 1, 1],\n",
    "    [1, 1, 1]\n",
    "])\n",
    "\n",
    "result = vertical_concat(a, b)\n",
    "print(result)"
   ],
   "metadata": {
    "collapsed": false,
    "ExecuteTime": {
     "end_time": "2024-06-23T16:38:09.010892500Z",
     "start_time": "2024-06-23T16:38:08.995264400Z"
    }
   },
   "id": "a9f2d069fa106689",
   "execution_count": 10
  },
  {
   "cell_type": "markdown",
   "source": [
    "4. Пусть дана прямоугольная матрица `a`. При помощи Python реализуйте функцию с именем `arr_min(a)`, которая выводит минимальные элементы из каждой строки данной матрицы. Например,\n",
    "```\n",
    "a = np.array([\n",
    "    [3, 6, 3],\n",
    "    [4, 8, 19]\n",
    "])\n",
    "```\n",
    "тогда результат `array([ 3, 4])`"
   ],
   "metadata": {
    "collapsed": false
   },
   "id": "9ee3c0fa3948371b"
  },
  {
   "cell_type": "code",
   "outputs": [
    {
     "name": "stdout",
     "output_type": "stream",
     "text": [
      "[3 4]\n"
     ]
    }
   ],
   "source": [
    "import numpy as np\n",
    "\n",
    "def arr_min(a):\n",
    "    # Если входной массив не двухмерный, выбрасываем исключение\n",
    "    if len(a.shape) != 2:\n",
    "        raise ValueError(\"Входной массив должен быть двумерной матрицей\")\n",
    "    \n",
    "    # Используем np.min с указанием оси 1 для нахождения минимального элемента в каждой строке\n",
    "    result = np.min(a, axis=1)\n",
    "    return result\n",
    "\n",
    "# Пример использования\n",
    "a = np.array([\n",
    "    [3, 6, 3],\n",
    "    [4, 8, 19]\n",
    "])\n",
    "\n",
    "result = arr_min(a)\n",
    "print(result)"
   ],
   "metadata": {
    "collapsed": false,
    "ExecuteTime": {
     "end_time": "2024-06-23T16:39:59.469458300Z",
     "start_time": "2024-06-23T16:39:59.461721100Z"
    }
   },
   "id": "d97741144efabf47",
   "execution_count": 11
  },
  {
   "cell_type": "code",
   "outputs": [],
   "source": [],
   "metadata": {
    "collapsed": false
   },
   "id": "b8a16629ff8bbd93"
  }
 ],
 "metadata": {
  "kernelspec": {
   "display_name": "Python 3",
   "language": "python",
   "name": "python3"
  },
  "language_info": {
   "codemirror_mode": {
    "name": "ipython",
    "version": 2
   },
   "file_extension": ".py",
   "mimetype": "text/x-python",
   "name": "python",
   "nbconvert_exporter": "python",
   "pygments_lexer": "ipython2",
   "version": "2.7.6"
  }
 },
 "nbformat": 4,
 "nbformat_minor": 5
}
