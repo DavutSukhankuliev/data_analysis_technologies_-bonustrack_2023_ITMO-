{
 "cells": [
  {
   "cell_type": "markdown",
   "source": [
    "1. Есть одномерный массив `a = np.array([29, 47, 9, 34, 26, 27, 16, 41, 14, 4, 38, 25, 24, 18, 45, 11])`, который надо привести к форме `(2, -1)`.В качестве ответа надо ввести сумму максимальных по столбцам элементов. Например, если массив\n",
    "`a = np.array([35, 3, 79, 75, 28, 23, 12, 13, 53])`,\n",
    "надо привести к форме `(3, 3)`, то результат `75 + 28 + 79 = 182`\n"
   ],
   "metadata": {
    "collapsed": false
   },
   "id": "50f905d5a745f460"
  },
  {
   "cell_type": "code",
   "outputs": [
    {
     "name": "stdout",
     "output_type": "stream",
     "text": [
      "287\n"
     ]
    }
   ],
   "source": [
    "import numpy as np\n",
    "\n",
    "a = np.array([29, 47, 9, 34, 26, 27, 16, 41, 14, 4, 38, 25, 24, 18, 45, 11])\n",
    "\n",
    "# Преобразуем массив к форме (2, -1)\n",
    "reshaped_a = a.reshape(2, -1)\n",
    "\n",
    "# Найдем максимальные элементы по столбцам\n",
    "max_by_columns = np.max(reshaped_a, axis=0)\n",
    "\n",
    "# Суммируем максимальные элементы\n",
    "result = np.sum(max_by_columns)\n",
    "\n",
    "print(result)"
   ],
   "metadata": {
    "collapsed": false,
    "ExecuteTime": {
     "end_time": "2024-06-23T17:14:01.248292100Z",
     "start_time": "2024-06-23T17:14:01.122885Z"
    }
   },
   "id": "9f547ae9509882d2",
   "execution_count": 1
  },
  {
   "cell_type": "code",
   "outputs": [],
   "source": [],
   "metadata": {
    "collapsed": false
   },
   "id": "3f785611054c0c6e"
  }
 ],
 "metadata": {
  "kernelspec": {
   "display_name": "Python 3",
   "language": "python",
   "name": "python3"
  },
  "language_info": {
   "codemirror_mode": {
    "name": "ipython",
    "version": 2
   },
   "file_extension": ".py",
   "mimetype": "text/x-python",
   "name": "python",
   "nbconvert_exporter": "python",
   "pygments_lexer": "ipython2",
   "version": "2.7.6"
  }
 },
 "nbformat": 4,
 "nbformat_minor": 5
}
