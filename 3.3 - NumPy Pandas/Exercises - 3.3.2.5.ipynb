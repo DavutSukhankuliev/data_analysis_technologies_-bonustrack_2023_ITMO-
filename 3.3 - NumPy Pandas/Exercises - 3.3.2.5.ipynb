{
 "cells": [
  {
   "cell_type": "markdown",
   "source": [
    "1. При помощи Python создайте функцию `isna_columns(a)`, принимающую на вход датафрейм. Функция должна вернуть серию, в которой ассоциативные метки — все названия колонок исходного датафрейма, а значения принимают значение `True`, если все значения в этой колонке датафрейма являются `NaN`-значениями, `False` — иначе. Например, если\n",
    "```\n",
    "a = pd.DataFrame({\n",
    "    'A': [1, 2, 4],\n",
    "    'B': [np.NaN, np.NaN, np.NaN],\n",
    "    'C': [np.NaN, 6, np.NaN]\n",
    "})\n",
    "```\n",
    ", то результатом вызова функции должена быть такая серия:\n",
    "```\n",
    "A   False\n",
    "B   True\n",
    "C   False\n",
    "dtype: bool\n",
    "```"
   ],
   "metadata": {
    "collapsed": false
   },
   "id": "1a8ab95bb3f13aff"
  },
  {
   "cell_type": "code",
   "outputs": [
    {
     "name": "stdout",
     "output_type": "stream",
     "text": [
      "A    False\n",
      "B     True\n",
      "C    False\n",
      "dtype: bool\n"
     ]
    },
    {
     "name": "stderr",
     "output_type": "stream",
     "text": [
      "C:\\Users\\stalk\\AppData\\Local\\Temp\\ipykernel_20444\\3705170286.py:1: DeprecationWarning: \n",
      "Pyarrow will become a required dependency of pandas in the next major release of pandas (pandas 3.0),\n",
      "(to allow more performant data types, such as the Arrow string type, and better interoperability with other libraries)\n",
      "but was not found to be installed on your system.\n",
      "If this would cause problems for you,\n",
      "please provide us feedback at https://github.com/pandas-dev/pandas/issues/54466\n",
      "        \n",
      "  import pandas as pd\n"
     ]
    }
   ],
   "source": [
    "import pandas as pd\n",
    "import numpy as np\n",
    "\n",
    "def isna_columns(a):\n",
    "    # Создадим серию, где True означает, что все значения в колонке NaN, False - иначе\n",
    "    result = a.isna().all()\n",
    "    return result\n",
    "\n",
    "# Пример использования\n",
    "a = pd.DataFrame({\n",
    "    'A': [1, 2, 4],\n",
    "    'B': [np.NaN, np.NaN, np.NaN],\n",
    "    'C': [np.NaN, 6, np.NaN]\n",
    "})\n",
    "\n",
    "result = isna_columns(a)\n",
    "print(result)"
   ],
   "metadata": {
    "collapsed": false,
    "ExecuteTime": {
     "end_time": "2024-06-23T18:14:58.611888700Z",
     "start_time": "2024-06-23T18:14:58.109894700Z"
    }
   },
   "id": "d3e1a8c80a20a5f5",
   "execution_count": 1
  },
  {
   "cell_type": "code",
   "outputs": [
    {
     "name": "stdout",
     "output_type": "stream",
     "text": [
      "A    False\n",
      "B     True\n",
      "C    False\n",
      "dtype: bool\n"
     ]
    }
   ],
   "source": [
    "import pandas as pd\n",
    "import numpy as np\n",
    "\n",
    "def isna_columns(a):\n",
    "    return a.isna().all(axis=0)\n",
    "\n",
    "# Пример использования\n",
    "a = pd.DataFrame({\n",
    "    'A': [1, 2, 4],\n",
    "    'B': [np.NaN, np.NaN, np.NaN],\n",
    "    'C': [np.NaN, 6, np.NaN]\n",
    "})\n",
    "\n",
    "result = isna_columns(a)\n",
    "print(result)"
   ],
   "metadata": {
    "collapsed": false,
    "ExecuteTime": {
     "end_time": "2024-06-23T18:15:44.046066700Z",
     "start_time": "2024-06-23T18:15:44.028464700Z"
    }
   },
   "id": "e46ba653415d818",
   "execution_count": 2
  },
  {
   "cell_type": "markdown",
   "source": [
    "2. При помощи Python создайте функцию `is_mean_greater_than_median(a)`, принимающую на вход датафрейм. Функция должна вернуть серию, в которой ассоциативные метки — названия колонок исходного датафрейма, а значения `True`, если среднее по этому столбцу строго больше медианы, `False` иначе. Например, если\n",
    "```\n",
    "a = pd.DataFrame({\n",
    "    'A': [100, 0, 0],\n",
    "    'B': [0, 100, 100],\n",
    "    'C': [1, 2, 3]\n",
    "})\n",
    "```\n",
    ", то результатом вызова функции должена быть такая серия:\n",
    "```\n",
    "A   True\n",
    "B   False\n",
    "C   False\n",
    "dtype: bool\n",
    "```"
   ],
   "metadata": {
    "collapsed": false
   },
   "id": "28a5189f6ea0ae74"
  },
  {
   "cell_type": "code",
   "outputs": [
    {
     "name": "stdout",
     "output_type": "stream",
     "text": [
      "A     True\n",
      "B    False\n",
      "C    False\n",
      "dtype: bool\n"
     ]
    }
   ],
   "source": [
    "import pandas as pd\n",
    "\n",
    "def is_mean_greater_than_median(a):\n",
    "    # Применяем функцию mean() и median() к каждому столбцу и сравниваем значения\n",
    "    result = (a.mean() > a.median())\n",
    "    \n",
    "    return result\n",
    "\n",
    "# Пример использования\n",
    "a = pd.DataFrame({\n",
    "    'A': [100, 0, 0],\n",
    "    'B': [0, 100, 100],\n",
    "    'C': [1, 2, 3]\n",
    "})\n",
    "\n",
    "result = is_mean_greater_than_median(a)\n",
    "print(result)"
   ],
   "metadata": {
    "collapsed": false,
    "ExecuteTime": {
     "end_time": "2024-06-23T18:17:32.611224Z",
     "start_time": "2024-06-23T18:17:32.589757900Z"
    }
   },
   "id": "4fa62da7dee1f96a",
   "execution_count": 3
  },
  {
   "cell_type": "markdown",
   "source": [
    "3. При помощи Python создайте функцию `column_interval_len(a)`, принимающую на вход датафрейм. Функция должна вернуть серию, в которой ассоциативные метки — названия колонок исходного датафрейма, а значения — разность максимального и минимального значения в колонке. Например, если\n",
    "```\n",
    "a = pd.DataFrame({\n",
    "    'A': [1, 2, 3],\n",
    "    'B': [0, -100, 100],\n",
    "    'C': [12, 12, 12]\n",
    "})\n",
    "```\n",
    ", то результатом вызова функции должена быть такая серия:\n",
    "```\n",
    "A   2\n",
    "B   200\n",
    "C   0\n",
    "```"
   ],
   "metadata": {
    "collapsed": false
   },
   "id": "b625a942df346ed2"
  },
  {
   "cell_type": "code",
   "outputs": [
    {
     "name": "stdout",
     "output_type": "stream",
     "text": [
      "A      2\n",
      "B    200\n",
      "C      0\n",
      "dtype: int64\n"
     ]
    }
   ],
   "source": [
    "import pandas as pd\n",
    "\n",
    "def column_interval_len(a):\n",
    "    # Рассчитываем разность максимального и минимального значения в каждом столбце\n",
    "    result = a.max() - a.min()\n",
    "    \n",
    "    return result\n",
    "\n",
    "# Пример использования\n",
    "a = pd.DataFrame({\n",
    "    'A': [1, 2, 3],\n",
    "    'B': [0, -100, 100],\n",
    "    'C': [12, 12, 12]\n",
    "})\n",
    "\n",
    "result = column_interval_len(a)\n",
    "print(result)"
   ],
   "metadata": {
    "collapsed": false,
    "ExecuteTime": {
     "end_time": "2024-06-23T18:18:57.898946Z",
     "start_time": "2024-06-23T18:18:57.889910500Z"
    }
   },
   "id": "5fc95320fb4e3ce6",
   "execution_count": 4
  },
  {
   "cell_type": "code",
   "outputs": [],
   "source": [],
   "metadata": {
    "collapsed": false
   },
   "id": "7a76f55c19414c9d"
  }
 ],
 "metadata": {
  "kernelspec": {
   "display_name": "Python 3",
   "language": "python",
   "name": "python3"
  },
  "language_info": {
   "codemirror_mode": {
    "name": "ipython",
    "version": 2
   },
   "file_extension": ".py",
   "mimetype": "text/x-python",
   "name": "python",
   "nbconvert_exporter": "python",
   "pygments_lexer": "ipython2",
   "version": "2.7.6"
  }
 },
 "nbformat": 4,
 "nbformat_minor": 5
}
