{
 "cells": [
  {
   "cell_type": "markdown",
   "source": [
    "1. При помощи Python реализуйте функцию с именем `new_arr(arr)`, которая заменяет значения на `0` на границе и оставляет неизменными значения внутри. Возвращать функция должна измененный массив. Например, если дан массив вида\n",
    "$$\n",
    "\\begin{array}{|c|c|с|}\n",
    "\\hline        \n",
    "\\textbf{1} & \\textbf{2} & \\textbf{3}\\\\ \\hline        \n",
    "\\textbf{4} & \\textbf{5} & \\textbf{6}\\\\ \\hline\n",
    "\\textbf{7} & \\textbf{8} & \\textbf{9}\\\\ \\hline \n",
    "\\textbf{10} & \\textbf{11} & \\textbf{12}\\\\ \\hline        \n",
    "\\end{array}\n",
    "$$\n",
    ", то результирующий массив\n",
    "$$\n",
    "\\begin{array}{|c|c|с|}\n",
    "\\hline        \n",
    "\\textbf{0} & \\textbf{0} & \\textbf{0}\\\\ \\hline        \n",
    "\\textbf{0} & \\textbf{5} & \\textbf{0}\\\\ \\hline\n",
    "\\textbf{0} & \\textbf{8} & \\textbf{0}\\\\ \\hline   \n",
    "\\textbf{0} & \\textbf{0} & \\textbf{0}\\\\ \\hline              \n",
    "\\end{array}\n",
    "$$\n"
   ],
   "metadata": {
    "collapsed": false
   },
   "id": "481a7b6412d82edd"
  },
  {
   "cell_type": "code",
   "outputs": [
    {
     "name": "stdout",
     "output_type": "stream",
     "text": [
      "[[0 0 0]\n",
      " [0 5 0]\n",
      " [0 8 0]\n",
      " [0 0 0]]\n"
     ]
    }
   ],
   "source": [
    "import numpy as np\n",
    "\n",
    "def new_arr(arr):\n",
    "    # Проверяем, является ли входной массив двумерным\n",
    "    if len(arr.shape) != 2:\n",
    "        raise ValueError(\"Входной массив должен быть двумерной матрицей\")\n",
    "\n",
    "    # Создаем копию исходного массива, чтобы не изменять оригинал\n",
    "    new_array = np.copy(arr)\n",
    "    \n",
    "    # Заменяем значения на границе массива на 0\n",
    "    new_array[0, :] = 0          # Верхняя граница\n",
    "    new_array[-1, :] = 0         # Нижняя граница\n",
    "    new_array[:, 0] = 0          # Левая граница\n",
    "    new_array[:, -1] = 0         # Правая граница\n",
    "\n",
    "    return new_array\n",
    "\n",
    "# Пример использования\n",
    "arr = np.array([\n",
    "    [1, 2, 3],\n",
    "    [4, 5, 6],\n",
    "    [7, 8, 9],\n",
    "    [10, 11, 12]\n",
    "])\n",
    "\n",
    "result = new_arr(arr)\n",
    "print(result)"
   ],
   "metadata": {
    "collapsed": false,
    "ExecuteTime": {
     "end_time": "2024-06-23T16:46:16.719055200Z",
     "start_time": "2024-06-23T16:46:16.711782100Z"
    }
   },
   "id": "95bdf069ec5e3ceb",
   "execution_count": 4
  },
  {
   "cell_type": "markdown",
   "source": [
    "2. При помощи Python реализуйте функцию с именем `new_arr(m, n)`, которая формирует массив `(3,3)`, значения которого - последовательность чисел от `m` до `n` c одинаковым шагом. На вход функция получает `m`, `n`. Например, `new_arr(51,59)` возвращает:\n",
    "$$\n",
    "\\begin{array}{|c|c|с|}\n",
    "\\hline        \n",
    "\\textbf{51.} & \\textbf{52.} & \\textbf{53.}\\\\ \\hline        \n",
    "\\textbf{54.} & \\textbf{55.} & \\textbf{56.}\\\\ \\hline\n",
    "\\textbf{57.} & \\textbf{58.} & \\textbf{59.}\\\\ \\hline        \n",
    "\\end{array}\n",
    "$$"
   ],
   "metadata": {
    "collapsed": false
   },
   "id": "4d0660ded9718cb8"
  },
  {
   "cell_type": "code",
   "outputs": [
    {
     "name": "stdout",
     "output_type": "stream",
     "text": [
      "[[51. 52. 53.]\n",
      " [54. 55. 56.]\n",
      " [57. 58. 59.]]\n"
     ]
    }
   ],
   "source": [
    "import numpy as np\n",
    "\n",
    "def new_arr(m, n):\n",
    "    if m > n: # если min > max, меняем местами\n",
    "        min1 = m \n",
    "        m = n\n",
    "        n = min1\n",
    "    return np.linspace(m, n, num =  9).reshape(3,3) \n",
    "\n",
    "# Пример использования\n",
    "result = new_arr(51, 59)\n",
    "print(result)"
   ],
   "metadata": {
    "collapsed": false,
    "ExecuteTime": {
     "end_time": "2024-06-23T16:46:17.799195100Z",
     "start_time": "2024-06-23T16:46:17.790561500Z"
    }
   },
   "id": "51b54a19774ddbe3",
   "execution_count": 5
  },
  {
   "cell_type": "markdown",
   "source": [
    "3. При помощи Python реализуйте функцию с именем `new_arr(size)`, которая создает массив указанной размерности, значения которого `0` и `1` (целые числа), расположенные в шахматном порядке. Первый элемент массива равен `1`. Например, `new_arr(3)` возвращает:\n",
    "$$\n",
    "\\begin{array}{|c|c|с|}\n",
    "\\hline        \n",
    "\\textbf{1} & \\textbf{0} & \\textbf{1}\\\\ \\hline        \n",
    "\\textbf{0} & \\textbf{1} & \\textbf{0}\\\\ \\hline\n",
    "\\textbf{1} & \\textbf{0} & \\textbf{1}\\\\ \\hline       \n",
    "\\end{array}\n",
    "$$\n"
   ],
   "metadata": {
    "collapsed": false
   },
   "id": "424b2a7b593488cc"
  },
  {
   "cell_type": "code",
   "outputs": [
    {
     "name": "stdout",
     "output_type": "stream",
     "text": [
      "[[1. 0. 1.]\n",
      " [0. 1. 0.]\n",
      " [1. 0. 1.]]\n"
     ]
    }
   ],
   "source": [
    "import numpy as np\n",
    "\n",
    "def new_arr(size):\n",
    "    if 0 > size: size = 0 # если размер отрицательный, возврашаем матрицу 0 размера\n",
    "    arr = np.zeros([size,size])\n",
    "    arr[::2,::2] = 1 \n",
    "    arr[1::2,1::2] = 1\n",
    "    return arr\n",
    "\n",
    "# Пример использования\n",
    "result = new_arr(3)\n",
    "print(result)"
   ],
   "metadata": {
    "collapsed": false,
    "ExecuteTime": {
     "end_time": "2024-06-23T16:47:25.279530600Z",
     "start_time": "2024-06-23T16:47:25.268921300Z"
    }
   },
   "id": "96b6428c09f17a60",
   "execution_count": 9
  },
  {
   "cell_type": "markdown",
   "source": [
    "4. Из списка ниже выберите ОДИН правильный метод преобразования массива. `append(), reshape(), transpose(), flatten(), expand_dims()`\n",
    "\n",
    "Какой из методов может изменить размерность одномернго массива с (N,) на (N,1)?\n",
    "Какой из методов может изменить размерность c (3,4) на (2,6)?\n",
    "Какой из методов может из многомерного массива вернуть одномерный?"
   ],
   "metadata": {
    "collapsed": false
   },
   "id": "2e3508b63bd10d41"
  },
  {
   "cell_type": "code",
   "outputs": [
    {
     "name": "stdout",
     "output_type": "stream",
     "text": [
      "[[1]\n",
      " [2]\n",
      " [3]]\n"
     ]
    }
   ],
   "source": [
    "# Какой из методов может изменить размерность одномернго массива с (N,) на (N,1)?\n",
    "import numpy as np\n",
    "arr = np.array([1, 2, 3])  # размерность (3,)\n",
    "new_arr = np.expand_dims(arr, axis=1)  # размерность (3,1)\n",
    "print(new_arr)"
   ],
   "metadata": {
    "collapsed": false,
    "ExecuteTime": {
     "end_time": "2024-06-23T16:49:22.893579700Z",
     "start_time": "2024-06-23T16:49:22.885350100Z"
    }
   },
   "id": "53f924d5d8de017d",
   "execution_count": 10
  },
  {
   "cell_type": "code",
   "outputs": [
    {
     "name": "stdout",
     "output_type": "stream",
     "text": [
      "[[ 1  2  3  4  5  6]\n",
      " [ 7  8  9 10 11 12]]\n"
     ]
    }
   ],
   "source": [
    "# Какой из методов может изменить размерность c (3,4) на (2,6)?\n",
    "import numpy as np\n",
    "arr = np.array([[1, 2, 3, 4],\n",
    "                [5, 6, 7, 8],\n",
    "                [9, 10, 11, 12]])  # размерность (3,4)\n",
    "new_arr = np.reshape(arr, (2, 6))  # размерность (2,6)\n",
    "print(new_arr)"
   ],
   "metadata": {
    "collapsed": false,
    "ExecuteTime": {
     "end_time": "2024-06-23T16:49:23.403196900Z",
     "start_time": "2024-06-23T16:49:23.399505Z"
    }
   },
   "id": "50e9adee2fcba0c",
   "execution_count": 11
  },
  {
   "cell_type": "code",
   "outputs": [
    {
     "name": "stdout",
     "output_type": "stream",
     "text": [
      "[1 2 3 4 5 6 7 8 9]\n"
     ]
    }
   ],
   "source": [
    "# Какой из методов может из многомерного массива вернуть одномерный?\n",
    "import numpy as np\n",
    "arr = np.array([[1, 2, 3],\n",
    "                [4, 5, 6],\n",
    "                [7, 8, 9]])  # размерность (3,3)\n",
    "new_arr = arr.flatten()  # размерность (9,)\n",
    "print(new_arr)"
   ],
   "metadata": {
    "collapsed": false,
    "ExecuteTime": {
     "end_time": "2024-06-23T16:49:23.834517300Z",
     "start_time": "2024-06-23T16:49:23.822956800Z"
    }
   },
   "id": "152d69e268b3c148",
   "execution_count": 12
  },
  {
   "cell_type": "code",
   "outputs": [],
   "source": [],
   "metadata": {
    "collapsed": false
   },
   "id": "e758e827aaa70a8b"
  }
 ],
 "metadata": {
  "kernelspec": {
   "display_name": "Python 3",
   "language": "python",
   "name": "python3"
  },
  "language_info": {
   "codemirror_mode": {
    "name": "ipython",
    "version": 2
   },
   "file_extension": ".py",
   "mimetype": "text/x-python",
   "name": "python",
   "nbconvert_exporter": "python",
   "pygments_lexer": "ipython2",
   "version": "2.7.6"
  }
 },
 "nbformat": 4,
 "nbformat_minor": 5
}
