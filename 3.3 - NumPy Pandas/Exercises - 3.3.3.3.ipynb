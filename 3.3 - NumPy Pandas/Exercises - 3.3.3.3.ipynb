{
 "cells": [
  {
   "cell_type": "markdown",
   "source": [
    "1. Пусть у нас есть два датафрейма `left`, `right` следующуго вида:\n",
    "```\n",
    "left = pd.DataFrame({\n",
    "      'Column1': ['a', 'b', 'c', 'd'], \n",
    "      'Column2': [3, 34, 44, 76],\n",
    "      'Column3': [True, False, False, False]})\n",
    "```\n",
    "```\n",
    "right = pd.DataFrame({\n",
    "      'Column1': ['d', 'b', 'c', 'c', 'f'], \n",
    "      'Column4': [13, 21, 44, 67, 15],\n",
    "      'Column5': [3, 34, 44, 76, 77]})\n",
    "```\n",
    "Объединяем эти датафреймы с помощью метода `.merge()` по колонке `'Column1'`. Введите ниже правильные значения типа соединения (`'inner'`, `'outer'`, `'left'` или `'right'`) в зависимости от результирующего датафрейма `df_result`.\n",
    "```\n",
    "  Column1  Column2  Column3  Column4  Column5\n",
    "0       a        3     True      NaN      NaN\n",
    "1       b       34    False     21.0     34.0\n",
    "2       c       44    False     44.0     44.0\n",
    "3       c       44    False     67.0     76.0\n",
    "4       d       76    False     13.0      3.0          \n",
    "       \n",
    "```\n",
    "```\n",
    "Column1  Column2  Column3  Column4  Column5\n",
    "0       b       34    False       21       34\n",
    "1       c       44    False       44       44\n",
    "2       c       44    False       67       76\n",
    "3       d       76    False       13        3 \n",
    "```\n",
    "```\n",
    "  Column1  Column2 Column3  Column4  Column5\n",
    "0       a      3.0    True      NaN      NaN\n",
    "1       b     34.0   False     21.0     34.0\n",
    "2       c     44.0   False     44.0     44.0\n",
    "3       c     44.0   False     67.0     76.0\n",
    "4       d     76.0   False     13.0      3.0\n",
    "5       f      NaN     NaN     15.0     77.0 \n",
    "```\n",
    "```\n",
    "Column1  Column2 Column3  Column4  Column5\n",
    "0       d     76.0   False       13        3\n",
    "1       b     34.0   False       21       34\n",
    "2       c     44.0   False       44       44\n",
    "3       c     44.0   False       67       76\n",
    "4       f      NaN     NaN       15       77 \n",
    "```"
   ],
   "metadata": {
    "collapsed": false
   },
   "id": "9c5258a159361417"
  },
  {
   "cell_type": "code",
   "outputs": [
    {
     "name": "stdout",
     "output_type": "stream",
     "text": [
      "Left join result:\n",
      "   Column1  Column2  Column3  Column4  Column5\n",
      "0       a        3     True      NaN      NaN\n",
      "1       b       34    False     21.0     34.0\n",
      "2       c       44    False     44.0     44.0\n",
      "3       c       44    False     67.0     76.0\n",
      "4       d       76    False     13.0      3.0\n",
      "Inner join result:\n",
      "   Column1  Column2  Column3  Column4  Column5\n",
      "0       b       34    False       21       34\n",
      "1       c       44    False       44       44\n",
      "2       c       44    False       67       76\n",
      "3       d       76    False       13        3\n",
      "Outer join result:\n",
      "   Column1  Column2 Column3  Column4  Column5\n",
      "0       a      3.0    True      NaN      NaN\n",
      "1       b     34.0   False     21.0     34.0\n",
      "2       c     44.0   False     44.0     44.0\n",
      "3       c     44.0   False     67.0     76.0\n",
      "4       d     76.0   False     13.0      3.0\n",
      "5       f      NaN     NaN     15.0     77.0\n",
      "Right join result:\n",
      "   Column1  Column2 Column3  Column4  Column5\n",
      "0       d     76.0   False       13        3\n",
      "1       b     34.0   False       21       34\n",
      "2       c     44.0   False       44       44\n",
      "3       c     44.0   False       67       76\n",
      "4       f      NaN     NaN       15       77\n"
     ]
    },
    {
     "name": "stderr",
     "output_type": "stream",
     "text": [
      "C:\\Users\\stalk\\AppData\\Local\\Temp\\ipykernel_828\\1044648780.py:1: DeprecationWarning: \n",
      "Pyarrow will become a required dependency of pandas in the next major release of pandas (pandas 3.0),\n",
      "(to allow more performant data types, such as the Arrow string type, and better interoperability with other libraries)\n",
      "but was not found to be installed on your system.\n",
      "If this would cause problems for you,\n",
      "please provide us feedback at https://github.com/pandas-dev/pandas/issues/54466\n",
      "        \n",
      "  import pandas as pd\n"
     ]
    }
   ],
   "source": [
    "import pandas as pd\n",
    "\n",
    "# Создание датафреймов left и right\n",
    "left = pd.DataFrame({\n",
    "    'Column1': ['a', 'b', 'c', 'd'], \n",
    "    'Column2': [3, 34, 44, 76],\n",
    "    'Column3': [True, False, False, False]\n",
    "})\n",
    "\n",
    "right = pd.DataFrame({\n",
    "    'Column1': ['d', 'b', 'c', 'c', 'f'], \n",
    "    'Column4': [13, 21, 44, 67, 15],\n",
    "    'Column5': [3, 34, 44, 76, 77]\n",
    "})\n",
    "\n",
    "# Left join\n",
    "df_result_left = left.merge(right, on='Column1', how='left')\n",
    "print(\"Left join result:\\n\", df_result_left)\n",
    "\n",
    "# Inner join\n",
    "df_result_inner = left.merge(right, on='Column1', how='inner')\n",
    "print(\"Inner join result:\\n\", df_result_inner)\n",
    "\n",
    "# Outer join\n",
    "df_result_outer = left.merge(right, on='Column1', how='outer')\n",
    "print(\"Outer join result:\\n\", df_result_outer)\n",
    "\n",
    "# Right join\n",
    "df_result_right = left.merge(right, on='Column1', how='right')\n",
    "print(\"Right join result:\\n\", df_result_right)"
   ],
   "metadata": {
    "collapsed": false,
    "ExecuteTime": {
     "end_time": "2024-06-24T22:30:06.132625500Z",
     "start_time": "2024-06-24T22:30:05.640146500Z"
    }
   },
   "id": "23cbd4119e554afb",
   "execution_count": 1
  },
  {
   "cell_type": "markdown",
   "source": [
    "2. Пусть у нас есть два датафрейма `left`, `right` следующего вида:\n",
    "```\n",
    "left = pd.DataFrame({\n",
    "      'Column1': ['a', 'b', 'c', 'c', 'e', 'e', 'a'], \n",
    "      'Column2': [3, 34, 44, 76, 77, 81, 2],\n",
    "      'Column3': [True, False, False, False, True, True, False]})\n",
    "```\n",
    "```\n",
    "right = pd.DataFrame({\n",
    "      'Column1': ['d', 'b', 'c', 'c', 'f', 'a', 'a','a'], \n",
    "      'Column2': [13, 21, 44, 67, 15, 87, 2, 2],\n",
    "      'Column4': [3, 34, 44, 76, 77, 81, 2, 22]})\n",
    "```\n",
    "Объединяем эти датафреймы с помощью метода `.merge()` по общим колонкам `'Column1'`, `'Column2'`], присоединяя правый датафрейм к левому `how='left'`. Введите ниже правильные значения результирующего датафрейма `df_result`.\n",
    "\n",
    "Сколько строк в результирующем датафрейме `df_result`?\n",
    "Сколько строк в результирующем датафрейме `df_result`, у которых `df_result['Column1'] == 'a'`?:"
   ],
   "metadata": {
    "collapsed": false
   },
   "id": "15bc212ca80d66b9"
  },
  {
   "cell_type": "code",
   "outputs": [
    {
     "name": "stdout",
     "output_type": "stream",
     "text": [
      "Результирующий датафрейм:\n",
      "   Column1  Column2  Column3  Column4\n",
      "0       a        3     True      NaN\n",
      "1       b       34    False      NaN\n",
      "2       c       44    False     44.0\n",
      "3       c       76    False      NaN\n",
      "4       e       77     True      NaN\n",
      "5       e       81     True      NaN\n",
      "6       a        2    False      2.0\n",
      "7       a        2    False     22.0\n",
      "Количество строк в результирующем датафрейме: 8\n",
      "Количество строк, у которых df_result['Column1'] == 'a': 3\n"
     ]
    }
   ],
   "source": [
    "import pandas as pd\n",
    "\n",
    "# Создание датафреймов left и right\n",
    "left = pd.DataFrame({\n",
    "    'Column1': ['a', 'b', 'c', 'c', 'e', 'e', 'a'], \n",
    "    'Column2': [3, 34, 44, 76, 77, 81, 2],\n",
    "    'Column3': [True, False, False, False, True, True, False]\n",
    "})\n",
    "\n",
    "right = pd.DataFrame({\n",
    "    'Column1': ['d', 'b', 'c', 'c', 'f', 'a', 'a', 'a'], \n",
    "    'Column2': [13, 21, 44, 67, 15, 87, 2, 2],\n",
    "    'Column4': [3, 34, 44, 76, 77, 81, 2, 22]\n",
    "})\n",
    "\n",
    "# Объединение датафреймов\n",
    "df_result = left.merge(right, on=['Column1', 'Column2'], how='left')\n",
    "\n",
    "# Вывод результата\n",
    "print(\"Результирующий датафрейм:\\n\", df_result)\n",
    "\n",
    "# Количество строк в результирующем датафрейме\n",
    "num_rows = df_result.shape[0]\n",
    "print(f\"Количество строк в результирующем датафрейме: {num_rows}\")\n",
    "\n",
    "# Количество строк, у которых df_result['Column1'] == 'a'\n",
    "num_rows_a = df_result[df_result['Column1'] == 'a'].shape[0]\n",
    "print(f\"Количество строк, у которых df_result['Column1'] == 'a': {num_rows_a}\")"
   ],
   "metadata": {
    "collapsed": false,
    "ExecuteTime": {
     "end_time": "2024-06-24T22:35:55.523678400Z",
     "start_time": "2024-06-24T22:35:55.501605800Z"
    }
   },
   "id": "1939cb85dc0b9477",
   "execution_count": 2
  },
  {
   "cell_type": "markdown",
   "source": [
    "3. Пусть у нас есть два датафрейма `left`, `right` следующего вида:\n",
    "```\n",
    "left = pd.DataFrame({\n",
    "      'key': ['a', 'b', 'c', 'd', 'e', 'e', 'a'], \n",
    "      'data1': [12, 34, 44, 76, 77, 81, 2]})\n",
    "```\n",
    "```\n",
    "right = pd.DataFrame({\n",
    "       'data2': [-1, -65, - 34, -23]}, index=['d', 'b', 'c', 'a'])\n",
    "```\n",
    "\n",
    "Объединяем эти датафреймы с помощью метода `.merge()` по колонке `key` первого датафрейма и индексам второго. Введите ниже правильные значения результирующего датафрейма `df_result`.\n",
    "\n",
    "Укажите значение `df_result['data1'][0]`, если тип соединения `how='inner'`:\n",
    "Укажите значение `df_result['data1'][5]`, если тип соединения `how='outer'`:"
   ],
   "metadata": {
    "collapsed": false
   },
   "id": "44feef54d3e83d80"
  },
  {
   "cell_type": "code",
   "outputs": [
    {
     "name": "stdout",
     "output_type": "stream",
     "text": [
      "Результирующий датафрейм (inner join):\n",
      "   key  data1  data2\n",
      "0   a     12    -23\n",
      "1   b     34    -65\n",
      "2   c     44    -34\n",
      "3   d     76     -1\n",
      "6   a      2    -23\n",
      "12\n",
      "Результирующий датафрейм (outer join):\n",
      "   key  data1  data2\n",
      "0   a     12  -23.0\n",
      "6   a      2  -23.0\n",
      "1   b     34  -65.0\n",
      "2   c     44  -34.0\n",
      "3   d     76   -1.0\n",
      "4   e     77    NaN\n",
      "5   e     81    NaN\n",
      "81\n"
     ]
    }
   ],
   "source": [
    "import pandas as pd\n",
    "\n",
    "# Создание датафреймов left и right\n",
    "left = pd.DataFrame({\n",
    "    'key': ['a', 'b', 'c', 'd', 'e', 'e', 'a'], \n",
    "    'data1': [12, 34, 44, 76, 77, 81, 2]\n",
    "})\n",
    "\n",
    "right = pd.DataFrame({\n",
    "    'data2': [-1, -65, -34, -23]\n",
    "}, index=['d', 'b', 'c', 'a'])\n",
    "\n",
    "# Объединение датафреймов с типом соединения 'inner'\n",
    "df_result_inner = left.merge(right, left_on='key', right_index=True, how='inner')\n",
    "\n",
    "# Вывод результата\n",
    "print(\"Результирующий датафрейм (inner join):\\n\", df_result_inner)\n",
    "print(df_result_inner['data1'][0])\n",
    "\n",
    "# Объединение датафреймов с типом соединения 'outer'\n",
    "df_result_outer = left.merge(right, left_on='key', right_index=True, how='outer')\n",
    "\n",
    "# Вывод результата\n",
    "print(\"Результирующий датафрейм (outer join):\\n\", df_result_outer)\n",
    "print(df_result_outer['data1'][5])"
   ],
   "metadata": {
    "collapsed": false,
    "ExecuteTime": {
     "end_time": "2024-06-24T22:39:31.956645100Z",
     "start_time": "2024-06-24T22:39:31.921467600Z"
    }
   },
   "id": "e65c82c590deb59a",
   "execution_count": 4
  },
  {
   "cell_type": "code",
   "outputs": [],
   "source": [],
   "metadata": {
    "collapsed": false
   },
   "id": "5388f09cb6837a48"
  }
 ],
 "metadata": {
  "kernelspec": {
   "display_name": "Python 3",
   "language": "python",
   "name": "python3"
  },
  "language_info": {
   "codemirror_mode": {
    "name": "ipython",
    "version": 2
   },
   "file_extension": ".py",
   "mimetype": "text/x-python",
   "name": "python",
   "nbconvert_exporter": "python",
   "pygments_lexer": "ipython2",
   "version": "2.7.6"
  }
 },
 "nbformat": 4,
 "nbformat_minor": 5
}
