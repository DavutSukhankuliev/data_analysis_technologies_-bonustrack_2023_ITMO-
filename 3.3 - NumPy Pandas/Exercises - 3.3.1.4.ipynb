{
 "cells": [
  {
   "cell_type": "markdown",
   "source": [
    "1. Приведены три функции, написанные на языке Python, `function1, function2, function3`:\n",
    "```\n",
    "def function1(a,b):\n",
    "    arr1 = np.ones([a,b])\n",
    "    arr2 = np.ones([a + 1,b + 1])\n",
    "    arr = np.array([arr1,arr2])\n",
    "    return arr     \n",
    " \t\t\n",
    "arr = np.random.randint(1, 10, [5,5])\n",
    "def function2(arr):\n",
    "    np.sort(arr, axis = 1)\n",
    "    return arr    \n",
    "    \n",
    "def function3(arr):\n",
    "    result = = np.unique(arr,return_index=True)[1]\n",
    "    return result   \n",
    "```\n",
    "Выберите правильное утверждение (одно или несколько):\n",
    "\n",
    "- [ ] В function1 массив инициализируется массивами разной длины.\n",
    "\n",
    "- [ ] function2 возвращает массив с отсортированными строками.\n",
    "\n",
    "- [ ] function3 возвращает список уникальных значений массива."
   ],
   "metadata": {
    "collapsed": false
   },
   "id": "da69483d56b2150f"
  },
  {
   "cell_type": "markdown",
   "source": [
    "Рассмотрим каждую функцию и связанные с ними утверждения:\n",
    "\n",
    "function1\n",
    "def function1(a,b):\n",
    "    arr1 = np.ones([a,b])\n",
    "    arr2 = np.ones([a + 1,b + 1])\n",
    "    arr = np.array([arr1,arr2])\n",
    "    return arr\n",
    "\n",
    "Правильное утверждение:\n",
    "[x] В function1 массив инициализируется массивами разной длины.\n",
    "\n",
    "Пояснение: arr1 имеет размерность ([a, b]), а arr2 имеет размерность ([a + 1, b + 1]). Поскольку их размерности разные, объединить их в один numpy массив с помощью np.array вызовет VisibleDeprecationWarning и в итоге получится массив объектов (то есть массив из двух массивов).\n",
    "\n",
    "function2\n",
    "arr = np.random.randint(1, 10, [5,5])\n",
    "def function2(arr):\n",
    "    np.sort(arr, axis = 1)\n",
    "    return arr\n",
    "\n",
    "Правильное утверждение:\n",
    "[ ] function2 возвращает массив с отсортированными строками.\n",
    "\n",
    "Пояснение: Внутри функции np.sort(arr, axis=1) сортирует строки массива arr, но так как результат сортировки не присваивается никакой переменной, оригинальный массив arr не будет изменен. Необходимо было использовать arr = np.sort(arr, axis=1) для сохранения изменений.\n",
    "\n",
    "function3\n",
    "def function3(arr):\n",
    "    result = np.unique(arr,return_index=True)[1]\n",
    "    return result\n",
    "Правильное утверждение:\n",
    "[ ] function3 возвращает список уникальных значений массива.\n",
    "\n",
    "Пояснение: np.unique(arr, return_index=True)[1] возвращает индексы первых вхождений уникальных значений в массиве arr, а не сами уникальные значения. Для возврата самих уникальных значений нужно использовать np.unique(arr).\n",
    "\n",
    "Таким образом:\n",
    "[x] Утверждение \"В function1 массив инициализируется массивами разной длины.\" — правильное.\n",
    "[ ] Утверждение \"function2 возвращает массив с отсортированными строками.\" — неправильное.\n",
    "[ ] Утверждение \"function3 возвращает список уникальных значений массива.\" — неправильное."
   ],
   "metadata": {
    "collapsed": false
   },
   "id": "5a245215681da719"
  },
  {
   "cell_type": "markdown",
   "source": [
    "2. Пусть дана прямоугольная матрица `a`. При помощи Python реализуйте функцию с именем `arr_trans(a)`, которая разворачивает первую по индексу строку в обратном порядке и выводит максимальные элементы по столбцам данной матрицы. Например,\n",
    "```\n",
    "a = np.array([\n",
    "    [8, 2, 4, 5],\n",
    "    [7, 6, 8, 8],\n",
    "    [7, 4, 0, 6],\n",
    "    [7, 7, 8, 4],\n",
    "    [2, 7, 3, 6]\n",
    "]),   \n",
    "```\n",
    "\n",
    "тогда результат `array([8, 8, 8, 7])`"
   ],
   "metadata": {
    "collapsed": false
   },
   "id": "4e99122d39f37732"
  },
  {
   "cell_type": "code",
   "outputs": [
    {
     "name": "stdout",
     "output_type": "stream",
     "text": [
      "[8 8 8 7]\n"
     ]
    }
   ],
   "source": [
    "import numpy as np\n",
    "\n",
    "def arr_trans(a):  \n",
    "    a[1, :] = np.flip(a[1, :])\n",
    "    return a.max(axis=0)\n",
    "\n",
    "# Пример использования\n",
    "a = np.array([\n",
    "    [8, 2, 4, 5],\n",
    "    [7, 6, 8, 8],\n",
    "    [7, 4, 0, 6],\n",
    "    [7, 7, 8, 4],\n",
    "    [2, 7, 3, 6]\n",
    "])\n",
    "\n",
    "result = arr_trans(a)\n",
    "print(result)"
   ],
   "metadata": {
    "collapsed": false,
    "ExecuteTime": {
     "end_time": "2024-06-23T16:56:55.968121300Z",
     "start_time": "2024-06-23T16:56:55.919875800Z"
    }
   },
   "id": "b0c1e34d99e27a92",
   "execution_count": 2
  },
  {
   "cell_type": "markdown",
   "source": [
    "3. Пусть дана квадратная матрица `a`. При помощи Python реализуйте функцию с именем `arr_unigue(a)`, которая возвращает одномерный массив `np.array`, состоящий из уникальных элементов, отсортированных в порядке возрастания:. Например,\n",
    "```\n",
    "a = np.array([\n",
    "    [2, 0, 4],\n",
    "    [3, 2, 4],\n",
    "    [1, 0, 2]\n",
    "])\n",
    "```\n",
    ",\n",
    "тогда результат `array([0, 1, 2, 3, 4])`"
   ],
   "metadata": {
    "collapsed": false
   },
   "id": "61f185938f945671"
  },
  {
   "cell_type": "code",
   "outputs": [
    {
     "name": "stdout",
     "output_type": "stream",
     "text": [
      "[0 1 2 3 4]\n"
     ]
    }
   ],
   "source": [
    "import numpy as np\n",
    "\n",
    "def arr_unique(a):\n",
    "    # Извлекаем уникальные элементы из матрицы и сортируем их в порядке возрастания\n",
    "    unique_elements = np.unique(a)\n",
    "    \n",
    "    return unique_elements\n",
    "\n",
    "# Пример использования\n",
    "a = np.array([\n",
    "    [2, 0, 4],\n",
    "    [3, 2, 4],\n",
    "    [1, 0, 2]\n",
    "])\n",
    "\n",
    "result = arr_unique(a)\n",
    "print(result)"
   ],
   "metadata": {
    "collapsed": false,
    "ExecuteTime": {
     "end_time": "2024-06-23T16:58:39.683311700Z",
     "start_time": "2024-06-23T16:58:39.662297200Z"
    }
   },
   "id": "98f4aeb6151312c1",
   "execution_count": 3
  },
  {
   "cell_type": "markdown",
   "source": [
    "4. Если есть одномерный массив `p`, состоящий из `N` чисел (`N > 0`, тогда энтропию можно посчитать по формуле: $H =- \\sum\\limits_{i=0}^N p_i\\cdot \\log_2 p_i$. При помощи языка Python реализуйте функцию с именем `get_entropy(a)`, принимающую на вход одномерный массив `a` и возвращающую энтропию."
   ],
   "metadata": {
    "collapsed": false
   },
   "id": "81bf64de3b852c34"
  },
  {
   "cell_type": "code",
   "outputs": [
    {
     "name": "stdout",
     "output_type": "stream",
     "text": [
      "1.8464393446710154\n"
     ]
    }
   ],
   "source": [
    "import numpy as np\n",
    "\n",
    "def get_entropy(a):\n",
    "    # Преобразуем массив в numpy массив\n",
    "    a = np.array(a)\n",
    "    \n",
    "    # Нормализуем массив так, чтобы сумма его элементов равнялась 1\n",
    "    p = a / np.sum(a)\n",
    "    \n",
    "    # Вычисляем энтропию, исключая нулевые элементы из p\n",
    "    entropy = -np.sum(p * np.log2(p, where=(p > 0)))\n",
    "    \n",
    "    return entropy\n",
    "\n",
    "# Пример использования\n",
    "a = [0.1, 0.2, 0.3, 0.4]\n",
    "entropy = get_entropy(a)\n",
    "print(entropy)"
   ],
   "metadata": {
    "collapsed": false,
    "ExecuteTime": {
     "end_time": "2024-06-23T17:02:18.422511700Z",
     "start_time": "2024-06-23T17:02:18.414473100Z"
    }
   },
   "id": "3007de88101649df",
   "execution_count": 5
  },
  {
   "cell_type": "code",
   "outputs": [
    {
     "name": "stdout",
     "output_type": "stream",
     "text": [
      "1.8464393446710154\n"
     ]
    }
   ],
   "source": [
    "import numpy as np\n",
    "\n",
    "def get_entropy(a):\n",
    "    return -(a * np.log2(a)).sum() \n",
    "\n",
    "# Пример использования\n",
    "a = [0.1, 0.2, 0.3, 0.4]\n",
    "entropy = get_entropy(a)\n",
    "print(entropy)"
   ],
   "metadata": {
    "collapsed": false,
    "ExecuteTime": {
     "end_time": "2024-06-23T17:02:39.216609900Z",
     "start_time": "2024-06-23T17:02:39.207159500Z"
    }
   },
   "id": "bf5eb69543e68f16",
   "execution_count": 6
  },
  {
   "cell_type": "markdown",
   "source": [
    "5. Дисперсия часто используется в анализе данных, но их бывает две: смещенная и несмещенная. В стандартной библиотеке используется несмещенная, а формула смещенной выглядит так:\n",
    "$D = \\dfrac{1}{N - 1}\\sum\\limits_{i=0}^N (X_i - \\overline X)^2$,\n",
    "где `Х` — одномерный массив с данными, `N` — его размер, $\\overline X$ — среднее по элементам массива.\n",
    "\n",
    "При помощи языка Python реализуйте функцию с именем `get_disp(a)`, принимающую на вход одномерный массив `a` и возвращающую значение смещенной дисперсии."
   ],
   "metadata": {
    "collapsed": false
   },
   "id": "40cf2f04040a9ad9"
  },
  {
   "cell_type": "code",
   "outputs": [
    {
     "name": "stdout",
     "output_type": "stream",
     "text": [
      "2.5\n"
     ]
    }
   ],
   "source": [
    "import numpy as np\n",
    "\n",
    "def get_disp(a):\n",
    "    # Преобразуем массив в numpy массив для удобства вычислений\n",
    "    a = np.array(a)\n",
    "    \n",
    "    # Размер массива\n",
    "    N = len(a)\n",
    "    \n",
    "    if N <= 1:\n",
    "        raise ValueError(\"Массив должен содержать больше одного элемента для вычисления дисперсии\")\n",
    "    \n",
    "    # Среднее значение массива\n",
    "    mean_a = np.mean(a)\n",
    "    \n",
    "    # Вычисляем смещенную дисперсию по формуле\n",
    "    variance = np.sum((a - mean_a)**2) / (N - 1)\n",
    "    \n",
    "    return variance\n",
    "\n",
    "# Пример использования\n",
    "a = [1, 2, 3, 4, 5]\n",
    "dispersion = get_disp(a)\n",
    "print(dispersion)"
   ],
   "metadata": {
    "collapsed": false,
    "ExecuteTime": {
     "end_time": "2024-06-23T17:04:10.216458900Z",
     "start_time": "2024-06-23T17:04:10.200864800Z"
    }
   },
   "id": "73559afa87550482",
   "execution_count": 7
  },
  {
   "cell_type": "code",
   "outputs": [],
   "source": [],
   "metadata": {
    "collapsed": false
   },
   "id": "9cea90423eadfb77"
  }
 ],
 "metadata": {
  "kernelspec": {
   "display_name": "Python 3",
   "language": "python",
   "name": "python3"
  },
  "language_info": {
   "codemirror_mode": {
    "name": "ipython",
    "version": 2
   },
   "file_extension": ".py",
   "mimetype": "text/x-python",
   "name": "python",
   "nbconvert_exporter": "python",
   "pygments_lexer": "ipython2",
   "version": "2.7.6"
  }
 },
 "nbformat": 4,
 "nbformat_minor": 5
}
