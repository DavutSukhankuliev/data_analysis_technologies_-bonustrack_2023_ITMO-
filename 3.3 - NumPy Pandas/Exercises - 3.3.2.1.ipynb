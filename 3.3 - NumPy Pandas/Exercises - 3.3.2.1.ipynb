{
 "cells": [
  {
   "cell_type": "markdown",
   "source": [
    "1. При помощи Python создайте функцию `get_triple(a,b,c)`, принимающую на вход три числа и возвращающую серию с индексами `a`, `b` и `c` соответственно для первого, второго и третьего числа, а сами числа преобразованы в тип `np.float64`:\\\n"
   ],
   "metadata": {
    "collapsed": false
   },
   "id": "2e61b8018313c91d"
  },
  {
   "cell_type": "code",
   "outputs": [
    {
     "name": "stdout",
     "output_type": "stream",
     "text": [
      "a    1.0\n",
      "b    2.0\n",
      "c    3.0\n",
      "dtype: float64\n"
     ]
    },
    {
     "name": "stderr",
     "output_type": "stream",
     "text": [
      "C:\\Users\\stalk\\AppData\\Local\\Temp\\ipykernel_20804\\2819200077.py:2: DeprecationWarning: \n",
      "Pyarrow will become a required dependency of pandas in the next major release of pandas (pandas 3.0),\n",
      "(to allow more performant data types, such as the Arrow string type, and better interoperability with other libraries)\n",
      "but was not found to be installed on your system.\n",
      "If this would cause problems for you,\n",
      "please provide us feedback at https://github.com/pandas-dev/pandas/issues/54466\n",
      "        \n",
      "  import pandas as pd\n"
     ]
    }
   ],
   "source": [
    "import numpy as np\n",
    "import pandas as pd\n",
    "\n",
    "def get_triple(a, b, c):\n",
    "    # Преобразуем входные числа в тип np.float64\n",
    "    a_float = np.float64(a)\n",
    "    b_float = np.float64(b)\n",
    "    c_float = np.float64(c)\n",
    "    \n",
    "    # Создаем серию с индексами \"a\", \"b\" и \"c\"\n",
    "    series = pd.Series([a_float, b_float, c_float], index=['a', 'b', 'c'])\n",
    "    \n",
    "    return series\n",
    "\n",
    "# Пример использования\n",
    "result = get_triple(1, 2, 3)\n",
    "print(result)"
   ],
   "metadata": {
    "collapsed": false,
    "ExecuteTime": {
     "end_time": "2024-06-23T17:19:38.977905100Z",
     "start_time": "2024-06-23T17:19:38.336093400Z"
    }
   },
   "id": "41b52054de314a8c",
   "execution_count": 1
  },
  {
   "cell_type": "code",
   "outputs": [
    {
     "name": "stdout",
     "output_type": "stream",
     "text": [
      "a    1.0\n",
      "b    2.0\n",
      "c    3.0\n",
      "dtype: float64\n"
     ]
    }
   ],
   "source": [
    "import numpy as np\n",
    "import pandas as pd\n",
    "\n",
    "def get_triple(a, b, c):\n",
    "    return pd.Series([a, b, c], index=['a', 'b', 'c'], dtype=np.float64)\n",
    "\n",
    "result = get_triple(1, 2, 3)\n",
    "print(result)"
   ],
   "metadata": {
    "collapsed": false,
    "ExecuteTime": {
     "end_time": "2024-06-23T17:20:46.210406Z",
     "start_time": "2024-06-23T17:20:46.198574600Z"
    }
   },
   "id": "8566dc012a86b90e",
   "execution_count": 2
  },
  {
   "cell_type": "markdown",
   "source": [
    "2. Ниже приведен фрагмент кода на языке Python:\n",
    "`s = pd.Series([1, 2, 3, 4], index=[4, 3, 2, 1])`\n",
    "Какое значение будет возвращено при таком обращении к полю серии: `s.loc[3]`?"
   ],
   "metadata": {
    "collapsed": false
   },
   "id": "f78ef44d1f2bc729"
  },
  {
   "cell_type": "code",
   "outputs": [
    {
     "name": "stdout",
     "output_type": "stream",
     "text": [
      "2\n"
     ]
    }
   ],
   "source": [
    "import pandas as pd\n",
    "\n",
    "s = pd.Series([1, 2, 3, 4], index=[4, 3, 2, 1])\n",
    "value = s.loc[3]\n",
    "print(value)"
   ],
   "metadata": {
    "collapsed": false,
    "ExecuteTime": {
     "end_time": "2024-06-23T17:22:38.105073700Z",
     "start_time": "2024-06-23T17:22:38.073827300Z"
    }
   },
   "id": "c02407c5e73b4b1e",
   "execution_count": 3
  },
  {
   "cell_type": "markdown",
   "source": [
    "3. Ниже приведен фрагмент кода на языке Python:\n",
    "`s = pd.Series([1, 2, 3, 4], index=[4, 3, 2, 1])`\n",
    "Какое значение будет возвращено при таком обращении к полю серии `s.iloc[ [3, 1] ]`?"
   ],
   "metadata": {
    "collapsed": false
   },
   "id": "3dd10a0fca449b63"
  },
  {
   "cell_type": "code",
   "outputs": [
    {
     "name": "stdout",
     "output_type": "stream",
     "text": [
      "1    4\n",
      "3    2\n",
      "dtype: int64\n"
     ]
    }
   ],
   "source": [
    "import pandas as pd\n",
    "\n",
    "s = pd.Series([1, 2, 3, 4], index=[4, 3, 2, 1])\n",
    "values = s.iloc[[3, 1]]\n",
    "print(values)"
   ],
   "metadata": {
    "collapsed": false,
    "ExecuteTime": {
     "end_time": "2024-06-23T17:23:28.519024900Z",
     "start_time": "2024-06-23T17:23:28.508394300Z"
    }
   },
   "id": "943468a300f8d09d",
   "execution_count": 4
  },
  {
   "cell_type": "markdown",
   "source": [
    "4. Ниже приведен фрагмент кода на языке Python:\n",
    "`s = pd.Series([1, 2, 3, 4], index=[4, 3, 2, 1])`\n",
    "Какие значения будут возвращены при таком обращении к полям серии `s[3:1:-1]`?"
   ],
   "metadata": {
    "collapsed": false
   },
   "id": "5cfa790d29d4eefc"
  },
  {
   "cell_type": "code",
   "outputs": [
    {
     "name": "stdout",
     "output_type": "stream",
     "text": [
      "1    4\n",
      "2    3\n",
      "dtype: int64\n"
     ]
    }
   ],
   "source": [
    "import pandas as pd\n",
    "\n",
    "s = pd.Series([1, 2, 3, 4], index=[4, 3, 2, 1])\n",
    "result = s[3:1:-1]\n",
    "print(result)"
   ],
   "metadata": {
    "collapsed": false,
    "ExecuteTime": {
     "end_time": "2024-06-23T17:25:23.382430900Z",
     "start_time": "2024-06-23T17:25:23.369089800Z"
    }
   },
   "id": "2627177caefe7da6",
   "execution_count": 5
  },
  {
   "cell_type": "markdown",
   "source": [
    "5. Ниже приведен фрагмент кода на языке Python:\n",
    "`s = pd.Series([1, 2, 3, 4], index=['a', 'b', 'c', 'd'])`\n",
    "Какой из ниже представленных фрагментов кода подходит для того, чтобы заменить все четные числа в серии на нули?\n",
    "```\n",
    "s[ [2, 4] ] = 0\n",
    "s[ ['b', 'd'] ] = 0\n",
    "s.loc[ [1, 3] ] = 0\n",
    "s.iloc[ [1, 3] ] = 0\n",
    "s.loc[ ['b', 'd'] ] = 0\n",
    "s.iloc[ ['b', 'd'] ] = 0\n",
    "```"
   ],
   "metadata": {
    "collapsed": false
   },
   "id": "6be30cab49685e3e"
  },
  {
   "cell_type": "code",
   "outputs": [
    {
     "name": "stdout",
     "output_type": "stream",
     "text": [
      "a    1\n",
      "b    2\n",
      "c    3\n",
      "d    4\n",
      "dtype: int64\n"
     ]
    }
   ],
   "source": [
    "import pandas as pd\n",
    "\n",
    "s = pd.Series([1, 2, 3, 4], index=['a', 'b', 'c', 'd'])\n",
    "print(s)"
   ],
   "metadata": {
    "collapsed": false,
    "ExecuteTime": {
     "end_time": "2024-06-23T17:28:12.727683600Z",
     "start_time": "2024-06-23T17:28:12.719547700Z"
    }
   },
   "id": "172024cf67c8e906",
   "execution_count": 8
  },
  {
   "cell_type": "code",
   "outputs": [],
   "source": [],
   "metadata": {
    "collapsed": false
   },
   "id": "77d679038ce2cdf2"
  }
 ],
 "metadata": {
  "kernelspec": {
   "display_name": "Python 3",
   "language": "python",
   "name": "python3"
  },
  "language_info": {
   "codemirror_mode": {
    "name": "ipython",
    "version": 2
   },
   "file_extension": ".py",
   "mimetype": "text/x-python",
   "name": "python",
   "nbconvert_exporter": "python",
   "pygments_lexer": "ipython2",
   "version": "2.7.6"
  }
 },
 "nbformat": 4,
 "nbformat_minor": 5
}
