{
 "cells": [
  {
   "cell_type": "markdown",
   "source": [
    "1. При помощи Python создайте функцию `get_center(a)`, принимающую на вход датафрейм, состоящий из 4 строк и 4 столбцов. Названия столбцов: 'A', 'B', 'C' и 'D'. Функция должна вернуть новый датафрейм, состоящий из значений, расположенных в столбцах 'B' и 'C' на второй и третьей по порядку строках. Например, если\n",
    "```\n",
    "a = pd.DataFrame({\n",
    "    'A': [1, 2, 3, 4],\n",
    "    'B': [5, 6, 7, 8],\n",
    "    'C': [9, 10, 11, 12],\n",
    "    'D': [13, 14, 15, 16]\n",
    "}, index=[0, 1, 2, 3])\n",
    "```\n",
    ", то результатом вызова функции должен быть такой датафрейм:\n",
    "```\n",
    "    B   C\n",
    "1   6   10\n",
    "2   7   11\n",
    "```\n"
   ],
   "metadata": {
    "collapsed": false
   },
   "id": "eafdbe50813bfcde"
  },
  {
   "cell_type": "code",
   "outputs": [
    {
     "name": "stdout",
     "output_type": "stream",
     "text": [
      "   B   C\n",
      "1  6  10\n",
      "2  7  11\n"
     ]
    },
    {
     "name": "stderr",
     "output_type": "stream",
     "text": [
      "C:\\Users\\stalk\\AppData\\Local\\Temp\\ipykernel_20024\\2182678169.py:1: DeprecationWarning: \n",
      "Pyarrow will become a required dependency of pandas in the next major release of pandas (pandas 3.0),\n",
      "(to allow more performant data types, such as the Arrow string type, and better interoperability with other libraries)\n",
      "but was not found to be installed on your system.\n",
      "If this would cause problems for you,\n",
      "please provide us feedback at https://github.com/pandas-dev/pandas/issues/54466\n",
      "        \n",
      "  import pandas as pd\n"
     ]
    }
   ],
   "source": [
    "import pandas as pd\n",
    "\n",
    "def get_center(a):\n",
    "    # Проверяем, что датафрейм состоит из 4 строк и 4 столбцов с нужными названиями\n",
    "    expected_columns = ['A', 'B', 'C', 'D']\n",
    "    if a.shape != (4, 4) or list(a.columns) != expected_columns:\n",
    "        raise ValueError(\"Датафрейм должен состоять из 4 строк и 4 столбцов с названиями 'A', 'B', 'C' и 'D'\")\n",
    "    \n",
    "    # Извлекаем нужные строки и столбцы\n",
    "    result = a.loc[1:2, ['B', 'C']]\n",
    "    \n",
    "    return result\n",
    "\n",
    "# Пример использования\n",
    "a = pd.DataFrame({\n",
    "    'A': [1, 2, 3, 4],\n",
    "    'B': [5, 6, 7, 8],\n",
    "    'C': [9, 10, 11, 12],\n",
    "    'D': [13, 14, 15, 16]\n",
    "}, index=[0, 1, 2, 3])\n",
    "\n",
    "result = get_center(a)\n",
    "print(result)"
   ],
   "metadata": {
    "collapsed": false,
    "ExecuteTime": {
     "end_time": "2024-06-23T17:54:49.145091900Z",
     "start_time": "2024-06-23T17:54:48.671977100Z"
    }
   },
   "id": "4ff7adbd59898ea7",
   "execution_count": 1
  },
  {
   "cell_type": "markdown",
   "source": [
    "2. При помощи Python создайте функцию `replace_all_odd_or_negative(a, b)`, принимающую на вход произвольный датафрейм и число. Все нечетные или отрицательные числа в датафрейме должны быть заменены на поданное в функцию число, а у остальных чисел в датафрейме нужно поменять знак. Например, если\n",
    "```\n",
    "a = pd.DataFrame([\n",
    "    [-1, 1, 0],\n",
    "    [2, -4, 6]\n",
    "])\n",
    "```\n",
    ", то результатом вызова функции replace_all_odd_or_negative(a, 100) должен быть такой датафрейм:\n",
    "```\n",
    "100 100 0\n",
    "-2  100 -6\n",
    "```"
   ],
   "metadata": {
    "collapsed": false
   },
   "id": "7ee2694d20f773a7"
  },
  {
   "cell_type": "code",
   "outputs": [
    {
     "name": "stdout",
     "output_type": "stream",
     "text": [
      "     0    1  2\n",
      "0  100  100  0\n",
      "1   -2  100 -6\n"
     ]
    }
   ],
   "source": [
    "import pandas as pd\n",
    "\n",
    "def replace_all_odd_or_negative(a, b):\n",
    "    # Создаем копию датафрейма, чтобы не изменять оригинал\n",
    "    result = a.copy()\n",
    "    \n",
    "    # Заменяем все нечетные или отрицательные числа в датафрейме на поданное число `b`\n",
    "    mask_odd_or_negative = (result % 2 != 0) | (result < 0)\n",
    "    result[mask_odd_or_negative] = b\n",
    "    \n",
    "    # Меняем знак у всех остальных чисел\n",
    "    result[~mask_odd_or_negative] = -result[~mask_odd_or_negative]\n",
    "    \n",
    "    return result\n",
    "\n",
    "# Пример использования\n",
    "a = pd.DataFrame([\n",
    "    [-1, 1, 0],\n",
    "    [2, -4, 6]\n",
    "])\n",
    "\n",
    "result = replace_all_odd_or_negative(a, 100)\n",
    "print(result)"
   ],
   "metadata": {
    "collapsed": false,
    "ExecuteTime": {
     "end_time": "2024-06-23T17:56:09.627623Z",
     "start_time": "2024-06-23T17:56:09.601419100Z"
    }
   },
   "id": "1304a20c2636b3f4",
   "execution_count": 2
  },
  {
   "cell_type": "code",
   "outputs": [
    {
     "name": "stdout",
     "output_type": "stream",
     "text": [
      "     0    1  2\n",
      "0  100  100  0\n",
      "1   -2  100 -6\n"
     ]
    }
   ],
   "source": [
    "import pandas as pd\n",
    "\n",
    "def replace_all_odd_or_negative(a, b):\n",
    "    return a.apply(lambda row: row.apply(lambda x: b if 0 > x or x % 2 == 1 else -x))\n",
    "\n",
    "# Пример использования\n",
    "a = pd.DataFrame([\n",
    "    [-1, 1, 0],\n",
    "    [2, -4, 6]\n",
    "])\n",
    "\n",
    "result = replace_all_odd_or_negative(a, 100)\n",
    "print(result)"
   ],
   "metadata": {
    "collapsed": false,
    "ExecuteTime": {
     "end_time": "2024-06-23T17:56:52.436314100Z",
     "start_time": "2024-06-23T17:56:52.427666600Z"
    }
   },
   "id": "f1a15964ea7f9f19",
   "execution_count": 3
  },
  {
   "cell_type": "markdown",
   "source": [
    "3. При помощи Python создайте функцию `reverse_all_labels(a)`, принимающую на вход датафрейм и возвращающую копию этого датафрейма, но индексы и названия колонок должны идти в противоположном порядке, при этом сами числовые данные должны остаться на месте. Например, если\n",
    "```\n",
    "a = pd.DataFrame({\n",
    "    'A': [1, 2, 3, 4],\n",
    "    'B': [5, 6, 7, 8],\n",
    "    'C': [9, 10, 11, 12],\n",
    "    'D': [13, 14, 15, 16]\n",
    "}, index=[0, 1, 2, 3])\n",
    "```\n",
    ", то результатом вызова функции должен быть такой датафрейм:\n",
    "```\n",
    "D  C   B   A\n",
    "3  1  5   9  13\n",
    "2  2  6  10  14\n",
    "1  3  7  11  15\n",
    "0  4  8  12  16\n",
    "```"
   ],
   "metadata": {
    "collapsed": false
   },
   "id": "e05e608f4e07235"
  },
  {
   "cell_type": "code",
   "outputs": [
    {
     "name": "stdout",
     "output_type": "stream",
     "text": [
      "   D  C   B   A\n",
      "3  1  5   9  13\n",
      "2  2  6  10  14\n",
      "1  3  7  11  15\n",
      "0  4  8  12  16\n"
     ]
    }
   ],
   "source": [
    "import pandas as pd\n",
    "\n",
    "def reverse_all_labels(a):\n",
    "    b = a.copy()\n",
    "    b.index = b.index[::-1]\n",
    "    b.columns = b.columns[::-1]\n",
    "    return b\n",
    "\n",
    "# Пример использования\n",
    "a = pd.DataFrame({\n",
    "    'A': [1, 2, 3, 4],\n",
    "    'B': [5, 6, 7, 8],\n",
    "    'C': [9, 10, 11, 12],\n",
    "    'D': [13, 14, 15, 16]\n",
    "}, index=[0, 1, 2, 3])\n",
    "\n",
    "result = reverse_all_labels(a)\n",
    "print(result)"
   ],
   "metadata": {
    "collapsed": false,
    "ExecuteTime": {
     "end_time": "2024-06-23T18:02:29.683478500Z",
     "start_time": "2024-06-23T18:02:29.674488400Z"
    }
   },
   "id": "345c414f9a5cca3",
   "execution_count": 6
  },
  {
   "cell_type": "markdown",
   "source": [
    "4. Средствами библиотеки Pandas языка Python в файле titanic.csv (набор данных выживших пассажиров Титаника: класс кабины, возраст, пол, порт посадки и т.д.) найдите имя пассажира, у которого `PassengerID = 1011`."
   ],
   "metadata": {
    "collapsed": false
   },
   "id": "4126194005e40c6b"
  },
  {
   "cell_type": "code",
   "outputs": [
    {
     "name": "stdout",
     "output_type": "stream",
     "text": [
      "Имя пассажира с PassengerID = 1011: McNamee, Mrs Neal\n"
     ]
    }
   ],
   "source": [
    "import pandas as pd\n",
    "\n",
    "# Загрузка данных из файла titanic.csv\n",
    "df = pd.read_csv('Exercises - 3.3.2 titanic.csv')\n",
    "\n",
    "# Поиск информации о пассажире с PassengerID = 1011\n",
    "passenger_info = df[df['PassengerID'] == 1011]\n",
    "\n",
    "# Вывод имени пассажира\n",
    "passenger_name = passenger_info['Name'].values[0]\n",
    "print(f\"Имя пассажира с PassengerID = 1011: {passenger_name}\")"
   ],
   "metadata": {
    "collapsed": false,
    "ExecuteTime": {
     "end_time": "2024-06-23T18:54:17.413994300Z",
     "start_time": "2024-06-23T18:54:17.392877100Z"
    }
   },
   "id": "4b453bd3a7e62f22",
   "execution_count": 10
  },
  {
   "cell_type": "code",
   "outputs": [],
   "source": [],
   "metadata": {
    "collapsed": false
   },
   "id": "e9571bf98de2169d"
  }
 ],
 "metadata": {
  "kernelspec": {
   "display_name": "Python 3",
   "language": "python",
   "name": "python3"
  },
  "language_info": {
   "codemirror_mode": {
    "name": "ipython",
    "version": 2
   },
   "file_extension": ".py",
   "mimetype": "text/x-python",
   "name": "python",
   "nbconvert_exporter": "python",
   "pygments_lexer": "ipython2",
   "version": "2.7.6"
  }
 },
 "nbformat": 4,
 "nbformat_minor": 5
}
