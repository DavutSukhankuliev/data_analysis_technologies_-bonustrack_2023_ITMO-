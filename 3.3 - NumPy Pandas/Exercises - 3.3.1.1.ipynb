{
 "cells": [
  {
   "cell_type": "markdown",
   "source": [
    "1. Необходимо сравнить скорость создания одномерного массива c помощью встроенных функций `zeros(), ones(), empty()` в Python.\n",
    "\n",
    "В Google Colab для получения времени выполнения кода каждой ячейки удобно воспользоваться функцией `%%time`. Например,\n",
    "\n",
    "```\n",
    "%%time \n",
    "np.array([1,4,5,3,4,3,3])\n",
    "```\n",
    "\n",
    "выведет в том числе `Wall time: 32.2 µs`.\n",
    "\n",
    "Создайте три одномерных массива размерностью 100, используя каждую из вышеперечисленных функций, и напишите полученные результаты `Wall time`.\n",
    "\n",
    "Полученные результаты следует писать через запятую в порядке перечисленных выше функций (т.е. сначала для `zeros()`, потом для o`nes()`, в конце для `empty()`)."
   ],
   "metadata": {
    "collapsed": false
   },
   "id": "1cb4b3b09b42da6c"
  },
  {
   "cell_type": "code",
   "outputs": [],
   "source": [
    "import numpy as np\n",
    "\n",
    "# Выполняем в Google Collab"
   ],
   "metadata": {
    "collapsed": false,
    "ExecuteTime": {
     "end_time": "2024-06-23T16:16:51.728831500Z",
     "start_time": "2024-06-23T16:16:51.725823200Z"
    }
   },
   "id": "ad23df6dfb026301",
   "execution_count": 5
  },
  {
   "cell_type": "code",
   "outputs": [
    {
     "name": "stdout",
     "output_type": "stream",
     "text": [
      "CPU times: total: 0 ns\n",
      "Wall time: 0 ns\n"
     ]
    }
   ],
   "source": [
    "%%time\n",
    "array_zeros = np.zeros(100)"
   ],
   "metadata": {
    "collapsed": false,
    "ExecuteTime": {
     "end_time": "2024-06-23T16:16:52.345530300Z",
     "start_time": "2024-06-23T16:16:52.340486Z"
    }
   },
   "id": "3107948ee457aab5",
   "execution_count": 6
  },
  {
   "cell_type": "code",
   "outputs": [
    {
     "name": "stdout",
     "output_type": "stream",
     "text": [
      "CPU times: total: 0 ns\n",
      "Wall time: 0 ns\n"
     ]
    }
   ],
   "source": [
    "%%time\n",
    "array_ones = np.ones(100)"
   ],
   "metadata": {
    "collapsed": false,
    "ExecuteTime": {
     "end_time": "2024-06-23T16:16:53.058421300Z",
     "start_time": "2024-06-23T16:16:53.053906500Z"
    }
   },
   "id": "87ec2337cab720ba",
   "execution_count": 7
  },
  {
   "cell_type": "code",
   "outputs": [
    {
     "name": "stdout",
     "output_type": "stream",
     "text": [
      "CPU times: total: 0 ns\n",
      "Wall time: 0 ns\n"
     ]
    }
   ],
   "source": [
    "%%time\n",
    "array_empty = np.empty(100)"
   ],
   "metadata": {
    "collapsed": false,
    "ExecuteTime": {
     "end_time": "2024-06-23T16:16:53.538380600Z",
     "start_time": "2024-06-23T16:16:53.535366300Z"
    }
   },
   "id": "a07e536a429ffa3b",
   "execution_count": 8
  },
  {
   "cell_type": "markdown",
   "source": [
    "3. При помощи Python реализуйте функцию с именем `new_arr(arr, list1)`, которая добавляет в одномерный массив `arr` список `list1`. Возвращать функция должна тип данных получившегося массива и его длину."
   ],
   "metadata": {
    "collapsed": false
   },
   "id": "d7135ac11ff07f9b"
  },
  {
   "cell_type": "code",
   "outputs": [],
   "source": [
    "import numpy as np\n",
    "\n",
    "def new_arr(arr, list1):\n",
    "    \"\"\"\n",
    "    Добавляет список list1 в массив arr и возвращает тип данных получившегося массива и его длину.\n",
    "    \n",
    "    :param arr: одномерный массив (numpy array).\n",
    "    :param list1: список, который нужно добавить в массив.\n",
    "    :return: тип данных получившегося массива и его длина.\n",
    "    \"\"\"\n",
    "    # Проверка на тип данных входного массива\n",
    "    if not isinstance(arr, np.ndarray):\n",
    "        raise ValueError(\"Input arr must be a numpy array\")\n",
    "    if not isinstance(list1, list):\n",
    "        raise ValueError(\"Input list1 must be a list\")\n",
    "\n",
    "    # Добавление элементов списка в массив\n",
    "    new_array = np.append(arr, list1)\n",
    "\n",
    "    # Возвращаем тип данных и длину нового массива\n",
    "    return new_array.dtype, len(new_array)\n",
    "\n",
    "# Примеры использования функции\n",
    "arr = np.array([1, 2, 3, 4])\n",
    "list1 = [5, 6, 7, 8]\n",
    "\n",
    "dtype, length = new_arr(arr, list1)\n",
    "print(f\"Type of new array: {dtype}, Length of new array: {length}\")"
   ],
   "metadata": {
    "collapsed": false
   },
   "id": "c579c53e0c4279b8"
  }
 ],
 "metadata": {
  "kernelspec": {
   "display_name": "Python 3",
   "language": "python",
   "name": "python3"
  },
  "language_info": {
   "codemirror_mode": {
    "name": "ipython",
    "version": 2
   },
   "file_extension": ".py",
   "mimetype": "text/x-python",
   "name": "python",
   "nbconvert_exporter": "python",
   "pygments_lexer": "ipython2",
   "version": "2.7.6"
  }
 },
 "nbformat": 4,
 "nbformat_minor": 5
}
