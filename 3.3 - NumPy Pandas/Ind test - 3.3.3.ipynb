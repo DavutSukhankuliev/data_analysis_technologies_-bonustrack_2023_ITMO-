{
 "cells": [
  {
   "cell_type": "markdown",
   "source": [
    "Средствами библиотеки Pandas языка Python в создайте датафрейм `df_all` из файла `daily_weather_data.csv`, в котором собраны данные о погоде в столицах мира по месяцам с 2018 по 2022 год. Найдите среднее значение колонки `'tavg'` в `Moscow` за 2021 год."
   ],
   "metadata": {
    "collapsed": false
   },
   "id": "e41090b143d54edf"
  },
  {
   "cell_type": "code",
   "outputs": [
    {
     "name": "stdout",
     "output_type": "stream",
     "text": [
      "Среднее значение колонки 'tavg' в Moscow за 2021 год: 7.146575342465753\n"
     ]
    }
   ],
   "source": [
    "import pandas as pd\n",
    "\n",
    "# Загрузка данных из файла 'daily_weather_data.csv'\n",
    "df_all = pd.read_csv('Exercises - 3.3.3 daily_weather_data.csv')\n",
    "\n",
    "# Преобразование колонки 'date' в формат datetime\n",
    "df_all['date'] = pd.to_datetime(df_all['date'], dayfirst=True)\n",
    "\n",
    "# Фильтрация данных для города 'Moscow' и года 2021\n",
    "df_moscow_2021 = df_all[(df_all['city'] == 'Moscow') & (df_all['date'].dt.year == 2021)]\n",
    "\n",
    "# Вычисление среднего значения колонки 'tavg'\n",
    "average_tavg_moscow_2021 = df_moscow_2021['tavg'].mean()\n",
    "\n",
    "print(f\"Среднее значение колонки 'tavg' в Moscow за 2021 год: {average_tavg_moscow_2021}\")"
   ],
   "metadata": {
    "collapsed": false,
    "ExecuteTime": {
     "end_time": "2024-06-24T22:51:33.611595700Z",
     "start_time": "2024-06-24T22:51:32.493070500Z"
    }
   },
   "id": "6fafbd9ed62d59c4",
   "execution_count": 7
  },
  {
   "cell_type": "code",
   "outputs": [],
   "source": [],
   "metadata": {
    "collapsed": false
   },
   "id": "c2584e31054a6657"
  }
 ],
 "metadata": {
  "kernelspec": {
   "display_name": "Python 3",
   "language": "python",
   "name": "python3"
  },
  "language_info": {
   "codemirror_mode": {
    "name": "ipython",
    "version": 2
   },
   "file_extension": ".py",
   "mimetype": "text/x-python",
   "name": "python",
   "nbconvert_exporter": "python",
   "pygments_lexer": "ipython2",
   "version": "2.7.6"
  }
 },
 "nbformat": 4,
 "nbformat_minor": 5
}
