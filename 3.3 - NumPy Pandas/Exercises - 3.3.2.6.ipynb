{
 "cells": [
  {
   "cell_type": "markdown",
   "source": [
    "1. При помощи Python создайте функцию `count_first_mean(a)`, принимающую на вход датафрейм, который имеет двойные индексы строк и всего одну колонку. Функция должна возвращать среднее по всем значениям, у которых на месте второй из вложенных меток строк стоит значение `'first'`. Например, если\n",
    "```\n",
    "a = pd.DataFrame(\n",
    "    {'col': [1, 2, 3]},\n",
    "    index=pd.MultiIndex.from_tuples([\n",
    "        ('A', 'first'), ('B', 'first'), ('B', 'second')\n",
    "    ])\n",
    ")\n",
    "```\n",
    "или в строчном виде\n",
    "```\n",
    "             col\n",
    "A   first   1\n",
    "B   first   2\n",
    "    second  3\n",
    "```\n",
    ", то результатом вызова функции должно быть `1.5`"
   ],
   "metadata": {
    "collapsed": false
   },
   "id": "ffffe230bfca990"
  },
  {
   "cell_type": "code",
   "outputs": [
    {
     "name": "stdout",
     "output_type": "stream",
     "text": [
      "1.5\n"
     ]
    },
    {
     "name": "stderr",
     "output_type": "stream",
     "text": [
      "C:\\Users\\stalk\\AppData\\Local\\Temp\\ipykernel_8360\\2612723978.py:1: DeprecationWarning: \n",
      "Pyarrow will become a required dependency of pandas in the next major release of pandas (pandas 3.0),\n",
      "(to allow more performant data types, such as the Arrow string type, and better interoperability with other libraries)\n",
      "but was not found to be installed on your system.\n",
      "If this would cause problems for you,\n",
      "please provide us feedback at https://github.com/pandas-dev/pandas/issues/54466\n",
      "        \n",
      "  import pandas as pd\n"
     ]
    }
   ],
   "source": [
    "import pandas as pd\n",
    "\n",
    "def count_first_mean(a):\n",
    "    # Фильтруем строки, у которых второй уровень индекса равен 'first'\n",
    "    filtered_values = a.loc[a.index.get_level_values(1) == 'first']\n",
    "    \n",
    "    # Вычисляем среднее значение по колонке\n",
    "    mean_value = filtered_values.mean().values[0]\n",
    "    \n",
    "    return mean_value\n",
    "\n",
    "# Пример использования\n",
    "a = pd.DataFrame(\n",
    "    {'col': [1, 2, 3]},\n",
    "    index=pd.MultiIndex.from_tuples([\n",
    "        ('A', 'first'), ('B', 'first'), ('B', 'second')\n",
    "    ])\n",
    ")\n",
    "\n",
    "result = count_first_mean(a)\n",
    "print(result)"
   ],
   "metadata": {
    "collapsed": false,
    "ExecuteTime": {
     "end_time": "2024-06-23T18:21:25.641526400Z",
     "start_time": "2024-06-23T18:21:25.125718400Z"
    }
   },
   "id": "3f3e56064149c16f",
   "execution_count": 1
  },
  {
   "cell_type": "markdown",
   "source": [
    "2. При помощи Python создайте функцию `mean_pet_count(a)`, принимающую на вход датафрейм, имеющий две колонки: `'gender'` и `'pet'`, отвечающих за пол отвечающего и количество домашних питомцев, которые есть у человека. Значения в колонке `'gender'` могут быть либо `'female'`, либо `'male'`. Функция должна возвращать среднее количество домашних животных у женщин (female), прошедших опрос."
   ],
   "metadata": {
    "collapsed": false
   },
   "id": "5db54fc34c7db36b"
  },
  {
   "cell_type": "code",
   "outputs": [
    {
     "name": "stdout",
     "output_type": "stream",
     "text": [
      "4.0\n"
     ]
    }
   ],
   "source": [
    "import pandas as pd\n",
    "\n",
    "def mean_pet_count(a):\n",
    "    # Фильтруем строки, где gender равен 'female'\n",
    "    female_pet_counts = a[a['gender'] == 'female']['pet']\n",
    "    \n",
    "    # Вычисляем среднее значение по колонке 'pet'\n",
    "    mean_value = female_pet_counts.mean()\n",
    "    \n",
    "    return mean_value\n",
    "\n",
    "# Пример использования\n",
    "a = pd.DataFrame({\n",
    "    'gender': ['female', 'male', 'female', 'male', 'female'],\n",
    "    'pet': [3, 2, 5, 1, 4]\n",
    "})\n",
    "\n",
    "result = mean_pet_count(a)\n",
    "print(result)"
   ],
   "metadata": {
    "collapsed": false,
    "ExecuteTime": {
     "end_time": "2024-06-23T18:23:09.964265500Z",
     "start_time": "2024-06-23T18:23:09.960741400Z"
    }
   },
   "id": "d8fb01e6fad86a46",
   "execution_count": 2
  },
  {
   "cell_type": "code",
   "outputs": [
    {
     "name": "stdout",
     "output_type": "stream",
     "text": [
      "4.0\n"
     ]
    }
   ],
   "source": [
    "import pandas as pd\n",
    "\n",
    "def mean_pet_count(a):\n",
    "    return a.groupby('gender').mean().loc['female', 'pet']\n",
    "\n",
    "# Пример использования\n",
    "a = pd.DataFrame({\n",
    "    'gender': ['female', 'male', 'female', 'male', 'female'],\n",
    "    'pet': [3, 2, 5, 1, 4]\n",
    "})\n",
    "\n",
    "result = mean_pet_count(a)\n",
    "print(result)"
   ],
   "metadata": {
    "collapsed": false,
    "ExecuteTime": {
     "end_time": "2024-06-23T18:23:56.949606200Z",
     "start_time": "2024-06-23T18:23:56.939139900Z"
    }
   },
   "id": "7a3e9ab24ad2fe0b",
   "execution_count": 3
  },
  {
   "cell_type": "markdown",
   "source": [
    "3. Пусть у нас уже есть некий датафрейм a результатов опроса, в котором есть две колонки `'gender'` и `'pet'`, которые соответсвуют полу отвечающего и домашним питомцам, которых человек любит больше всего.\n",
    "\n",
    "Отметьте корректный вариант/варианты группировки результатов опроса по полу:"
   ],
   "metadata": {
    "collapsed": false
   },
   "id": "ba472d452b9821b9"
  },
  {
   "cell_type": "code",
   "outputs": [],
   "source": [
    "a.groupby('gender')"
   ],
   "metadata": {
    "collapsed": false
   },
   "id": "1bbd25e68cc5c1fa"
  }
 ],
 "metadata": {
  "kernelspec": {
   "display_name": "Python 3",
   "language": "python",
   "name": "python3"
  },
  "language_info": {
   "codemirror_mode": {
    "name": "ipython",
    "version": 2
   },
   "file_extension": ".py",
   "mimetype": "text/x-python",
   "name": "python",
   "nbconvert_exporter": "python",
   "pygments_lexer": "ipython2",
   "version": "2.7.6"
  }
 },
 "nbformat": 4,
 "nbformat_minor": 5
}
