{
 "cells": [
  {
   "cell_type": "markdown",
   "source": [
    "1. При помощи Python реализуйте функцию с именем `gen_dict()`. На вход эта функция должна принимать два списка одинаковой длины. Первый — список имен, например: `['Kate', 'Lena', 'Dima']`, второй — список возрастов, например: `[23, 56, 33]`. Возвращать функция должна словарь, где ключи — элементы первого списка, а значения — соответствующие элементы второго списка. Для приведенного примера результат должен быть следующим (не считая порядка вывода элементов словаря): `{'Dima': 33, 'Kate': 23, 'Lena': 56}`."
   ],
   "metadata": {
    "collapsed": false
   },
   "id": "66188311f6929332"
  },
  {
   "cell_type": "code",
   "outputs": [],
   "source": [
    "def gen_dict(names, ages):\n",
    "    \"\"\"\n",
    "    Принимает два списка одинаковой длины: список имен и список возрастов.\n",
    "    Возвращает словарь, где ключи - элементы первого списка (имена), а значения -\n",
    "    соответствующие элементы второго списка (возраста).\n",
    "    \n",
    "    :param names: список имен.\n",
    "    :param ages: список возрастов.\n",
    "    :return: словарь с именами и возрастами.\n",
    "    \"\"\"\n",
    "    if len(names) != len(ages):\n",
    "        raise ValueError(\"Both lists must have the same length\")\n",
    "    \n",
    "    result_dict = dict(zip(names, ages))\n",
    "    \n",
    "    return result_dict\n",
    "\n",
    "# Примеры использования функции\n",
    "names_list = ['Kate', 'Lena', 'Dima']\n",
    "ages_list = [23, 56, 33]\n",
    "result = gen_dict(names_list, ages_list)\n",
    "print(result)  # {'Kate': 23, 'Lena': 56, 'Dima': 33}"
   ],
   "metadata": {
    "collapsed": false
   },
   "id": "b3f23a77b183e7fe"
  },
  {
   "cell_type": "markdown",
   "source": [
    "2. При помощи Python реализуйте функцию с именем `gen_dict()`. На вход эта функция должна некий словарь `dict1`. Возвращать функция два списка: первый список - отсорированные в порядке убывания значения, второй - отсортированные в порядке возрастания ключи. Например: если изначальный словарь имеет вид `dict1 = {'Dima': 33, 'Ann': 23, 'Lena': 56}`, то результатом должны быть списки `list1 = [56, 33, 23]` , `list2 = ['Ann', 'Dima', 'Lena']`."
   ],
   "metadata": {
    "collapsed": false
   },
   "id": "ca5e398170562665"
  },
  {
   "cell_type": "code",
   "outputs": [],
   "source": [
    "def gen_dict(dict1):\n",
    "    \"\"\"\n",
    "    Принимает словарь и возвращает два списка:\n",
    "    первый - со значениями, отсортированными в порядке убывания,\n",
    "    второй - с ключами, отсортированными в порядке возрастания.\n",
    "    \n",
    "    :param dict1: входной словарь.\n",
    "    :return: два списка - значений и ключей.\n",
    "    \"\"\"\n",
    "    # Получаем значения из словаря и сортируем их в порядке убывания\n",
    "    list1 = sorted(dict1.values(), reverse=True)\n",
    "    \n",
    "    # Получаем ключи из словаря и сортируем их в порядке возрастания\n",
    "    list2 = sorted(dict1.keys())\n",
    "    \n",
    "    return list1, list2\n",
    "\n",
    "# Примеры использования функции\n",
    "dict1 = {'Dima': 33, 'Ann': 23, 'Lena': 56}\n",
    "list1, list2 = gen_dict(dict1)\n",
    "print(list1)  # [56, 33, 23]\n",
    "print(list2)  # ['Ann', 'Dima', 'Lena']"
   ],
   "metadata": {
    "collapsed": false
   },
   "id": "69c9c97a49b717b2"
  },
  {
   "cell_type": "markdown",
   "source": [
    "3. При помощи Python реализуйте функцию с именем `eq_dict()`. На вход эта функция должна принимать некий словарь `dict1`. Возвращать функция должна возвращать количество совпадений, когда ключ и значение совпадают. Например: если изначальный словарь имеет вид `dict1 = {'test': 'test', 1: 23, 3: 3, '2': 2}`, то количество совпадений `n = 2` . Обратите внимание, что последняя пара ключ-значение не совпадает, поскольку тип ключа - строка, а тип значния - число."
   ],
   "metadata": {
    "collapsed": false
   },
   "id": "3099efcdb0d9a1aa"
  },
  {
   "cell_type": "code",
   "outputs": [],
   "source": [
    "def eq_dict(dict1):\n",
    "    \"\"\"\n",
    "    Принимает словарь и возвращает количество совпадений, когда ключ и значение совпадают.\n",
    "    \n",
    "    :param dict1: входной словарь.\n",
    "    :return: количество совпадений ключ-значение.\n",
    "    \"\"\"\n",
    "    count = 0\n",
    "    for key, value in dict1.items():\n",
    "        if key == value:\n",
    "            count += 1\n",
    "    return count\n",
    "\n",
    "# Примеры использования функции\n",
    "dict1 = {'test': 'test', 1: 23, 3: 3, '2': 2}\n",
    "print(eq_dict(dict1))  # 2"
   ],
   "metadata": {
    "collapsed": false
   },
   "id": "c18295f654725e80"
  },
  {
   "cell_type": "markdown",
   "source": [
    "4. Дан следующий словарь (данные о погоде в определенный день в столице Абхазии): \n",
    "```\n",
    "dict1 = {'date': '2018-07-31', 'country': 'Abkhazia', 'city': 'Sukhumi', 'coordinates': {'Latitude': 43.001525, 'Longitude': 41.023415}, 'tavg': 26.8, 'tmin': 24.7, 'tmax': 28.7, 'wnd': [337.0, 9.1]}\n",
    "```\n",
    "При помощи Python необходимо вывести значения указанных ниже ключей в виде key = ..."
   ],
   "metadata": {
    "collapsed": false
   },
   "id": "abfe4ca1c8018b46"
  },
  {
   "cell_type": "code",
   "outputs": [
    {
     "name": "stdout",
     "output_type": "stream",
     "text": [
      "date = 2018-07-31\n",
      "\n",
      "country = Abkhazia\n",
      "\n",
      "city = Sukhumi\n",
      "\n",
      "tavg = 26.8\n",
      "\n",
      "tmin = 24.7\n",
      "\n",
      "tmax = 28.7\n",
      "\n",
      "Latitude = 43.001525\n",
      "\n",
      "Longitude = 41.023415\n",
      "\n",
      "wind_direction = 337.0\n",
      "wind_speed = 9.1\n"
     ]
    }
   ],
   "source": [
    "# Данные о погоде\n",
    "dict1 = {\n",
    "    'date': '2018-07-31',\n",
    "    'country': 'Abkhazia',\n",
    "    'city': 'Sukhumi',\n",
    "    'coordinates': {\n",
    "        'Latitude': 43.001525,\n",
    "        'Longitude': 41.023415\n",
    "    },\n",
    "    'tavg': 26.8,\n",
    "    'tmin': 24.7,\n",
    "    'tmax': 28.7,\n",
    "    'wnd': [337.0, 9.1]\n",
    "}\n",
    "\n",
    "# Функция для вывода значений ключей в формате key = value\n",
    "def print_key_value(dictionary, key):\n",
    "    value = dictionary.get(key)\n",
    "    print(f'{key} = {value}', end='')\n",
    "\n",
    "# Вывод значений ключей верхнего уровня\n",
    "print_key_value(dict1, 'date')         # date = 2018-07-31\n",
    "print(\"\\n\")\n",
    "print_key_value(dict1, 'country')      # country = Abkhazia\n",
    "print(\"\\n\")\n",
    "print_key_value(dict1, 'city')         # city = Sukhumi\n",
    "print(\"\\n\")\n",
    "print_key_value(dict1, 'tavg')         # tavg = 26.8\n",
    "print(\"\\n\")\n",
    "print_key_value(dict1, 'tmin')         # tmin = 24.7\n",
    "print(\"\\n\")\n",
    "print_key_value(dict1, 'tmax')         # tmax = 28.7\n",
    "print(\"\\n\")\n",
    "\n",
    "# Вывод значений вложенных ключей в формате key = value\n",
    "coordinates = dict1['coordinates']\n",
    "print_key_value(coordinates, 'Latitude')  # Latitude = 43.001525\n",
    "print(\"\\n\")\n",
    "print_key_value(coordinates, 'Longitude') # Longitude = 41.023415\n",
    "print(\"\\n\")\n",
    "\n",
    "# Вывод значений из списка wnd\n",
    "wnd_direction, wnd_speed = dict1['wnd']\n",
    "print(f'wind_direction = {wnd_direction}')  # wind_direction = 337.0\n",
    "print(f'wind_speed = {wnd_speed}')          # wind_speed = 9.1\n"
   ],
   "metadata": {
    "collapsed": false,
    "ExecuteTime": {
     "end_time": "2024-06-23T15:31:04.512141700Z",
     "start_time": "2024-06-23T15:31:04.499283200Z"
    }
   },
   "id": "e271a0cabad47356",
   "execution_count": 1
  },
  {
   "cell_type": "markdown",
   "source": [
    "5. При помощи Python реализуйте функцию с именем `create_dict()`, которая создает словарь, где ключи - числа от `1` до `N` включительно, а значения - буквы латинского адфавита по алфавиту в нижнем регистре. На вход эта функция должна принимать значение `N`, а возвращать функция должна словарь. Например: если `N = 3`, то должен получиться должен словарь вида: `dict1 = {1: 'a', 2: 'b', 3: 'c'}`.\n",
    "\n",
    "Для получения латинского алфавита советуем воспользоваться встроенной функцией `chr()`, которая возвращает символ, соответствующий переданному в качестве аргумента целому числу из таблицы символов `Unicode`. Строчным буквам латинского алфавита соответствуют числа от `97` до `122`."
   ],
   "metadata": {
    "collapsed": false
   },
   "id": "6d6f61b5921fdb91"
  },
  {
   "cell_type": "code",
   "outputs": [],
   "source": [
    "def create_dict(N):\n",
    "    \"\"\"\n",
    "    Создает словарь, где ключи - числа от 1 до N включительно, а значения - буквы латинского алфавита в нижнем регистре.\n",
    "    \n",
    "    :param N: целое число, определяющее количество ключей (от 1 до N).\n",
    "    :return: словарь, где ключи - числа от 1 до N, а значения - буквы латинского алфавита.\n",
    "    \"\"\"\n",
    "    # Проверка на корректность ввода\n",
    "    if N < 1 or N > 26:\n",
    "        raise ValueError(\"N должно быть от 1 до 26\")\n",
    "\n",
    "    # Создание словаря\n",
    "    result = {i + 1: chr(97 + i) for i in range(N)}\n",
    "    return result\n",
    "\n",
    "# Примеры использования функции\n",
    "N = 3\n",
    "dict1 = create_dict(N)\n",
    "print(dict1)  # {1: 'a', 2: 'b', 3: 'c'}\n",
    "\n",
    "N = 26\n",
    "dict2 = create_dict(N)\n",
    "print(dict2)  # {1: 'a', 2: 'b', 3: 'c', ..., 26: 'z'}"
   ],
   "metadata": {
    "collapsed": false
   },
   "id": "be97aca7dcb32c85"
  }
 ],
 "metadata": {
  "kernelspec": {
   "display_name": "Python 3",
   "language": "python",
   "name": "python3"
  },
  "language_info": {
   "codemirror_mode": {
    "name": "ipython",
    "version": 2
   },
   "file_extension": ".py",
   "mimetype": "text/x-python",
   "name": "python",
   "nbconvert_exporter": "python",
   "pygments_lexer": "ipython2",
   "version": "2.7.6"
  }
 },
 "nbformat": 4,
 "nbformat_minor": 5
}
