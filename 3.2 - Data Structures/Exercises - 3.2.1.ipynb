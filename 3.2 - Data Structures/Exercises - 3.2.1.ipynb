{
 "cells": [
  {
   "cell_type": "markdown",
   "source": [
    "1. При помощи Python реализуйте функцию с именем `gen_list()`. На вход функция должна принимать 3 параметра: $a, b, c \\in \\mathbb{N}$, $a < b, c < b$. Возвращать функция должна список натуральных чисел в диапазоне $[a,b)$ с шагом $c$."
   ],
   "metadata": {
    "collapsed": false
   },
   "id": "ec8b22acccb024cb"
  },
  {
   "cell_type": "code",
   "outputs": [
    {
     "name": "stdout",
     "output_type": "stream",
     "text": [
      "[1, 3, 5, 7, 9]\n",
      "[5, 8, 11, 14, 17]\n",
      "[2, 6, 10, 14]\n"
     ]
    }
   ],
   "source": [
    "def gen_list(a, b, c):\n",
    "    \"\"\"\n",
    "    Возвращает список натуральных чисел в диапазоне [a, b) с шагом c.\n",
    "    \n",
    "    :param a: начальное значение диапазона (включительно), натуральное число.\n",
    "    :param b: конечное значение диапазона (не включительно), натуральное число.\n",
    "    :param c: шаг, натуральное число.\n",
    "    :return: список натуральных чисел в диапазоне [a, b) с шагом c.\n",
    "    \"\"\"\n",
    "    if not (a < b and c < b):\n",
    "        raise ValueError(\"Parameters must satisfy the condition a < b and c < b.\")\n",
    "\n",
    "    return list(range(a, b, c))\n",
    "\n",
    "# Примеры использования функции\n",
    "print(gen_list(1, 10, 2))  # [1, 3, 5, 7, 9]\n",
    "print(gen_list(5, 20, 3))  # [5, 8, 11, 14, 17]\n",
    "print(gen_list(2, 15, 4))  # [2, 6, 10, 14]"
   ],
   "metadata": {
    "collapsed": false,
    "ExecuteTime": {
     "end_time": "2024-06-23T15:08:19.331516800Z",
     "start_time": "2024-06-23T15:08:19.320634100Z"
    }
   },
   "id": "9808924b739db317",
   "execution_count": 1
  },
  {
   "cell_type": "markdown",
   "source": [
    "2. При помощи Python реализуйте функцию с именем `gen_list()`. На вход подается некий список, состоящий из 10 целых чисел в диапазоне $[0,100]$ (список может быть любым). Возвращать функция должна новый список, в котором первый элемент - последний элемент заданного списка, второй элемент - среднее значение заданного списка, третий элемент - куб третьего значения заданного списка, последний элемент - первый элемент заданного списка, остальные элементы соответсвуют элементам заданного, но в обратном порядке. Например, исходный список `list1 = [1,2,3,4,5,6,7,8,9,10], результирующий список list2 = [10,5.5,27,9,8,7,6,5,4,1]`."
   ],
   "metadata": {
    "collapsed": false
   },
   "id": "dc5e11647fdfac02"
  },
  {
   "cell_type": "code",
   "outputs": [
    {
     "name": "stdout",
     "output_type": "stream",
     "text": [
      "[10, 5.5, 27, 9, 8, 7, 6, 5, 4, 1]\n"
     ]
    }
   ],
   "source": [
    "def gen_list(list1):\n",
    "    if len(list1) != 10:\n",
    "        raise ValueError(\"Input list must have exactly 10 elements.\")\n",
    "    \n",
    "    list2 = list1.copy()                  # копируем исходный список\n",
    "    list2[0] = list1[-1]                  # Меняем первый элемент нового списка на последний элемент старого списка\n",
    "    list2[1] = sum(list1) / len(list1)    # Меняем второй элемент нового списка на среднее значение старого списка\n",
    "    list2[2] = list1[2]**3                # Меняем третий элемент нового списка на куб третьего элемента старого списка\n",
    "    list2[-1] = list1[0]                  # Меняем последний элемент нового списка на первый элемент старого списка\n",
    "    list2[3:-1] = list1[-2:2:-1]          # Меняем оставшиеся элементы нового списка на соответствующие элементы старого списка в обратном порядке\n",
    "    return list2\n",
    "\n",
    "# Примеры использования функции\n",
    "list1 = [1, 2, 3, 4, 5, 6, 7, 8, 9, 10]\n",
    "list2 = gen_list(list1)\n",
    "print(list2)  # [10, 5.5, 27, 9, 8, 7, 6, 5, 4, 1]"
   ],
   "metadata": {
    "collapsed": false,
    "ExecuteTime": {
     "end_time": "2024-06-23T15:12:05.136117700Z",
     "start_time": "2024-06-23T15:12:05.115773500Z"
    }
   },
   "id": "9e8aad0bdc654847",
   "execution_count": 2
  },
  {
   "cell_type": "markdown",
   "source": [
    "3. При помощи Python реализуйте функцию с именем `gen_list()`. На вход подается некий список, состоящий из двух вложенных целочисленных списков одинаковой длины. Возвращать функция должна два списка. Первый - это первый вложенный в изначальный список, но в обратном порядке. Второй - сумма вложенных изначальных списков. Например, исходный список `list1 = [[1,2,3,4,5],[6,7,8,9,10]], результирующие списоки list2 = [5,4,3,2,1] и list3 = [7, 9, 11, 13, 15]`."
   ],
   "metadata": {
    "collapsed": false
   },
   "id": "5c7335d2a1dd594c"
  },
  {
   "cell_type": "code",
   "outputs": [
    {
     "name": "stdout",
     "output_type": "stream",
     "text": [
      "[5, 4, 3, 2, 1]\n",
      "[7, 9, 11, 13, 15]\n"
     ]
    }
   ],
   "source": [
    "def gen_list(input_list):\n",
    "    \"\"\"\n",
    "    Принимает список из двух вложенных целочисленных списков одинаковой длины.\n",
    "    Возвращает два новых списка: первый в обратном порядке и второй - сумма соответствующих элементов.\n",
    "\n",
    "    :param input_list: список из двух вложенных целочисленных списков.\n",
    "    :return: два новых списка.\n",
    "    \"\"\"\n",
    "    if len(input_list) != 2 or len(input_list[0]) != len(input_list[1]):\n",
    "        raise ValueError(\"Input must be two nested lists of the same length.\")\n",
    "    \n",
    "    first_list_reversed = input_list[0][::-1]\n",
    "    summed_list = [x + y for x, y in zip(input_list[0], input_list[1])]\n",
    "    \n",
    "    return first_list_reversed, summed_list\n",
    "\n",
    "# Примеры использования функции\n",
    "list1 = [[1, 2, 3, 4, 5], [6, 7, 8, 9, 10]]\n",
    "list2, list3 = gen_list(list1)\n",
    "print(list2)  # [5, 4, 3, 2, 1]\n",
    "print(list3)  # [7, 9, 11, 13, 15]"
   ],
   "metadata": {
    "collapsed": false,
    "ExecuteTime": {
     "end_time": "2024-06-23T15:13:04.779523600Z",
     "start_time": "2024-06-23T15:13:04.771166500Z"
    }
   },
   "id": "78912769072aa54",
   "execution_count": 3
  },
  {
   "cell_type": "markdown",
   "source": [
    "4. При помощи Python реализуйте функцию с именем `gen_list()`, которая из предложения формирует список слов в алфавитном порядке. Для разбивки предложения на отдельные слова можно воспользоваться функцией `split(\" \")`, указав в качестве аргумента пробел. Например, из предложения 'При помощи Python реализуйте функцию с именем' должен получится следующий список: `['Python', 'При', 'именем', 'помощи', 'реализуйте', 'с', 'функцию']`."
   ],
   "metadata": {
    "collapsed": false
   },
   "id": "ccaab681fd1b3c25"
  },
  {
   "cell_type": "code",
   "outputs": [],
   "source": [
    "def gen_list(sentence):\n",
    "    \"\"\"\n",
    "    Принимает предложение и возвращает список слов в алфавитном порядке.\n",
    "    \n",
    "    :param sentence: строка, представляющая предложение.\n",
    "    :return: список слов в алфавитном порядке.\n",
    "    \"\"\"\n",
    "    # Разбиваем предложение на слова\n",
    "    words = sentence.split(\" \")\n",
    "    \n",
    "    # Сортируем список слов в алфавитном порядке\n",
    "    sorted_words = sorted(words)\n",
    "    \n",
    "    return sorted_words\n",
    "\n",
    "# Пример использования функции\n",
    "sentence = 'При помощи Python реализуйте функцию с именем'\n",
    "sorted_list = gen_list(sentence)\n",
    "print(sorted_list)  # ['Python', 'При', 'именем', 'помощи', 'реализуйте', 'с', 'функцию']"
   ],
   "metadata": {
    "collapsed": false
   },
   "id": "83b082bb02d2479f"
  },
  {
   "cell_type": "markdown",
   "source": [
    "5. При помощи Python реализуйте функцию с именем `gen_list()`, которая возвращает список слов предложения при условии, что длина таких слов меньше `n`. Например, для `n = 7` из предложения 'При помощи Python реализуйте функцию с именем' должен получится следующий список: `['При', 'помощи', 'Python', 'с', 'именем']`."
   ],
   "metadata": {
    "collapsed": false
   },
   "id": "f4b37e04303d664b"
  },
  {
   "cell_type": "code",
   "outputs": [
    {
     "name": "stdout",
     "output_type": "stream",
     "text": [
      "['При', 'помощи', 'Python', 'с', 'именем']\n"
     ]
    }
   ],
   "source": [
    "def gen_list(n,str):\n",
    "  list1 = []  # Создаем список\n",
    "  str = str.split(\" \") # Разделяем строку на отдельные слова с помошью пробела в качестве разделителя\n",
    "  for word in str:\n",
    "    if n > len(word): \n",
    "      list1.append(word)  #  Сравниваем длину слова с заданным n и если условие выполняется, добавляем в список\n",
    "  return list1\n",
    "\n",
    "# Пример использования функции\n",
    "sentence = 'При помощи Python реализуйте функцию с именем'\n",
    "n = 7\n",
    "filtered_list = gen_list(n, sentence)\n",
    "print(filtered_list)  # ['При', 'помощи', 'Python', 'с', 'именем']"
   ],
   "metadata": {
    "collapsed": false,
    "ExecuteTime": {
     "end_time": "2024-06-23T15:17:01.273859800Z",
     "start_time": "2024-06-23T15:17:01.260239300Z"
    }
   },
   "id": "dc8e3c28f5b01aa1",
   "execution_count": 6
  },
  {
   "cell_type": "markdown",
   "source": [
    "7. При помощи Python реализуйте функцию с именем `last_item()`. На вход функция должна принимать кортеж в качестве параметра:(t). Возвращать функция должна последний элемент кортежа."
   ],
   "metadata": {
    "collapsed": false
   },
   "id": "7fbcf3778a7fcd6e"
  },
  {
   "cell_type": "code",
   "outputs": [],
   "source": [
    "def last_item(t):\n",
    "    \"\"\"\n",
    "    Принимает кортеж и возвращает последний элемент.\n",
    "\n",
    "    :param t: кортеж.\n",
    "    :return: последний элемент кортежа.\n",
    "    \"\"\"\n",
    "    if not isinstance(t, tuple):\n",
    "        raise ValueError(\"Input must be a tuple\")\n",
    "    \n",
    "    if len(t) == 0:\n",
    "        raise ValueError(\"Tuple is empty\")\n",
    "    \n",
    "    return t[-1]\n",
    "\n",
    "# Примеры использования функции\n",
    "example_tuple = (1, 2, 3, 4, 5)\n",
    "print(last_item(example_tuple))  # 5\n",
    "\n",
    "empty_tuple = ()\n",
    "# print(last_item(empty_tuple))  # Будет выброшена ошибка ValueError: Tuple is empty\n",
    "\n",
    "not_a_tuple = [1, 2, 3]\n",
    "# print(last_item(not_a_tuple))  # Будет выброшена ошибка ValueError: Input must be a tuple"
   ],
   "metadata": {
    "collapsed": false
   },
   "id": "2b67c0a862f19da4"
  },
  {
   "cell_type": "markdown",
   "source": [
    "9. При помощи Python реализуйте функцию с именем `change_tuple()`. На вход функция должна принимать кортеж `t` и некий элемент `item`, на который должен быть заменен первый элемент кортежа. Возвращать функция должна возвращать кортеж `t` с измененным первым элементом. Например, если `t = (1, 'a', 'b', 5)` и `item = 'c'`, то вернуть функция должна следующий кортеж `t = ('c', 'a', 'b', 5)`"
   ],
   "metadata": {
    "collapsed": false
   },
   "id": "cef620c22f03ef43"
  },
  {
   "cell_type": "code",
   "outputs": [],
   "source": [
    "def change_tuple(t, item):\n",
    "    \"\"\"\n",
    "    Принимает кортеж и элемент, на который должен быть заменен первый элемент кортежа.\n",
    "    Возвращает новый кортеж с измененным первым элементом.\n",
    "    \n",
    "    :param t: исходный кортеж.\n",
    "    :param item: элемент, который заменит первый элемент кортежа.\n",
    "    :return: новый кортеж с измененным первым элементом.\n",
    "    \"\"\"\n",
    "    if not isinstance(t, tuple):\n",
    "        raise ValueError(\"Input must be a tuple\")\n",
    "\n",
    "    # Создаем новый кортеж с измененным первым элементом\n",
    "    new_tuple = (item,) + t[1:]\n",
    "    \n",
    "    return new_tuple\n",
    "\n",
    "# Примеры использования функции\n",
    "t = (1, 'a', 'b', 5)\n",
    "item = 'c'\n",
    "print(change_tuple(t, item))  # ('c', 'a', 'b', 5)"
   ],
   "metadata": {
    "collapsed": false
   },
   "id": "94837350a40bf70b"
  },
  {
   "cell_type": "markdown",
   "source": [
    "10. При помощи Python реализуйте функцию с именем `tuple_index()`. На вход функция должна принимать кортеж `t` и некий список целых чисел `list1`. Функция должна выбирать элемент кортежа, соответсвующий индексу списка, и добавлять его в новый итоговый список. Если в кортеже элемента с таким индексом не существует, добавляется `None`. Возвращать функция должна список, состоящий из элементов кортежа с индексами из списка. Например, если `t = (1, 'a', 'b', 5)` и `list1 = [1, 10, 3]`, то вернуть функция должна следующий список `t1 = ['a', None, 5]`"
   ],
   "metadata": {
    "collapsed": false
   },
   "id": "560a928d99770f84"
  },
  {
   "cell_type": "code",
   "outputs": [],
   "source": [
    "def tuple_index(t, list1):\n",
    "    \"\"\"\n",
    "    Принимает кортеж и список целых чисел.\n",
    "    Возвращает список, состоящий из элементов кортежа с индексами из списка.\n",
    "    \n",
    "    :param t: кортеж.\n",
    "    :param list1: список целых чисел (индексов).\n",
    "    :return: новый список с элементами из кортежа по индексам из списка\n",
    "             или None, если индекс выходит за пределы кортежа.\n",
    "    \"\"\"\n",
    "    result = []\n",
    "    \n",
    "    for index in list1:\n",
    "        # Проверяем, выходит ли индекс за пределы кортежа\n",
    "        if 0 <= index < len(t):\n",
    "            result.append(t[index])\n",
    "        else:\n",
    "            result.append(None)\n",
    "    \n",
    "    return result\n",
    "\n",
    "# Примеры использования функции\n",
    "t = (1, 'a', 'b', 5)\n",
    "list1 = [1, 10, 3]\n",
    "print(tuple_index(t, list1))  # ['a', None, 5]"
   ],
   "metadata": {
    "collapsed": false
   },
   "id": "cb5a1397bc3a2810"
  }
 ],
 "metadata": {
  "kernelspec": {
   "display_name": "Python 3",
   "language": "python",
   "name": "python3"
  },
  "language_info": {
   "codemirror_mode": {
    "name": "ipython",
    "version": 2
   },
   "file_extension": ".py",
   "mimetype": "text/x-python",
   "name": "python",
   "nbconvert_exporter": "python",
   "pygments_lexer": "ipython2",
   "version": "2.7.6"
  }
 },
 "nbformat": 4,
 "nbformat_minor": 5
}
