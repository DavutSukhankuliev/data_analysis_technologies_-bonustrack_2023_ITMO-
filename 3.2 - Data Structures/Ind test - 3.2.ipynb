{
 "cells": [
  {
   "cell_type": "markdown",
   "source": [
    "1. Некий кортеж на языке Python определен следующим образом:\n",
    "\n",
    "`tuple1 = tuple('Некий кортеж на языке Python определен следующим образом') `\n",
    "\n",
    "Какое значение принимает tuple1[11]?"
   ],
   "metadata": {
    "collapsed": false
   },
   "id": "644d9dcde98ec7a7"
  },
  {
   "cell_type": "code",
   "outputs": [
    {
     "name": "stdout",
     "output_type": "stream",
     "text": [
      "ж\n"
     ]
    }
   ],
   "source": [
    "tuple1 = tuple('Некий кортеж на языке Python определен следующим образом')\n",
    "print(tuple1[11])"
   ],
   "metadata": {
    "collapsed": false,
    "ExecuteTime": {
     "end_time": "2024-06-23T15:36:14.325787200Z",
     "start_time": "2024-06-23T15:36:14.314660400Z"
    }
   },
   "id": "2419fb2e70eee46b",
   "execution_count": 1
  },
  {
   "cell_type": "markdown",
   "source": [
    "2. При помощи Python реализуйте функцию с именем `create_dict(tuple1, list1, N)`, которая создает словарь размера `N` с ключами из кортежа `tuple1` и значениями из списка `list1`. Если размерность кортежа `tuple1` или списка `list1` меньше `N`, то ключ должен формироваться, как `key_i`, а соответсвующее значение `i`, где `i` - индекс словаря, $i \\in [0,N)$.\n",
    "\n",
    "Например, если `tuple1 = ('яблоки','груши','сливы')`, `list1 = [103.0, 154.9, 95.0, 215.5]` и `N = 5`, то результатом должен быть следующий словарь `{'яблоки': 103.0, 'груши': 154.9, 'сливы': 95.0, 'key_3': 215.5, 'key_4': 4}`"
   ],
   "metadata": {
    "collapsed": false
   },
   "id": "2c943d587b5a3eab"
  },
  {
   "cell_type": "code",
   "outputs": [],
   "source": [
    "def create_dict(tuple1, list1, N):\n",
    "    \"\"\"\n",
    "    Создает словарь размера N с ключами из кортежа tuple1 и значениями из списка list1.\n",
    "    Если размерность кортежа tuple1 или списка list1 меньше N, используются ключи вида key_i и значения i.\n",
    "\n",
    "    :param tuple1: кортеж с ключами.\n",
    "    :param list1: список со значениями.\n",
    "    :param N: размер словаря.\n",
    "    :return: словарь размера N.\n",
    "    \"\"\"\n",
    "    result = {}\n",
    "    \n",
    "    for i in range(N):\n",
    "        if i < len(tuple1) and i < len(list1):\n",
    "            result[tuple1[i]] = list1[i]\n",
    "        elif i < len(tuple1):\n",
    "            result[tuple1[i]] = i\n",
    "        elif i < len(list1):\n",
    "            result[f'key_{i}'] = list1[i]\n",
    "        else:\n",
    "            result[f'key_{i}'] = i\n",
    "    \n",
    "    return result\n",
    "\n",
    "# Примеры использования функции\n",
    "tuple1 = ('яблоки','груши','сливы')\n",
    "list1 = [103.0, 154.9, 95.0, 215.5]\n",
    "N = 5\n",
    "dict_result = create_dict(tuple1, list1, N)\n",
    "print(dict_result)  # {'яблоки': 103.0, 'груши': 154.9, 'сливы': 95.0, 'key_3': 215.5, 'key_4': 4}"
   ],
   "metadata": {
    "collapsed": false
   },
   "id": "61a11d59bcfd85f3"
  }
 ],
 "metadata": {
  "kernelspec": {
   "display_name": "Python 3",
   "language": "python",
   "name": "python3"
  },
  "language_info": {
   "codemirror_mode": {
    "name": "ipython",
    "version": 2
   },
   "file_extension": ".py",
   "mimetype": "text/x-python",
   "name": "python",
   "nbconvert_exporter": "python",
   "pygments_lexer": "ipython2",
   "version": "2.7.6"
  }
 },
 "nbformat": 4,
 "nbformat_minor": 5
}
