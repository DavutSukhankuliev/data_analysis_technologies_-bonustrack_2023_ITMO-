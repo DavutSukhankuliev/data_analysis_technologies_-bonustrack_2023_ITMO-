{
  "nbformat": 4,
  "nbformat_minor": 0,
  "metadata": {
    "colab": {
      "provenance": []
    },
    "kernelspec": {
      "name": "python3",
      "display_name": "Python 3"
    },
    "language_info": {
      "name": "python"
    }
  },
  "cells": [
    {
      "cell_type": "markdown",
      "metadata": {
        "id": "pT2g3peN3l9y"
      },
      "source": [
        "В этом блокноте мы научимся строить график японских свечей.\n",
        "\n",
        "Для начала подключаем библиотеку pandas и загружаем интересующий нас [файл](https://studio.openedu.ru/assets/courseware/v1/824fccdb3e15cab129049a536ece5500/asset-v1:ITMOUniversity+DATANTECH2035+fall_2021+type@asset+block/SPFB.RTS-12.18_180901_181231.csv) при помощи метода `read_csv(file_name, delimeter, index_col, decimal, usecols, header, ...)`. Подробное описание можно найти по [ссылке](https://pandas.pydata.org/pandas-docs/stable/reference/api/pandas.read_csv.html)."
      ]
    },
    {
      "cell_type": "code",
      "metadata": {
        "id": "X4UgycQ-29JL"
      },
      "source": [
        "import pandas as pd\n",
        "data = pd.read_csv('https://studio.openedu.ru/assets/courseware/v1/824fccdb3e15cab129049a536ece5500/asset-v1:ITMOUniversity+DATANTECH2035+fall_2021+type@asset+block/SPFB.RTS-12.18_180901_181231.csv',\n",
        "                       delimiter=',',\n",
        "                       decimal='.')"
      ],
      "execution_count": null,
      "outputs": []
    },
    {
      "cell_type": "markdown",
      "metadata": {
        "id": "-LSi2YnX3z4O"
      },
      "source": [
        " Посмотрим на наши данные. Похоже, они загрузились правильно."
      ]
    },
    {
      "cell_type": "code",
      "metadata": {
        "colab": {
          "base_uri": "https://localhost:8080/",
          "height": 204
        },
        "id": "lr7GOIgi324h",
        "outputId": "87f150c4-f194-464c-ea54-8ed9610d3e2c"
      },
      "source": [
        "data.head()"
      ],
      "execution_count": null,
      "outputs": [
        {
          "output_type": "execute_result",
          "data": {
            "text/html": [
              "<div>\n",
              "<style scoped>\n",
              "    .dataframe tbody tr th:only-of-type {\n",
              "        vertical-align: middle;\n",
              "    }\n",
              "\n",
              "    .dataframe tbody tr th {\n",
              "        vertical-align: top;\n",
              "    }\n",
              "\n",
              "    .dataframe thead th {\n",
              "        text-align: right;\n",
              "    }\n",
              "</style>\n",
              "<table border=\"1\" class=\"dataframe\">\n",
              "  <thead>\n",
              "    <tr style=\"text-align: right;\">\n",
              "      <th></th>\n",
              "      <th>&lt;TICKER&gt;</th>\n",
              "      <th>&lt;PER&gt;</th>\n",
              "      <th>&lt;DATE&gt;</th>\n",
              "      <th>&lt;TIME&gt;</th>\n",
              "      <th>&lt;OPEN&gt;</th>\n",
              "      <th>&lt;HIGH&gt;</th>\n",
              "      <th>&lt;LOW&gt;</th>\n",
              "      <th>&lt;CLOSE&gt;</th>\n",
              "      <th>&lt;VOL&gt;</th>\n",
              "    </tr>\n",
              "  </thead>\n",
              "  <tbody>\n",
              "    <tr>\n",
              "      <th>0</th>\n",
              "      <td>SPFB.RTS-12.18</td>\n",
              "      <td>1</td>\n",
              "      <td>03/09/18</td>\n",
              "      <td>10:01</td>\n",
              "      <td>107900.0</td>\n",
              "      <td>108060.0</td>\n",
              "      <td>107900.0</td>\n",
              "      <td>108030.0</td>\n",
              "      <td>3</td>\n",
              "    </tr>\n",
              "    <tr>\n",
              "      <th>1</th>\n",
              "      <td>SPFB.RTS-12.18</td>\n",
              "      <td>1</td>\n",
              "      <td>03/09/18</td>\n",
              "      <td>10:02</td>\n",
              "      <td>107960.0</td>\n",
              "      <td>107960.0</td>\n",
              "      <td>107960.0</td>\n",
              "      <td>107960.0</td>\n",
              "      <td>5</td>\n",
              "    </tr>\n",
              "    <tr>\n",
              "      <th>2</th>\n",
              "      <td>SPFB.RTS-12.18</td>\n",
              "      <td>1</td>\n",
              "      <td>03/09/18</td>\n",
              "      <td>10:04</td>\n",
              "      <td>108000.0</td>\n",
              "      <td>108000.0</td>\n",
              "      <td>108000.0</td>\n",
              "      <td>108000.0</td>\n",
              "      <td>8</td>\n",
              "    </tr>\n",
              "    <tr>\n",
              "      <th>3</th>\n",
              "      <td>SPFB.RTS-12.18</td>\n",
              "      <td>1</td>\n",
              "      <td>03/09/18</td>\n",
              "      <td>10:05</td>\n",
              "      <td>108000.0</td>\n",
              "      <td>108000.0</td>\n",
              "      <td>108000.0</td>\n",
              "      <td>108000.0</td>\n",
              "      <td>1</td>\n",
              "    </tr>\n",
              "    <tr>\n",
              "      <th>4</th>\n",
              "      <td>SPFB.RTS-12.18</td>\n",
              "      <td>1</td>\n",
              "      <td>03/09/18</td>\n",
              "      <td>10:08</td>\n",
              "      <td>108080.0</td>\n",
              "      <td>108080.0</td>\n",
              "      <td>108080.0</td>\n",
              "      <td>108080.0</td>\n",
              "      <td>1</td>\n",
              "    </tr>\n",
              "  </tbody>\n",
              "</table>\n",
              "</div>"
            ],
            "text/plain": [
              "         <TICKER>  <PER>    <DATE> <TIME>  ...    <HIGH>     <LOW>   <CLOSE>  <VOL>\n",
              "0  SPFB.RTS-12.18      1  03/09/18  10:01  ...  108060.0  107900.0  108030.0      3\n",
              "1  SPFB.RTS-12.18      1  03/09/18  10:02  ...  107960.0  107960.0  107960.0      5\n",
              "2  SPFB.RTS-12.18      1  03/09/18  10:04  ...  108000.0  108000.0  108000.0      8\n",
              "3  SPFB.RTS-12.18      1  03/09/18  10:05  ...  108000.0  108000.0  108000.0      1\n",
              "4  SPFB.RTS-12.18      1  03/09/18  10:08  ...  108080.0  108080.0  108080.0      1\n",
              "\n",
              "[5 rows x 9 columns]"
            ]
          },
          "metadata": {},
          "execution_count": 2
        }
      ]
    },
    {
      "cell_type": "markdown",
      "metadata": {
        "id": "MzWlX7oP4u40"
      },
      "source": [
        "Можно окинуть взглядом и весь набор данных:"
      ]
    },
    {
      "cell_type": "code",
      "metadata": {
        "colab": {
          "base_uri": "https://localhost:8080/",
          "height": 419
        },
        "id": "6Cvpp9S04x9t",
        "outputId": "d9f02ca7-1022-46c4-b06d-fcd6c38f1acc"
      },
      "source": [
        "data"
      ],
      "execution_count": null,
      "outputs": [
        {
          "output_type": "execute_result",
          "data": {
            "text/html": [
              "<div>\n",
              "<style scoped>\n",
              "    .dataframe tbody tr th:only-of-type {\n",
              "        vertical-align: middle;\n",
              "    }\n",
              "\n",
              "    .dataframe tbody tr th {\n",
              "        vertical-align: top;\n",
              "    }\n",
              "\n",
              "    .dataframe thead th {\n",
              "        text-align: right;\n",
              "    }\n",
              "</style>\n",
              "<table border=\"1\" class=\"dataframe\">\n",
              "  <thead>\n",
              "    <tr style=\"text-align: right;\">\n",
              "      <th></th>\n",
              "      <th>&lt;TICKER&gt;</th>\n",
              "      <th>&lt;PER&gt;</th>\n",
              "      <th>&lt;DATE&gt;</th>\n",
              "      <th>&lt;TIME&gt;</th>\n",
              "      <th>&lt;OPEN&gt;</th>\n",
              "      <th>&lt;HIGH&gt;</th>\n",
              "      <th>&lt;LOW&gt;</th>\n",
              "      <th>&lt;CLOSE&gt;</th>\n",
              "      <th>&lt;VOL&gt;</th>\n",
              "    </tr>\n",
              "  </thead>\n",
              "  <tbody>\n",
              "    <tr>\n",
              "      <th>0</th>\n",
              "      <td>SPFB.RTS-12.18</td>\n",
              "      <td>1</td>\n",
              "      <td>03/09/18</td>\n",
              "      <td>10:01</td>\n",
              "      <td>107900.0</td>\n",
              "      <td>108060.0</td>\n",
              "      <td>107900.0</td>\n",
              "      <td>108030.0</td>\n",
              "      <td>3</td>\n",
              "    </tr>\n",
              "    <tr>\n",
              "      <th>1</th>\n",
              "      <td>SPFB.RTS-12.18</td>\n",
              "      <td>1</td>\n",
              "      <td>03/09/18</td>\n",
              "      <td>10:02</td>\n",
              "      <td>107960.0</td>\n",
              "      <td>107960.0</td>\n",
              "      <td>107960.0</td>\n",
              "      <td>107960.0</td>\n",
              "      <td>5</td>\n",
              "    </tr>\n",
              "    <tr>\n",
              "      <th>2</th>\n",
              "      <td>SPFB.RTS-12.18</td>\n",
              "      <td>1</td>\n",
              "      <td>03/09/18</td>\n",
              "      <td>10:04</td>\n",
              "      <td>108000.0</td>\n",
              "      <td>108000.0</td>\n",
              "      <td>108000.0</td>\n",
              "      <td>108000.0</td>\n",
              "      <td>8</td>\n",
              "    </tr>\n",
              "    <tr>\n",
              "      <th>3</th>\n",
              "      <td>SPFB.RTS-12.18</td>\n",
              "      <td>1</td>\n",
              "      <td>03/09/18</td>\n",
              "      <td>10:05</td>\n",
              "      <td>108000.0</td>\n",
              "      <td>108000.0</td>\n",
              "      <td>108000.0</td>\n",
              "      <td>108000.0</td>\n",
              "      <td>1</td>\n",
              "    </tr>\n",
              "    <tr>\n",
              "      <th>4</th>\n",
              "      <td>SPFB.RTS-12.18</td>\n",
              "      <td>1</td>\n",
              "      <td>03/09/18</td>\n",
              "      <td>10:08</td>\n",
              "      <td>108080.0</td>\n",
              "      <td>108080.0</td>\n",
              "      <td>108080.0</td>\n",
              "      <td>108080.0</td>\n",
              "      <td>1</td>\n",
              "    </tr>\n",
              "    <tr>\n",
              "      <th>...</th>\n",
              "      <td>...</td>\n",
              "      <td>...</td>\n",
              "      <td>...</td>\n",
              "      <td>...</td>\n",
              "      <td>...</td>\n",
              "      <td>...</td>\n",
              "      <td>...</td>\n",
              "      <td>...</td>\n",
              "      <td>...</td>\n",
              "    </tr>\n",
              "    <tr>\n",
              "      <th>58965</th>\n",
              "      <td>SPFB.RTS-12.18</td>\n",
              "      <td>1</td>\n",
              "      <td>20/12/18</td>\n",
              "      <td>18:40</td>\n",
              "      <td>109380.0</td>\n",
              "      <td>109380.0</td>\n",
              "      <td>109380.0</td>\n",
              "      <td>109380.0</td>\n",
              "      <td>1</td>\n",
              "    </tr>\n",
              "    <tr>\n",
              "      <th>58966</th>\n",
              "      <td>SPFB.RTS-12.18</td>\n",
              "      <td>1</td>\n",
              "      <td>20/12/18</td>\n",
              "      <td>18:41</td>\n",
              "      <td>109380.0</td>\n",
              "      <td>109390.0</td>\n",
              "      <td>109380.0</td>\n",
              "      <td>109390.0</td>\n",
              "      <td>10</td>\n",
              "    </tr>\n",
              "    <tr>\n",
              "      <th>58967</th>\n",
              "      <td>SPFB.RTS-12.18</td>\n",
              "      <td>1</td>\n",
              "      <td>20/12/18</td>\n",
              "      <td>18:43</td>\n",
              "      <td>109380.0</td>\n",
              "      <td>109390.0</td>\n",
              "      <td>109380.0</td>\n",
              "      <td>109390.0</td>\n",
              "      <td>12</td>\n",
              "    </tr>\n",
              "    <tr>\n",
              "      <th>58968</th>\n",
              "      <td>SPFB.RTS-12.18</td>\n",
              "      <td>1</td>\n",
              "      <td>20/12/18</td>\n",
              "      <td>18:44</td>\n",
              "      <td>109390.0</td>\n",
              "      <td>109390.0</td>\n",
              "      <td>109390.0</td>\n",
              "      <td>109390.0</td>\n",
              "      <td>3</td>\n",
              "    </tr>\n",
              "    <tr>\n",
              "      <th>58969</th>\n",
              "      <td>SPFB.RTS-12.18</td>\n",
              "      <td>1</td>\n",
              "      <td>20/12/18</td>\n",
              "      <td>18:45</td>\n",
              "      <td>109390.0</td>\n",
              "      <td>109390.0</td>\n",
              "      <td>109380.0</td>\n",
              "      <td>109380.0</td>\n",
              "      <td>3</td>\n",
              "    </tr>\n",
              "  </tbody>\n",
              "</table>\n",
              "<p>58970 rows × 9 columns</p>\n",
              "</div>"
            ],
            "text/plain": [
              "             <TICKER>  <PER>    <DATE>  ...     <LOW>   <CLOSE>  <VOL>\n",
              "0      SPFB.RTS-12.18      1  03/09/18  ...  107900.0  108030.0      3\n",
              "1      SPFB.RTS-12.18      1  03/09/18  ...  107960.0  107960.0      5\n",
              "2      SPFB.RTS-12.18      1  03/09/18  ...  108000.0  108000.0      8\n",
              "3      SPFB.RTS-12.18      1  03/09/18  ...  108000.0  108000.0      1\n",
              "4      SPFB.RTS-12.18      1  03/09/18  ...  108080.0  108080.0      1\n",
              "...               ...    ...       ...  ...       ...       ...    ...\n",
              "58965  SPFB.RTS-12.18      1  20/12/18  ...  109380.0  109380.0      1\n",
              "58966  SPFB.RTS-12.18      1  20/12/18  ...  109380.0  109390.0     10\n",
              "58967  SPFB.RTS-12.18      1  20/12/18  ...  109380.0  109390.0     12\n",
              "58968  SPFB.RTS-12.18      1  20/12/18  ...  109390.0  109390.0      3\n",
              "58969  SPFB.RTS-12.18      1  20/12/18  ...  109380.0  109380.0      3\n",
              "\n",
              "[58970 rows x 9 columns]"
            ]
          },
          "metadata": {},
          "execution_count": 3
        }
      ]
    },
    {
      "cell_type": "markdown",
      "metadata": {
        "id": "c8-vNj5940tT"
      },
      "source": [
        "Преобразуем дату в удобный для дальнейшего формат, склеив дату и время"
      ]
    },
    {
      "cell_type": "code",
      "metadata": {
        "colab": {
          "base_uri": "https://localhost:8080/",
          "height": 204
        },
        "id": "C_tNb96l4Kl1",
        "outputId": "8c814340-8614-4e20-c9e6-c25a2f86c5eb"
      },
      "source": [
        "data['DATE'] = data['<DATE>'] + ' ' + data['<TIME>']\n",
        "data.head()"
      ],
      "execution_count": null,
      "outputs": [
        {
          "output_type": "execute_result",
          "data": {
            "text/html": [
              "<div>\n",
              "<style scoped>\n",
              "    .dataframe tbody tr th:only-of-type {\n",
              "        vertical-align: middle;\n",
              "    }\n",
              "\n",
              "    .dataframe tbody tr th {\n",
              "        vertical-align: top;\n",
              "    }\n",
              "\n",
              "    .dataframe thead th {\n",
              "        text-align: right;\n",
              "    }\n",
              "</style>\n",
              "<table border=\"1\" class=\"dataframe\">\n",
              "  <thead>\n",
              "    <tr style=\"text-align: right;\">\n",
              "      <th></th>\n",
              "      <th>&lt;TICKER&gt;</th>\n",
              "      <th>&lt;PER&gt;</th>\n",
              "      <th>&lt;DATE&gt;</th>\n",
              "      <th>&lt;TIME&gt;</th>\n",
              "      <th>&lt;OPEN&gt;</th>\n",
              "      <th>&lt;HIGH&gt;</th>\n",
              "      <th>&lt;LOW&gt;</th>\n",
              "      <th>&lt;CLOSE&gt;</th>\n",
              "      <th>&lt;VOL&gt;</th>\n",
              "      <th>DATE</th>\n",
              "    </tr>\n",
              "  </thead>\n",
              "  <tbody>\n",
              "    <tr>\n",
              "      <th>0</th>\n",
              "      <td>SPFB.RTS-12.18</td>\n",
              "      <td>1</td>\n",
              "      <td>03/09/18</td>\n",
              "      <td>10:01</td>\n",
              "      <td>107900.0</td>\n",
              "      <td>108060.0</td>\n",
              "      <td>107900.0</td>\n",
              "      <td>108030.0</td>\n",
              "      <td>3</td>\n",
              "      <td>03/09/18 10:01</td>\n",
              "    </tr>\n",
              "    <tr>\n",
              "      <th>1</th>\n",
              "      <td>SPFB.RTS-12.18</td>\n",
              "      <td>1</td>\n",
              "      <td>03/09/18</td>\n",
              "      <td>10:02</td>\n",
              "      <td>107960.0</td>\n",
              "      <td>107960.0</td>\n",
              "      <td>107960.0</td>\n",
              "      <td>107960.0</td>\n",
              "      <td>5</td>\n",
              "      <td>03/09/18 10:02</td>\n",
              "    </tr>\n",
              "    <tr>\n",
              "      <th>2</th>\n",
              "      <td>SPFB.RTS-12.18</td>\n",
              "      <td>1</td>\n",
              "      <td>03/09/18</td>\n",
              "      <td>10:04</td>\n",
              "      <td>108000.0</td>\n",
              "      <td>108000.0</td>\n",
              "      <td>108000.0</td>\n",
              "      <td>108000.0</td>\n",
              "      <td>8</td>\n",
              "      <td>03/09/18 10:04</td>\n",
              "    </tr>\n",
              "    <tr>\n",
              "      <th>3</th>\n",
              "      <td>SPFB.RTS-12.18</td>\n",
              "      <td>1</td>\n",
              "      <td>03/09/18</td>\n",
              "      <td>10:05</td>\n",
              "      <td>108000.0</td>\n",
              "      <td>108000.0</td>\n",
              "      <td>108000.0</td>\n",
              "      <td>108000.0</td>\n",
              "      <td>1</td>\n",
              "      <td>03/09/18 10:05</td>\n",
              "    </tr>\n",
              "    <tr>\n",
              "      <th>4</th>\n",
              "      <td>SPFB.RTS-12.18</td>\n",
              "      <td>1</td>\n",
              "      <td>03/09/18</td>\n",
              "      <td>10:08</td>\n",
              "      <td>108080.0</td>\n",
              "      <td>108080.0</td>\n",
              "      <td>108080.0</td>\n",
              "      <td>108080.0</td>\n",
              "      <td>1</td>\n",
              "      <td>03/09/18 10:08</td>\n",
              "    </tr>\n",
              "  </tbody>\n",
              "</table>\n",
              "</div>"
            ],
            "text/plain": [
              "         <TICKER>  <PER>    <DATE>  ...   <CLOSE>  <VOL>            DATE\n",
              "0  SPFB.RTS-12.18      1  03/09/18  ...  108030.0      3  03/09/18 10:01\n",
              "1  SPFB.RTS-12.18      1  03/09/18  ...  107960.0      5  03/09/18 10:02\n",
              "2  SPFB.RTS-12.18      1  03/09/18  ...  108000.0      8  03/09/18 10:04\n",
              "3  SPFB.RTS-12.18      1  03/09/18  ...  108000.0      1  03/09/18 10:05\n",
              "4  SPFB.RTS-12.18      1  03/09/18  ...  108080.0      1  03/09/18 10:08\n",
              "\n",
              "[5 rows x 10 columns]"
            ]
          },
          "metadata": {},
          "execution_count": 4
        }
      ]
    },
    {
      "cell_type": "markdown",
      "metadata": {
        "id": "XU3o0ngN-zfI"
      },
      "source": [
        "Поработаем над форматом времени. Для этого переведем строковые данные, показывающие время, в специальный объект в Python."
      ]
    },
    {
      "cell_type": "code",
      "metadata": {
        "id": "fye-qaJP-c8M",
        "colab": {
          "base_uri": "https://localhost:8080/",
          "height": 204
        },
        "outputId": "9ebc07fc-25f2-4aa8-b168-4a0017cba6c5"
      },
      "source": [
        "data['DATE'] = pd.to_datetime(data['DATE'], format=\"%d/%m/%y %H:%M\")\n",
        "data.head()"
      ],
      "execution_count": null,
      "outputs": [
        {
          "output_type": "execute_result",
          "data": {
            "text/html": [
              "<div>\n",
              "<style scoped>\n",
              "    .dataframe tbody tr th:only-of-type {\n",
              "        vertical-align: middle;\n",
              "    }\n",
              "\n",
              "    .dataframe tbody tr th {\n",
              "        vertical-align: top;\n",
              "    }\n",
              "\n",
              "    .dataframe thead th {\n",
              "        text-align: right;\n",
              "    }\n",
              "</style>\n",
              "<table border=\"1\" class=\"dataframe\">\n",
              "  <thead>\n",
              "    <tr style=\"text-align: right;\">\n",
              "      <th></th>\n",
              "      <th>&lt;TICKER&gt;</th>\n",
              "      <th>&lt;PER&gt;</th>\n",
              "      <th>&lt;DATE&gt;</th>\n",
              "      <th>&lt;TIME&gt;</th>\n",
              "      <th>&lt;OPEN&gt;</th>\n",
              "      <th>&lt;HIGH&gt;</th>\n",
              "      <th>&lt;LOW&gt;</th>\n",
              "      <th>&lt;CLOSE&gt;</th>\n",
              "      <th>&lt;VOL&gt;</th>\n",
              "      <th>DATE</th>\n",
              "    </tr>\n",
              "  </thead>\n",
              "  <tbody>\n",
              "    <tr>\n",
              "      <th>0</th>\n",
              "      <td>SPFB.RTS-12.18</td>\n",
              "      <td>1</td>\n",
              "      <td>03/09/18</td>\n",
              "      <td>10:01</td>\n",
              "      <td>107900.0</td>\n",
              "      <td>108060.0</td>\n",
              "      <td>107900.0</td>\n",
              "      <td>108030.0</td>\n",
              "      <td>3</td>\n",
              "      <td>2018-09-03 10:01:00</td>\n",
              "    </tr>\n",
              "    <tr>\n",
              "      <th>1</th>\n",
              "      <td>SPFB.RTS-12.18</td>\n",
              "      <td>1</td>\n",
              "      <td>03/09/18</td>\n",
              "      <td>10:02</td>\n",
              "      <td>107960.0</td>\n",
              "      <td>107960.0</td>\n",
              "      <td>107960.0</td>\n",
              "      <td>107960.0</td>\n",
              "      <td>5</td>\n",
              "      <td>2018-09-03 10:02:00</td>\n",
              "    </tr>\n",
              "    <tr>\n",
              "      <th>2</th>\n",
              "      <td>SPFB.RTS-12.18</td>\n",
              "      <td>1</td>\n",
              "      <td>03/09/18</td>\n",
              "      <td>10:04</td>\n",
              "      <td>108000.0</td>\n",
              "      <td>108000.0</td>\n",
              "      <td>108000.0</td>\n",
              "      <td>108000.0</td>\n",
              "      <td>8</td>\n",
              "      <td>2018-09-03 10:04:00</td>\n",
              "    </tr>\n",
              "    <tr>\n",
              "      <th>3</th>\n",
              "      <td>SPFB.RTS-12.18</td>\n",
              "      <td>1</td>\n",
              "      <td>03/09/18</td>\n",
              "      <td>10:05</td>\n",
              "      <td>108000.0</td>\n",
              "      <td>108000.0</td>\n",
              "      <td>108000.0</td>\n",
              "      <td>108000.0</td>\n",
              "      <td>1</td>\n",
              "      <td>2018-09-03 10:05:00</td>\n",
              "    </tr>\n",
              "    <tr>\n",
              "      <th>4</th>\n",
              "      <td>SPFB.RTS-12.18</td>\n",
              "      <td>1</td>\n",
              "      <td>03/09/18</td>\n",
              "      <td>10:08</td>\n",
              "      <td>108080.0</td>\n",
              "      <td>108080.0</td>\n",
              "      <td>108080.0</td>\n",
              "      <td>108080.0</td>\n",
              "      <td>1</td>\n",
              "      <td>2018-09-03 10:08:00</td>\n",
              "    </tr>\n",
              "  </tbody>\n",
              "</table>\n",
              "</div>"
            ],
            "text/plain": [
              "         <TICKER>  <PER>    <DATE>  ...   <CLOSE>  <VOL>                DATE\n",
              "0  SPFB.RTS-12.18      1  03/09/18  ...  108030.0      3 2018-09-03 10:01:00\n",
              "1  SPFB.RTS-12.18      1  03/09/18  ...  107960.0      5 2018-09-03 10:02:00\n",
              "2  SPFB.RTS-12.18      1  03/09/18  ...  108000.0      8 2018-09-03 10:04:00\n",
              "3  SPFB.RTS-12.18      1  03/09/18  ...  108000.0      1 2018-09-03 10:05:00\n",
              "4  SPFB.RTS-12.18      1  03/09/18  ...  108080.0      1 2018-09-03 10:08:00\n",
              "\n",
              "[5 rows x 10 columns]"
            ]
          },
          "metadata": {},
          "execution_count": 5
        }
      ]
    },
    {
      "cell_type": "markdown",
      "metadata": {
        "id": "CSKb0R4HUD5R"
      },
      "source": [
        "Сформируем интересующую нас выборку"
      ]
    },
    {
      "cell_type": "code",
      "metadata": {
        "id": "lq-MazIyUF0L"
      },
      "source": [
        "df_filtered = data[data['DATE'].dt.strftime('%Y-%m-%d') == '2018-09-06']"
      ],
      "execution_count": null,
      "outputs": []
    },
    {
      "cell_type": "markdown",
      "metadata": {
        "id": "rdUBP4iXUNP_"
      },
      "source": [
        "Теперь полная дата будет для нас индеком объектов"
      ]
    },
    {
      "cell_type": "code",
      "metadata": {
        "id": "dWE0U3erUMie"
      },
      "source": [
        "df_filtered = df_filtered.set_index('DATE')"
      ],
      "execution_count": null,
      "outputs": []
    },
    {
      "cell_type": "markdown",
      "metadata": {
        "id": "bgepmPoUUUq3"
      },
      "source": [
        "Выберем только интересующие для построения столбцы:"
      ]
    },
    {
      "cell_type": "code",
      "metadata": {
        "id": "Jsa6lqjqUXlv"
      },
      "source": [
        "df_filtered = df_filtered[['<OPEN>','<HIGH>','<LOW>','<CLOSE>']]"
      ],
      "execution_count": null,
      "outputs": []
    },
    {
      "cell_type": "markdown",
      "metadata": {
        "id": "Hpx5wqwHUx4I"
      },
      "source": [
        "Переименуем (для удобства) столбцы:"
      ]
    },
    {
      "cell_type": "code",
      "metadata": {
        "colab": {
          "base_uri": "https://localhost:8080/",
          "height": 235
        },
        "id": "TMIE9Q_dUa3k",
        "outputId": "266e7120-0a0f-479c-baad-797eaee3b2c9"
      },
      "source": [
        "df_filtered.columns =['open', 'high', 'low', 'close']\n",
        "df_filtered.head()"
      ],
      "execution_count": null,
      "outputs": [
        {
          "output_type": "execute_result",
          "data": {
            "text/html": [
              "<div>\n",
              "<style scoped>\n",
              "    .dataframe tbody tr th:only-of-type {\n",
              "        vertical-align: middle;\n",
              "    }\n",
              "\n",
              "    .dataframe tbody tr th {\n",
              "        vertical-align: top;\n",
              "    }\n",
              "\n",
              "    .dataframe thead th {\n",
              "        text-align: right;\n",
              "    }\n",
              "</style>\n",
              "<table border=\"1\" class=\"dataframe\">\n",
              "  <thead>\n",
              "    <tr style=\"text-align: right;\">\n",
              "      <th></th>\n",
              "      <th>open</th>\n",
              "      <th>high</th>\n",
              "      <th>low</th>\n",
              "      <th>close</th>\n",
              "    </tr>\n",
              "    <tr>\n",
              "      <th>DATE</th>\n",
              "      <th></th>\n",
              "      <th></th>\n",
              "      <th></th>\n",
              "      <th></th>\n",
              "    </tr>\n",
              "  </thead>\n",
              "  <tbody>\n",
              "    <tr>\n",
              "      <th>2018-09-06 10:01:00</th>\n",
              "      <td>106200.0</td>\n",
              "      <td>106200.0</td>\n",
              "      <td>105820.0</td>\n",
              "      <td>105920.0</td>\n",
              "    </tr>\n",
              "    <tr>\n",
              "      <th>2018-09-06 10:03:00</th>\n",
              "      <td>106030.0</td>\n",
              "      <td>106030.0</td>\n",
              "      <td>106030.0</td>\n",
              "      <td>106030.0</td>\n",
              "    </tr>\n",
              "    <tr>\n",
              "      <th>2018-09-06 10:04:00</th>\n",
              "      <td>106060.0</td>\n",
              "      <td>106080.0</td>\n",
              "      <td>106060.0</td>\n",
              "      <td>106080.0</td>\n",
              "    </tr>\n",
              "    <tr>\n",
              "      <th>2018-09-06 10:09:00</th>\n",
              "      <td>106100.0</td>\n",
              "      <td>106170.0</td>\n",
              "      <td>106100.0</td>\n",
              "      <td>106170.0</td>\n",
              "    </tr>\n",
              "    <tr>\n",
              "      <th>2018-09-06 10:12:00</th>\n",
              "      <td>106100.0</td>\n",
              "      <td>106100.0</td>\n",
              "      <td>106100.0</td>\n",
              "      <td>106100.0</td>\n",
              "    </tr>\n",
              "  </tbody>\n",
              "</table>\n",
              "</div>"
            ],
            "text/plain": [
              "                         open      high       low     close\n",
              "DATE                                                       \n",
              "2018-09-06 10:01:00  106200.0  106200.0  105820.0  105920.0\n",
              "2018-09-06 10:03:00  106030.0  106030.0  106030.0  106030.0\n",
              "2018-09-06 10:04:00  106060.0  106080.0  106060.0  106080.0\n",
              "2018-09-06 10:09:00  106100.0  106170.0  106100.0  106170.0\n",
              "2018-09-06 10:12:00  106100.0  106100.0  106100.0  106100.0"
            ]
          },
          "metadata": {},
          "execution_count": 9
        }
      ]
    },
    {
      "cell_type": "markdown",
      "metadata": {
        "id": "rmI0M-LsVB5H"
      },
      "source": [
        "Проведем агрегацию данных для построения графика свечей:"
      ]
    },
    {
      "cell_type": "code",
      "metadata": {
        "id": "eGCVuu8DUba5"
      },
      "source": [
        "d2 = df_filtered.resample('1H').agg({'open':'first',\n",
        "                                     'high':'max',\n",
        "                                     'low':'min',\n",
        "                                     'close':'last'})"
      ],
      "execution_count": null,
      "outputs": []
    },
    {
      "cell_type": "markdown",
      "metadata": {
        "id": "4XRfnOj1U6er"
      },
      "source": [
        "Осталось подключить необходимую библиотеку и построить:"
      ]
    },
    {
      "cell_type": "code",
      "metadata": {
        "colab": {
          "base_uri": "https://localhost:8080/",
          "height": 542
        },
        "id": "UZ6Nkg-DUq2B",
        "outputId": "2504da0d-e495-45e8-a352-b42ed2d2ec17"
      },
      "source": [
        "import plotly.graph_objects as go\n",
        "\n",
        "fig = go.Figure(data=[go.Candlestick(x=d2.index,\n",
        "                open=d2['open'],\n",
        "                high=d2['high'],\n",
        "                low=d2['low'],\n",
        "                close=d2['close'])])\n",
        "\n",
        "fig.show()"
      ],
      "execution_count": null,
      "outputs": [
        {
          "output_type": "display_data",
          "data": {
            "text/html": [
              "<html>\n",
              "<head><meta charset=\"utf-8\" /></head>\n",
              "<body>\n",
              "    <div>\n",
              "            <script src=\"https://cdnjs.cloudflare.com/ajax/libs/mathjax/2.7.5/MathJax.js?config=TeX-AMS-MML_SVG\"></script><script type=\"text/javascript\">if (window.MathJax) {MathJax.Hub.Config({SVG: {font: \"STIX-Web\"}});}</script>\n",
              "                <script type=\"text/javascript\">window.PlotlyConfig = {MathJaxConfig: 'local'};</script>\n",
              "        <script src=\"https://cdn.plot.ly/plotly-latest.min.js\"></script>    \n",
              "            <div id=\"48de77c4-3fd2-4a17-9bec-23171f49a7c5\" class=\"plotly-graph-div\" style=\"height:525px; width:100%;\"></div>\n",
              "            <script type=\"text/javascript\">\n",
              "                \n",
              "                    window.PLOTLYENV=window.PLOTLYENV || {};\n",
              "                    \n",
              "                if (document.getElementById(\"48de77c4-3fd2-4a17-9bec-23171f49a7c5\")) {\n",
              "                    Plotly.newPlot(\n",
              "                        '48de77c4-3fd2-4a17-9bec-23171f49a7c5',\n",
              "                        [{\"close\": [106400.0, 106520.0, 106540.0, 106580.0, 106680.0, 106250.0, 105270.0, 104970.0, 104320.0, 104300.0, 104490.0, 104510.0, 104590.0, 104640.0], \"high\": [106440.0, 106670.0, 106850.0, 106670.0, 106700.0, 106720.0, 106300.0, 105450.0, 104940.0, 104610.0, 104530.0, 104700.0, 104720.0, 104780.0], \"low\": [105820.0, 106380.0, 106510.0, 106440.0, 106520.0, 106120.0, 105090.0, 104870.0, 104120.0, 104110.0, 104290.0, 104420.0, 104500.0, 104580.0], \"open\": [106200.0, 106380.0, 106530.0, 106540.0, 106580.0, 106700.0, 106300.0, 105290.0, 104940.0, 104600.0, 104300.0, 104590.0, 104540.0, 104700.0], \"type\": \"candlestick\", \"x\": [\"2018-09-06T10:00:00\", \"2018-09-06T11:00:00\", \"2018-09-06T12:00:00\", \"2018-09-06T13:00:00\", \"2018-09-06T14:00:00\", \"2018-09-06T15:00:00\", \"2018-09-06T16:00:00\", \"2018-09-06T17:00:00\", \"2018-09-06T18:00:00\", \"2018-09-06T19:00:00\", \"2018-09-06T20:00:00\", \"2018-09-06T21:00:00\", \"2018-09-06T22:00:00\", \"2018-09-06T23:00:00\"]}],\n",
              "                        {\"template\": {\"data\": {\"bar\": [{\"error_x\": {\"color\": \"#2a3f5f\"}, \"error_y\": {\"color\": \"#2a3f5f\"}, \"marker\": {\"line\": {\"color\": \"#E5ECF6\", \"width\": 0.5}}, \"type\": \"bar\"}], \"barpolar\": [{\"marker\": {\"line\": {\"color\": \"#E5ECF6\", \"width\": 0.5}}, \"type\": \"barpolar\"}], \"carpet\": [{\"aaxis\": {\"endlinecolor\": \"#2a3f5f\", \"gridcolor\": \"white\", \"linecolor\": \"white\", \"minorgridcolor\": \"white\", \"startlinecolor\": \"#2a3f5f\"}, \"baxis\": {\"endlinecolor\": \"#2a3f5f\", \"gridcolor\": \"white\", \"linecolor\": \"white\", \"minorgridcolor\": \"white\", \"startlinecolor\": \"#2a3f5f\"}, \"type\": \"carpet\"}], \"choropleth\": [{\"colorbar\": {\"outlinewidth\": 0, \"ticks\": \"\"}, \"type\": \"choropleth\"}], \"contour\": [{\"colorbar\": {\"outlinewidth\": 0, \"ticks\": \"\"}, \"colorscale\": [[0.0, \"#0d0887\"], [0.1111111111111111, \"#46039f\"], [0.2222222222222222, \"#7201a8\"], [0.3333333333333333, \"#9c179e\"], [0.4444444444444444, \"#bd3786\"], [0.5555555555555556, \"#d8576b\"], [0.6666666666666666, \"#ed7953\"], [0.7777777777777778, \"#fb9f3a\"], [0.8888888888888888, \"#fdca26\"], [1.0, \"#f0f921\"]], \"type\": \"contour\"}], \"contourcarpet\": [{\"colorbar\": {\"outlinewidth\": 0, \"ticks\": \"\"}, \"type\": \"contourcarpet\"}], \"heatmap\": [{\"colorbar\": {\"outlinewidth\": 0, \"ticks\": \"\"}, \"colorscale\": [[0.0, \"#0d0887\"], [0.1111111111111111, \"#46039f\"], [0.2222222222222222, \"#7201a8\"], [0.3333333333333333, \"#9c179e\"], [0.4444444444444444, \"#bd3786\"], [0.5555555555555556, \"#d8576b\"], [0.6666666666666666, \"#ed7953\"], [0.7777777777777778, \"#fb9f3a\"], [0.8888888888888888, \"#fdca26\"], [1.0, \"#f0f921\"]], \"type\": \"heatmap\"}], \"heatmapgl\": [{\"colorbar\": {\"outlinewidth\": 0, \"ticks\": \"\"}, \"colorscale\": [[0.0, \"#0d0887\"], [0.1111111111111111, \"#46039f\"], [0.2222222222222222, \"#7201a8\"], [0.3333333333333333, \"#9c179e\"], [0.4444444444444444, \"#bd3786\"], [0.5555555555555556, \"#d8576b\"], [0.6666666666666666, \"#ed7953\"], [0.7777777777777778, \"#fb9f3a\"], [0.8888888888888888, \"#fdca26\"], [1.0, \"#f0f921\"]], \"type\": \"heatmapgl\"}], \"histogram\": [{\"marker\": {\"colorbar\": {\"outlinewidth\": 0, \"ticks\": \"\"}}, \"type\": \"histogram\"}], \"histogram2d\": [{\"colorbar\": {\"outlinewidth\": 0, \"ticks\": \"\"}, \"colorscale\": [[0.0, \"#0d0887\"], [0.1111111111111111, \"#46039f\"], [0.2222222222222222, \"#7201a8\"], [0.3333333333333333, \"#9c179e\"], [0.4444444444444444, \"#bd3786\"], [0.5555555555555556, \"#d8576b\"], [0.6666666666666666, \"#ed7953\"], [0.7777777777777778, \"#fb9f3a\"], [0.8888888888888888, \"#fdca26\"], [1.0, \"#f0f921\"]], \"type\": \"histogram2d\"}], \"histogram2dcontour\": [{\"colorbar\": {\"outlinewidth\": 0, \"ticks\": \"\"}, \"colorscale\": [[0.0, \"#0d0887\"], [0.1111111111111111, \"#46039f\"], [0.2222222222222222, \"#7201a8\"], [0.3333333333333333, \"#9c179e\"], [0.4444444444444444, \"#bd3786\"], [0.5555555555555556, \"#d8576b\"], [0.6666666666666666, \"#ed7953\"], [0.7777777777777778, \"#fb9f3a\"], [0.8888888888888888, \"#fdca26\"], [1.0, \"#f0f921\"]], \"type\": \"histogram2dcontour\"}], \"mesh3d\": [{\"colorbar\": {\"outlinewidth\": 0, \"ticks\": \"\"}, \"type\": \"mesh3d\"}], \"parcoords\": [{\"line\": {\"colorbar\": {\"outlinewidth\": 0, \"ticks\": \"\"}}, \"type\": \"parcoords\"}], \"pie\": [{\"automargin\": true, \"type\": \"pie\"}], \"scatter\": [{\"marker\": {\"colorbar\": {\"outlinewidth\": 0, \"ticks\": \"\"}}, \"type\": \"scatter\"}], \"scatter3d\": [{\"line\": {\"colorbar\": {\"outlinewidth\": 0, \"ticks\": \"\"}}, \"marker\": {\"colorbar\": {\"outlinewidth\": 0, \"ticks\": \"\"}}, \"type\": \"scatter3d\"}], \"scattercarpet\": [{\"marker\": {\"colorbar\": {\"outlinewidth\": 0, \"ticks\": \"\"}}, \"type\": \"scattercarpet\"}], \"scattergeo\": [{\"marker\": {\"colorbar\": {\"outlinewidth\": 0, \"ticks\": \"\"}}, \"type\": \"scattergeo\"}], \"scattergl\": [{\"marker\": {\"colorbar\": {\"outlinewidth\": 0, \"ticks\": \"\"}}, \"type\": \"scattergl\"}], \"scattermapbox\": [{\"marker\": {\"colorbar\": {\"outlinewidth\": 0, \"ticks\": \"\"}}, \"type\": \"scattermapbox\"}], \"scatterpolar\": [{\"marker\": {\"colorbar\": {\"outlinewidth\": 0, \"ticks\": \"\"}}, \"type\": \"scatterpolar\"}], \"scatterpolargl\": [{\"marker\": {\"colorbar\": {\"outlinewidth\": 0, \"ticks\": \"\"}}, \"type\": \"scatterpolargl\"}], \"scatterternary\": [{\"marker\": {\"colorbar\": {\"outlinewidth\": 0, \"ticks\": \"\"}}, \"type\": \"scatterternary\"}], \"surface\": [{\"colorbar\": {\"outlinewidth\": 0, \"ticks\": \"\"}, \"colorscale\": [[0.0, \"#0d0887\"], [0.1111111111111111, \"#46039f\"], [0.2222222222222222, \"#7201a8\"], [0.3333333333333333, \"#9c179e\"], [0.4444444444444444, \"#bd3786\"], [0.5555555555555556, \"#d8576b\"], [0.6666666666666666, \"#ed7953\"], [0.7777777777777778, \"#fb9f3a\"], [0.8888888888888888, \"#fdca26\"], [1.0, \"#f0f921\"]], \"type\": \"surface\"}], \"table\": [{\"cells\": {\"fill\": {\"color\": \"#EBF0F8\"}, \"line\": {\"color\": \"white\"}}, \"header\": {\"fill\": {\"color\": \"#C8D4E3\"}, \"line\": {\"color\": \"white\"}}, \"type\": \"table\"}]}, \"layout\": {\"annotationdefaults\": {\"arrowcolor\": \"#2a3f5f\", \"arrowhead\": 0, \"arrowwidth\": 1}, \"coloraxis\": {\"colorbar\": {\"outlinewidth\": 0, \"ticks\": \"\"}}, \"colorscale\": {\"diverging\": [[0, \"#8e0152\"], [0.1, \"#c51b7d\"], [0.2, \"#de77ae\"], [0.3, \"#f1b6da\"], [0.4, \"#fde0ef\"], [0.5, \"#f7f7f7\"], [0.6, \"#e6f5d0\"], [0.7, \"#b8e186\"], [0.8, \"#7fbc41\"], [0.9, \"#4d9221\"], [1, \"#276419\"]], \"sequential\": [[0.0, \"#0d0887\"], [0.1111111111111111, \"#46039f\"], [0.2222222222222222, \"#7201a8\"], [0.3333333333333333, \"#9c179e\"], [0.4444444444444444, \"#bd3786\"], [0.5555555555555556, \"#d8576b\"], [0.6666666666666666, \"#ed7953\"], [0.7777777777777778, \"#fb9f3a\"], [0.8888888888888888, \"#fdca26\"], [1.0, \"#f0f921\"]], \"sequentialminus\": [[0.0, \"#0d0887\"], [0.1111111111111111, \"#46039f\"], [0.2222222222222222, \"#7201a8\"], [0.3333333333333333, \"#9c179e\"], [0.4444444444444444, \"#bd3786\"], [0.5555555555555556, \"#d8576b\"], [0.6666666666666666, \"#ed7953\"], [0.7777777777777778, \"#fb9f3a\"], [0.8888888888888888, \"#fdca26\"], [1.0, \"#f0f921\"]]}, \"colorway\": [\"#636efa\", \"#EF553B\", \"#00cc96\", \"#ab63fa\", \"#FFA15A\", \"#19d3f3\", \"#FF6692\", \"#B6E880\", \"#FF97FF\", \"#FECB52\"], \"font\": {\"color\": \"#2a3f5f\"}, \"geo\": {\"bgcolor\": \"white\", \"lakecolor\": \"white\", \"landcolor\": \"#E5ECF6\", \"showlakes\": true, \"showland\": true, \"subunitcolor\": \"white\"}, \"hoverlabel\": {\"align\": \"left\"}, \"hovermode\": \"closest\", \"mapbox\": {\"style\": \"light\"}, \"paper_bgcolor\": \"white\", \"plot_bgcolor\": \"#E5ECF6\", \"polar\": {\"angularaxis\": {\"gridcolor\": \"white\", \"linecolor\": \"white\", \"ticks\": \"\"}, \"bgcolor\": \"#E5ECF6\", \"radialaxis\": {\"gridcolor\": \"white\", \"linecolor\": \"white\", \"ticks\": \"\"}}, \"scene\": {\"xaxis\": {\"backgroundcolor\": \"#E5ECF6\", \"gridcolor\": \"white\", \"gridwidth\": 2, \"linecolor\": \"white\", \"showbackground\": true, \"ticks\": \"\", \"zerolinecolor\": \"white\"}, \"yaxis\": {\"backgroundcolor\": \"#E5ECF6\", \"gridcolor\": \"white\", \"gridwidth\": 2, \"linecolor\": \"white\", \"showbackground\": true, \"ticks\": \"\", \"zerolinecolor\": \"white\"}, \"zaxis\": {\"backgroundcolor\": \"#E5ECF6\", \"gridcolor\": \"white\", \"gridwidth\": 2, \"linecolor\": \"white\", \"showbackground\": true, \"ticks\": \"\", \"zerolinecolor\": \"white\"}}, \"shapedefaults\": {\"line\": {\"color\": \"#2a3f5f\"}}, \"ternary\": {\"aaxis\": {\"gridcolor\": \"white\", \"linecolor\": \"white\", \"ticks\": \"\"}, \"baxis\": {\"gridcolor\": \"white\", \"linecolor\": \"white\", \"ticks\": \"\"}, \"bgcolor\": \"#E5ECF6\", \"caxis\": {\"gridcolor\": \"white\", \"linecolor\": \"white\", \"ticks\": \"\"}}, \"title\": {\"x\": 0.05}, \"xaxis\": {\"automargin\": true, \"gridcolor\": \"white\", \"linecolor\": \"white\", \"ticks\": \"\", \"title\": {\"standoff\": 15}, \"zerolinecolor\": \"white\", \"zerolinewidth\": 2}, \"yaxis\": {\"automargin\": true, \"gridcolor\": \"white\", \"linecolor\": \"white\", \"ticks\": \"\", \"title\": {\"standoff\": 15}, \"zerolinecolor\": \"white\", \"zerolinewidth\": 2}}}},\n",
              "                        {\"responsive\": true}\n",
              "                    ).then(function(){\n",
              "                            \n",
              "var gd = document.getElementById('48de77c4-3fd2-4a17-9bec-23171f49a7c5');\n",
              "var x = new MutationObserver(function (mutations, observer) {{\n",
              "        var display = window.getComputedStyle(gd).display;\n",
              "        if (!display || display === 'none') {{\n",
              "            console.log([gd, 'removed!']);\n",
              "            Plotly.purge(gd);\n",
              "            observer.disconnect();\n",
              "        }}\n",
              "}});\n",
              "\n",
              "// Listen for the removal of the full notebook cells\n",
              "var notebookContainer = gd.closest('#notebook-container');\n",
              "if (notebookContainer) {{\n",
              "    x.observe(notebookContainer, {childList: true});\n",
              "}}\n",
              "\n",
              "// Listen for the clearing of the current output cell\n",
              "var outputEl = gd.closest('.output');\n",
              "if (outputEl) {{\n",
              "    x.observe(outputEl, {childList: true});\n",
              "}}\n",
              "\n",
              "                        })\n",
              "                };\n",
              "                \n",
              "            </script>\n",
              "        </div>\n",
              "</body>\n",
              "</html>"
            ]
          },
          "metadata": {}
        }
      ]
    }
  ]
}