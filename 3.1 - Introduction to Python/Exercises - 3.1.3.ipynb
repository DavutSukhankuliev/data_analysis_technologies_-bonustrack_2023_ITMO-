{
 "cells": [
  {
   "cell_type": "markdown",
   "source": [
    "1. При помощи Python вычислите значение переменной $a$ при $x = 1$, где\n",
    "$$a = 1 + x + \\frac{{{x^2}}}{{2!}} + \\frac{{{x^3}}}{{3!}} + \\frac{{{x^4}}}{{4!}} + \\frac{{{x^5}}}{{5!}}.$$\n",
    "\n",
    "Примечание:\n",
    "Для вычисления факториала используйте функцию `factorial` из библиотеки `math` (предварительно нужно импортировать саму библиотеку). Например, следующий код выведет на экран факториал числа $5$.\n",
    "\n",
    "Подсказка:\n",
    "Если учесть, что по определению\n",
    "$$0! = 1$$\n",
    "то процесс написания кода можно упростить."
   ],
   "metadata": {
    "collapsed": false
   },
   "id": "3f4045c1c764090d"
  },
  {
   "cell_type": "code",
   "outputs": [
    {
     "name": "stdout",
     "output_type": "stream",
     "text": [
      "2.7166666666666663\n"
     ]
    }
   ],
   "source": [
    "from math import factorial\n",
    "\n",
    "x = 1\n",
    "\n",
    "a = 1 + x + (x**2 / factorial(2)) + (x**3 / factorial(3)) + (x**4 / factorial(4)) + (x**5 / factorial(5))\n",
    "\n",
    "# Выводим результат\n",
    "print(a)"
   ],
   "metadata": {
    "collapsed": false,
    "ExecuteTime": {
     "end_time": "2024-06-23T14:42:25.763996700Z",
     "start_time": "2024-06-23T14:42:25.743473600Z"
    }
   },
   "id": "d0bbea71a299e640",
   "execution_count": 1
  },
  {
   "cell_type": "markdown",
   "source": [
    "2. При помощи Python реализуйте функцию с именем `is_leap_year()` для определения того, является ли год високосным. На вход эта функция должна принимать 1 параметр `year` (целое неотрицательное число). Функция должна возвращать значение `True`, если год високосный, иначе — значение `False`.\n",
    "\n",
    "Напомним, что в соответствии с григорианским календарем, год является високосным, если его номер кратен 4, но не кратен 100, а также если он кратен 400."
   ],
   "metadata": {
    "collapsed": false
   },
   "id": "53cbd2b2a4d2c389"
  },
  {
   "cell_type": "code",
   "outputs": [
    {
     "name": "stdout",
     "output_type": "stream",
     "text": [
      "True\n",
      "False\n",
      "True\n",
      "False\n"
     ]
    }
   ],
   "source": [
    "def is_leap_year(year):\n",
    "    \"\"\"\n",
    "    Определяет, является ли год високосным.\n",
    "    \n",
    "    :param year: целое неотрицательное число, представляющее год.\n",
    "    :return: True, если год високосный, иначе False.\n",
    "    \"\"\"\n",
    "    if year < 0:\n",
    "        raise ValueError(\"Year must be a non-negative integer\")\n",
    "    \n",
    "    # Проверяем условия високосного года\n",
    "    if (year % 4 == 0 and year % 100 != 0) or (year % 400 == 0):\n",
    "        return True\n",
    "    \n",
    "    return False\n",
    "\n",
    "# Примеры использования функции\n",
    "print(is_leap_year(2020))  # True\n",
    "print(is_leap_year(1900))  # False\n",
    "print(is_leap_year(2000))  # True\n",
    "print(is_leap_year(2021))  # False"
   ],
   "metadata": {
    "collapsed": false,
    "ExecuteTime": {
     "end_time": "2024-06-23T14:44:25.629895900Z",
     "start_time": "2024-06-23T14:44:25.614108100Z"
    }
   },
   "id": "b02b803a67942214",
   "execution_count": 2
  },
  {
   "cell_type": "markdown",
   "source": [
    "3. При помощи Python реализуйте функцию с именем `get_sum_odd()`. На вход эта функция должна принимать 2 параметра: $a, b \\in \\mathbb{N}$, $a < b$. Возвращать функция должна сумму нечетных натуральных чисел на отрезке $[a,b]$."
   ],
   "metadata": {
    "collapsed": false
   },
   "id": "f564432a42ff6b19"
  },
  {
   "cell_type": "code",
   "outputs": [],
   "source": [
    "def get_sum_odd(a, b):\n",
    "    \"\"\"\n",
    "    Возвращает сумму нечетных натуральных чисел на отрезке [a, b].\n",
    "    \n",
    "    :param a: целое положительное число, начало отрезка (включительно).\n",
    "    :param b: целое положительное число, конец отрезка (включительно).\n",
    "    :return: сумма нечетных чисел на отрезке [a, b].\n",
    "    \"\"\"\n",
    "    if a >= b:\n",
    "        raise ValueError(\"Параметр 'a' должен быть меньше 'b' и оба должны быть натуральными числами.\")\n",
    "    \n",
    "    # Инициализируем сумму\n",
    "    sum_odd = 0\n",
    "    \n",
    "    # Проходим по всем числам на отрезке [a, b]\n",
    "    for num in range(a, b + 1):\n",
    "        if num % 2 != 0:\n",
    "            sum_odd += num\n",
    "    \n",
    "    return sum_odd\n",
    "\n",
    "# Примеры использования функции\n",
    "print(get_sum_odd(1, 10))  # 1 + 3 + 5 + 7 + 9 = 25\n",
    "print(get_sum_odd(5, 15))  # 5 + 7 + 9 + 11 + 13 + 15 = 60\n",
    "print(get_sum_odd(4, 8))   # 5 + 7 = 12"
   ],
   "metadata": {
    "collapsed": false
   },
   "id": "f57b3eebd0e26e82"
  },
  {
   "cell_type": "markdown",
   "source": [
    "4. Приведены три функции, написанные на языке Python, function1, function2, function3:\n",
    "\n",
    "```\n",
    "def function1():\n",
    "    a = 5\n",
    "    def function():\n",
    "        a = a + 1\n",
    "    return a\n",
    "\n",
    "def function2(a):\n",
    "    a = 5\n",
    "    def function():\n",
    "        b = b + 1\n",
    "    function(a)\n",
    "    return a     \n",
    "\n",
    "def function3():\n",
    "    a = 5\n",
    "    def function(b):\n",
    "        b += 1\n",
    "        return b\n",
    "    function(a)\n",
    "    return a   \n",
    "```"
   ],
   "metadata": {
    "collapsed": false
   },
   "id": "3cdea89abbb2948f"
  },
  {
   "cell_type": "markdown",
   "source": [
    "5. При помощи Python выведите на экран (функция `print()`) значение текущего года.\n",
    "\n",
    "Примечание:\n",
    "Для получения текущей даты используйте функцию `now()` из библиотеки `datetime` (предварительно нужно импортировать саму библиотеку). Например, следующий код выведет на экран локальную текущую дату и время.\n",
    "\n",
    "```\n",
    "from datetime import datetime \n",
    "print(datetime.now())\n",
    "```"
   ],
   "metadata": {
    "collapsed": false
   },
   "id": "166ec776695aa4f9"
  },
  {
   "cell_type": "code",
   "outputs": [
    {
     "name": "stdout",
     "output_type": "stream",
     "text": [
      "2024-06-23 17:53:00.814116\n"
     ]
    }
   ],
   "source": [
    "from datetime import datetime \n",
    "print(datetime.now())"
   ],
   "metadata": {
    "collapsed": false,
    "ExecuteTime": {
     "end_time": "2024-06-23T14:53:00.831984500Z",
     "start_time": "2024-06-23T14:53:00.815124200Z"
    }
   },
   "id": "84a5abcd81865c5e",
   "execution_count": 3
  },
  {
   "cell_type": "code",
   "outputs": [],
   "source": [],
   "metadata": {
    "collapsed": false
   },
   "id": "f0f293070fd24fa9"
  }
 ],
 "metadata": {
  "kernelspec": {
   "display_name": "Python 3",
   "language": "python",
   "name": "python3"
  },
  "language_info": {
   "codemirror_mode": {
    "name": "ipython",
    "version": 2
   },
   "file_extension": ".py",
   "mimetype": "text/x-python",
   "name": "python",
   "nbconvert_exporter": "python",
   "pygments_lexer": "ipython2",
   "version": "2.7.6"
  }
 },
 "nbformat": 4,
 "nbformat_minor": 5
}
