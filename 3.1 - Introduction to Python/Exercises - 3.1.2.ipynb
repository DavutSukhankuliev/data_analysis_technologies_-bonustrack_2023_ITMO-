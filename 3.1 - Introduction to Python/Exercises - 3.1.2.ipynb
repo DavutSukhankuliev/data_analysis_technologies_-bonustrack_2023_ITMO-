{
 "cells": [
  {
   "cell_type": "markdown",
   "source": [
    "1. Маша и Саша играют в игру \"чет/нечет\". Каждая из них пишет на бумажке любое целое число и кладет в шляпу. Если сумма обоих чисел четная, побеждает Маша, иначе побеждает Саша. На языке программирования Python напишите программу для моделирования этой игры. Переменной `Masha` присваивается значение `3`, переменной `Sasha` присваивается значение `4`, в переменную `result` помещается имя победителя (в виде строки `'Masha'` или `'Sasha'`).\n",
    "\n",
    "Напомним, что число называется четным, если оно делится на число 2 без остатка."
   ],
   "metadata": {
    "collapsed": false
   },
   "id": "a759df22bdb1335a"
  },
  {
   "cell_type": "code",
   "outputs": [
    {
     "data": {
      "text/plain": "'Sasha'"
     },
     "execution_count": 1,
     "metadata": {},
     "output_type": "execute_result"
    }
   ],
   "source": [
    "Masha = 3\n",
    "Sasha = 4\n",
    "\n",
    "condition = (Masha + Sasha) % 2 == 0\n",
    "\n",
    "if condition:\n",
    "    result = 'Masha'\n",
    "else:\n",
    "    result = 'Sasha'\n",
    "    \n",
    "result"
   ],
   "metadata": {
    "collapsed": false,
    "ExecuteTime": {
     "end_time": "2024-06-23T14:14:55.169400900Z",
     "start_time": "2024-06-23T14:14:55.158826300Z"
    }
   },
   "id": "eebf4ea13fa02073",
   "execution_count": 1
  },
  {
   "cell_type": "markdown",
   "source": [
    "2. На языке программирования Python напишите программу для определения того, является ли год високосным. Переменной `year` присваивается значение `1932`, в переменную `result` помещается ответ: является ли год високосным (значения `True` или `False`).\n",
    "\n",
    "Напомним, что в соответствии с григорианским календарем, год является високосным, если его номер кратен 4, но не кратен 100, или если он кратен 400."
   ],
   "metadata": {
    "collapsed": false
   },
   "id": "c0df67957ddd237a"
  },
  {
   "cell_type": "code",
   "outputs": [
    {
     "data": {
      "text/plain": "True"
     },
     "execution_count": 2,
     "metadata": {},
     "output_type": "execute_result"
    }
   ],
   "source": [
    "year = 1932\n",
    "if year % 4 == 0 and year % 100 != 0 or year % 400 == 00:\n",
    "    result = True\n",
    "else: \n",
    "    result = False\n",
    "    \n",
    "result"
   ],
   "metadata": {
    "collapsed": false,
    "ExecuteTime": {
     "end_time": "2024-06-23T14:18:56.582357700Z",
     "start_time": "2024-06-23T14:18:56.569666700Z"
    }
   },
   "id": "f46a2cac68653e4b",
   "execution_count": 2
  },
  {
   "cell_type": "markdown",
   "source": [
    "3. На языке программирования Python напишите программу для вычисления суммы натуральных чисел на интервале $[a,b)$, где $a,b \\in \\mathbb{N}, a < b$. Переменной `a` присваивается значение `5`, переменной `b` присваивается значение `8`, в переменную `result` помещается результат вычисления суммы натуральных чисел на интервале $[a,b)$.\n",
    "\n",
    "Напомним, что квадратная скобка в обозначении промежутка $[a, b)$ означает, что соответствующая скобке граница включается в интервал, а круглая, что соответствующая скобке граница не включается в интервал. Например, целые числа, входящие в множество $[2,5]$, — это числа $2,3,4,5$, а целые числа, входящие в множество $[2,5)$, — это числа $2,3,4$."
   ],
   "metadata": {
    "collapsed": false
   },
   "id": "134422a864a9e3ab"
  },
  {
   "cell_type": "code",
   "outputs": [
    {
     "data": {
      "text/plain": "18"
     },
     "execution_count": 3,
     "metadata": {},
     "output_type": "execute_result"
    }
   ],
   "source": [
    "a = 5\n",
    "b = 8\n",
    "\n",
    "result = sum(range(a, b))\n",
    "\n",
    "result"
   ],
   "metadata": {
    "collapsed": false,
    "ExecuteTime": {
     "end_time": "2024-06-23T14:23:59.396153900Z",
     "start_time": "2024-06-23T14:23:59.375069800Z"
    }
   },
   "id": "86b62ae66e892faa",
   "execution_count": 3
  },
  {
   "cell_type": "markdown",
   "source": [
    "4. На языке программирования Python напишите программу для вычисления суммы натуральных чисел на интервале $[a, b)$, начиная с числа `a`, с шагом $c$, где $a,b \\in \\mathbb{N}, a < b$, $c > 0$. Переменной `a` присваивается значение `3`, переменной `b` присваивается значение `27`, переменной `c` присваивается значение `4`, в переменную `result` помещается результат вычисления суммы натуральных чисел на интервале $[a, b)$, начиная с числа `a`, с шагом `c`."
   ],
   "metadata": {
    "collapsed": false
   },
   "id": "fd79923ad56e9a3d"
  },
  {
   "cell_type": "code",
   "outputs": [
    {
     "data": {
      "text/plain": "78"
     },
     "execution_count": 4,
     "metadata": {},
     "output_type": "execute_result"
    }
   ],
   "source": [
    "a = 3\n",
    "b = 27\n",
    "c = 4\n",
    "\n",
    "result = sum(range(a, b, c))\n",
    "result"
   ],
   "metadata": {
    "collapsed": false,
    "ExecuteTime": {
     "end_time": "2024-06-23T14:30:35.620673100Z",
     "start_time": "2024-06-23T14:30:35.536519100Z"
    }
   },
   "id": "ec66e836df929a6c",
   "execution_count": 4
  },
  {
   "cell_type": "markdown",
   "source": [
    "5. Матвей решил положить $100000$ рублей на вклад в банке под $6%$ годовых на $5$ лет. Проценты начисляются ежегодно и добавляются к сумме вклада (вклад с капитализацией). На языке программирования Python напишите программу для вычисления итоговой суммы вклада по истечению $5$ лет. Переменной `deposit` присваивается значение `100000`, переменной `rate` присваивается значение `0.06`, переменной `deposit_term` присваивается значение `5`. После выполнения программы ответ, то есть итоговая сумма вклада по истечению $5$ лет, должен содержаться в переменной `deposit`. Результат округлить до копеек.\n",
    "\n",
    "Округление в Python можно осуществить при помощью функции `round(number[, ndigits])`, которая возвращает число, округленное с точностью до `ndigits` знаков после десятичного разделителя. Если параметр `ndigits` опущен, то возвращается ближайшее целое число. Например:\n",
    "```\n",
    "round(3.78912) # Результатом будет число 4\n",
    "round(3.78912, 3) # Результатом будет число 3.789\n",
    "```"
   ],
   "metadata": {
    "collapsed": false
   },
   "id": "4e092403a8b1775f"
  },
  {
   "cell_type": "code",
   "outputs": [
    {
     "name": "stdout",
     "output_type": "stream",
     "text": [
      "133822.56\n"
     ]
    }
   ],
   "source": [
    "deposit = 100000\n",
    "rate = 0.06\n",
    "deposit_term = 5\n",
    "\n",
    "for _ in range(deposit_term):\n",
    "    deposit += deposit * rate\n",
    "\n",
    "deposit = round(deposit, 2)\n",
    "\n",
    "print(deposit)"
   ],
   "metadata": {
    "collapsed": false,
    "ExecuteTime": {
     "end_time": "2024-06-23T14:34:23.704218200Z",
     "start_time": "2024-06-23T14:34:23.692815700Z"
    }
   },
   "id": "fe8d814df202f987",
   "execution_count": 5
  },
  {
   "cell_type": "code",
   "outputs": [],
   "source": [],
   "metadata": {
    "collapsed": false
   },
   "id": "acfeea078dd63c4b"
  }
 ],
 "metadata": {
  "kernelspec": {
   "display_name": "Python 3",
   "language": "python",
   "name": "python3"
  },
  "language_info": {
   "codemirror_mode": {
    "name": "ipython",
    "version": 2
   },
   "file_extension": ".py",
   "mimetype": "text/x-python",
   "name": "python",
   "nbconvert_exporter": "python",
   "pygments_lexer": "ipython2",
   "version": "2.7.6"
  }
 },
 "nbformat": 4,
 "nbformat_minor": 5
}
