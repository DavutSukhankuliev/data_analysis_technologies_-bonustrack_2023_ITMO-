{
 "cells": [
  {
   "cell_type": "markdown",
   "source": [
    "1. При помощи Python опишите функцию `grade(score)`, которая на вход принимает набранное студентом количество баллов (целое число от `0` до `100` включительно), и возвращает оценку в виде текстовой строки в соответствии со следующей таблицей:\n",
    "\n",
    "$$\n",
    "\\begin{array}{|c|c|}\n",
    "\\hline        \n",
    "\\textbf{Значение} & \\textbf{Оценка} \\\\ \\hline        \n",
    "\\text{score} \\in [0,60) & \\text{неудовлетворительно} \\\\ \\hline\n",
    "\\text{score} \\in [60,74] & \\text{удовлетворительно} \\\\ \\hline\n",
    "\\text{score} \\in (74,90] & \\text{хорошо} \\\\ \\hline\n",
    "\\text{score} \\in (90,100] & \\text{отлично} \\\\ \\hline           \n",
    "\\end{array}\n",
    "$$"
   ],
   "metadata": {
    "collapsed": false
   },
   "id": "319911e9bf3b048b"
  },
  {
   "cell_type": "code",
   "outputs": [],
   "source": [
    "def grade(score):\n",
    "    \"\"\"\n",
    "    Возвращает оценку в зависимости от набранного количества баллов.\n",
    "\n",
    "    :param score: целое число от 0 до 100 включительно.\n",
    "    :return: строку с оценкой.\n",
    "    \"\"\"\n",
    "    if not (0 <= score <= 100):\n",
    "        raise ValueError(\"Score must be between 0 and 100 inclusive\")\n",
    "\n",
    "    if 0 <= score < 60:\n",
    "        return \"неудовлетворительно\"\n",
    "    elif 60 <= score <= 74:\n",
    "        return \"удовлетворительно\"\n",
    "    elif 75 <= score <= 90:\n",
    "        return \"хорошо\"\n",
    "    elif 91 <= score <= 100:\n",
    "        return \"отлично\"\n",
    "\n",
    "# Примеры использования функции\n",
    "print(grade(50))  # неудовлетворительно\n",
    "print(grade(65))  # удовлетворительно\n",
    "print(grade(80))  # хорошо\n",
    "print(grade(95))  # отлично"
   ],
   "metadata": {
    "collapsed": false
   },
   "id": "939cc1beb1012ea3"
  },
  {
   "cell_type": "markdown",
   "source": [
    "2. При помощи Python опишите функцию `solve`, которая позволяет решать уравнение\n",
    "$$\n",
    "ax=b\n",
    "$$\n",
    "\n",
    "Входными параметрами для функции служат числа $a,b$, возвращать функция должна значение $x$. Если уравнение имеет бесконечное множество решений, то функция должна возвращать текстовую строку `Any` (с большой буквы, без дополнительных символов). Если уравнение решений не имеет, то функция должна возвращать текстовую строку `Error` (с большой буквы, без дополнительных символов)."
   ],
   "metadata": {
    "collapsed": false
   },
   "id": "8d43517a8676f19b"
  }
 ],
 "metadata": {
  "kernelspec": {
   "display_name": "Python 3",
   "language": "python",
   "name": "python3"
  },
  "language_info": {
   "codemirror_mode": {
    "name": "ipython",
    "version": 2
   },
   "file_extension": ".py",
   "mimetype": "text/x-python",
   "name": "python",
   "nbconvert_exporter": "python",
   "pygments_lexer": "ipython2",
   "version": "2.7.6"
  }
 },
 "nbformat": 4,
 "nbformat_minor": 5
}
