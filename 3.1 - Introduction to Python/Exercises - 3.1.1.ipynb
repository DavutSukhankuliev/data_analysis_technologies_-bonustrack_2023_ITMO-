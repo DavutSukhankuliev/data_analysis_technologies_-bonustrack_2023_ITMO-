{
 "cells": [
  {
   "cell_type": "markdown",
   "source": [
    "1. На языке программирования Python напишите программу для вычисления суммы двух чисел. Переменной `a` присваивается значение `3`, переменной `b` присваивается значение `4`, результат сложения помещается в переменную `result`."
   ],
   "metadata": {
    "collapsed": false
   },
   "id": "2d56003223740800"
  },
  {
   "cell_type": "code",
   "outputs": [],
   "source": [
    "import math\n",
    "\n",
    "a = 3\n",
    "b = 4\n",
    "result = a + b\n"
   ],
   "metadata": {
    "collapsed": false,
    "ExecuteTime": {
     "end_time": "2024-06-23T13:38:21.564122300Z",
     "start_time": "2024-06-23T13:38:21.512993400Z"
    }
   },
   "id": "8c958cae1f1bebb8",
   "execution_count": 1
  },
  {
   "cell_type": "markdown",
   "source": [
    "2. Для организации выездного футбольного матча забронировано `n` автобусов, вместимостью `v` человек каждый. На языке программирования Python напишите программу для вычисления максимально возможного количества перевезенных болельщиков. Переменной `n` присваивается значение `10`, переменной `v` присваивается значение `60`, результат помещается в переменную `result`."
   ],
   "metadata": {
    "collapsed": false
   },
   "id": "911276da83e7eba"
  },
  {
   "cell_type": "code",
   "outputs": [
    {
     "data": {
      "text/plain": "600"
     },
     "execution_count": 2,
     "metadata": {},
     "output_type": "execute_result"
    }
   ],
   "source": [
    "n = 10\n",
    "v = 60\n",
    "result = n * v\n",
    "result"
   ],
   "metadata": {
    "collapsed": false,
    "ExecuteTime": {
     "end_time": "2024-06-23T13:40:23.394147400Z",
     "start_time": "2024-06-23T13:40:23.362080Z"
    }
   },
   "id": "6e4707695e7f6c5c",
   "execution_count": 2
  },
  {
   "cell_type": "markdown",
   "source": [
    "3. На языке программирования Python напишите программу для вычисления длины гипотенузы `c` прямоугольного треугольника, если известны длины катетов `a`,`b` этого треугольника, согласно формуле:\n",
    "`c = sqrt(a^2 + b^2)`\n",
    "Переменной `a` присваивается значение `6`, переменной `b` присваивается значение `8`, результат помещается в переменную `c`."
   ],
   "metadata": {
    "collapsed": false
   },
   "id": "2f9530814407d9a2"
  },
  {
   "cell_type": "code",
   "outputs": [
    {
     "data": {
      "text/plain": "10.0"
     },
     "execution_count": 6,
     "metadata": {},
     "output_type": "execute_result"
    }
   ],
   "source": [
    "from math import sqrt\n",
    "\n",
    "a = 6\n",
    "b = 8\n",
    "c = sqrt(pow(6,2) + pow(8,2))\n",
    "c"
   ],
   "metadata": {
    "collapsed": false,
    "ExecuteTime": {
     "end_time": "2024-06-23T13:46:44.494751300Z",
     "start_time": "2024-06-23T13:46:44.438034200Z"
    }
   },
   "id": "a4e95eddb3e7ad6f",
   "execution_count": 6
  },
  {
   "cell_type": "code",
   "outputs": [
    {
     "data": {
      "text/plain": "10.0"
     },
     "execution_count": 7,
     "metadata": {},
     "output_type": "execute_result"
    }
   ],
   "source": [
    "a = 6\n",
    "b = 8\n",
    "c = (a**2 + b**2)**0.5\n",
    "c"
   ],
   "metadata": {
    "collapsed": false,
    "ExecuteTime": {
     "end_time": "2024-06-23T13:46:46.099471900Z",
     "start_time": "2024-06-23T13:46:46.087575700Z"
    }
   },
   "id": "4c0cda46d865c974",
   "execution_count": 7
  },
  {
   "cell_type": "markdown",
   "source": [
    "4. При помощи Python вычислите значение выражения:\n",
    "$$x - \\frac{{{x^3}}}{{3!}} + \\frac{{{x^5}}}{{5!}} - \\frac{{{x^7}}}{{7!}}$$\n",
    "при $x=1.57$.\n",
    "Примечание:\n",
    "Запись $n!$ обозначает так называемый факториал числа $n$ — произведение натуральных чисел от $1$ до $n$ включительно, то есть\n",
    "$$n! = 1 \\cdot 2 \\cdot ... \\cdot n,$$\n",
    "причем, согласно определению полагают, что $0! = 1$. Например,\n",
    "$$5! = 1 \\cdot 2 \\cdot 3 \\cdot 4 \\cdot 5 = 120.$$"
   ],
   "metadata": {
    "collapsed": false
   },
   "id": "d3d3894af928a2f1"
  },
  {
   "cell_type": "code",
   "outputs": [
    {
     "data": {
      "text/plain": "0.9998434952309573"
     },
     "execution_count": 8,
     "metadata": {},
     "output_type": "execute_result"
    }
   ],
   "source": [
    "from math import factorial\n",
    "\n",
    "x = 1.57\n",
    "\n",
    "result = x - (x**3 / factorial(3)) + (x**5 / factorial(5)) - (x**7 / factorial(7))\n",
    "\n",
    "result"
   ],
   "metadata": {
    "collapsed": false,
    "ExecuteTime": {
     "end_time": "2024-06-23T13:59:00.850062300Z",
     "start_time": "2024-06-23T13:59:00.736986300Z"
    }
   },
   "id": "195d93ccc81db797",
   "execution_count": 8
  },
  {
   "cell_type": "markdown",
   "source": [
    "5. На языке программирования Python напишите программу для получения стоки вида `\"Hello Hello Hello Python\"` при условии, что переменной `a` присваивается значение `Hello`, а переменной `b` присваивается значение `Python`, результат помещается в переменную `result`."
   ],
   "metadata": {
    "collapsed": false
   },
   "id": "8bc00dbc396b26dd"
  },
  {
   "cell_type": "code",
   "outputs": [
    {
     "data": {
      "text/plain": "'Hello Hello Hello Python'"
     },
     "execution_count": 10,
     "metadata": {},
     "output_type": "execute_result"
    }
   ],
   "source": [
    "a = 'Hello'\n",
    "b = 'Python'\n",
    "result = \" \".join([a] * 3 + [b])\n",
    "result"
   ],
   "metadata": {
    "collapsed": false,
    "ExecuteTime": {
     "end_time": "2024-06-23T14:03:39.623895900Z",
     "start_time": "2024-06-23T14:03:39.616951900Z"
    }
   },
   "id": "3a8b35e02d8b6997",
   "execution_count": 10
  },
  {
   "cell_type": "code",
   "outputs": [],
   "source": [],
   "metadata": {
    "collapsed": false
   },
   "id": "8fbdc2c55dfe152c"
  }
 ],
 "metadata": {
  "kernelspec": {
   "display_name": "Python 3",
   "language": "python",
   "name": "python3"
  },
  "language_info": {
   "codemirror_mode": {
    "name": "ipython",
    "version": 2
   },
   "file_extension": ".py",
   "mimetype": "text/x-python",
   "name": "python",
   "nbconvert_exporter": "python",
   "pygments_lexer": "ipython2",
   "version": "2.7.6"
  }
 },
 "nbformat": 4,
 "nbformat_minor": 5
}
