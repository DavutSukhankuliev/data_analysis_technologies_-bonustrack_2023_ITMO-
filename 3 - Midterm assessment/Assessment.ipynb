{
 "cells": [
  {
   "cell_type": "markdown",
   "source": [
    "В [файле](att1_064.csv) собраны данные о кинофильмах: название фильма на русском и английском, режиссеры на русском и английском, год выхода фильма, бюджет фильма, сборы, рейтинг и т.д."
   ],
   "metadata": {
    "collapsed": false
   },
   "id": "a18e0c880c70683e"
  },
  {
   "cell_type": "markdown",
   "source": [
    "1) Введите количество символов в самом коротком названии фильма на английском языке:"
   ],
   "metadata": {
    "collapsed": false
   },
   "id": "24d7e9c02381b16f"
  },
  {
   "cell_type": "code",
   "outputs": [
    {
     "name": "stderr",
     "output_type": "stream",
     "text": [
      "C:\\Users\\stalk\\AppData\\Local\\Temp\\ipykernel_17656\\4289726138.py:1: DeprecationWarning: \n",
      "Pyarrow will become a required dependency of pandas in the next major release of pandas (pandas 3.0),\n",
      "(to allow more performant data types, such as the Arrow string type, and better interoperability with other libraries)\n",
      "but was not found to be installed on your system.\n",
      "If this would cause problems for you,\n",
      "please provide us feedback at https://github.com/pandas-dev/pandas/issues/54466\n",
      "        \n",
      "  import pandas as pd\n"
     ]
    },
    {
     "name": "stdout",
     "output_type": "stream",
     "text": [
      "1. Количество символов в самом коротком названии фильма на английском языке: 1.0\n",
      "2. Первые три ID фильмов: 6473b2c537c1458c9452bccc, 647388a937c1458c9452bb44, 64746c0c37c1458c9452c97a\n"
     ]
    },
    {
     "ename": "KeyError",
     "evalue": "'budget'",
     "output_type": "error",
     "traceback": [
      "\u001B[1;31m---------------------------------------------------------------------------\u001B[0m",
      "\u001B[1;31mKeyError\u001B[0m                                  Traceback (most recent call last)",
      "File \u001B[1;32m~\\AppData\\Local\\Programs\\Python\\Python312\\Lib\\site-packages\\pandas\\core\\indexes\\base.py:3802\u001B[0m, in \u001B[0;36mIndex.get_loc\u001B[1;34m(self, key)\u001B[0m\n\u001B[0;32m   3801\u001B[0m \u001B[38;5;28;01mtry\u001B[39;00m:\n\u001B[1;32m-> 3802\u001B[0m     \u001B[38;5;28;01mreturn\u001B[39;00m \u001B[38;5;28;43mself\u001B[39;49m\u001B[38;5;241;43m.\u001B[39;49m\u001B[43m_engine\u001B[49m\u001B[38;5;241;43m.\u001B[39;49m\u001B[43mget_loc\u001B[49m\u001B[43m(\u001B[49m\u001B[43mcasted_key\u001B[49m\u001B[43m)\u001B[49m\n\u001B[0;32m   3803\u001B[0m \u001B[38;5;28;01mexcept\u001B[39;00m \u001B[38;5;167;01mKeyError\u001B[39;00m \u001B[38;5;28;01mas\u001B[39;00m err:\n",
      "File \u001B[1;32mindex.pyx:153\u001B[0m, in \u001B[0;36mpandas._libs.index.IndexEngine.get_loc\u001B[1;34m()\u001B[0m\n",
      "File \u001B[1;32mindex.pyx:182\u001B[0m, in \u001B[0;36mpandas._libs.index.IndexEngine.get_loc\u001B[1;34m()\u001B[0m\n",
      "File \u001B[1;32mpandas\\\\_libs\\\\hashtable_class_helper.pxi:7081\u001B[0m, in \u001B[0;36mpandas._libs.hashtable.PyObjectHashTable.get_item\u001B[1;34m()\u001B[0m\n",
      "File \u001B[1;32mpandas\\\\_libs\\\\hashtable_class_helper.pxi:7089\u001B[0m, in \u001B[0;36mpandas._libs.hashtable.PyObjectHashTable.get_item\u001B[1;34m()\u001B[0m\n",
      "\u001B[1;31mKeyError\u001B[0m: 'budget'",
      "\nThe above exception was the direct cause of the following exception:\n",
      "\u001B[1;31mKeyError\u001B[0m                                  Traceback (most recent call last)",
      "Cell \u001B[1;32mIn[1], line 25\u001B[0m\n\u001B[0;32m     22\u001B[0m \u001B[38;5;66;03m# 3. Выбор строк, в которых значение колонки 'type' принимает значение 'BUDGET'\u001B[39;00m\n\u001B[0;32m     23\u001B[0m \u001B[38;5;66;03m# и подсчет количества строк с ненулевым бюджетом\u001B[39;00m\n\u001B[0;32m     24\u001B[0m budget_df \u001B[38;5;241m=\u001B[39m df[df[\u001B[38;5;124m'\u001B[39m\u001B[38;5;124mtype\u001B[39m\u001B[38;5;124m'\u001B[39m] \u001B[38;5;241m==\u001B[39m \u001B[38;5;124m'\u001B[39m\u001B[38;5;124mBUDGET\u001B[39m\u001B[38;5;124m'\u001B[39m]\n\u001B[1;32m---> 25\u001B[0m non_zero_budget_count \u001B[38;5;241m=\u001B[39m budget_df[\u001B[43mbudget_df\u001B[49m\u001B[43m[\u001B[49m\u001B[38;5;124;43m'\u001B[39;49m\u001B[38;5;124;43mbudget\u001B[39;49m\u001B[38;5;124;43m'\u001B[39;49m\u001B[43m]\u001B[49m \u001B[38;5;241m!=\u001B[39m \u001B[38;5;241m0\u001B[39m]\u001B[38;5;241m.\u001B[39mshape[\u001B[38;5;241m0\u001B[39m]\n\u001B[0;32m     26\u001B[0m \u001B[38;5;28mprint\u001B[39m(\u001B[38;5;124mf\u001B[39m\u001B[38;5;124m\"\u001B[39m\u001B[38;5;124m3. Количество строк с ненулевым бюджетом: \u001B[39m\u001B[38;5;132;01m{\u001B[39;00mnon_zero_budget_count\u001B[38;5;132;01m}\u001B[39;00m\u001B[38;5;124m\"\u001B[39m)\n\u001B[0;32m     28\u001B[0m \u001B[38;5;66;03m# 4. Вычисляем среднеарифметическое значение рейтинга для фильмов из пункта 3, исключая нулевые рейтинги\u001B[39;00m\n",
      "File \u001B[1;32m~\\AppData\\Local\\Programs\\Python\\Python312\\Lib\\site-packages\\pandas\\core\\frame.py:4090\u001B[0m, in \u001B[0;36mDataFrame.__getitem__\u001B[1;34m(self, key)\u001B[0m\n\u001B[0;32m   4088\u001B[0m \u001B[38;5;28;01mif\u001B[39;00m \u001B[38;5;28mself\u001B[39m\u001B[38;5;241m.\u001B[39mcolumns\u001B[38;5;241m.\u001B[39mnlevels \u001B[38;5;241m>\u001B[39m \u001B[38;5;241m1\u001B[39m:\n\u001B[0;32m   4089\u001B[0m     \u001B[38;5;28;01mreturn\u001B[39;00m \u001B[38;5;28mself\u001B[39m\u001B[38;5;241m.\u001B[39m_getitem_multilevel(key)\n\u001B[1;32m-> 4090\u001B[0m indexer \u001B[38;5;241m=\u001B[39m \u001B[38;5;28;43mself\u001B[39;49m\u001B[38;5;241;43m.\u001B[39;49m\u001B[43mcolumns\u001B[49m\u001B[38;5;241;43m.\u001B[39;49m\u001B[43mget_loc\u001B[49m\u001B[43m(\u001B[49m\u001B[43mkey\u001B[49m\u001B[43m)\u001B[49m\n\u001B[0;32m   4091\u001B[0m \u001B[38;5;28;01mif\u001B[39;00m is_integer(indexer):\n\u001B[0;32m   4092\u001B[0m     indexer \u001B[38;5;241m=\u001B[39m [indexer]\n",
      "File \u001B[1;32m~\\AppData\\Local\\Programs\\Python\\Python312\\Lib\\site-packages\\pandas\\core\\indexes\\base.py:3809\u001B[0m, in \u001B[0;36mIndex.get_loc\u001B[1;34m(self, key)\u001B[0m\n\u001B[0;32m   3804\u001B[0m     \u001B[38;5;28;01mif\u001B[39;00m \u001B[38;5;28misinstance\u001B[39m(casted_key, \u001B[38;5;28mslice\u001B[39m) \u001B[38;5;129;01mor\u001B[39;00m (\n\u001B[0;32m   3805\u001B[0m         \u001B[38;5;28misinstance\u001B[39m(casted_key, abc\u001B[38;5;241m.\u001B[39mIterable)\n\u001B[0;32m   3806\u001B[0m         \u001B[38;5;129;01mand\u001B[39;00m \u001B[38;5;28many\u001B[39m(\u001B[38;5;28misinstance\u001B[39m(x, \u001B[38;5;28mslice\u001B[39m) \u001B[38;5;28;01mfor\u001B[39;00m x \u001B[38;5;129;01min\u001B[39;00m casted_key)\n\u001B[0;32m   3807\u001B[0m     ):\n\u001B[0;32m   3808\u001B[0m         \u001B[38;5;28;01mraise\u001B[39;00m InvalidIndexError(key)\n\u001B[1;32m-> 3809\u001B[0m     \u001B[38;5;28;01mraise\u001B[39;00m \u001B[38;5;167;01mKeyError\u001B[39;00m(key) \u001B[38;5;28;01mfrom\u001B[39;00m \u001B[38;5;21;01merr\u001B[39;00m\n\u001B[0;32m   3810\u001B[0m \u001B[38;5;28;01mexcept\u001B[39;00m \u001B[38;5;167;01mTypeError\u001B[39;00m:\n\u001B[0;32m   3811\u001B[0m     \u001B[38;5;66;03m# If we have a listlike key, _check_indexing_error will raise\u001B[39;00m\n\u001B[0;32m   3812\u001B[0m     \u001B[38;5;66;03m#  InvalidIndexError. Otherwise we fall through and re-raise\u001B[39;00m\n\u001B[0;32m   3813\u001B[0m     \u001B[38;5;66;03m#  the TypeError.\u001B[39;00m\n\u001B[0;32m   3814\u001B[0m     \u001B[38;5;28mself\u001B[39m\u001B[38;5;241m.\u001B[39m_check_indexing_error(key)\n",
      "\u001B[1;31mKeyError\u001B[0m: 'budget'"
     ]
    }
   ],
   "source": [
    "import pandas as pd\n",
    "\n",
    "# Загрузим данные из файла\n",
    "file_path = 'att1_064.csv'\n",
    "df = pd.read_csv(file_path)\n",
    "\n",
    "# 1. Вычислить количество символов в самом коротком названии фильма на английском языке\n",
    "shortest_title_length = df['nameEn'].str.len().min()\n",
    "print(f\"1. Количество символов в самом коротком названии фильма на английском языке: {shortest_title_length}\")\n",
    "\n",
    "# 2. Сортировка списка фильмов по количеству режиссеров на английском языке\n",
    "# Создаем новую колонку с количеством режиссеров на английском языке\n",
    "director_cols = [f'directors[{i}].directorEn' for i in range(36)]\n",
    "df['num_directors_eng'] = df[director_cols].notna().sum(axis=1)\n",
    "\n",
    "# Сортируем по количеству режиссеров и получаем первые три ID фильмов\n",
    "sorted_df = df.sort_values(by='num_directors_eng', ascending=False)\n",
    "top_three_ids = sorted_df.iloc[:3]['_id'].tolist()\n",
    "top_three_ids_str = ', '.join(map(str, top_three_ids))\n",
    "print(f\"2. Первые три ID фильмов: {top_three_ids_str}\")\n",
    "\n",
    "# 3. Выбор строк, в которых значение колонки 'type' принимает значение 'BUDGET'\n",
    "# и подсчет количества строк с ненулевым бюджетом\n",
    "budget_df = df[df['type'] == 'BUDGET']\n",
    "non_zero_budget_count = budget_df[budget_df['budget'] != 0].shape[0]\n",
    "print(f\"3. Количество строк с ненулевым бюджетом: {non_zero_budget_count}\")\n",
    "\n",
    "# 4. Вычисляем среднеарифметическое значение рейтинга для фильмов из пункта 3, исключая нулевые рейтинги\n",
    "valid_ratings = budget_df[budget_df['rating'] != 0]['rating']\n",
    "average_rating = valid_ratings.mean()\n",
    "print(f\"4. Среднеарифметическое значение рейтинга: {average_rating:.2f}\")"
   ],
   "metadata": {
    "collapsed": false,
    "ExecuteTime": {
     "end_time": "2024-06-27T20:17:24.575922800Z",
     "start_time": "2024-06-27T20:17:22.613136600Z"
    }
   },
   "id": "cdecf164a709eb9d",
   "execution_count": 1
  },
  {
   "cell_type": "code",
   "outputs": [
    {
     "name": "stdout",
     "output_type": "stream",
     "text": [
      "1.0\n",
      "[279724, 77437, 669654]\n",
      "1132\n",
      "6.701667256637168\n"
     ]
    }
   ],
   "source": [
    "# Преобразуем строку данных в DataFrame\n",
    "file_path = 'att1_064.csv'\n",
    "data = pd.read_csv(file_path)\n",
    "\n",
    "# 1) Количество символов в самом коротком названии фильма на английском языке\n",
    "min_title_length = data['nameEn'].str.len().min()\n",
    "\n",
    "# 2) Сортировка фильмов по убыванию количества режиссеров (на английском языке) и выбор первых трех ID\n",
    "data['director_en_count'] = data.filter(regex='directorEn').notnull().sum(axis=1)\n",
    "sorted_data = data.sort_values(by='director_en_count', ascending=False)\n",
    "top_3_film_ids = sorted_data.head(3)['filmId'].tolist()\n",
    "\n",
    "# 3) Количество строк с ненулевым бюджетом для фильмов типа 'BUDGET'\n",
    "budget_df = df[df['type'] == 'BUDGET']\n",
    "non_zero_budget_df = budget_df[budget_df['amount'] != 0]\n",
    "non_zero_budget_count = non_zero_budget_df.shape[0]\n",
    "\n",
    "# 4) Среднеарифметическое значение рейтинга для фильмов типа 'BUDGET' с ненулевым рейтингом\n",
    "valid_ratings = non_zero_budget_df[non_zero_budget_df['rating'] != 0]['rating']\n",
    "average_rating = valid_ratings.mean()\n",
    "\n",
    "print(min_title_length)\n",
    "print(top_3_film_ids)\n",
    "print(non_zero_budget_count)\n",
    "print(average_rating)"
   ],
   "metadata": {
    "collapsed": false,
    "ExecuteTime": {
     "end_time": "2024-06-27T20:34:10.190615600Z",
     "start_time": "2024-06-27T20:34:10.104283700Z"
    }
   },
   "id": "457ce978ba581d6d",
   "execution_count": 7
  },
  {
   "cell_type": "code",
   "outputs": [],
   "source": [],
   "metadata": {
    "collapsed": false
   },
   "id": "daaa451b90bc1826"
  }
 ],
 "metadata": {
  "kernelspec": {
   "display_name": "Python 3",
   "language": "python",
   "name": "python3"
  },
  "language_info": {
   "codemirror_mode": {
    "name": "ipython",
    "version": 2
   },
   "file_extension": ".py",
   "mimetype": "text/x-python",
   "name": "python",
   "nbconvert_exporter": "python",
   "pygments_lexer": "ipython2",
   "version": "2.7.6"
  }
 },
 "nbformat": 4,
 "nbformat_minor": 5
}
